{
 "cells": [
  {
   "cell_type": "markdown",
   "id": "0bbef19f",
   "metadata": {},
   "source": [
    "모듈\n",
    "- 특정 기능들(함수, 변수, 클래스 등)이 구현되어 있는 파이썬 파일 (.py)\n",
    "\n",
    "패키지\n",
    "- 여러 모듈들을 하나의 상위 폴더에 넣어 놓은 것\n",
    "- 패키지를 표현해 주기 위하여 __init__.py가 존재\n",
    "\n",
    "라이브러리\n",
    "- 여러 모듈과 패키지를 묶어 표현함\n",
    "- 파이썬 설치시 기본적으로 설치되는 라이브러리를 표준 라이브러리라고 한다.\n",
    "- 외부(3rd party)에서 개발한 모듈과 패키지를 묶어서 외부 라이브러리러고 한다."
   ]
  },
  {
   "cell_type": "code",
   "execution_count": 11,
   "id": "a08dd333",
   "metadata": {},
   "outputs": [
    {
     "name": "stdout",
     "output_type": "stream",
     "text": [
      "안녕하세요\n",
      "안녕하세요\n",
      "<__main__.MyClass object at 0x000002C5280211F0>\n"
     ]
    }
   ],
   "source": [
    "# 클래스 멤버, 클래스 메소드\n",
    "# 클래스를 구성하는 주요 요소는 멤버(변수)와 메소드(함수)로 클래스 공간내에서 정의\n",
    "# 클래스 메소드는 첫 번째 인자가 반드시 self로 시작\n",
    "# self는 이 클래스의 인스턴스 객체를 가리키는 참조자\n",
    "# 인스턴스 객체에서 클래스 메소드를 호출시 첫 번째 인자인 self 생략\n",
    "# 모듈 안에 클래스가 포함되어 있음\n",
    "# 패키지 안에 모듈이 있음\n",
    "# 패키지 ex) numpy (모듈 numpy의 random 등 (클래스(멤버,메소드(인스턴스 멤버))))\n",
    "\n",
    "class MyClass:\n",
    "    var = '안녕하세요'  # 클래스 멤버\n",
    "    def sayHello(self): # 클래스 메소드\n",
    "        return self.var\n",
    "\n",
    "obj = MyClass() # obj는 MyClass의 모든 속성 및 자원을 이용할 수 있음(클래스는 이런 식으로 사용)\n",
    "print(obj.var) # 멤버 호출\n",
    "print(obj.sayHello()) # 메소드 호출\n",
    "print(obj) #<__main__.MyClass object(객체) at 0x000002C5281580A0(메모리 공간)>"
   ]
  },
  {
   "cell_type": "code",
   "execution_count": 20,
   "id": "be99882f",
   "metadata": {},
   "outputs": [
    {
     "name": "stdout",
     "output_type": "stream",
     "text": [
      "안녕하세요\n",
      "안녕\n",
      "안녕하세요\n",
      "하이\n"
     ]
    }
   ],
   "source": [
    "# 클래스 멤버와 인스턴스 멤버\n",
    "# 클래스 멤버는 클래스 메소드 바깥에서 선언되고\n",
    "# 인스턴스 멤버는 클래스 메소드 안에서 self와 함께 선언\n",
    "class MyClass:\n",
    "    var = '안녕하세요'    #클래스 멤버\n",
    "    def sayHello(self):   #클래스 메소드\n",
    "        param1 = '안녕' #지역변수\n",
    "        self.param2 = '하이' #인스턴스 변수,멤버\n",
    "        print(param1)\n",
    "        print(self.var)\n",
    "        print(self.param2)\n",
    "        \n",
    "obj = MyClass()\n",
    "print(obj.var)\n",
    "obj.sayHello()"
   ]
  },
  {
   "cell_type": "code",
   "execution_count": 25,
   "id": "0127456f",
   "metadata": {},
   "outputs": [
    {
     "name": "stdout",
     "output_type": "stream",
     "text": [
      "안녕하세요\n",
      "홍길동님 다음에 또 보자\n"
     ]
    }
   ],
   "source": [
    "# 클래스 메소드\n",
    "# 클래스 내에서 정의되는 클래스 메소드는 첫 번째 인자가 반드시 self여야 한다\n",
    "# 객체를 만들어서 클래스 메소드 안에 있는 변수들을 바로 호출하면 에러가 뜬다\n",
    "# (클래스 메소드를 호출하지 않았기 때문)\n",
    "class MyClass:\n",
    "    def sayHello(self):\n",
    "        print('안녕하세요')\n",
    "    def sayBye(self,name):\n",
    "        print('%s님 다음에 또 보자' %name)\n",
    "        \n",
    "obj = MyClass()\n",
    "obj.sayHello()\n",
    "obj.sayBye('홍길동')"
   ]
  },
  {
   "cell_type": "code",
   "execution_count": 28,
   "id": "3eb06ae0",
   "metadata": {},
   "outputs": [
    {
     "name": "stdout",
     "output_type": "stream",
     "text": [
      "MyClass 인스턴스 객체가 생성되었습니다.\n",
      "안녕하세요\n"
     ]
    }
   ],
   "source": [
    "# 클래스 생성자(인자가 없는 경우)\n",
    "# 클래스의 인스턴스 객체가 생성될 때 자동적으로 호출되는 메소드\n",
    "class MyClass :\n",
    "    def __init__(self): #__init__은 자동으로 호출됨\n",
    "        self.var = '안녕하세요' # 인스턴스 멤버\n",
    "        print('MyClass 인스턴스 객체가 생성되었습니다.')\n",
    "    \n",
    "obj = MyClass() #여기서 객체가 생성되어서 'MyClass 인스턴스 객체가 생성되었습니다.' 가 먼저 출력됨\n",
    "print(obj.var)"
   ]
  },
  {
   "cell_type": "code",
   "execution_count": 33,
   "id": "a307170c",
   "metadata": {},
   "outputs": [
    {
     "name": "stdout",
     "output_type": "stream",
     "text": [
      "생성자 인자로 전달받은 값은 : hi 입니다\n",
      "hi\n"
     ]
    }
   ],
   "source": [
    "# 클래스 생성자(인자가 있는 경우)\n",
    "# 클래스의 인스턴스 객체가 생성될 때 자동적으로 호출되는 메소드\n",
    "class MyClass:\n",
    "    def __init__(self,name):\n",
    "        self.var = name #인스턴스 멤버\n",
    "        print('생성자 인자로 전달받은 값은 : '+self.var+' 입니다')\n",
    "obj = MyClass('hi')\n",
    "print(obj.var)"
   ]
  },
  {
   "cell_type": "code",
   "execution_count": 36,
   "id": "75c765e7",
   "metadata": {},
   "outputs": [
    {
     "name": "stdout",
     "output_type": "stream",
     "text": [
      "MyClass 인스턴스 객체가 메모리에서 제거됩니다.\n"
     ]
    }
   ],
   "source": [
    "# 클래스 소멸자\n",
    "# 클래스 인스턴스 객체가 메모리에서 제거될 때 자동으로 호출되는 클래스 메소드\n",
    "class MyClass:\n",
    "    def __del__(self):\n",
    "        print('MyClass 인스턴스 객체가 메모리에서 제거됩니다.')\n",
    "        \n",
    "obj = MyClass()\n",
    "del obj"
   ]
  },
  {
   "cell_type": "code",
   "execution_count": 38,
   "id": "419a1117",
   "metadata": {},
   "outputs": [],
   "source": [
    "# 클래스 상속 : class 자식클래스(부모클래스)\n",
    "# 어떤 클래스(부모)가 가지고 있는 모든 멤버나 메소드를 상속받는 클래스(자식)가\n",
    "# 모두 사용할 수 있도록 해주는 것.\n",
    "# 자식 클래스는 여러 부모 클래스로 부터 상속받을 수 있으며 다중상속이라 함\n",
    "# 다중상속 : class 자식클래스(부모클래스1,부모클래스2,...)"
   ]
  },
  {
   "cell_type": "code",
   "execution_count": 33,
   "id": "f3eac84b",
   "metadata": {},
   "outputs": [
    {
     "data": {
      "text/plain": [
       "8"
      ]
     },
     "execution_count": 33,
     "metadata": {},
     "output_type": "execute_result"
    }
   ],
   "source": [
    "# 더하기 Sum, 곱하기 Mul 클래스를 작성하고 상속을 받아 자식 클래스 Cal을 작성하여\n",
    "# 덧셈과 곱셈을 수행하세요\n",
    "class Sum:\n",
    "    def sum(self,a,b):\n",
    "        return  (a + b)\n",
    "        \n",
    "class Mul:\n",
    "    def mul(self,a,b):\n",
    "        return (a * b)\n",
    "        \n",
    "        \n",
    "class Cal(Sum,Mul):\n",
    "    pass\n",
    "\n",
    "a = Cal()\n",
    "a.mul(2,4)"
   ]
  },
  {
   "cell_type": "code",
   "execution_count": 31,
   "id": "a5d3fe7a",
   "metadata": {},
   "outputs": [
    {
     "name": "stdout",
     "output_type": "stream",
     "text": [
      "3\n",
      "5\n",
      "49\n"
     ]
    }
   ],
   "source": [
    "class Sum:\n",
    "    def sum(self,a,b):\n",
    "        return a + b\n",
    "    \n",
    "class Mul:\n",
    "    def mul(self,a,b):\n",
    "        return a * b\n",
    "    \n",
    "class Cal(Sum,Mul):\n",
    "    def sub(self,a,b):\n",
    "        return a - b\n",
    "    \n",
    "obj = Cal()\n",
    "print(obj.sum(1,2)) #메서드로 접근\n",
    "print(obj.mul(5,1))\n",
    "print(obj.sub(50,1))"
   ]
  },
  {
   "cell_type": "code",
   "execution_count": 2,
   "id": "4b6b94a3",
   "metadata": {},
   "outputs": [
    {
     "name": "stdout",
     "output_type": "stream",
     "text": [
      "홍길동님 안녕하세요\n",
      "홍길동님 다음에 보자\n"
     ]
    }
   ],
   "source": [
    "# 클래스 MyClass를 작성하고 객체를 생성하여 아래와 같이 출력하세요(생성사 사용)\n",
    "# kevin, 안녕하세요\n",
    "# kevin! 다음에보자\n",
    "\n",
    "class MyClass:\n",
    "    def __init__(self,name):\n",
    "        self.name = name\n",
    "    def sayHello(self):\n",
    "        print('%s님 안녕하세요' %self.name)\n",
    "    def sayBye(self):\n",
    "        print('%s님 다음에 보자' %self.name)\n",
    "        \n",
    "a = MyClass('홍길동')\n",
    "a.sayHello()\n",
    "a.sayBye()"
   ]
  },
  {
   "cell_type": "code",
   "execution_count": 3,
   "id": "55bc72fd",
   "metadata": {},
   "outputs": [
    {
     "name": "stdout",
     "output_type": "stream",
     "text": [
      "홍길동님 안녕하세요\n",
      "홍길동님 다음에 보자\n"
     ]
    }
   ],
   "source": [
    "# 생성자 없이\n",
    "class MyClass:\n",
    "    def sayHello(self,name):\n",
    "        print('%s님 안녕하세요' %name)\n",
    "    def sayBye(self,name):\n",
    "        print('%s님 다음에 보자' %name)\n",
    "        \n",
    "a = MyClass()\n",
    "a.sayHello('홍길동')\n",
    "a.sayBye('홍길동')"
   ]
  },
  {
   "cell_type": "code",
   "execution_count": 8,
   "id": "e450b679",
   "metadata": {},
   "outputs": [
    {
     "name": "stdout",
     "output_type": "stream",
     "text": [
      "가격을 입력해주세요.20\n",
      "1020\n",
      "1020\n"
     ]
    }
   ],
   "source": [
    "# 사용자 함수를 작성하여 기본가격 1000에 입력 받은 값을 추가한 가격을 산출하세요\n",
    "#(지역변수, 전역변수 2가지 방법)\n",
    "b = 1000\n",
    "a = int(input('가격을 입력해주세요.'))\n",
    "def sh(a):\n",
    "    b = 1000\n",
    "    i = a + b\n",
    "    return i\n",
    "\n",
    "def sg(a):\n",
    "    global b\n",
    "    i = a + b\n",
    "    return i\n",
    "\n",
    "i = sg(a)\n",
    "print(i)\n",
    "i = sh(a)\n",
    "print(i)"
   ]
  },
  {
   "cell_type": "code",
   "execution_count": 26,
   "id": "a2ea60e2",
   "metadata": {},
   "outputs": [
    {
     "name": "stdout",
     "output_type": "stream",
     "text": [
      "추가 가격을 입력하세요 : 20\n",
      "추가 가격을 입력하세요 : 30\n",
      "추가 가격을 입력하세요 : 50\n"
     ]
    },
    {
     "data": {
      "text/plain": [
       "(1020, 1030, 1050)"
      ]
     },
     "execution_count": 26,
     "metadata": {},
     "output_type": "execute_result"
    }
   ],
   "source": [
    "# 과제\n",
    "# Q1. 기본가격 1000원인 3개의 상품에 대하여 임의의 추가 가격을 인수로 대입시 \n",
    "# 더한 가격을 산출하세요(클래스를 이용)\n",
    "class MyClass:\n",
    "    def __init__(self,a,b,c):\n",
    "        self.a = a\n",
    "        self.b = b\n",
    "        self.c = c\n",
    "    def add(self):\n",
    "        won = 1000\n",
    "        self.a = self.a + won\n",
    "        self.b = self.b + won\n",
    "        self.c = self.c + won\n",
    "        return self.a, self.b, self.c\n",
    "        \n",
    "obj = MyClass(int(input('추가 가격을 입력하세요 : ')),int(input('추가 가격을 입력하세요 : ')),int(input('추가 가격을 입력하세요 : ')))\n",
    "obj.add()"
   ]
  },
  {
   "cell_type": "code",
   "execution_count": 3,
   "id": "8d137224",
   "metadata": {},
   "outputs": [
    {
     "name": "stdout",
     "output_type": "stream",
     "text": [
      "2030\n",
      "2000\n",
      "2111\n"
     ]
    }
   ],
   "source": [
    "class Shop:\n",
    "    def __init__(self):\n",
    "        self.p = 1000\n",
    "        \n",
    "    def sum(self,price):\n",
    "        self.p += price\n",
    "        return self.p\n",
    "    \n",
    "obj1 = Shop()\n",
    "obj2 = Shop()\n",
    "obj3 = Shop()\n",
    "    \n",
    "print(obj1.sum(1030))\n",
    "print(obj2.sum(1000))\n",
    "print(obj3.sum(1111))"
   ]
  },
  {
   "cell_type": "code",
   "execution_count": 40,
   "id": "ca58a296",
   "metadata": {},
   "outputs": [
    {
     "name": "stdout",
     "output_type": "stream",
     "text": [
      "추가 가격을 입력하세요 : 0\n",
      "추가 가격을 입력하세요 : 0\n"
     ]
    },
    {
     "data": {
      "text/plain": [
       "(1000, 1000)"
      ]
     },
     "execution_count": 40,
     "metadata": {},
     "output_type": "execute_result"
    }
   ],
   "source": [
    "# Q2. 기본가격 1000원인 2개의 상품에 대하여 임의의 추가 가격을 입력시 아래 두개의 \n",
    "# 방식으로 산출하세요(class 이용)\n",
    "# - price1 : 기본가격 + 추가가격\n",
    "# - price2 : (기본가격 + 추가가격) * 90%\n",
    "class MyClass:\n",
    "    def __init__(self,a,b):\n",
    "        self.a = a\n",
    "        self.b = b\n",
    "    def price1(self):\n",
    "        won = 1000\n",
    "        self.a = self.a + won\n",
    "        self.b = self.b + won\n",
    "        return self.a, self.b\n",
    "    def price2(self):\n",
    "        won = 1000\n",
    "        self.a = (self.a + won) * 0.9\n",
    "        self.b = (self.b + won) * 0.9\n",
    "        return self.a, self.b\n",
    "        \n",
    "obj = MyClass(int(input('추가 가격을 입력하세요 : ')),int(input('추가 가격을 입력하세요 : ')))\n",
    "obj.price1()\n",
    "#obj.price2()"
   ]
  },
  {
   "cell_type": "code",
   "execution_count": 45,
   "id": "4992cea5",
   "metadata": {},
   "outputs": [
    {
     "name": "stdout",
     "output_type": "stream",
     "text": [
      "<class 'str'>\n"
     ]
    }
   ],
   "source": [
    "# Q3. 임의의 클래스를 작성한 후 인스턴스를 생성하고 그것의 타입을 확인하세요.\n",
    "class Imi:\n",
    "    var = '작성'\n",
    "    def mi(self):\n",
    "        return self.var\n",
    "        \n",
    "    \n",
    "obj = Imi()\n",
    "print(type(obj.var))"
   ]
  },
  {
   "cell_type": "code",
   "execution_count": 6,
   "id": "dc6afa6d",
   "metadata": {},
   "outputs": [
    {
     "name": "stdout",
     "output_type": "stream",
     "text": [
      "8\n",
      "15\n",
      "2\n",
      "1.6666666666666667\n"
     ]
    }
   ],
   "source": [
    "# Q4. 4칙 연산 기능을 포함한 Cal4 클래스(생성자 이용)를 작성하고 이 클래스를 \n",
    "# 이용하여 cal1 계산기 객체를 만든 후 두개의 수  5,3에 대한 사칙연산을 수행하세요.\n",
    "class FourCal:\n",
    "    def __init__(self,a,b):\n",
    "        self.first_num = a\n",
    "        self.second_num = b\n",
    "    \n",
    "    def add(self):\n",
    "        result = self.first_num + self.second_num\n",
    "        return result\n",
    "    def mul(self):\n",
    "        result = self.first_num * self.second_num\n",
    "        return result\n",
    "    def minus(self):\n",
    "        result = self.first_num - self.second_num\n",
    "        return result\n",
    "    def div(self):\n",
    "        result = self.first_num / self.second_num\n",
    "        return result\n",
    "a = FourCal(5,3)\n",
    "print(a.add())\n",
    "print(a.mul())\n",
    "print(a.minus())\n",
    "print(a.div())"
   ]
  },
  {
   "cell_type": "code",
   "execution_count": 19,
   "id": "deca2dd6",
   "metadata": {},
   "outputs": [
    {
     "name": "stdout",
     "output_type": "stream",
     "text": [
      "첫 번째 수를 입력해 주세요 : 5\n",
      "두 번째 수를 입력해 주세요 : 3\n",
      "8 2 15 1.6666666666666667\n"
     ]
    }
   ],
   "source": [
    "# Q5. 4칙 연산 기능을 포함한 Cal4 클래스(set 메소드 이용)를 작성하고 이 클래스를 \n",
    "# 이용하여 cal 계산기 객체를 만든 후 두개의 수를 입력하여 사칙연산을 수행한 결과를 \n",
    "# 출력하세요\n",
    "class Cal4:\n",
    "    def setdata(self,a,b):\n",
    "        self.first_num = a\n",
    "        self.second_num = b\n",
    "    \n",
    "    def add(self):\n",
    "        result = self.first_num + self.second_num\n",
    "        return result\n",
    "    def mul(self):\n",
    "        result = self.first_num * self.second_num\n",
    "        return result\n",
    "    def minus(self):\n",
    "        result = self.first_num - self.second_num\n",
    "        return result\n",
    "    def div(self):\n",
    "        result = self.first_num / self.second_num\n",
    "        return result\n",
    "a = Cal4()\n",
    "a.setdata(int(input('첫 번째 수를 입력해 주세요 : ')),int(input('두 번째 수를 입력해 주세요 : ')))\n",
    "print(a.add(),a.minus(),a.mul(),a.div())"
   ]
  },
  {
   "cell_type": "code",
   "execution_count": 9,
   "id": "48dc1758",
   "metadata": {},
   "outputs": [
    {
     "name": "stdout",
     "output_type": "stream",
     "text": [
      "1000\n"
     ]
    }
   ],
   "source": [
    "# Q6. Order 클래스를 상속받아 extraOrder 클래스를 작성하고 extraCustomer의 \n",
    "# 주문가격을 다음과 같이 산출하였다. \n",
    "# ExtraOrder 클래스를 작성하세요\n",
    "\n",
    "class Order: \n",
    "    def __init__(self, name): \n",
    "        self.customer = 0 \n",
    "        self.name = name \n",
    "    def order(self, price): \n",
    "        self.customer += price \n",
    "        return self.customer \n",
    "    \n",
    "class ExtraOrder(Order): \n",
    "    pass \n",
    "\n",
    "extraCustomer = ExtraOrder('kevin') \n",
    "print(extraCustomer.order(1000))"
   ]
  },
  {
   "cell_type": "code",
   "execution_count": 51,
   "id": "731453fd",
   "metadata": {},
   "outputs": [
    {
     "name": "stdout",
     "output_type": "stream",
     "text": [
      "1000원\n"
     ]
    }
   ],
   "source": [
    "# Q7. Order 클래스를 상속받아 extraOrder 클래스에서 메소드 오버라이딩하여 출력가격에 \n",
    "# '원'이 추가되도록 출력하세요\n",
    "class ExtraOrder(Order):\n",
    "     def order(self, price):\n",
    "            self.customer += price\n",
    "            self.customer = str(self.customer) + '원'\n",
    "            return self.customer\n",
    "\n",
    "extraCustomer = ExtraOrder('kevin') \n",
    "print(extraCustomer.order(1000))   "
   ]
  },
  {
   "cell_type": "code",
   "execution_count": 45,
   "id": "83fb271c",
   "metadata": {},
   "outputs": [
    {
     "name": "stdout",
     "output_type": "stream",
     "text": [
      "1000원\n"
     ]
    }
   ],
   "source": [
    "class Order: \n",
    "    def __init__(self, name): \n",
    "        self.customer = 0 \n",
    "        self.name = name \n",
    "    def order(self, price): \n",
    "        self.customer += price \n",
    "        return self.customer \n",
    "    \n",
    "class ExtraOrder(Order): \n",
    "    def order(self,price):\n",
    "        self.customer += price\n",
    "        self.customer = str(self.customer) + '원'\n",
    "        return self.customer\n",
    "\n",
    "extraCustomer = ExtraOrder('kevin') \n",
    "print(extraCustomer.order(1000))  "
   ]
  },
  {
   "cell_type": "code",
   "execution_count": 46,
   "id": "b41d862e",
   "metadata": {},
   "outputs": [
    {
     "name": "stdout",
     "output_type": "stream",
     "text": [
      "1000원\n"
     ]
    }
   ],
   "source": [
    "class Order: \n",
    "    def __init__(self, name): \n",
    "        self.customer = 0 \n",
    "        self.name = name \n",
    "    def order(self, price): \n",
    "        self.customer += price \n",
    "        return self.customer \n",
    "    \n",
    "class ExtraOrder(Order): \n",
    "    def order(self,price):\n",
    "        self.customer += price\n",
    "        return '{}원'.format(self.customer)\n",
    "\n",
    "extraCustomer = ExtraOrder('kevin') \n",
    "print(extraCustomer.order(1000))  "
   ]
  },
  {
   "cell_type": "code",
   "execution_count": 9,
   "id": "b2ce09c1",
   "metadata": {},
   "outputs": [
    {
     "name": "stdout",
     "output_type": "stream",
     "text": [
      "이름을 입력하세요 : 신인철\n",
      "미팅 시간을 입력하세요 : 2\n",
      "안녕하세요 신인철님\n",
      "업무 미팅은 2시 입니다\n"
     ]
    }
   ],
   "source": [
    "# Q8. 업무미팅이 2시임을 알려주는 자동 이메일을 클래스 AutoEmail을 작성하여 \n",
    "# 아래와 같이 출력하세요.\n",
    "# 안녕하세요. kevin님, \n",
    "# 업무미팅은 2시입니다.\n",
    "class AutoEmail:\n",
    "    def auto(self,name,time):\n",
    "        print('안녕하세요 %s님'%name)\n",
    "        print('업무 미팅은 %s시 입니다'%time)\n",
    "\n",
    "a = AutoEmail()\n",
    "a.auto(input('이름을 입력하세요 : '),input('미팅 시간을 입력하세요 : '))"
   ]
  },
  {
   "cell_type": "code",
   "execution_count": 1,
   "id": "453eb89e",
   "metadata": {},
   "outputs": [
    {
     "name": "stdout",
     "output_type": "stream",
     "text": [
      "이름을 입력하세요 : 1\n",
      "미팅 시간을 입력하세요 : 2\n",
      "안녕하세요 1님\n",
      "업무 미팅은 2시 입니다\n"
     ]
    }
   ],
   "source": [
    "class AutoEmail:\n",
    "    def __init__(self,name,time):\n",
    "        self.name = name\n",
    "        self.time = time\n",
    "        print('안녕하세요 %s님'%name)\n",
    "        print('업무 미팅은 %s시 입니다'%time)\n",
    "\n",
    "a = AutoEmail(input('이름을 입력하세요 : '),input('미팅 시간을 입력하세요 : '))\n"
   ]
  },
  {
   "cell_type": "markdown",
   "id": "28f8e58d",
   "metadata": {},
   "source": [
    "날짜/시간"
   ]
  },
  {
   "cell_type": "code",
   "execution_count": 20,
   "id": "514d2a5c",
   "metadata": {},
   "outputs": [
    {
     "data": {
      "text/plain": [
       "'Mon Dec 28 22:02:17 2020'"
      ]
     },
     "execution_count": 20,
     "metadata": {},
     "output_type": "execute_result"
    }
   ],
   "source": [
    "# Q1. 1609160537.371015을 \"Sat Jun 26 08:35:03 2021\" 포멧으로 출력하세요.\n",
    "import time\n",
    "t= time.localtime(1609160537.371015)\n",
    "time.asctime(t)"
   ]
  },
  {
   "cell_type": "code",
   "execution_count": 46,
   "id": "01dbbc44",
   "metadata": {},
   "outputs": [
    {
     "data": {
      "text/plain": [
       "'Monday June 28 17:36:46 2021'"
      ]
     },
     "execution_count": 46,
     "metadata": {},
     "output_type": "execute_result"
    }
   ],
   "source": [
    "# Q2. 현재 날짜와 시간을 \"Sat Jun 26 08:35:03 2021\" 포멧으로 출력하세요.\n",
    "import datetime as dt\n",
    "dt = dt.datetime.now()\n",
    "dt.strftime('%A %B %d %H:%M:%S %Y')"
   ]
  },
  {
   "cell_type": "code",
   "execution_count": 40,
   "id": "4330a185",
   "metadata": {},
   "outputs": [
    {
     "data": {
      "text/plain": [
       "'2021-06-28 17:18:13'"
      ]
     },
     "execution_count": 40,
     "metadata": {},
     "output_type": "execute_result"
    }
   ],
   "source": [
    "# Q3. 현재 시간을 년-월-일 시:분:초로 출력하세요.\n",
    "import datetime as dt\n",
    "dt = dt.datetime.now()\n",
    "dt.strftime('%Y-%m-%d %H:%M:%S')"
   ]
  },
  {
   "cell_type": "code",
   "execution_count": 65,
   "id": "7ffaa7b5",
   "metadata": {},
   "outputs": [
    {
     "name": "stdout",
     "output_type": "stream",
     "text": [
      "178 days, 17:50:28.081528\n"
     ]
    }
   ],
   "source": [
    "# Q4. 올해 경과된 날짜수 계산하세요\n",
    "from datetime import datetime, timedelta\n",
    "\n",
    "t1 = datetime(2021,1,1,0,0,0)\n",
    "t2 = datetime.now()\n",
    "\n",
    "print(t2 - t1)"
   ]
  },
  {
   "cell_type": "code",
   "execution_count": 42,
   "id": "e327950c",
   "metadata": {},
   "outputs": [
    {
     "name": "stdout",
     "output_type": "stream",
     "text": [
      "2021-06-29 오늘은 화요일입니다\n"
     ]
    }
   ],
   "source": [
    "# Q5. 현재 요일을 \"2021-6-26 오늘은 토요일입니다.\"와 같은 형식으로 출력하세요.\n",
    "import datetime as dt\n",
    "dt = dt.datetime.now()\n",
    "a = dt.strftime('%Y-%m-%d')\n",
    "b = dt.strftime('%w')\n",
    "if b == '1':\n",
    "    print(a,'오늘은 월요일입니다')\n",
    "elif b == '2':\n",
    "    print(a,'오늘은 화요일입니다')\n",
    "elif b == '3':\n",
    "    print(a,'오늘은 수요일입니다')\n",
    "elif b == '4':\n",
    "    print(a,'오늘은 목요일입니다')\n",
    "elif b == '5':\n",
    "    print(a,'오늘은 금요일입니다')\n",
    "elif b == '6':\n",
    "    print(a,'오늘은 토요일입니다')\n",
    "else :\n",
    "    print(a,'오늘은 일요일입니다')"
   ]
  },
  {
   "cell_type": "code",
   "execution_count": 38,
   "id": "dea426ac",
   "metadata": {},
   "outputs": [
    {
     "name": "stdout",
     "output_type": "stream",
     "text": [
      "2\n"
     ]
    }
   ],
   "source": [
    "import datetime\n",
    "print(b)"
   ]
  },
  {
   "cell_type": "code",
   "execution_count": 43,
   "id": "f1ee1034",
   "metadata": {},
   "outputs": [
    {
     "name": "stdout",
     "output_type": "stream",
     "text": [
      "0.0159098916053772 밀리초(ms)\n"
     ]
    }
   ],
   "source": [
    "# 1000 밀리초(ms) = 1초\n",
    "# Q6. 1에서 백만까지 더하는데 걸리는 프로그램 실행 시간을 밀리초(ms) 단위로 구하세요.\n",
    "import time\n",
    "a = 1\n",
    "start = time.time()\n",
    "for i in range(1,1000001):\n",
    "    a += a\n",
    "print((time.time() - start)/1000,'밀리초(ms)')"
   ]
  },
  {
   "cell_type": "code",
   "execution_count": 55,
   "id": "647dfd04",
   "metadata": {},
   "outputs": [
    {
     "name": "stdout",
     "output_type": "stream",
     "text": [
      "정수 입력> 1\n",
      "1번째 요소: 273\n",
      "네임 에러 발생\n",
      "<class 'NameError'> name '예외' is not defined\n",
      "모든 예외 처리\n"
     ]
    }
   ],
   "source": [
    "# 과제\n",
    "# Q. 아래 코드를 모든 예외를 처리할 수 있도록 보완하세요\n",
    "list_num = [52,273,32,72,100]\n",
    "try:\n",
    "    num_input = int(input('정수 입력> '))\n",
    "    print('{}번째 요소: {}'.format(num_input, list_num[num_input]))\n",
    "    예외.발생()\n",
    "    \n",
    "except ValueError as exception:\n",
    "    print('정수를 입력해 주세요.')\n",
    "    print(type(exception),exception)\n",
    "except IndexError as exception:\n",
    "    print('리스트의 인덱스를 벗어났어요.')\n",
    "    print(type(exception),exception)\n",
    "except NameError as exception:\n",
    "    print('네임 에러 발생')\n",
    "    print(type(exception),exception)\n",
    "finally:\n",
    "    print('모든 예외 처리')"
   ]
  },
  {
   "cell_type": "code",
   "execution_count": null,
   "id": "e3d228c8",
   "metadata": {},
   "outputs": [],
   "source": [
    "# 보너스 문제\n",
    "name = ['고영남', '김광훈', '김동일', '김진', '박기범', '박민아', '박시우', '배송이', '송유빈', '신인철',\n",
    "       '양인석','오수문','우동주','이덕재','이민찬','이범준','이슬','이원진','이종현','임희진',\n",
    "       '정하림','조경림','조현정','진유훈','채승혜','최윤진','최한결','최혜정','하도원','안아름']\n",
    "# Q. 발표할 인원을 입력하면 랜덤으로 발표자를 리스트로 출력해주는 프로그램을 \n",
    "# 작성하세요.(중복 허용하지 않음)"
   ]
  }
 ],
 "metadata": {
  "kernelspec": {
   "display_name": "Python 3",
   "language": "python",
   "name": "python3"
  },
  "language_info": {
   "codemirror_mode": {
    "name": "ipython",
    "version": 3
   },
   "file_extension": ".py",
   "mimetype": "text/x-python",
   "name": "python",
   "nbconvert_exporter": "python",
   "pygments_lexer": "ipython3",
   "version": "3.8.10"
  }
 },
 "nbformat": 4,
 "nbformat_minor": 5
}
