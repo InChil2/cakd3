{
 "cells": [
  {
   "cell_type": "markdown",
   "id": "08a415ab",
   "metadata": {},
   "source": [
    "## 파이썬 기초"
   ]
  },
  {
   "cell_type": "code",
   "execution_count": 3,
   "id": "4b7c5395",
   "metadata": {},
   "outputs": [
    {
     "name": "stdout",
     "output_type": "stream",
     "text": [
      "Python 3.8.8\n"
     ]
    }
   ],
   "source": [
    " !python -V"
   ]
  },
  {
   "cell_type": "code",
   "execution_count": 9,
   "id": "1528c874",
   "metadata": {},
   "outputs": [
    {
     "name": "stdout",
     "output_type": "stream",
     "text": [
      "273\n",
      "60\n"
     ]
    },
    {
     "data": {
      "text/plain": [
       "'Python Programming'"
      ]
     },
     "execution_count": 9,
     "metadata": {},
     "output_type": "execute_result"
    }
   ],
   "source": [
    "# 표현식\n",
    "print(273)\n",
    "print(10+20+30)\n",
    "'Python Programming'"
   ]
  },
  {
   "cell_type": "code",
   "execution_count": 10,
   "id": "ecc746e6",
   "metadata": {},
   "outputs": [
    {
     "name": "stdout",
     "output_type": "stream",
     "text": [
      "52 Hello Python 8\n"
     ]
    }
   ],
   "source": [
    "# 문장 : 표현식이 하나 이상씩 모이면 문장\n",
    "print(52, 'Hello Python', 5+3)"
   ]
  },
  {
   "cell_type": "code",
   "execution_count": 14,
   "id": "37ad75d0",
   "metadata": {},
   "outputs": [
    {
     "name": "stdout",
     "output_type": "stream",
     "text": [
      "3\n"
     ]
    }
   ],
   "source": [
    "# 프로그램 : 문장이 모이면 프로그램\n",
    "a=1; b=2; c=a+b;\n",
    "print(c)"
   ]
  },
  {
   "cell_type": "code",
   "execution_count": 15,
   "id": "b908af70",
   "metadata": {},
   "outputs": [
    {
     "name": "stdout",
     "output_type": "stream",
     "text": [
      "['False', 'None', 'True', 'and', 'as', 'assert', 'async', 'await', 'break', 'class', 'continue', 'def', 'del', 'elif', 'else', 'except', 'finally', 'for', 'from', 'global', 'if', 'import', 'in', 'is', 'lambda', 'nonlocal', 'not', 'or', 'pass', 'raise', 'return', 'try', 'while', 'with', 'yield']\n"
     ]
    }
   ],
   "source": [
    "# 키워드 : 사용자가 이름으로 사용 불가능\n",
    "import keyword\n",
    "print(keyword.kwlist)"
   ]
  },
  {
   "cell_type": "markdown",
   "id": "0b7bf21c",
   "metadata": {},
   "source": [
    "식별자 기본 규칙 \n",
    "- 키워드를 사용하면 안된다.\n",
    "- 특수문자는 언더 바(\\_) 만 사용한다.\n",
    "- 숫자로 시작하면 안된다.\n",
    "- 공백을 포함할 수 없다."
   ]
  },
  {
   "cell_type": "code",
   "execution_count": null,
   "id": "9175510c",
   "metadata": {},
   "outputs": [],
   "source": [
    "alpha\n",
    "break # 키워드\n",
    "alpha10\n",
    "_alpha\n",
    "273alpha # 숫자로 시작\n",
    "AlpHa\n",
    "ALPHA\n",
    "has space # 공백이 있어서"
   ]
  },
  {
   "cell_type": "markdown",
   "id": "d9f6fb19",
   "metadata": {},
   "source": [
    "파이썬은 snake_case와 CamelCase를 모두 사용\n",
    "- itemlist /    item_list(snake_case),   ItemList(CamelCase)\n",
    "- loginstatus / login_status,            LoginStatus\n",
    "- CamelCase(대문자로 시작) 클래스\n",
    "- snake_case(소문자로 시작) 클래스 뒤에 ()가 있다 - 함수\n",
    "- snake_case(소문자로 시작) 클래스 뒤에 ()가 없다 - 변수\n"
   ]
  },
  {
   "cell_type": "code",
   "execution_count": 19,
   "id": "da690f84",
   "metadata": {},
   "outputs": [
    {
     "name": "stdout",
     "output_type": "stream",
     "text": [
      "3이 있습니다.\n"
     ]
    }
   ],
   "source": [
    "# 사람이 생각하는 방식을 그대로 표현할 수 있는 언어\n",
    "if 3 in [1,2,3,4]: print('3이 있습니다.')"
   ]
  },
  {
   "cell_type": "code",
   "execution_count": 21,
   "id": "44e6fb59",
   "metadata": {},
   "outputs": [
    {
     "name": "stdout",
     "output_type": "stream",
     "text": [
      "123\n",
      "-123\n",
      "0\n",
      "1.23\n",
      "127\n",
      "2748\n"
     ]
    }
   ],
   "source": [
    "# 파이썬 자료형 - 숫자형(정수, 실수, 8진수, 16진수)\n",
    "a = 123\n",
    "b = -123\n",
    "c = 0\n",
    "d = 1.23\n",
    "e = 0o177 #(영어 O 소문자) 8진수 00 또는 00으로 시작\n",
    "f = 0xABC #16진수 0x 시작\n",
    "print(a)  \n",
    "print(b)  \n",
    "print(c)  \n",
    "print(d)  \n",
    "print(e)  \n",
    "print(f)  "
   ]
  },
  {
   "cell_type": "code",
   "execution_count": 24,
   "id": "44495208",
   "metadata": {},
   "outputs": [
    {
     "name": "stdout",
     "output_type": "stream",
     "text": [
      "10\n",
      "2.3\n",
      "12.3\n",
      "23.0\n",
      "4.347826086956522\n",
      "0.8000000000000007\n",
      "4.0\n",
      "4\n"
     ]
    }
   ],
   "source": [
    "# 사칙연산\n",
    "a = 10\n",
    "b = 2.3\n",
    "c = a + b # 더하기\n",
    "d = a * b # 곱하기\n",
    "e = a / b # 나누기\n",
    "f = a % b # 나머지\n",
    "g = a // b # 몫\n",
    "h = 2 ** 2 # 제곱\n",
    "print(a)  \n",
    "print(b)  \n",
    "print(c)  \n",
    "print(d)  \n",
    "print(e)  \n",
    "print(f)  \n",
    "print(g)  \n",
    "print(h)  "
   ]
  },
  {
   "cell_type": "code",
   "execution_count": 30,
   "id": "d6365f0a",
   "metadata": {},
   "outputs": [
    {
     "ename": "TypeError",
     "evalue": "can only concatenate str (not \"int\") to str",
     "output_type": "error",
     "traceback": [
      "\u001b[1;31m---------------------------------------------------------------------------\u001b[0m",
      "\u001b[1;31mTypeError\u001b[0m                                 Traceback (most recent call last)",
      "\u001b[1;32m<ipython-input-30-107bb8cd13f1>\u001b[0m in \u001b[0;36m<module>\u001b[1;34m\u001b[0m\n\u001b[0;32m      2\u001b[0m \u001b[0mstring\u001b[0m \u001b[1;33m=\u001b[0m \u001b[1;34m'문자열'\u001b[0m\u001b[1;33m\u001b[0m\u001b[1;33m\u001b[0m\u001b[0m\n\u001b[0;32m      3\u001b[0m \u001b[0mnumber\u001b[0m \u001b[1;33m=\u001b[0m \u001b[1;36m273\u001b[0m\u001b[1;33m\u001b[0m\u001b[1;33m\u001b[0m\u001b[0m\n\u001b[1;32m----> 4\u001b[1;33m \u001b[0mstring\u001b[0m \u001b[1;33m+\u001b[0m \u001b[0mnumber\u001b[0m\u001b[1;33m\u001b[0m\u001b[1;33m\u001b[0m\u001b[0m\n\u001b[0m",
      "\u001b[1;31mTypeError\u001b[0m: can only concatenate str (not \"int\") to str"
     ]
    }
   ],
   "source": [
    "# 다른 타입간 연산은 안됨\n",
    "string = '문자열'\n",
    "number = 273\n",
    "string + number"
   ]
  },
  {
   "cell_type": "code",
   "execution_count": 35,
   "id": "fe29824d",
   "metadata": {},
   "outputs": [
    {
     "data": {
      "text/plain": [
       "int"
      ]
     },
     "execution_count": 35,
     "metadata": {},
     "output_type": "execute_result"
    }
   ],
   "source": [
    "a = 10\n",
    "a = '문자'\n",
    "a = 100\n",
    "type(a)"
   ]
  },
  {
   "cell_type": "code",
   "execution_count": 38,
   "id": "30832929",
   "metadata": {},
   "outputs": [
    {
     "data": {
      "text/plain": [
       "200"
      ]
     },
     "execution_count": 38,
     "metadata": {},
     "output_type": "execute_result"
    }
   ],
   "source": [
    "# 복합 대입 연산자 \n",
    "num = 10\n",
    "num += 10\n",
    "num *=10\n",
    "num"
   ]
  },
  {
   "cell_type": "code",
   "execution_count": 40,
   "id": "60412881",
   "metadata": {},
   "outputs": [
    {
     "name": "stdout",
     "output_type": "stream",
     "text": [
      "인사말을 입력하세요 : ㅎㅇ\n"
     ]
    },
    {
     "data": {
      "text/plain": [
       "'ㅎㅇ'"
      ]
     },
     "execution_count": 40,
     "metadata": {},
     "output_type": "execute_result"
    }
   ],
   "source": [
    "# 사용자 입력\n",
    "input('인사말을 입력하세요 : ')\n",
    "#input() 함수를 사용하면 숫자도 문자로 전환되어 숫자연산을 위한 변환 필요"
   ]
  },
  {
   "cell_type": "code",
   "execution_count": 43,
   "id": "9e401877",
   "metadata": {},
   "outputs": [
    {
     "name": "stdout",
     "output_type": "stream",
     "text": [
      "숫자를 입력하세요 : 5\n",
      "5\n"
     ]
    },
    {
     "data": {
      "text/plain": [
       "str"
      ]
     },
     "execution_count": 43,
     "metadata": {},
     "output_type": "execute_result"
    }
   ],
   "source": [
    "num = input('숫자를 입력하세요 : ') # 문자열로 입력 받음\n",
    "print(num)\n",
    "type(num)"
   ]
  },
  {
   "cell_type": "code",
   "execution_count": 45,
   "id": "ac775732",
   "metadata": {},
   "outputs": [
    {
     "name": "stdout",
     "output_type": "stream",
     "text": [
      "숫자를 입력하세요 : 156\n",
      "숫자를 입력하세요 : 156\n",
      "156156\n"
     ]
    }
   ],
   "source": [
    "num1 = input('숫자를 입력하세요 : ') # 문자열로 입력 받음\n",
    "num2 = input('숫자를 입력하세요 : ') # 문자열로 입력 받음\n",
    "print(num1 + num2)"
   ]
  },
  {
   "cell_type": "code",
   "execution_count": 46,
   "id": "255cdbf1",
   "metadata": {},
   "outputs": [
    {
     "name": "stdout",
     "output_type": "stream",
     "text": [
      "숫자를 입력하세요 : 5\n",
      "숫자를 입력하세요 : 2\n",
      "7\n"
     ]
    }
   ],
   "source": [
    "num1 = input('숫자를 입력하세요 : ') # 문자열로 입력 받아서\n",
    "num1_n = int(num1) # integer 형(정수형) 으로 변환\n",
    "num2 = input('숫자를 입력하세요 : ')\n",
    "num2_n = int(num2)\n",
    "print(num1_n + num2_n)"
   ]
  },
  {
   "cell_type": "code",
   "execution_count": 49,
   "id": "da1de190",
   "metadata": {},
   "outputs": [
    {
     "name": "stdout",
     "output_type": "stream",
     "text": [
      "숫자를 입력하세요 : 3\n",
      "숫자를 입력하세요 : 3.3\n",
      "6.3\n"
     ]
    }
   ],
   "source": [
    "# Q. 3과 3.3을 입력하고 숫자 연산을 수행하여 6.3을 출력하세요.\n",
    "a = input('숫자를 입력하세요 : ')\n",
    "a_1 = int(a)\n",
    "b = input('숫자를 입력하세요 : ')\n",
    "b_1 = float(b)\n",
    "print(a_1 + b_1)"
   ]
  },
  {
   "cell_type": "code",
   "execution_count": 55,
   "id": "a55c4522",
   "metadata": {},
   "outputs": [
    {
     "name": "stdout",
     "output_type": "stream",
     "text": [
      "5252.273\n"
     ]
    }
   ],
   "source": [
    "# Q. a = 52 와 52.273일때 a+b = 5252.273으로 출력되도록 a와 b를 문자열 자료형으로 변환하세요.\n",
    "a = str(52)\n",
    "b = str(52.273)\n",
    "print(a + b)"
   ]
  },
  {
   "cell_type": "code",
   "execution_count": 54,
   "id": "30f8a2e3",
   "metadata": {},
   "outputs": [
    {
     "name": "stdout",
     "output_type": "stream",
     "text": [
      "숫자를 입력하세요 : 52\n",
      "숫자를 입력하세요 : 52.273\n",
      "104.273\n"
     ]
    }
   ],
   "source": [
    "a = input('숫자를 입력하세요 : ')\n",
    "int_a = int(a) # 문자열 이었던 a를 정수 a로 변환\n",
    "b = input('숫자를 입력하세요 : ')\n",
    "float_b = float(b)\n",
    "\n",
    "print(int_a + float_b)"
   ]
  },
  {
   "cell_type": "code",
   "execution_count": 58,
   "id": "72d71be2",
   "metadata": {},
   "outputs": [
    {
     "name": "stdout",
     "output_type": "stream",
     "text": [
      "python's value is great\n"
     ]
    }
   ],
   "source": [
    "# 문자열 : \"\", '', \"\"\" \"\"\", ''' '''\n",
    "p1 = \"python's value is great\"\n",
    "p2 = 'python\\'s value is great' # \\으로 이스케이프 연산자를 통해 오류 수정\n",
    "print(p2)"
   ]
  }
 ],
 "metadata": {
  "kernelspec": {
   "display_name": "Python 3",
   "language": "python",
   "name": "python3"
  },
  "language_info": {
   "codemirror_mode": {
    "name": "ipython",
    "version": 3
   },
   "file_extension": ".py",
   "mimetype": "text/x-python",
   "name": "python",
   "nbconvert_exporter": "python",
   "pygments_lexer": "ipython3",
   "version": "3.8.8"
  }
 },
 "nbformat": 4,
 "nbformat_minor": 5
}
