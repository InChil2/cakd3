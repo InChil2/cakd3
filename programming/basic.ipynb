{
 "cells": [
  {
   "cell_type": "markdown",
   "id": "9ae1b0c7",
   "metadata": {},
   "source": [
    "## 파이썬 기초"
   ]
  },
  {
   "cell_type": "code",
   "execution_count": 1,
   "id": "0696310a",
   "metadata": {},
   "outputs": [
    {
     "name": "stdout",
     "output_type": "stream",
     "text": [
      "Python 3.8.8\r\n"
     ]
    }
   ],
   "source": [
    " !python -V"
   ]
  },
  {
   "cell_type": "code",
   "execution_count": 9,
   "id": "52b37cb8",
   "metadata": {},
   "outputs": [
    {
     "name": "stdout",
     "output_type": "stream",
     "text": [
      "273\n",
      "60\n"
     ]
    },
    {
     "data": {
      "text/plain": [
       "'Python Programming'"
      ]
     },
     "execution_count": 9,
     "metadata": {},
     "output_type": "execute_result"
    }
   ],
   "source": [
    "# 표현식\n",
    "print(273)\n",
    "print(10+20+30)\n",
    "'Python Programming'"
   ]
  },
  {
   "cell_type": "code",
   "execution_count": 10,
   "id": "537ba507",
   "metadata": {},
   "outputs": [
    {
     "name": "stdout",
     "output_type": "stream",
     "text": [
      "52 Hello Python 8\n"
     ]
    }
   ],
   "source": [
    "# 문장 : 표현식이 하나 이상씩 모이면 문장\n",
    "print(52, 'Hello Python', 5+3)"
   ]
  },
  {
   "cell_type": "code",
   "execution_count": 14,
   "id": "0397e0e4",
   "metadata": {},
   "outputs": [
    {
     "name": "stdout",
     "output_type": "stream",
     "text": [
      "3\n"
     ]
    }
   ],
   "source": [
    "# 프로그램 : 문장이 모이면 프로그램\n",
    "a=1; b=2; c=a+b;\n",
    "print(c)"
   ]
  },
  {
   "cell_type": "code",
   "execution_count": 15,
   "id": "00328a8d",
   "metadata": {},
   "outputs": [
    {
     "name": "stdout",
     "output_type": "stream",
     "text": [
      "['False', 'None', 'True', 'and', 'as', 'assert', 'async', 'await', 'break', 'class', 'continue', 'def', 'del', 'elif', 'else', 'except', 'finally', 'for', 'from', 'global', 'if', 'import', 'in', 'is', 'lambda', 'nonlocal', 'not', 'or', 'pass', 'raise', 'return', 'try', 'while', 'with', 'yield']\n"
     ]
    }
   ],
   "source": [
    "# 키워드 : 사용자가 이름으로 사용 불가능\n",
    "import keyword\n",
    "print(keyword.kwlist)"
   ]
  },
  {
   "cell_type": "markdown",
   "id": "1eaccbbb",
   "metadata": {},
   "source": [
    "식별자 기본 규칙 \n",
    "- 키워드를 사용하면 안된다.\n",
    "- 특수문자는 언더 바(\\_) 만 사용한다.\n",
    "- 숫자로 시작하면 안된다.\n",
    "- 공백을 포함할 수 없다."
   ]
  },
  {
   "cell_type": "code",
   "execution_count": null,
   "id": "4d9e9e6c",
   "metadata": {},
   "outputs": [],
   "source": [
    "alpha\n",
    "break # 키워드\n",
    "alpha10\n",
    "_alpha\n",
    "273alpha # 숫자로 시작\n",
    "AlpHa\n",
    "ALPHA\n",
    "has space # 공백이 있어서"
   ]
  },
  {
   "cell_type": "markdown",
   "id": "973fe0be",
   "metadata": {},
   "source": [
    "파이썬은 snake_case와 CamelCase를 모두 사용\n",
    "- itemlist /    item_list(snake_case),   ItemList(CamelCase)\n",
    "- loginstatus / login_status,            LoginStatus\n",
    "- CamelCase(대문자로 시작) 클래스\n",
    "- snake_case(소문자로 시작) 클래스 뒤에 ()가 있다 - 함수\n",
    "- snake_case(소문자로 시작) 클래스 뒤에 ()가 없다 - 변수\n"
   ]
  },
  {
   "cell_type": "code",
   "execution_count": 19,
   "id": "bc2fe993",
   "metadata": {},
   "outputs": [
    {
     "name": "stdout",
     "output_type": "stream",
     "text": [
      "3이 있습니다.\n"
     ]
    }
   ],
   "source": [
    "# 사람이 생각하는 방식을 그대로 표현할 수 있는 언어\n",
    "if 3 in [1,2,3,4]: print('3이 있습니다.')"
   ]
  },
  {
   "cell_type": "code",
   "execution_count": 21,
   "id": "ec20361c",
   "metadata": {},
   "outputs": [
    {
     "name": "stdout",
     "output_type": "stream",
     "text": [
      "123\n",
      "-123\n",
      "0\n",
      "1.23\n",
      "127\n",
      "2748\n"
     ]
    }
   ],
   "source": [
    "# 파이썬 자료형 - 숫자형(정수, 실수, 8진수, 16진수)\n",
    "a = 123\n",
    "b = -123\n",
    "c = 0\n",
    "d = 1.23\n",
    "e = 0o177 #(영어 O 소문자) 8진수 00 또는 00으로 시작\n",
    "f = 0xABC #16진수 0x 시작\n",
    "print(a)  \n",
    "print(b)  \n",
    "print(c)  \n",
    "print(d)  \n",
    "print(e)  \n",
    "print(f)  "
   ]
  },
  {
   "cell_type": "code",
   "execution_count": 24,
   "id": "126afcb6",
   "metadata": {},
   "outputs": [
    {
     "name": "stdout",
     "output_type": "stream",
     "text": [
      "10\n",
      "2.3\n",
      "12.3\n",
      "23.0\n",
      "4.347826086956522\n",
      "0.8000000000000007\n",
      "4.0\n",
      "4\n"
     ]
    }
   ],
   "source": [
    "# 사칙연산\n",
    "a = 10\n",
    "b = 2.3\n",
    "c = a + b # 더하기\n",
    "d = a * b # 곱하기\n",
    "e = a / b # 나누기\n",
    "f = a % b # 나머지\n",
    "g = a // b # 몫\n",
    "h = 2 ** 2 # 제곱\n",
    "print(a)  \n",
    "print(b)  \n",
    "print(c)  \n",
    "print(d)  \n",
    "print(e)  \n",
    "print(f)  \n",
    "print(g)  \n",
    "print(h)  "
   ]
  },
  {
   "cell_type": "code",
   "execution_count": 30,
   "id": "ab3700b1",
   "metadata": {},
   "outputs": [
    {
     "ename": "TypeError",
     "evalue": "can only concatenate str (not \"int\") to str",
     "output_type": "error",
     "traceback": [
      "\u001b[1;31m---------------------------------------------------------------------------\u001b[0m",
      "\u001b[1;31mTypeError\u001b[0m                                 Traceback (most recent call last)",
      "\u001b[1;32m<ipython-input-30-107bb8cd13f1>\u001b[0m in \u001b[0;36m<module>\u001b[1;34m\u001b[0m\n\u001b[0;32m      2\u001b[0m \u001b[0mstring\u001b[0m \u001b[1;33m=\u001b[0m \u001b[1;34m'문자열'\u001b[0m\u001b[1;33m\u001b[0m\u001b[1;33m\u001b[0m\u001b[0m\n\u001b[0;32m      3\u001b[0m \u001b[0mnumber\u001b[0m \u001b[1;33m=\u001b[0m \u001b[1;36m273\u001b[0m\u001b[1;33m\u001b[0m\u001b[1;33m\u001b[0m\u001b[0m\n\u001b[1;32m----> 4\u001b[1;33m \u001b[0mstring\u001b[0m \u001b[1;33m+\u001b[0m \u001b[0mnumber\u001b[0m\u001b[1;33m\u001b[0m\u001b[1;33m\u001b[0m\u001b[0m\n\u001b[0m",
      "\u001b[1;31mTypeError\u001b[0m: can only concatenate str (not \"int\") to str"
     ]
    }
   ],
   "source": [
    "# 다른 타입간 연산은 안됨\n",
    "string = '문자열'\n",
    "number = 273\n",
    "string + number"
   ]
  },
  {
   "cell_type": "code",
   "execution_count": 35,
   "id": "45eb84f2",
   "metadata": {},
   "outputs": [
    {
     "data": {
      "text/plain": [
       "int"
      ]
     },
     "execution_count": 35,
     "metadata": {},
     "output_type": "execute_result"
    }
   ],
   "source": [
    "a = 10\n",
    "a = '문자'\n",
    "a = 100\n",
    "type(a)"
   ]
  },
  {
   "cell_type": "code",
   "execution_count": 38,
   "id": "20c57a82",
   "metadata": {},
   "outputs": [
    {
     "data": {
      "text/plain": [
       "200"
      ]
     },
     "execution_count": 38,
     "metadata": {},
     "output_type": "execute_result"
    }
   ],
   "source": [
    "# 복합 대입 연산자 \n",
    "num = 10\n",
    "num += 10\n",
    "num *=10\n",
    "num"
   ]
  },
  {
   "cell_type": "code",
   "execution_count": 40,
   "id": "4e47019c",
   "metadata": {},
   "outputs": [
    {
     "name": "stdout",
     "output_type": "stream",
     "text": [
      "인사말을 입력하세요 : ㅎㅇ\n"
     ]
    },
    {
     "data": {
      "text/plain": [
       "'ㅎㅇ'"
      ]
     },
     "execution_count": 40,
     "metadata": {},
     "output_type": "execute_result"
    }
   ],
   "source": [
    "# 사용자 입력\n",
    "input('인사말을 입력하세요 : ')\n",
    "#input() 함수를 사용하면 숫자도 문자로 전환되어 숫자연산을 위한 변환 필요"
   ]
  },
  {
   "cell_type": "code",
   "execution_count": 43,
   "id": "b603588c",
   "metadata": {},
   "outputs": [
    {
     "name": "stdout",
     "output_type": "stream",
     "text": [
      "숫자를 입력하세요 : 5\n",
      "5\n"
     ]
    },
    {
     "data": {
      "text/plain": [
       "str"
      ]
     },
     "execution_count": 43,
     "metadata": {},
     "output_type": "execute_result"
    }
   ],
   "source": [
    "num = input('숫자를 입력하세요 : ') # 문자열로 입력 받음\n",
    "print(num)\n",
    "type(num)"
   ]
  },
  {
   "cell_type": "code",
   "execution_count": 45,
   "id": "39fbfb4b",
   "metadata": {},
   "outputs": [
    {
     "name": "stdout",
     "output_type": "stream",
     "text": [
      "숫자를 입력하세요 : 156\n",
      "숫자를 입력하세요 : 156\n",
      "156156\n"
     ]
    }
   ],
   "source": [
    "num1 = input('숫자를 입력하세요 : ') # 문자열로 입력 받음\n",
    "num2 = input('숫자를 입력하세요 : ') # 문자열로 입력 받음\n",
    "print(num1 + num2)"
   ]
  },
  {
   "cell_type": "code",
   "execution_count": 46,
   "id": "613a4926",
   "metadata": {},
   "outputs": [
    {
     "name": "stdout",
     "output_type": "stream",
     "text": [
      "숫자를 입력하세요 : 5\n",
      "숫자를 입력하세요 : 2\n",
      "7\n"
     ]
    }
   ],
   "source": [
    "num1 = input('숫자를 입력하세요 : ') # 문자열로 입력 받아서\n",
    "num1_n = int(num1) # integer 형(정수형) 으로 변환\n",
    "num2 = input('숫자를 입력하세요 : ')\n",
    "num2_n = int(num2)\n",
    "print(num1_n + num2_n)"
   ]
  },
  {
   "cell_type": "code",
   "execution_count": 49,
   "id": "32ced1f1",
   "metadata": {},
   "outputs": [
    {
     "name": "stdout",
     "output_type": "stream",
     "text": [
      "숫자를 입력하세요 : 3\n",
      "숫자를 입력하세요 : 3.3\n",
      "6.3\n"
     ]
    }
   ],
   "source": [
    "# Q. 3과 3.3을 입력하고 숫자 연산을 수행하여 6.3을 출력하세요.\n",
    "a = input('숫자를 입력하세요 : ')\n",
    "a_1 = int(a)\n",
    "b = input('숫자를 입력하세요 : ')\n",
    "b_1 = float(b)\n",
    "print(a_1 + b_1)"
   ]
  },
  {
   "cell_type": "code",
   "execution_count": 55,
   "id": "b9bcd2c3",
   "metadata": {},
   "outputs": [
    {
     "name": "stdout",
     "output_type": "stream",
     "text": [
      "5252.273\n"
     ]
    }
   ],
   "source": [
    "# Q. a = 52 와 52.273일때 a+b = 5252.273으로 출력되도록 a와 b를 문자열 자료형으로 변환하세요.\n",
    "a = str(52)\n",
    "b = str(52.273)\n",
    "print(a + b)"
   ]
  },
  {
   "cell_type": "code",
   "execution_count": 54,
   "id": "412f2e35",
   "metadata": {},
   "outputs": [
    {
     "name": "stdout",
     "output_type": "stream",
     "text": [
      "숫자를 입력하세요 : 52\n",
      "숫자를 입력하세요 : 52.273\n",
      "104.273\n"
     ]
    }
   ],
   "source": [
    "a = input('숫자를 입력하세요 : ')\n",
    "int_a = int(a) # 문자열 이었던 a를 정수 a로 변환\n",
    "b = input('숫자를 입력하세요 : ')\n",
    "float_b = float(b)\n",
    "\n",
    "print(int_a + float_b)"
   ]
  },
  {
   "cell_type": "code",
   "execution_count": 58,
   "id": "8c8af82d",
   "metadata": {},
   "outputs": [
    {
     "name": "stdout",
     "output_type": "stream",
     "text": [
      "python's value is great\n"
     ]
    }
   ],
   "source": [
    "# 문자열 : \"\", '', \"\"\" \"\"\", ''' '''\n",
    "p1 = \"python's value is great\"\n",
    "p2 = 'python\\'s value is great' # \\으로 이스케이프 코드를 통해 오류 수정\n",
    "print(p2)"
   ]
  },
  {
   "cell_type": "code",
   "execution_count": 61,
   "id": "5731ef76",
   "metadata": {},
   "outputs": [
    {
     "data": {
      "text/plain": [
       "'\"python is valuable\" he says'"
      ]
     },
     "execution_count": 61,
     "metadata": {},
     "output_type": "execute_result"
    }
   ],
   "source": [
    "s1 = '\"python is valuable\" he says'\n",
    "s1"
   ]
  },
  {
   "cell_type": "code",
   "execution_count": 63,
   "id": "8b4b2d9e",
   "metadata": {},
   "outputs": [
    {
     "data": {
      "text/plain": [
       "\"python's value is great\""
      ]
     },
     "execution_count": 63,
     "metadata": {},
     "output_type": "execute_result"
    }
   ],
   "source": [
    "s2 = 'python\\'s value is great'\n",
    "s2"
   ]
  },
  {
   "cell_type": "code",
   "execution_count": 67,
   "id": "26ca61fa",
   "metadata": {},
   "outputs": [
    {
     "name": "stdout",
     "output_type": "stream",
     "text": [
      "Once you study data analysis\n",
      "You need Python\n",
      "Once you study data analysis\n",
      "You need Python\n",
      "Once you study data analysis\n",
      "You need Python\n"
     ]
    }
   ],
   "source": [
    "y1 = \"Once you study data analysis\\nYou need Python\"\n",
    "print(y1)\n",
    "y2 = '''Once you study data analysis\n",
    "You need Python'''\n",
    "print(y2)\n",
    "y3 = \"\"\"Once you study data analysis\n",
    "You need Python\"\"\"\n",
    "print(y3)"
   ]
  },
  {
   "cell_type": "code",
   "execution_count": 70,
   "id": "55de1be9",
   "metadata": {},
   "outputs": [
    {
     "name": "stdout",
     "output_type": "stream",
     "text": [
      "Pythonis easy to learn\n",
      "PythonPythonPython\n",
      "====================\n"
     ]
    }
   ],
   "source": [
    "# 문자열 연산\n",
    "a1 = 'Python'\n",
    "a2 = 'is easy to learn'\n",
    "print(a1 + a2)\n",
    "print(a1 * 3)\n",
    "print(\"=\" * 20)"
   ]
  },
  {
   "cell_type": "code",
   "execution_count": 203,
   "id": "7bc10799",
   "metadata": {},
   "outputs": [
    {
     "name": "stdout",
     "output_type": "stream",
     "text": [
      "[1, 'a', 'abc', [1, 2, 3, 4, 5], ['a', 'b', 'c']]\n"
     ]
    },
    {
     "data": {
      "text/plain": [
       "list"
      ]
     },
     "execution_count": 203,
     "metadata": {},
     "output_type": "execute_result"
    }
   ],
   "source": [
    "# 자료형 -  List\n",
    "# 리스트는 [] 로 표시하며 [] 안의 요소를 콤마로 구분하여 순서있게 나열\n",
    "list1 = [1,2,3,4,5]\n",
    "list2 = ['a','b','c']\n",
    "list3 = [1, 'a','abc',[1,2,3,4,5],['a','b','c']] # 리스트 안에 리스트를 넣을 수 있음\n",
    "print(list3)"
   ]
  },
  {
   "cell_type": "code",
   "execution_count": 85,
   "id": "60ebe3b5",
   "metadata": {},
   "outputs": [
    {
     "data": {
      "text/plain": [
       "'c'"
      ]
     },
     "execution_count": 85,
     "metadata": {},
     "output_type": "execute_result"
    }
   ],
   "source": [
    "# 인덱싱 \n",
    "list1 = [1,2,3,4,5]\n",
    "list1[:] # 모든 리스트 표시\n",
    "list1[0:5] # 0번째부터 5번째 이전까지\n",
    "list3[2]\n",
    "list3[3][4] # 리스트[] 속의 리스트[] 2번 리스트의 3번 숫자\n",
    "list3[4][2]"
   ]
  },
  {
   "cell_type": "code",
   "execution_count": 90,
   "id": "b6e1ea05",
   "metadata": {},
   "outputs": [
    {
     "name": "stdout",
     "output_type": "stream",
     "text": [
      "[1, 1, 2, 3, 4, 5, 6, 7, 8, 9]\n",
      "['a', 'a', 'c']\n",
      "['a', 'c']\n"
     ]
    }
   ],
   "source": [
    "# 리스트 수정, 삭제\n",
    "\n",
    "a = [0, 1, 2, 3, 4, 5, 6, 7, 8, 9]\n",
    "b = ['a','b','c']\n",
    "a[0] = 1 #숫자 0을 1로 수정\n",
    "print(a)\n",
    "b[1] = 'a' # 문자 b를 a로 수정\n",
    "print(b)\n",
    "del b[0] #b의 0번 문자를 삭제\n",
    "print(b)"
   ]
  },
  {
   "cell_type": "code",
   "execution_count": 94,
   "id": "faec0de7",
   "metadata": {},
   "outputs": [
    {
     "data": {
      "text/plain": [
       "[1, 1, 2, 3, 4, 5, 6, 7, 8, 9, 'a', 1]"
      ]
     },
     "execution_count": 94,
     "metadata": {},
     "output_type": "execute_result"
    }
   ],
   "source": [
    "c = a + b\n",
    "c\n",
    "c[11] = 1 # 11 or -1 = 끝에서 1번째 자리 수\n",
    "c"
   ]
  },
  {
   "cell_type": "code",
   "execution_count": 96,
   "id": "ac7a137a",
   "metadata": {},
   "outputs": [
    {
     "data": {
      "text/plain": [
       "[1, 1, 2, 3, 4, 5, 6, 7, 8, 9, 2, 1]"
      ]
     },
     "execution_count": 96,
     "metadata": {},
     "output_type": "execute_result"
    }
   ],
   "source": [
    "c[-2] = 2 #10 or -2 = 끝에서 2번째 자리 수\n",
    "c"
   ]
  },
  {
   "cell_type": "code",
   "execution_count": 101,
   "id": "1765f9b1",
   "metadata": {},
   "outputs": [
    {
     "name": "stdout",
     "output_type": "stream",
     "text": [
      "[1, 1, 1, 2, 2, 3, 4, 5, 6, 7, 8, 9]\n",
      "[9, 8, 7, 6, 5, 4, 3, 2, 2, 1, 1, 1]\n",
      "[9, 8, 7, 6, 5, 4, 3, 2, 2, 1, 1, 1]\n"
     ]
    }
   ],
   "source": [
    "# 올림차순 정렬\n",
    "s = [1, 1, 2, 3, 4, 5, 6, 7, 8, 9, 2, 1]\n",
    "s.sort()\n",
    "print(s)\n",
    "# 내림차순 정렬\n",
    "s_d = sorted(s, reverse=True) #1번째 방법\n",
    "print(s_d)\n",
    "s.reverse() #2번째 방법\n",
    "print(s)"
   ]
  },
  {
   "cell_type": "code",
   "execution_count": 154,
   "id": "64051253",
   "metadata": {},
   "outputs": [
    {
     "name": "stdout",
     "output_type": "stream",
     "text": [
      "[13, 33, 40, 22, 12, 8, 85, 52, 23, 67, 38, 0, 37, 87, 15, 49, 96, 93, 43, 46, 62, 32, 14, 55, 92, 93, 49, 38, 24, 55, 94, 18, 4, 23, 29, 27, 12, 46, 0, 34, 99, 83, 75, 2, 44, 21, 43, 93, 81, 98, 99, 87, 65, 92, 47, 18, 21, 52, 10, 72, 5, 43, 41, 13, 35, 25, 44, 17, 79, 8, 43, 22, 71, 12, 58, 21, 9, 42, 70, 65, 47, 31, 24, 59, 77, 9, 92, 19, 96, 8, 5, 81, 5, 88, 53, 79, 52, 10, 50, 25]\n"
     ]
    },
    {
     "data": {
      "text/plain": [
       "52"
      ]
     },
     "execution_count": 154,
     "metadata": {},
     "output_type": "execute_result"
    }
   ],
   "source": [
    "# 인덱스 위치 반환 \n",
    "import numpy as np #numpy 라이브러리(랜덤 함수를 제공)\n",
    "c = np.random.randint(100, size=100).tolist()\n",
    "print(c)\n",
    "c.index(65) #64번째에 있는 인덱스 0 ~ 64까지 = 65"
   ]
  },
  {
   "cell_type": "code",
   "execution_count": 155,
   "id": "596d50e8",
   "metadata": {},
   "outputs": [
    {
     "data": {
      "text/plain": [
       "3"
      ]
     },
     "execution_count": 155,
     "metadata": {},
     "output_type": "execute_result"
    }
   ],
   "source": [
    "at = [1,2,3,4,5,6]\n",
    "at.index(4)"
   ]
  },
  {
   "cell_type": "code",
   "execution_count": 111,
   "id": "fd430bd0",
   "metadata": {},
   "outputs": [
    {
     "name": "stdout",
     "output_type": "stream",
     "text": [
      "3\n"
     ]
    }
   ],
   "source": [
    "# 개수 반환\n",
    "c = [1,1,3,3,3,5,5]\n",
    "print(c.count(3))"
   ]
  },
  {
   "cell_type": "code",
   "execution_count": 12,
   "id": "278871f3",
   "metadata": {},
   "outputs": [
    {
     "name": "stdout",
     "output_type": "stream",
     "text": [
      "[1, 2, 3, 4, 5]\n",
      "[9, 1, 2, 3, 4, 5, 6]\n"
     ]
    }
   ],
   "source": [
    "# 리스트 확장\n",
    "h = [1,2,3]\n",
    "h.extend([4,5])\n",
    "print(h)\n",
    "# 추가\n",
    "h.append(6)\n",
    "# 삽입\n",
    "h.insert(0,9)\n",
    "print(h)"
   ]
  },
  {
   "cell_type": "code",
   "execution_count": 115,
   "id": "1a571cac",
   "metadata": {},
   "outputs": [
    {
     "data": {
      "text/plain": [
       "'c'"
      ]
     },
     "execution_count": 115,
     "metadata": {},
     "output_type": "execute_result"
    }
   ],
   "source": [
    "# 튜플\n",
    "tuple1 = (1,2,3,4,5)\n",
    "tuple2 = ('a','b','c')\n",
    "tuple3 = (1,'a','abc',[1,2,3,4,5],['a','b','c'])\n",
    "\n",
    "tuple1[:] # 모든 리스트 표시\n",
    "tuple1[0:5] # 0번째부터 5번째 이전까지\n",
    "tuple3[2]\n",
    "tuple3[3][4] # 리스트[] 속의 리스트[] 2번 리스트의 3번 숫자\n",
    "tuple3[4][2]"
   ]
  },
  {
   "cell_type": "code",
   "execution_count": 117,
   "id": "a80d3c53",
   "metadata": {},
   "outputs": [
    {
     "ename": "TypeError",
     "evalue": "'type' object does not support item assignment",
     "output_type": "error",
     "traceback": [
      "\u001b[1;31m---------------------------------------------------------------------------\u001b[0m",
      "\u001b[1;31mTypeError\u001b[0m                                 Traceback (most recent call last)",
      "\u001b[1;32m<ipython-input-117-ba3062bba6f6>\u001b[0m in \u001b[0;36m<module>\u001b[1;34m\u001b[0m\n\u001b[0;32m      1\u001b[0m \u001b[1;31m#튜플의 요소 값은 변경할 수 없음 - 프로그램에서 그 값이 항상 변하지 않아야되는 경우 사용\u001b[0m\u001b[1;33m\u001b[0m\u001b[1;33m\u001b[0m\u001b[1;33m\u001b[0m\u001b[0m\n\u001b[1;32m----> 2\u001b[1;33m \u001b[0mtuple\u001b[0m\u001b[1;33m[\u001b[0m\u001b[1;36m0\u001b[0m\u001b[1;33m]\u001b[0m \u001b[1;33m=\u001b[0m \u001b[1;36m6\u001b[0m\u001b[1;33m\u001b[0m\u001b[1;33m\u001b[0m\u001b[0m\n\u001b[0m\u001b[0;32m      3\u001b[0m \u001b[0mprint\u001b[0m\u001b[1;33m(\u001b[0m\u001b[0mlist1\u001b[0m\u001b[1;33m)\u001b[0m\u001b[1;33m\u001b[0m\u001b[1;33m\u001b[0m\u001b[0m\n",
      "\u001b[1;31mTypeError\u001b[0m: 'type' object does not support item assignment"
     ]
    }
   ],
   "source": [
    "#튜플의 요소 값은 변경할 수 없음 - 프로그램에서 그 값이 항상 변하지 않아야되는 경우 사용  \n",
    "tuple[0] = 6\n",
    "print(list1)"
   ]
  },
  {
   "cell_type": "code",
   "execution_count": 160,
   "id": "96ad97ab",
   "metadata": {},
   "outputs": [
    {
     "name": "stdout",
     "output_type": "stream",
     "text": [
      "(1,)\n",
      "(1, 2, 3)\n",
      "(1, 2, 3, 1, 2, 3, 1, 2, 3)\n",
      "(1, 1, 2, 3)\n",
      "(1, 1, 2, 3, 1, 1, 2, 3, 1, 1, 2, 3)\n",
      "1\n"
     ]
    },
    {
     "data": {
      "text/plain": [
       "int"
      ]
     },
     "execution_count": 160,
     "metadata": {},
     "output_type": "execute_result"
    }
   ],
   "source": [
    "t1 = (1,) # 1개의 요소만 가질 때는 요소 뒤에 콤마를 붙여야 함\n",
    "print(t1)\n",
    "t2 = 1,2,3\n",
    "print(t2)\n",
    "print(t2 * 3)\n",
    "t3 = t1 + t2\n",
    "print(t3)\n",
    "t4 = (t3) * 3\n",
    "print(t4)\n",
    "t5 = (1)\n",
    "print(t5)\n",
    "type(t5)"
   ]
  },
  {
   "cell_type": "code",
   "execution_count": 168,
   "id": "078bf7af",
   "metadata": {},
   "outputs": [
    {
     "name": "stdout",
     "output_type": "stream",
     "text": [
      "1\n",
      "{'a': 1, 'b': 5, 'c': 3}\n"
     ]
    }
   ],
   "source": [
    "#자료형 - 딕셔너리 : 사전(키와 값을 하나의 요소로 하는 순서가 없는 집합)\n",
    "#인덱싱이 안 됨\n",
    "d1 = {'a':1,'b':2, 'c':3}\n",
    "print(d1['a']) #d1에서 문자열 'a'라는 키를 찾아 값을 출력\n",
    "d1['b'] = 5 #d1에서 b라는 키를 찾아 값을 5로 변경\n",
    "print(d1)"
   ]
  },
  {
   "cell_type": "code",
   "execution_count": 170,
   "id": "e330034b",
   "metadata": {},
   "outputs": [
    {
     "name": "stdout",
     "output_type": "stream",
     "text": [
      "dict_keys(['a', 'b', 'c'])\n",
      "dict_values([1, 5, 3])\n",
      "dict_items([('a', 1), ('b', 5), ('c', 3)])\n"
     ]
    }
   ],
   "source": [
    "print(d1.keys()) #키 만 출력\n",
    "print(d1.values()) #값 만 출력\n",
    "print(d1.items()) #키 값 별로 출력"
   ]
  },
  {
   "cell_type": "code",
   "execution_count": 178,
   "id": "7cb068a3",
   "metadata": {},
   "outputs": [
    {
     "name": "stdout",
     "output_type": "stream",
     "text": [
      "{1, 2, 3, 4, 5}\n",
      "{'l', 'e', 'o', 'H'}\n"
     ]
    },
    {
     "data": {
      "text/plain": [
       "set"
      ]
     },
     "execution_count": 178,
     "metadata": {},
     "output_type": "execute_result"
    }
   ],
   "source": [
    "# 자료형 - 집합, set(중복을 허용하지 않으면 순서가 없다)\n",
    "s1 = set([1,2,5,4,3])\n",
    "s2 = set('Hello') # 중복을 허용하지 않아서 L이 하나만 출력 됨\n",
    "print(s1)\n",
    "print(s2)\n",
    "type(s1)"
   ]
  },
  {
   "cell_type": "code",
   "execution_count": 180,
   "id": "ff25a63f",
   "metadata": {},
   "outputs": [
    {
     "name": "stdout",
     "output_type": "stream",
     "text": [
      "2\n",
      "e\n"
     ]
    },
    {
     "data": {
      "text/plain": [
       "list"
      ]
     },
     "execution_count": 180,
     "metadata": {},
     "output_type": "execute_result"
    }
   ],
   "source": [
    "# 집합은 인덱싱으로 값을 얻을 수 없으면 필요시 리스트나 튜플로 변환 후 인덱싱\n",
    "l1 = list(s1)\n",
    "print(l1[1])\n",
    "l2 = list(s2)\n",
    "print(l2[1])\n",
    "type(l1)"
   ]
  },
  {
   "cell_type": "code",
   "execution_count": 201,
   "id": "1f2ea79e",
   "metadata": {},
   "outputs": [
    {
     "name": "stdout",
     "output_type": "stream",
     "text": [
      "(1, 2, 3, 4, 5, 6, 7, 8, 9)\n",
      "[4, 5, 6]\n"
     ]
    },
    {
     "data": {
      "text/plain": [
       "tuple"
      ]
     },
     "execution_count": 201,
     "metadata": {},
     "output_type": "execute_result"
    }
   ],
   "source": [
    "# Q s1, s2의 합집합과 교집합을 각각 리스트와 튜플로 출력하세요\n",
    "\n",
    "s1 = set([1,2,3,4,5,6])  \n",
    "s2 = set([4,5,6,7,8,9])\n",
    "tr = tuple(s1 | s2) # 합집합 튜플\n",
    "lr = list(s1 & s2) # 교집합 리스트\n",
    "print(tr)\n",
    "print(lr)\n",
    "type(tr)"
   ]
  },
  {
   "cell_type": "code",
   "execution_count": 202,
   "id": "7ceef7e6",
   "metadata": {},
   "outputs": [
    {
     "name": "stdout",
     "output_type": "stream",
     "text": [
      "a가 li에 있습니다.\n"
     ]
    }
   ],
   "source": [
    "# 들여쓰기\n",
    "li = ['a','b','c']\n",
    "if 'a' in li :\n",
    "    print('a가 li에 있습니다.')\n",
    "else:\n",
    "    print('a가 li에 없습니다.')"
   ]
  },
  {
   "cell_type": "code",
   "execution_count": 13,
   "id": "91c97c3b",
   "metadata": {},
   "outputs": [
    {
     "name": "stdout",
     "output_type": "stream",
     "text": [
      "홍길동 선수가  1등 입니다.\n",
      "1 선수가  홍길동등 입니다.\n",
      "홍길동 선수가 1 등 입니다.\n"
     ]
    }
   ],
   "source": [
    "# 포멧 함수\n",
    "f1 = \"{} 선수가  {}등 입니다.\".format('홍길동',1)\n",
    "f2 = \"{1} 선수가  {0}등 입니다.\".format('홍길동',1)\n",
    "print(f1)\n",
    "print(f2)\n",
    "print(\"%s 선수가 %d 등 입니다.\" %(\"홍길동\",1))"
   ]
  },
  {
   "cell_type": "code",
   "execution_count": null,
   "id": "91507067",
   "metadata": {},
   "outputs": [],
   "source": [
    "#파이썬은 자바보다 2배 쉽습니다"
   ]
  },
  {
   "cell_type": "code",
   "execution_count": 210,
   "id": "69eb0417",
   "metadata": {},
   "outputs": [
    {
     "name": "stdout",
     "output_type": "stream",
     "text": [
      "파이썬은 자바보다 2배 쉽습니다.\n",
      "파이썬은 자바보다 2배 쉽습니다\n"
     ]
    }
   ],
   "source": [
    "sp1 = \"{}은 {}보다 {}배 쉽습니다.\".format('파이썬','자바',2)\n",
    "print(sp1)\n",
    "print(\"%s은 %s보다 %d배 쉽습니다\" %('파이썬',\"자바\",2))"
   ]
  },
  {
   "cell_type": "code",
   "execution_count": 218,
   "id": "f966361b",
   "metadata": {},
   "outputs": [
    {
     "name": "stdout",
     "output_type": "stream",
     "text": [
      "12345\n",
      "     12345\n",
      "12.345679\n",
      "          12.35\n"
     ]
    }
   ],
   "source": [
    "ex2 = 12345\n",
    "f2 = '{:d}'.format(ex2) #:d = 정수를 그대로 출력 \n",
    "print(f2)\n",
    "f3 = '{:10}'.format(ex2) #:10 = 정수를 10자리수 까지 사용\n",
    "print(f3)\n",
    "ex3 = 12.3456789\n",
    "f4 = '{:f}'.format(ex3) # 실수를 소수점 아래 6자리까지 출력\n",
    "print(f4)\n",
    "f5 = '{:15.2f}'.format(ex3) # 15자리 사용 실수를 소수점 아래 2자리까지 출력\n",
    "print(f5)\n"
   ]
  },
  {
   "cell_type": "code",
   "execution_count": 225,
   "id": "b2b9430a",
   "metadata": {},
   "outputs": [
    {
     "name": "stdout",
     "output_type": "stream",
     "text": [
      "저축 증가\n"
     ]
    }
   ],
   "source": [
    "# 제어문 - if~ elif~else\n",
    "# \"수입과 지출금액을 비교해서 수입이 많으면 저축증가, 반대이면 빛이 증가,\n",
    "#  같으면 현상유지\"\n",
    "\n",
    "a = 5,000,000 #수입\n",
    "b = 3,000,000 #지출\n",
    "if a > b :\n",
    "    print('저축 증가')\n",
    "elif a < b :\n",
    "    print('빛 증가')\n",
    "else :\n",
    "    print('현상유지')"
   ]
  },
  {
   "cell_type": "code",
   "execution_count": 229,
   "id": "c7e22fc4",
   "metadata": {},
   "outputs": [
    {
     "name": "stdout",
     "output_type": "stream",
     "text": [
      "빛 증가\n"
     ]
    }
   ],
   "source": [
    "a = 5,000,000.165\n",
    "b = 5,000,000.175\n",
    "if a > b :\n",
    "    print('저축 증가')\n",
    "elif a < b :\n",
    "    print('빛 증가')\n",
    "else :\n",
    "    print('현상유지')"
   ]
  },
  {
   "cell_type": "code",
   "execution_count": 233,
   "id": "f25692f5",
   "metadata": {},
   "outputs": [
    {
     "name": "stdout",
     "output_type": "stream",
     "text": [
      "5\n",
      "15\n",
      "6\n",
      "20\n",
      "7\n",
      "25\n"
     ]
    }
   ],
   "source": [
    "# for 반복문\n",
    "numbers = [5,15,6,20,7,25]\n",
    "for number in numbers:\n",
    "    print(number)"
   ]
  },
  {
   "cell_type": "code",
   "execution_count": 246,
   "id": "3fd6b125",
   "metadata": {},
   "outputs": [
    {
     "name": "stdout",
     "output_type": "stream",
     "text": [
      "몫은 2 나머지는 1 입니다\n"
     ]
    }
   ],
   "source": [
    "# Q. 5를 2로 나누었을때의 몫과 나머지를 구하세요\n",
    "a = 5 // 2 #몫\n",
    "b = 5 % 2 #나머지\n",
    "print('몫은',a ,'나머지는',b,'입니다')\n"
   ]
  },
  {
   "cell_type": "code",
   "execution_count": 249,
   "id": "917c1250",
   "metadata": {},
   "outputs": [
    {
     "name": "stdout",
     "output_type": "stream",
     "text": [
      "1030301\n"
     ]
    }
   ],
   "source": [
    "# Q. 101의 3승을 구하세요\n",
    "print(101**3)"
   ]
  },
  {
   "cell_type": "code",
   "execution_count": 250,
   "id": "4b094092",
   "metadata": {},
   "outputs": [
    {
     "name": "stdout",
     "output_type": "stream",
     "text": [
      "Python 3.8.3\n"
     ]
    }
   ],
   "source": [
    "# Python과 3.8.3을 합쳐서 Python 3.8.3으로 출력하세요\n",
    "a = 'Python '\n",
    "b = '3.8.3'\n",
    "c = a + b\n",
    "print(a + b)"
   ]
  },
  {
   "cell_type": "code",
   "execution_count": 237,
   "id": "42359f22",
   "metadata": {},
   "outputs": [],
   "source": [
    "# a = 5 a = '10' a = 15일때 a의 자료형은 무엇인가?\n",
    "# integer형, 정수, int"
   ]
  },
  {
   "cell_type": "code",
   "execution_count": 256,
   "id": "5082db89",
   "metadata": {},
   "outputs": [
    {
     "name": "stdout",
     "output_type": "stream",
     "text": [
      "2\n"
     ]
    }
   ],
   "source": [
    "# 5의3승을 3으로 나누었을때의 나머지를 복합 대입 연산자를 이용해서 구하세요\n",
    "a = 5 ** 3\n",
    "a %= 3\n",
    "print(a)"
   ]
  },
  {
   "cell_type": "code",
   "execution_count": 257,
   "id": "7c93db33",
   "metadata": {},
   "outputs": [
    {
     "name": "stdout",
     "output_type": "stream",
     "text": [
      "이름을 입력해 주세요신인철\n",
      "이름이  신인철 입니다\n"
     ]
    }
   ],
   "source": [
    "#이름을 물어보고 답하는 내용을 출력하세요\n",
    "a = input('이름을 입력해 주세요')\n",
    "print('이름이 ',a , '입니다')"
   ]
  },
  {
   "cell_type": "code",
   "execution_count": 259,
   "id": "b0563af8",
   "metadata": {},
   "outputs": [
    {
     "name": "stdout",
     "output_type": "stream",
     "text": [
      "숫자를 입력해 주세요5\n",
      "숫자를 입력해 주세요3\n",
      "숫자를 입력해 주세요3\n",
      "41\n"
     ]
    }
   ],
   "source": [
    "#숫자를 3개를 입력해서 첫 번째 숫자를 두 번째 숫자 승한 뒤에서 세 번째 숫자로\n",
    "# 나누었을 때 몫을 구하세요\n",
    "a = input('숫자를 입력해 주세요')\n",
    "a1 = int(a)\n",
    "b= input('숫자를 입력해 주세요')\n",
    "b1 = int(b)\n",
    "c= input('숫자를 입력해 주세요')\n",
    "c1 = int(c)\n",
    "\n",
    "r = a1 ** b1 // c1\n",
    "print(r)"
   ]
  },
  {
   "cell_type": "code",
   "execution_count": 277,
   "id": "0f612d92",
   "metadata": {},
   "outputs": [
    {
     "name": "stdout",
     "output_type": "stream",
     "text": [
      "숫자를 입력해 주세요1\n",
      "숫자를 입력해 주세요2\n",
      "숫자를 입력해 주세요3\n",
      "숫자를 입력해 주세요4\n",
      "숫자를 입력해 주세요5\n",
      "12345\n"
     ]
    }
   ],
   "source": [
    "# 1부터 5까지 입력해서 12345를 출력하세요\n",
    "a = input('숫자를 입력해 주세요')\n",
    "b = input('숫자를 입력해 주세요')\n",
    "c = input('숫자를 입력해 주세요')\n",
    "d = input('숫자를 입력해 주세요')\n",
    "e = input('숫자를 입력해 주세요')\n",
    "f = a + b + c + d + e\n",
    "print(f)"
   ]
  },
  {
   "cell_type": "code",
   "execution_count": 10,
   "id": "ad5d17cb",
   "metadata": {},
   "outputs": [
    {
     "name": "stdout",
     "output_type": "stream",
     "text": [
      "[0, 1, 2, 3, 4, 5, 6, 7, 8, 'b', 'c']\n"
     ]
    },
    {
     "data": {
      "text/plain": [
       "list"
      ]
     },
     "execution_count": 10,
     "metadata": {},
     "output_type": "execute_result"
    }
   ],
   "source": [
    "#[0,1,2,3,4,5,6,7,8,9,'a','b','c']에서 9와 'a'를 삭제 후\n",
    "# 리스트로 출력하세요\n",
    "\n",
    "a=[0,1,2,3,4,5,6,7,8,9,'a','b','c']\n",
    "del a[-4]\n",
    "del a[-3]\n",
    "print(a)\n",
    "type(a)"
   ]
  },
  {
   "cell_type": "code",
   "execution_count": 265,
   "id": "86cb1df1",
   "metadata": {},
   "outputs": [
    {
     "name": "stdout",
     "output_type": "stream",
     "text": [
      "[0, 1, 2, 3, 4, 5, 6, 7, 8, 'b']\n"
     ]
    }
   ],
   "source": [
    "#[0,1,2,3,4,5,6,7,8,'b','c']에서 'c'를 삭제 후 출력하세요\n",
    "a = [0,1,2,3,4,5,6,7,8,'b','c']\n",
    "del a[-1]\n",
    "print(a)\n"
   ]
  },
  {
   "cell_type": "code",
   "execution_count": 269,
   "id": "5b2b7811",
   "metadata": {},
   "outputs": [
    {
     "name": "stdout",
     "output_type": "stream",
     "text": [
      "[9, 9, 8, 8, 5, 4, 4, 4, 3, 1]\n"
     ]
    }
   ],
   "source": [
    "#[4,8,5,4,8,4,3,9,1,9]를 내림차순으로 정렬하세요\n",
    "a = [4,8,5,4,8,4,3,9,1,9]\n",
    "a.sort()\n",
    "a.reverse()\n",
    "print(a)"
   ]
  },
  {
   "cell_type": "code",
   "execution_count": 276,
   "id": "cd0f3274",
   "metadata": {},
   "outputs": [
    {
     "name": "stdout",
     "output_type": "stream",
     "text": [
      "태어난 연도를 입력해 주세요1997\n",
      "소 띠입니다.\n"
     ]
    }
   ],
   "source": [
    "##태어난 연도를 입력 받아 띠를 출력하는 프로그램을 작성하세요.  \n",
    "##원숭이, 닭, 개, 돼지, 쥐, 소, 범, 토끼, 용, 뱀, 말, 양띠\n",
    "\n",
    "a = input('태어난 연도를 입력해 주세요')\n",
    "year = int(a)\n",
    "default = year % 12\n",
    "if default == 2 :\n",
    "    print('개 띠입니다.')\n",
    "elif default == 3 :\n",
    "    print('돼지 띠입니다.')\n",
    "elif default == 4 :\n",
    "    print('쥐 띠입니다.')\n",
    "elif default == 5 :\n",
    "    print('소 띠입니다.')\n",
    "elif default == 6 :\n",
    "    print('호랑이 띠입니다.')\n",
    "elif default == 7 :\n",
    "    print('토끼 띠입니다.')\n",
    "elif default == 8 :\n",
    "    print('용 띠입니다.')\n",
    "elif default == 9 :\n",
    "    print('뱀 띠입니다.')\n",
    "elif default == 10 :\n",
    "    print('말 띠입니다.')\n",
    "elif default == 11 :\n",
    "    print('양 띠입니다.')\n",
    "elif default == 12 :\n",
    "    print('원숭이 띠입니다.')\n",
    "else :\n",
    "    print('닭 띠입니다.')\n"
   ]
  },
  {
   "cell_type": "code",
   "execution_count": 4,
   "id": "a25dc259",
   "metadata": {},
   "outputs": [
    {
     "name": "stdout",
     "output_type": "stream",
     "text": [
      "파란색의 계절 여름이 왔습니다\n"
     ]
    }
   ],
   "source": [
    "##계절 구분 프로그램\n",
    "##시나리오 : 3 ~ 5 월은 봄, 6 ~ 8 월은 여름, \n",
    "##9 ~ 11 월은 가을, 12 ~ 2 월은 겨울로 구분 \n",
    "##지금의 계절을 알려주는 프로그램  \n",
    "##- 각 계절 별 출력 멘트는 계절에 맞게 창작  \n",
    "##- if 조건문으로 datetime 모듈을 import해서 datetime.now 함수를 사용해서 작성\n",
    "from datetime import datetime\n",
    "\n",
    "dt = datetime.now()\n",
    "\n",
    "if 2 < dt.month < 6 :\n",
    "    print('꽃의 계절 봄이 왔습니다')\n",
    "elif 5 < dt.month < 9 :\n",
    "    print('파란색의 계절 여름이 왔습니다')\n",
    "elif 8 < dt.month < 12 :\n",
    "    print('낙엽이 떨어지는 가을이 왔습니다')\n",
    "else :\n",
    "    print('하얀 계절 겨울이 왔습니다')\n"
   ]
  },
  {
   "cell_type": "markdown",
   "id": "99e598a8",
   "metadata": {},
   "source": [
    "## june_w4 이름 폴더에 과제_0622_신인철로 제출  \n",
    "## 브라우저 인쇄 pdf로 저장 후 제출"
   ]
  },
  {
   "cell_type": "code",
   "execution_count": 5,
   "id": "ab53cc00",
   "metadata": {},
   "outputs": [
    {
     "name": "stdout",
     "output_type": "stream",
     "text": [
      "2021 년\n",
      "6 월\n",
      "23 일\n",
      "10 시\n",
      "20 분\n",
      "42 초\n"
     ]
    }
   ],
   "source": [
    "from datetime import datetime\n",
    "t = datetime.now()\n",
    "print(t.year, '년')\n",
    "print(t.month, '월')\n",
    "print(t.day, '일')\n",
    "print(t.hour, '시')\n",
    "print(t.minute, '분')\n",
    "print(t.second, '초')"
   ]
  },
  {
   "cell_type": "code",
   "execution_count": 19,
   "id": "f27f4459",
   "metadata": {},
   "outputs": [
    {
     "name": "stdout",
     "output_type": "stream",
     "text": [
      "1\n",
      "2\n",
      "3\n",
      "4\n",
      "5\n"
     ]
    }
   ],
   "source": [
    "#제어문 - for ~ continue ~ break\n",
    "#1 ~ 10 범위의 정수에서 1부터 5까지만 출력하세요\n",
    "for a in range(1,11):\n",
    "    print(a)\n",
    "    if a < 5:\n",
    "        continue\n",
    "    else :\n",
    "        break;"
   ]
  },
  {
   "cell_type": "code",
   "execution_count": 31,
   "id": "6e5c6fa9",
   "metadata": {},
   "outputs": [
    {
     "name": "stdout",
     "output_type": "stream",
     "text": [
      "1 2 3 4 5 "
     ]
    }
   ],
   "source": [
    "#제어문 - for ~ continue ~ break\n",
    "#1 ~ 10 범위의 정수에서 1부터 5까지만 출력하세요\n",
    "for a in range(1,11):\n",
    "    print(a, end=' ')\n",
    "    if a > 4:\n",
    "        break;"
   ]
  },
  {
   "cell_type": "code",
   "execution_count": 35,
   "id": "948a0887",
   "metadata": {},
   "outputs": [
    {
     "name": "stdout",
     "output_type": "stream",
     "text": [
      "15 20 25 "
     ]
    }
   ],
   "source": [
    "#numbers 리스트에서 15, 20, 25를 출력하세요(for문과 if조건 사용 필수)\n",
    "numbers = [5,15,6,20,7,25]\n",
    "for a in numbers :\n",
    "    if a < 15  :\n",
    "        continue\n",
    "    else :\n",
    "        print(a,end=' ')"
   ]
  },
  {
   "cell_type": "code",
   "execution_count": 37,
   "id": "519fc7e2",
   "metadata": {},
   "outputs": [
    {
     "name": "stdout",
     "output_type": "stream",
     "text": [
      "45\n",
      "1035\n"
     ]
    }
   ],
   "source": [
    "#제어문 - while\n",
    "#정수 1부터 n까지 터할 때 그 합이 1000보다 커지게 되는 n과 합을 구하세요.\n",
    "x = 1 \n",
    "sum = 0\n",
    "while 1: # = 참이라는 의미 (true, 1) \n",
    "    sum += x\n",
    "    if sum > 1000:\n",
    "        print(x)\n",
    "        print(sum)\n",
    "        break\n",
    "    x = x + 1"
   ]
  },
  {
   "cell_type": "code",
   "execution_count": 39,
   "id": "36a2a14d",
   "metadata": {},
   "outputs": [
    {
     "name": "stdout",
     "output_type": "stream",
     "text": [
      "166833\n"
     ]
    }
   ],
   "source": [
    "#while문을 사용해 1부터 1000까지의 정수 중 3의 배수의 합을 구해 보세요\n",
    "sum = 0\n",
    "f = 1\n",
    "while f < 1001 :\n",
    "    if f % 3 == 0:\n",
    "        sum += f\n",
    "    f += 1\n",
    "print(sum)"
   ]
  },
  {
   "cell_type": "code",
   "execution_count": 40,
   "id": "21511407",
   "metadata": {},
   "outputs": [
    {
     "name": "stdout",
     "output_type": "stream",
     "text": [
      "166833\n"
     ]
    }
   ],
   "source": [
    "#while문을 사용해 1부터 1000까지의 정수 중 3의 배수의 합을 구해 보세요\n",
    "w = 1\n",
    "sum = 0\n",
    "while w < 1001 :\n",
    "    if w % 3 == 0 :\n",
    "        sum += w\n",
    "    w += 1\n",
    "print(sum)"
   ]
  },
  {
   "cell_type": "code",
   "execution_count": 38,
   "id": "9d8bbe91",
   "metadata": {},
   "outputs": [
    {
     "name": "stdout",
     "output_type": "stream",
     "text": [
      "33165\n"
     ]
    }
   ],
   "source": [
    "# 과제\n",
    "# while문을 사용해 1부터 1000까지의 정수 중 3과 5의 공배수의 합을 구해 보세요\n",
    "j = 1\n",
    "sum = 0\n",
    "\n",
    "while j < 1001 :\n",
    " \n",
    "    if j % 3 | j % 5 == 0 :\n",
    "        sum += j\n",
    "    j += 1\n",
    "\n",
    "print(sum)\n",
    "    "
   ]
  },
  {
   "cell_type": "code",
   "execution_count": 13,
   "id": "9b7e1b2c",
   "metadata": {},
   "outputs": [
    {
     "name": "stdout",
     "output_type": "stream",
     "text": [
      "4550\n"
     ]
    }
   ],
   "source": [
    "# while ~ continue ~ break를 사용해 1부터 1000까지 정수 중 5에서 95까지의 합\n",
    "b = 1\n",
    "sum = 0\n",
    "while b < 101 :\n",
    "    b += 1\n",
    "    if b < 5 :\n",
    "        continue\n",
    "    sum += b\n",
    "    if b > 94 :\n",
    "        break\n",
    "print(sum)"
   ]
  },
  {
   "cell_type": "code",
   "execution_count": 29,
   "id": "98920d0c",
   "metadata": {},
   "outputs": [
    {
     "name": "stdout",
     "output_type": "stream",
     "text": [
      "5050\n"
     ]
    }
   ],
   "source": [
    "#1~100 합\n",
    "h = 1\n",
    "sum = 0\n",
    "while h < 101 :\n",
    "    sum += h\n",
    "    h += 1\n",
    "print(sum)"
   ]
  },
  {
   "cell_type": "code",
   "execution_count": 32,
   "id": "0cb1aa2a",
   "metadata": {},
   "outputs": [
    {
     "name": "stdout",
     "output_type": "stream",
     "text": [
      "5050\n"
     ]
    }
   ],
   "source": [
    "#1~100 합\n",
    "sum = 0\n",
    "for a in range(1,101) :\n",
    "    sum += a\n",
    "print(sum)"
   ]
  },
  {
   "cell_type": "code",
   "execution_count": 34,
   "id": "9039d749",
   "metadata": {},
   "outputs": [
    {
     "name": "stdout",
     "output_type": "stream",
     "text": [
      "10\n"
     ]
    }
   ],
   "source": [
    "#1~4 합\n",
    "r = 1\n",
    "sum = 0\n",
    "while r < 5 :\n",
    "    sum += r\n",
    "    r += 1\n",
    "print(sum)"
   ]
  },
  {
   "cell_type": "code",
   "execution_count": 35,
   "id": "4095e2e3",
   "metadata": {},
   "outputs": [
    {
     "name": "stdout",
     "output_type": "stream",
     "text": [
      "10\n"
     ]
    }
   ],
   "source": [
    "#1~4 합\n",
    "sum = 0\n",
    "for a in range(1,5):\n",
    "    sum += a\n",
    "print(sum)"
   ]
  },
  {
   "cell_type": "code",
   "execution_count": 36,
   "id": "c475462f",
   "metadata": {},
   "outputs": [
    {
     "name": "stdout",
     "output_type": "stream",
     "text": [
      "490\n"
     ]
    }
   ],
   "source": [
    "#96~100 합\n",
    "e = 1\n",
    "sum = 0\n",
    "while e < 101 :\n",
    "    if e > 95 :\n",
    "        sum += e\n",
    "    e +=1\n",
    "print(sum)"
   ]
  },
  {
   "cell_type": "code",
   "execution_count": 37,
   "id": "13b3869b",
   "metadata": {},
   "outputs": [
    {
     "name": "stdout",
     "output_type": "stream",
     "text": [
      "490\n"
     ]
    }
   ],
   "source": [
    "#96~100 합\n",
    "sum = 0\n",
    "for a in range(96,101):\n",
    "    sum += a\n",
    "print(sum)"
   ]
  },
  {
   "cell_type": "code",
   "execution_count": 42,
   "id": "d52a9a36",
   "metadata": {},
   "outputs": [
    {
     "name": "stdout",
     "output_type": "stream",
     "text": [
      "32\n",
      "25\n"
     ]
    }
   ],
   "source": [
    "# 람다 함수를 이용해서 a의 b제곱을 구하는 식를 만들고\n",
    "#a, b 가 아래와 같이 주어졌을 때 각각의 값을 구하세요\n",
    "#a = 2, b = 5\n",
    "#a = 5, b = 2\n",
    "\n",
    "x = lambda a, b : a ** b # a 의 b 승\n",
    "print(x(2,5))\n",
    "print(x(5,2))"
   ]
  },
  {
   "cell_type": "code",
   "execution_count": 44,
   "id": "8b3addfc",
   "metadata": {},
   "outputs": [
    {
     "name": "stdout",
     "output_type": "stream",
     "text": [
      "1\n"
     ]
    }
   ],
   "source": [
    "#a = 2; b = 3; c = 5 | a * b - c\n",
    "e = lambda a, b, c : a * b - c\n",
    "print(e(2,3,5))"
   ]
  },
  {
   "cell_type": "code",
   "execution_count": 55,
   "id": "f053e532",
   "metadata": {},
   "outputs": [
    {
     "data": {
      "text/plain": [
       "(2, 17)"
      ]
     },
     "execution_count": 55,
     "metadata": {},
     "output_type": "execute_result"
    }
   ],
   "source": [
    "# 97을 40으로 나눈 몫과 나머지를 내장함수를 이용하여 구하세요 (튜플로 출력)\n",
    "a, b = 97,40\n",
    "#a = 97 ; b = 40;\n",
    "divmod(a, b)"
   ]
  },
  {
   "cell_type": "code",
   "execution_count": 51,
   "id": "480bd6fb",
   "metadata": {},
   "outputs": [
    {
     "data": {
      "text/plain": [
       "12"
      ]
     },
     "execution_count": 51,
     "metadata": {},
     "output_type": "execute_result"
    }
   ],
   "source": [
    "def add_10(a): #사용자 함수를 만들어서 사용할 수 있다.\n",
    "    return a + 10\n",
    "add_10(2)"
   ]
  },
  {
   "cell_type": "code",
   "execution_count": 56,
   "id": "5f7868d5",
   "metadata": {},
   "outputs": [
    {
     "data": {
      "text/plain": [
       "1"
      ]
     },
     "execution_count": 56,
     "metadata": {},
     "output_type": "execute_result"
    }
   ],
   "source": [
    "#람다 함수를 사용자 함수로 바꿔서 출력\n",
    "def shin(a,b,c):\n",
    "    return a * b - c\n",
    "shin(2,3,5)"
   ]
  },
  {
   "cell_type": "code",
   "execution_count": 99,
   "id": "6fbb37ef",
   "metadata": {},
   "outputs": [
    {
     "name": "stdout",
     "output_type": "stream",
     "text": [
      "현재 50분 이미지 캡처 시간이 아닙니다\n"
     ]
    }
   ],
   "source": [
    "#과제 사용자 함수를 사용해 의미 있는 프로그램 만들기\n",
    "#이미지 캡처 시간 계산기\n",
    "from datetime import datetime\n",
    "a = datetime.now()\n",
    "b = int(a.minute)\n",
    "def image(a): \n",
    "    return a - 60\n",
    "\n",
    "if b < 6 :\n",
    "    print('이미지 캡처 시간입니다')\n",
    "else :\n",
    "    print('현재 {}분 이미지 캡처 시간이 아닙니다'.format(b))\n"
   ]
  },
  {
   "cell_type": "code",
   "execution_count": 75,
   "id": "f621aa8e",
   "metadata": {},
   "outputs": [
    {
     "name": "stdout",
     "output_type": "stream",
     "text": [
      "현재 시각 12시 50분 오후입니다\n"
     ]
    }
   ],
   "source": [
    "#현재 시각을 오전과 오후로 구분하는 프로그램을 작성하세요\n",
    "from datetime import datetime\n",
    "dt = datetime.now()\n",
    "if dt.hour < 12 :\n",
    "    print('현재 시각 {}시 {}분 오전입니다'.format(dt.hour,dt.minute))\n",
    "else :\n",
    "    print('현재 시각 {}시 {}분 오후입니다'.format(dt.hour,dt.minute))"
   ]
  },
  {
   "cell_type": "code",
   "execution_count": 103,
   "id": "2b400bce",
   "metadata": {},
   "outputs": [
    {
     "name": "stdout",
     "output_type": "stream",
     "text": [
      "정수를 입력해 주세요1\n",
      "홀수입니다\n"
     ]
    }
   ],
   "source": [
    "# 정수를 입력하면 홀 짝을 판별하는 프로그램\n",
    "a = int(input('정수를 입력해 주세요'))\n",
    "if a % 2 == 0 :\n",
    "    print('짝수입니다')\n",
    "else :\n",
    "    print('홀수입니다')"
   ]
  },
  {
   "cell_type": "code",
   "execution_count": 109,
   "id": "f9feef80",
   "metadata": {},
   "outputs": [
    {
     "name": "stdout",
     "output_type": "stream",
     "text": [
      "첫 번째 숫자를 입력해주세요1\n",
      "두 번째 숫자를 입력해주세요1\n",
      "1,1 두 수가 같습니다\n"
     ]
    }
   ],
   "source": [
    "#숫자 두 개를 입력받고 둘 중 큰 숫자를 구하는 프로그램\n",
    "a = int(input('첫 번째 숫자를 입력해주세요'))\n",
    "b = int(input('두 번째 숫자를 입력해주세요'))\n",
    "if a > b :\n",
    "    print('{} 가 더 큰 숫자입니다!'.format(a))\n",
    "elif a < b :\n",
    "    print('{} 가 더 큰 숫자입니다!'.format(b))\n",
    "else :\n",
    "    print('{},{} 두 수가 같습니다'.format(a,b))"
   ]
  },
  {
   "cell_type": "code",
   "execution_count": 120,
   "id": "2babdc11",
   "metadata": {},
   "outputs": [
    {
     "name": "stdout",
     "output_type": "stream",
     "text": [
      "3\n",
      "6\n",
      "9\n",
      "12\n",
      "15\n",
      "18\n"
     ]
    }
   ],
   "source": [
    "#1~20사이에 3의 배수만 출력\n",
    "for a in range(1,21):\n",
    "    if a % 3 == 0 :\n",
    "        print(a)\n",
    "    a += 1"
   ]
  },
  {
   "cell_type": "code",
   "execution_count": 121,
   "id": "856b8bfe",
   "metadata": {},
   "outputs": [
    {
     "name": "stdout",
     "output_type": "stream",
     "text": [
      "96\n",
      "97\n",
      "98\n",
      "99\n",
      "100\n"
     ]
    }
   ],
   "source": [
    "#1~100 범위의 정수에서 95보다 큰 정수만 출력하세요\n",
    "for a in range(1,101) :\n",
    "    if a > 95 :\n",
    "        print(a)\n",
    "    a += 1"
   ]
  },
  {
   "cell_type": "code",
   "execution_count": 126,
   "id": "a616d66e",
   "metadata": {},
   "outputs": [
    {
     "name": "stdout",
     "output_type": "stream",
     "text": [
      "7 9\n"
     ]
    }
   ],
   "source": [
    "#[5,0,3,3,7,9,3,5,2,4]에서 7,9만 출력하세요\n",
    "a = [5,0,3,3,7,9,3,5,2,4]\n",
    "a.sort()\n",
    "print(a[-2],a[-1])\n",
    "\n"
   ]
  },
  {
   "cell_type": "code",
   "execution_count": 128,
   "id": "c2edebba",
   "metadata": {},
   "outputs": [
    {
     "name": "stdout",
     "output_type": "stream",
     "text": [
      "0 9\n"
     ]
    }
   ],
   "source": [
    "#[5,0,3,3,7,9,3,5,2,4]에서 0,9만 출력하세요\n",
    "a = [5,0,3,3,7,9,3,5,2,4]\n",
    "a.sort()\n",
    "print(a[0],a[-1])"
   ]
  },
  {
   "cell_type": "code",
   "execution_count": 130,
   "id": "c127f683",
   "metadata": {},
   "outputs": [
    {
     "name": "stdout",
     "output_type": "stream",
     "text": [
      "10 11 12\n"
     ]
    }
   ],
   "source": [
    "#num list [0~19] 중 10, 11, 12만 출력하세요\n",
    "num = [0,1,2,3,4,5,6,7,8,9,10,11,12,13,14,15,16,17,18,19]\n",
    "print(num[10],num[11],num[12])"
   ]
  },
  {
   "cell_type": "code",
   "execution_count": 131,
   "id": "c7127b9e",
   "metadata": {},
   "outputs": [
    {
     "name": "stdout",
     "output_type": "stream",
     "text": [
      "24750\n"
     ]
    }
   ],
   "source": [
    "# 500 ~ 1000사이 정수 중 3과 5의 공배수의 합을 구하세요\n",
    "a = 500\n",
    "sum = 0\n",
    "while a < 1001 :\n",
    "    if a % 3 | a % 5 == 0 :\n",
    "        sum += a\n",
    "    a += 1\n",
    "print(sum)"
   ]
  },
  {
   "cell_type": "code",
   "execution_count": 132,
   "id": "1483ddaf",
   "metadata": {},
   "outputs": [
    {
     "name": "stdout",
     "output_type": "stream",
     "text": [
      "14210\n"
     ]
    }
   ],
   "source": [
    "#1~1000사이의 정수중 5와 7 의 공배수를 합하세요.\n",
    "a = 1\n",
    "sum = 0\n",
    "while a < 1001 :\n",
    "    if a % 5 | a % 7 == 0 :\n",
    "        sum += a\n",
    "    a += 1\n",
    "print(sum)"
   ]
  },
  {
   "cell_type": "code",
   "execution_count": 242,
   "id": "50018f81",
   "metadata": {},
   "outputs": [
    {
     "name": "stdout",
     "output_type": "stream",
     "text": [
      "[12, 36, 72, 120, 180, 252, 336, 432]\n"
     ]
    }
   ],
   "source": [
    "#1 ~ 100사이의 정수 중 3과 4의 공배수를 리스트로 구하세요.\n",
    "a = 1\n",
    "sum = 0\n",
    "list1 = []\n",
    "while a < 101 :\n",
    "    if a % 3 | a % 4 == 0 :\n",
    "        sum += a\n",
    "        list1.append(sum) # list1에 sum을 리스트로 넣는다\n",
    "    a += 1\n",
    "\n",
    "print(list1)\n",
    "\n",
    "        "
   ]
  },
  {
   "cell_type": "code",
   "execution_count": 157,
   "id": "988d0fc2",
   "metadata": {},
   "outputs": [
    {
     "name": "stdout",
     "output_type": "stream",
     "text": [
      "2520\n"
     ]
    }
   ],
   "source": [
    "#3 ~ 7 사이의 정수의 곱을 구하세요.\n",
    "a = 1\n",
    "b = 3\n",
    "while b < 8 :\n",
    "    a *= b\n",
    "    b += 1\n",
    "print(a)\n",
    "    "
   ]
  },
  {
   "cell_type": "code",
   "execution_count": 159,
   "id": "6962ee87",
   "metadata": {},
   "outputs": [
    {
     "data": {
      "text/plain": [
       "25"
      ]
     },
     "execution_count": 159,
     "metadata": {},
     "output_type": "execute_result"
    }
   ],
   "source": [
    "# 2, 3을 더한 후 5를 곱하는 계산 값을 람다함수를 이용하여 구하세요.\n",
    "q = lambda a , b , c :( a + b ) * c\n",
    "q(2,3,5)"
   ]
  },
  {
   "cell_type": "code",
   "execution_count": 160,
   "id": "87607c62",
   "metadata": {},
   "outputs": [
    {
     "name": "stdout",
     "output_type": "stream",
     "text": [
      "1\n"
     ]
    }
   ],
   "source": [
    "#2와 5를 더한 후 3으로 나눈 나머지 값을 사용자 함수를 이용하여 구하세요.\n",
    "def fun_1(a,b,c) :\n",
    "    return (a + b) % 3\n",
    "print(fun_1(2,5,3))"
   ]
  },
  {
   "cell_type": "code",
   "execution_count": 247,
   "id": "ac132ef0",
   "metadata": {},
   "outputs": [
    {
     "name": "stdout",
     "output_type": "stream",
     "text": [
      "It is true\n",
      "'Python is fit for data analysis'\n",
      "\n"
     ]
    }
   ],
   "source": [
    "# Q. 문자열 앞의 공백을 제거하고 아래와 같이 출력하세요(구글링)\n",
    "# It is true\n",
    "# 'Python is fit for data analysis'\n",
    "input_a = \"\"\"\n",
    "                       It is true\n",
    "'Python is fit for data analysis'\n",
    "\"\"\"\n",
    "input_a = input_a.lstrip() #문자열 좌측의 공백을 제거\n",
    "print(input_a)"
   ]
  },
  {
   "cell_type": "code",
   "execution_count": 215,
   "id": "c286cb56",
   "metadata": {},
   "outputs": [
    {
     "name": "stdout",
     "output_type": "stream",
     "text": [
      "['10', '20', '30', '40', '50']\n"
     ]
    },
    {
     "data": {
      "text/plain": [
       "list"
      ]
     },
     "execution_count": 215,
     "metadata": {},
     "output_type": "execute_result"
    }
   ],
   "source": [
    "# Q. \"10/20/30/40/50\"을 '/'를 기준으로 구분하여 아래와 같이 출력하세요.\n",
    "# ['10', '20', '30', '40', '50']\n",
    "a = (\"10/20/30/40/50\")\n",
    "b = a.split('/')\n",
    "print(b)\n",
    "type(b)\n",
    "\n"
   ]
  },
  {
   "cell_type": "code",
   "execution_count": 253,
   "id": "00dae84a",
   "metadata": {},
   "outputs": [
    {
     "name": "stdout",
     "output_type": "stream",
     "text": [
      "2021년 6월 23일 16시 14분 32초\n"
     ]
    }
   ],
   "source": [
    "# Q. 현재의 날씨와 시간을 다음과 같이 포멧으로 표현하세요\n",
    "# 2021년 6월 23일 09시 01분 01초\n",
    "from datetime import datetime\n",
    "a = datetime.now()\n",
    "print(\"%d년 %d월 %d일 %d시 %d분 %d초\" %(a.year,a.month,a.day,a.hour,a.minute,a.second))\n"
   ]
  },
  {
   "cell_type": "code",
   "execution_count": 263,
   "id": "fd973d2a",
   "metadata": {},
   "outputs": [
    {
     "name": "stdout",
     "output_type": "stream",
     "text": [
      "숫자를 입력해 주세요12\n",
      "숫자를 입력해 주세요11\n",
      "다시 입력해 주세요\n"
     ]
    }
   ],
   "source": [
    "# Q. 짝수 와 짝수를 입력하면 곱한 값을 출력하고 홀수와 홀수를 입력하면 덧셈 값을 \n",
    "# 출력하고 그외는 다시 입력하라는 메시지를 출력하세요.\n",
    "r1 = int(input('숫자를 입력해 주세요'))\n",
    "r2 = int(input('숫자를 입력해 주세요'))\n",
    "if r1 % 2 == 0 and r2 % 2 == 0 :\n",
    "    print(r1 * r2)\n",
    "elif r1 % 2 == 1 and r2 % 2 == 1 :\n",
    "    print(r1 + r2)\n",
    "else :\n",
    "    print('다시 입력해 주세요')\n"
   ]
  },
  {
   "cell_type": "code",
   "execution_count": 312,
   "id": "e473d75d",
   "metadata": {},
   "outputs": [
    {
     "name": "stdout",
     "output_type": "stream",
     "text": [
      "2500\n"
     ]
    }
   ],
   "source": [
    "# Q. 1부터 100까지 아래와 같이 2개의 수를 곱해서 가장 큰 수를 구하세요.\n",
    "#1*99, 2*98 ...99*1\n",
    "a = 1\n",
    "b = 99\n",
    "c = 0\n",
    "\n",
    "while a + b == 100 :\n",
    "    \n",
    "    if a < b :\n",
    "        c = a * b\n",
    "        a += 1\n",
    "        b -= 1\n",
    "    elif a > b :\n",
    "        c = a * b\n",
    "        a += 1\n",
    "        b -= 1\n",
    "    else :\n",
    "        break\n",
    "        \n",
    "print(c+1)"
   ]
  },
  {
   "cell_type": "code",
   "execution_count": 506,
   "id": "a69fcde6",
   "metadata": {},
   "outputs": [
    {
     "name": "stdout",
     "output_type": "stream",
     "text": [
      "[[1, 4, 7], [2, 5, 8], [3, 6, 9]]\n"
     ]
    }
   ],
   "source": [
    "# Q. [    ]을 채워서 아래의 출력과 같이 출력하세요.\n",
    "# 출력 :\n",
    "# [[1,4,7],[2,5,8],[3,6,9]]\n",
    "\n",
    "numbers = [1,2,3,4,5,6,7,8,9]\n",
    "output = [[],[],[]]\n",
    "\n",
    "for number in numbers:\n",
    "    output[number % 3-1].append(number)\n",
    "print(output)"
   ]
  },
  {
   "cell_type": "markdown",
   "id": "91e95c6c",
   "metadata": {},
   "source": [
    "## Q. 커피 자판기 프로그램\n",
    "- 시나리오 : 자판기 커피 재고 5잔, 커피 1잔 가격 300원, 재고 범위내에서  \n",
    "300원 이상 돈을 넣으면 거스름돈과 커피를 주고  \n",
    "그렇지 않으면 반환하며 재고가 소진되면 안내멘트 출력\n",
    "- 각 Case별 멘트 출력은 상황에 맞게 창작\n",
    "- while, if ~ elif ~ else 제어문을 사용하여 작성"
   ]
  },
  {
   "cell_type": "code",
   "execution_count": 509,
   "id": "b2bdb685",
   "metadata": {},
   "outputs": [
    {
     "name": "stdout",
     "output_type": "stream",
     "text": [
      "금액을 넣어주세요400\n",
      "커피와 잔돈 100원이 반환 됩니다 뜨거우니 주의하세요\n"
     ]
    }
   ],
   "source": [
    "coffe = 5\n",
    "\n",
    "price = int(input('금액을 넣어주세요'))\n",
    "while coffe < 6 :\n",
    "    if price == 300 :\n",
    "            coffe -= 1\n",
    "            price - 300\n",
    "            print('커피가 나옵니다 뜨거우니 주의하세요')\n",
    "            break\n",
    "    elif price > 300 :\n",
    "            t = price - 300\n",
    "            coffe -= 1\n",
    "            print('커피와 잔돈 {}원이 반환 됩니다 뜨거우니 주의하세요'.format(t))\n",
    "            break\n",
    "    elif coffe == 0 :\n",
    "            print('재고가 소진 됐습니다, 커피를 채워주세요')\n",
    "            break\n",
    "    else :\n",
    "            print('돈이 부족하여 반환합니다')\n",
    "            break\n",
    "\n",
    "            "
   ]
  },
  {
   "cell_type": "code",
   "execution_count": null,
   "id": "a5ceed75",
   "metadata": {},
   "outputs": [],
   "source": []
  }
 ],
 "metadata": {
  "kernelspec": {
   "display_name": "Python 3",
   "language": "python",
   "name": "python3"
  },
  "language_info": {
   "codemirror_mode": {
    "name": "ipython",
    "version": 3
   },
   "file_extension": ".py",
   "mimetype": "text/x-python",
   "name": "python",
   "nbconvert_exporter": "python",
   "pygments_lexer": "ipython3",
   "version": "3.8.10"
  }
 },
 "nbformat": 4,
 "nbformat_minor": 5
}
