{
 "cells": [
  {
   "cell_type": "markdown",
   "id": "a1542937",
   "metadata": {},
   "source": [
    "## 파이썬 기초"
   ]
  },
  {
   "cell_type": "code",
   "execution_count": 3,
   "id": "9d2e254e",
   "metadata": {},
   "outputs": [
    {
     "name": "stdout",
     "output_type": "stream",
     "text": [
      "Python 3.8.8\n"
     ]
    }
   ],
   "source": [
    " !python -V"
   ]
  },
  {
   "cell_type": "code",
   "execution_count": 9,
   "id": "eaaa66ef",
   "metadata": {},
   "outputs": [
    {
     "name": "stdout",
     "output_type": "stream",
     "text": [
      "273\n",
      "60\n"
     ]
    },
    {
     "data": {
      "text/plain": [
       "'Python Programming'"
      ]
     },
     "execution_count": 9,
     "metadata": {},
     "output_type": "execute_result"
    }
   ],
   "source": [
    "# 표현식\n",
    "print(273)\n",
    "print(10+20+30)\n",
    "'Python Programming'"
   ]
  },
  {
   "cell_type": "code",
   "execution_count": 10,
   "id": "d27d893b",
   "metadata": {},
   "outputs": [
    {
     "name": "stdout",
     "output_type": "stream",
     "text": [
      "52 Hello Python 8\n"
     ]
    }
   ],
   "source": [
    "# 문장 : 표현식이 하나 이상씩 모이면 문장\n",
    "print(52, 'Hello Python', 5+3)"
   ]
  },
  {
   "cell_type": "code",
   "execution_count": 14,
   "id": "f388d72e",
   "metadata": {},
   "outputs": [
    {
     "name": "stdout",
     "output_type": "stream",
     "text": [
      "3\n"
     ]
    }
   ],
   "source": [
    "# 프로그램 : 문장이 모이면 프로그램\n",
    "a=1; b=2; c=a+b;\n",
    "print(c)"
   ]
  },
  {
   "cell_type": "code",
   "execution_count": 15,
   "id": "79cf9d80",
   "metadata": {},
   "outputs": [
    {
     "name": "stdout",
     "output_type": "stream",
     "text": [
      "['False', 'None', 'True', 'and', 'as', 'assert', 'async', 'await', 'break', 'class', 'continue', 'def', 'del', 'elif', 'else', 'except', 'finally', 'for', 'from', 'global', 'if', 'import', 'in', 'is', 'lambda', 'nonlocal', 'not', 'or', 'pass', 'raise', 'return', 'try', 'while', 'with', 'yield']\n"
     ]
    }
   ],
   "source": [
    "# 키워드 : 사용자가 이름으로 사용 불가능\n",
    "import keyword\n",
    "print(keyword.kwlist)"
   ]
  },
  {
   "cell_type": "markdown",
   "id": "e5dd402a",
   "metadata": {},
   "source": [
    "식별자 기본 규칙 \n",
    "- 키워드를 사용하면 안된다.\n",
    "- 특수문자는 언더 바(\\_) 만 사용한다.\n",
    "- 숫자로 시작하면 안된다.\n",
    "- 공백을 포함할 수 없다."
   ]
  },
  {
   "cell_type": "code",
   "execution_count": null,
   "id": "51775a9a",
   "metadata": {},
   "outputs": [],
   "source": [
    "alpha\n",
    "break # 키워드\n",
    "alpha10\n",
    "_alpha\n",
    "273alpha # 숫자로 시작\n",
    "AlpHa\n",
    "ALPHA\n",
    "has space # 공백이 있어서"
   ]
  },
  {
   "cell_type": "markdown",
   "id": "631b37c0",
   "metadata": {},
   "source": [
    "파이썬은 snake_case와 CamelCase를 모두 사용\n",
    "- itemlist /    item_list(snake_case),   ItemList(CamelCase)\n",
    "- loginstatus / login_status,            LoginStatus\n",
    "- CamelCase(대문자로 시작) 클래스\n",
    "- snake_case(소문자로 시작) 클래스 뒤에 ()가 있다 - 함수\n",
    "- snake_case(소문자로 시작) 클래스 뒤에 ()가 없다 - 변수\n"
   ]
  },
  {
   "cell_type": "code",
   "execution_count": 19,
   "id": "f55f356a",
   "metadata": {},
   "outputs": [
    {
     "name": "stdout",
     "output_type": "stream",
     "text": [
      "3이 있습니다.\n"
     ]
    }
   ],
   "source": [
    "# 사람이 생각하는 방식을 그대로 표현할 수 있는 언어\n",
    "if 3 in [1,2,3,4]: print('3이 있습니다.')"
   ]
  },
  {
   "cell_type": "code",
   "execution_count": 21,
   "id": "e6838baa",
   "metadata": {},
   "outputs": [
    {
     "name": "stdout",
     "output_type": "stream",
     "text": [
      "123\n",
      "-123\n",
      "0\n",
      "1.23\n",
      "127\n",
      "2748\n"
     ]
    }
   ],
   "source": [
    "# 파이썬 자료형 - 숫자형(정수, 실수, 8진수, 16진수)\n",
    "a = 123\n",
    "b = -123\n",
    "c = 0\n",
    "d = 1.23\n",
    "e = 0o177 #(영어 O 소문자) 8진수 00 또는 00으로 시작\n",
    "f = 0xABC #16진수 0x 시작\n",
    "print(a)  \n",
    "print(b)  \n",
    "print(c)  \n",
    "print(d)  \n",
    "print(e)  \n",
    "print(f)  "
   ]
  },
  {
   "cell_type": "code",
   "execution_count": 24,
   "id": "adf27263",
   "metadata": {},
   "outputs": [
    {
     "name": "stdout",
     "output_type": "stream",
     "text": [
      "10\n",
      "2.3\n",
      "12.3\n",
      "23.0\n",
      "4.347826086956522\n",
      "0.8000000000000007\n",
      "4.0\n",
      "4\n"
     ]
    }
   ],
   "source": [
    "# 사칙연산\n",
    "a = 10\n",
    "b = 2.3\n",
    "c = a + b # 더하기\n",
    "d = a * b # 곱하기\n",
    "e = a / b # 나누기\n",
    "f = a % b # 나머지\n",
    "g = a // b # 몫\n",
    "h = 2 ** 2 # 제곱\n",
    "print(a)  \n",
    "print(b)  \n",
    "print(c)  \n",
    "print(d)  \n",
    "print(e)  \n",
    "print(f)  \n",
    "print(g)  \n",
    "print(h)  "
   ]
  },
  {
   "cell_type": "code",
   "execution_count": 30,
   "id": "d252e9ce",
   "metadata": {},
   "outputs": [
    {
     "ename": "TypeError",
     "evalue": "can only concatenate str (not \"int\") to str",
     "output_type": "error",
     "traceback": [
      "\u001b[1;31m---------------------------------------------------------------------------\u001b[0m",
      "\u001b[1;31mTypeError\u001b[0m                                 Traceback (most recent call last)",
      "\u001b[1;32m<ipython-input-30-107bb8cd13f1>\u001b[0m in \u001b[0;36m<module>\u001b[1;34m\u001b[0m\n\u001b[0;32m      2\u001b[0m \u001b[0mstring\u001b[0m \u001b[1;33m=\u001b[0m \u001b[1;34m'문자열'\u001b[0m\u001b[1;33m\u001b[0m\u001b[1;33m\u001b[0m\u001b[0m\n\u001b[0;32m      3\u001b[0m \u001b[0mnumber\u001b[0m \u001b[1;33m=\u001b[0m \u001b[1;36m273\u001b[0m\u001b[1;33m\u001b[0m\u001b[1;33m\u001b[0m\u001b[0m\n\u001b[1;32m----> 4\u001b[1;33m \u001b[0mstring\u001b[0m \u001b[1;33m+\u001b[0m \u001b[0mnumber\u001b[0m\u001b[1;33m\u001b[0m\u001b[1;33m\u001b[0m\u001b[0m\n\u001b[0m",
      "\u001b[1;31mTypeError\u001b[0m: can only concatenate str (not \"int\") to str"
     ]
    }
   ],
   "source": [
    "# 다른 타입간 연산은 안됨\n",
    "string = '문자열'\n",
    "number = 273\n",
    "string + number"
   ]
  },
  {
   "cell_type": "code",
   "execution_count": 35,
   "id": "6e6d459d",
   "metadata": {},
   "outputs": [
    {
     "data": {
      "text/plain": [
       "int"
      ]
     },
     "execution_count": 35,
     "metadata": {},
     "output_type": "execute_result"
    }
   ],
   "source": [
    "a = 10\n",
    "a = '문자'\n",
    "a = 100\n",
    "type(a)"
   ]
  },
  {
   "cell_type": "code",
   "execution_count": 38,
   "id": "6411c4c6",
   "metadata": {},
   "outputs": [
    {
     "data": {
      "text/plain": [
       "200"
      ]
     },
     "execution_count": 38,
     "metadata": {},
     "output_type": "execute_result"
    }
   ],
   "source": [
    "# 복합 대입 연산자 \n",
    "num = 10\n",
    "num += 10\n",
    "num *=10\n",
    "num"
   ]
  },
  {
   "cell_type": "code",
   "execution_count": 40,
   "id": "356549e0",
   "metadata": {},
   "outputs": [
    {
     "name": "stdout",
     "output_type": "stream",
     "text": [
      "인사말을 입력하세요 : ㅎㅇ\n"
     ]
    },
    {
     "data": {
      "text/plain": [
       "'ㅎㅇ'"
      ]
     },
     "execution_count": 40,
     "metadata": {},
     "output_type": "execute_result"
    }
   ],
   "source": [
    "# 사용자 입력\n",
    "input('인사말을 입력하세요 : ')\n",
    "#input() 함수를 사용하면 숫자도 문자로 전환되어 숫자연산을 위한 변환 필요"
   ]
  },
  {
   "cell_type": "code",
   "execution_count": 43,
   "id": "5488a4e9",
   "metadata": {},
   "outputs": [
    {
     "name": "stdout",
     "output_type": "stream",
     "text": [
      "숫자를 입력하세요 : 5\n",
      "5\n"
     ]
    },
    {
     "data": {
      "text/plain": [
       "str"
      ]
     },
     "execution_count": 43,
     "metadata": {},
     "output_type": "execute_result"
    }
   ],
   "source": [
    "num = input('숫자를 입력하세요 : ') # 문자열로 입력 받음\n",
    "print(num)\n",
    "type(num)"
   ]
  },
  {
   "cell_type": "code",
   "execution_count": 45,
   "id": "0d211022",
   "metadata": {},
   "outputs": [
    {
     "name": "stdout",
     "output_type": "stream",
     "text": [
      "숫자를 입력하세요 : 156\n",
      "숫자를 입력하세요 : 156\n",
      "156156\n"
     ]
    }
   ],
   "source": [
    "num1 = input('숫자를 입력하세요 : ') # 문자열로 입력 받음\n",
    "num2 = input('숫자를 입력하세요 : ') # 문자열로 입력 받음\n",
    "print(num1 + num2)"
   ]
  },
  {
   "cell_type": "code",
   "execution_count": 46,
   "id": "dbfc7653",
   "metadata": {},
   "outputs": [
    {
     "name": "stdout",
     "output_type": "stream",
     "text": [
      "숫자를 입력하세요 : 5\n",
      "숫자를 입력하세요 : 2\n",
      "7\n"
     ]
    }
   ],
   "source": [
    "num1 = input('숫자를 입력하세요 : ') # 문자열로 입력 받아서\n",
    "num1_n = int(num1) # integer 형(정수형) 으로 변환\n",
    "num2 = input('숫자를 입력하세요 : ')\n",
    "num2_n = int(num2)\n",
    "print(num1_n + num2_n)"
   ]
  },
  {
   "cell_type": "code",
   "execution_count": 49,
   "id": "ee9c2eb0",
   "metadata": {},
   "outputs": [
    {
     "name": "stdout",
     "output_type": "stream",
     "text": [
      "숫자를 입력하세요 : 3\n",
      "숫자를 입력하세요 : 3.3\n",
      "6.3\n"
     ]
    }
   ],
   "source": [
    "# Q. 3과 3.3을 입력하고 숫자 연산을 수행하여 6.3을 출력하세요.\n",
    "a = input('숫자를 입력하세요 : ')\n",
    "a_1 = int(a)\n",
    "b = input('숫자를 입력하세요 : ')\n",
    "b_1 = float(b)\n",
    "print(a_1 + b_1)"
   ]
  },
  {
   "cell_type": "code",
   "execution_count": 55,
   "id": "3dabe347",
   "metadata": {},
   "outputs": [
    {
     "name": "stdout",
     "output_type": "stream",
     "text": [
      "5252.273\n"
     ]
    }
   ],
   "source": [
    "# Q. a = 52 와 52.273일때 a+b = 5252.273으로 출력되도록 a와 b를 문자열 자료형으로 변환하세요.\n",
    "a = str(52)\n",
    "b = str(52.273)\n",
    "print(a + b)"
   ]
  },
  {
   "cell_type": "code",
   "execution_count": 54,
   "id": "7f89c147",
   "metadata": {},
   "outputs": [
    {
     "name": "stdout",
     "output_type": "stream",
     "text": [
      "숫자를 입력하세요 : 52\n",
      "숫자를 입력하세요 : 52.273\n",
      "104.273\n"
     ]
    }
   ],
   "source": [
    "a = input('숫자를 입력하세요 : ')\n",
    "int_a = int(a) # 문자열 이었던 a를 정수 a로 변환\n",
    "b = input('숫자를 입력하세요 : ')\n",
    "float_b = float(b)\n",
    "\n",
    "print(int_a + float_b)"
   ]
  },
  {
   "cell_type": "code",
   "execution_count": 58,
   "id": "bb3c53e9",
   "metadata": {},
   "outputs": [
    {
     "name": "stdout",
     "output_type": "stream",
     "text": [
      "python's value is great\n"
     ]
    }
   ],
   "source": [
    "# 문자열 : \"\", '', \"\"\" \"\"\", ''' '''\n",
    "p1 = \"python's value is great\"\n",
    "p2 = 'python\\'s value is great' # \\으로 이스케이프 코드를 통해 오류 수정\n",
    "print(p2)"
   ]
  },
  {
   "cell_type": "code",
   "execution_count": 61,
   "id": "6c5e7f7d",
   "metadata": {},
   "outputs": [
    {
     "data": {
      "text/plain": [
       "'\"python is valuable\" he says'"
      ]
     },
     "execution_count": 61,
     "metadata": {},
     "output_type": "execute_result"
    }
   ],
   "source": [
    "s1 = '\"python is valuable\" he says'\n",
    "s1"
   ]
  },
  {
   "cell_type": "code",
   "execution_count": 63,
   "id": "433edb3d",
   "metadata": {},
   "outputs": [
    {
     "data": {
      "text/plain": [
       "\"python's value is great\""
      ]
     },
     "execution_count": 63,
     "metadata": {},
     "output_type": "execute_result"
    }
   ],
   "source": [
    "s2 = 'python\\'s value is great'\n",
    "s2"
   ]
  },
  {
   "cell_type": "code",
   "execution_count": 67,
   "id": "285c38b7",
   "metadata": {},
   "outputs": [
    {
     "name": "stdout",
     "output_type": "stream",
     "text": [
      "Once you study data analysis\n",
      "You need Python\n",
      "Once you study data analysis\n",
      "You need Python\n",
      "Once you study data analysis\n",
      "You need Python\n"
     ]
    }
   ],
   "source": [
    "y1 = \"Once you study data analysis\\nYou need Python\"\n",
    "print(y1)\n",
    "y2 = '''Once you study data analysis\n",
    "You need Python'''\n",
    "print(y2)\n",
    "y3 = \"\"\"Once you study data analysis\n",
    "You need Python\"\"\"\n",
    "print(y3)"
   ]
  },
  {
   "cell_type": "code",
   "execution_count": 70,
   "id": "c4f4b888",
   "metadata": {},
   "outputs": [
    {
     "name": "stdout",
     "output_type": "stream",
     "text": [
      "Pythonis easy to learn\n",
      "PythonPythonPython\n",
      "====================\n"
     ]
    }
   ],
   "source": [
    "# 문자열 연산\n",
    "a1 = 'Python'\n",
    "a2 = 'is easy to learn'\n",
    "print(a1 + a2)\n",
    "print(a1 * 3)\n",
    "print(\"=\" * 20)"
   ]
  },
  {
   "cell_type": "code",
   "execution_count": 72,
   "id": "57a62f66",
   "metadata": {},
   "outputs": [
    {
     "name": "stdout",
     "output_type": "stream",
     "text": [
      "[1, 'a', 'abc', [1, 2, 3, 4, 5], ['a', 'b', 'c']]\n"
     ]
    }
   ],
   "source": [
    "# 자료형 -  List\n",
    "# 리스트는 [] 로 표시하며 [] 안의 요소를 콤마로 구분하여 순서있게 나열\n",
    "list1 = [1,2,3,4,5]\n",
    "list2 = ['a','b','c']\n",
    "list3 = [1, 'a','abc',[1,2,3,4,5],['a','b','c']] # 리스트 안에 리스트를 넣을 수 있음\n",
    "print(list3)"
   ]
  },
  {
   "cell_type": "code",
   "execution_count": 85,
   "id": "47ad2fbe",
   "metadata": {},
   "outputs": [
    {
     "data": {
      "text/plain": [
       "'c'"
      ]
     },
     "execution_count": 85,
     "metadata": {},
     "output_type": "execute_result"
    }
   ],
   "source": [
    "# 인덱싱 \n",
    "list1 = [1,2,3,4,5]\n",
    "list1[:] # 모든 리스트 표시\n",
    "list1[0:5] # 0번째부터 5번째 이전까지\n",
    "list3[2]\n",
    "list3[3][4] # 리스트[] 속의 리스트[] 2번 리스트의 3번 숫자\n",
    "list3[4][2]"
   ]
  },
  {
   "cell_type": "code",
   "execution_count": 90,
   "id": "81ab08a2",
   "metadata": {},
   "outputs": [
    {
     "name": "stdout",
     "output_type": "stream",
     "text": [
      "[1, 1, 2, 3, 4, 5, 6, 7, 8, 9]\n",
      "['a', 'a', 'c']\n",
      "['a', 'c']\n"
     ]
    }
   ],
   "source": [
    "# 리스트 수정, 삭제\n",
    "\n",
    "a = [0, 1, 2, 3, 4, 5, 6, 7, 8, 9]\n",
    "b = ['a','b','c']\n",
    "a[0] = 1 #숫자 0을 1로 수정\n",
    "print(a)\n",
    "b[1] = 'a' # 문자 b를 a로 수정\n",
    "print(b)\n",
    "del b[0] #b의 0번 문자를 삭제\n",
    "print(b)"
   ]
  },
  {
   "cell_type": "code",
   "execution_count": 94,
   "id": "113f73b3",
   "metadata": {},
   "outputs": [
    {
     "data": {
      "text/plain": [
       "[1, 1, 2, 3, 4, 5, 6, 7, 8, 9, 'a', 1]"
      ]
     },
     "execution_count": 94,
     "metadata": {},
     "output_type": "execute_result"
    }
   ],
   "source": [
    "c = a + b\n",
    "c\n",
    "c[11] = 1 # 11 or -1 = 끝에서 1번째 자리 수\n",
    "c"
   ]
  },
  {
   "cell_type": "code",
   "execution_count": 96,
   "id": "f8c4c6ae",
   "metadata": {},
   "outputs": [
    {
     "data": {
      "text/plain": [
       "[1, 1, 2, 3, 4, 5, 6, 7, 8, 9, 2, 1]"
      ]
     },
     "execution_count": 96,
     "metadata": {},
     "output_type": "execute_result"
    }
   ],
   "source": [
    "c[-2] = 2 #10 or -2 = 끝에서 2번째 자리 수\n",
    "c"
   ]
  },
  {
   "cell_type": "code",
   "execution_count": 101,
   "id": "ecbe6993",
   "metadata": {},
   "outputs": [
    {
     "name": "stdout",
     "output_type": "stream",
     "text": [
      "[1, 1, 1, 2, 2, 3, 4, 5, 6, 7, 8, 9]\n",
      "[9, 8, 7, 6, 5, 4, 3, 2, 2, 1, 1, 1]\n",
      "[9, 8, 7, 6, 5, 4, 3, 2, 2, 1, 1, 1]\n"
     ]
    }
   ],
   "source": [
    "# 올림차순 정렬\n",
    "s = [1, 1, 2, 3, 4, 5, 6, 7, 8, 9, 2, 1]\n",
    "s.sort()\n",
    "print(s)\n",
    "# 내림차순 정렬\n",
    "s_d = sorted(s, reverse=True) #1번째 방법\n",
    "print(s_d)\n",
    "s.reverse() #2번째 방법\n",
    "print(s)"
   ]
  },
  {
   "cell_type": "code",
   "execution_count": 154,
   "id": "5ae24d2d",
   "metadata": {},
   "outputs": [
    {
     "name": "stdout",
     "output_type": "stream",
     "text": [
      "[13, 33, 40, 22, 12, 8, 85, 52, 23, 67, 38, 0, 37, 87, 15, 49, 96, 93, 43, 46, 62, 32, 14, 55, 92, 93, 49, 38, 24, 55, 94, 18, 4, 23, 29, 27, 12, 46, 0, 34, 99, 83, 75, 2, 44, 21, 43, 93, 81, 98, 99, 87, 65, 92, 47, 18, 21, 52, 10, 72, 5, 43, 41, 13, 35, 25, 44, 17, 79, 8, 43, 22, 71, 12, 58, 21, 9, 42, 70, 65, 47, 31, 24, 59, 77, 9, 92, 19, 96, 8, 5, 81, 5, 88, 53, 79, 52, 10, 50, 25]\n"
     ]
    },
    {
     "data": {
      "text/plain": [
       "52"
      ]
     },
     "execution_count": 154,
     "metadata": {},
     "output_type": "execute_result"
    }
   ],
   "source": [
    "# 인덱스 위치 반환 \n",
    "import numpy as np #numpy 라이브러리(랜덤 함수를 제공)\n",
    "c = np.random.randint(100, size=100).tolist()\n",
    "print(c)\n",
    "c.index(65) #64번째에 있는 인덱스 0 ~ 64까지 = 65"
   ]
  },
  {
   "cell_type": "code",
   "execution_count": 155,
   "id": "25ad9637",
   "metadata": {},
   "outputs": [
    {
     "data": {
      "text/plain": [
       "3"
      ]
     },
     "execution_count": 155,
     "metadata": {},
     "output_type": "execute_result"
    }
   ],
   "source": [
    "at = [1,2,3,4,5,6]\n",
    "at.index(4)"
   ]
  },
  {
   "cell_type": "code",
   "execution_count": 111,
   "id": "e8e1dcba",
   "metadata": {},
   "outputs": [
    {
     "name": "stdout",
     "output_type": "stream",
     "text": [
      "3\n"
     ]
    }
   ],
   "source": [
    "# 개수 반환\n",
    "c = [1,1,3,3,3,5,5]\n",
    "print(c.count(3))"
   ]
  },
  {
   "cell_type": "code",
   "execution_count": 114,
   "id": "a91ad5d2",
   "metadata": {},
   "outputs": [
    {
     "name": "stdout",
     "output_type": "stream",
     "text": [
      "[1, 2, 3, 4, 5]\n",
      "[1, 2, 3, 4, 5, 6]\n"
     ]
    }
   ],
   "source": [
    "# 리스트 확장\n",
    "h = [1,2,3]\n",
    "h.extend([4,5])\n",
    "print(h)\n",
    "# 추가\n",
    "h.append(6)\n",
    "print(h)"
   ]
  },
  {
   "cell_type": "code",
   "execution_count": 115,
   "id": "1ca25647",
   "metadata": {},
   "outputs": [
    {
     "data": {
      "text/plain": [
       "'c'"
      ]
     },
     "execution_count": 115,
     "metadata": {},
     "output_type": "execute_result"
    }
   ],
   "source": [
    "# 튜플\n",
    "tuple1 = (1,2,3,4,5)\n",
    "tuple2 = ('a','b','c')\n",
    "tuple3 = (1,'a','abc',[1,2,3,4,5],['a','b','c'])\n",
    "\n",
    "tuple1[:] # 모든 리스트 표시\n",
    "tuple1[0:5] # 0번째부터 5번째 이전까지\n",
    "tuple3[2]\n",
    "tuple3[3][4] # 리스트[] 속의 리스트[] 2번 리스트의 3번 숫자\n",
    "tuple3[4][2]"
   ]
  },
  {
   "cell_type": "code",
   "execution_count": 117,
   "id": "c66b42fa",
   "metadata": {},
   "outputs": [
    {
     "ename": "TypeError",
     "evalue": "'type' object does not support item assignment",
     "output_type": "error",
     "traceback": [
      "\u001b[1;31m---------------------------------------------------------------------------\u001b[0m",
      "\u001b[1;31mTypeError\u001b[0m                                 Traceback (most recent call last)",
      "\u001b[1;32m<ipython-input-117-ba3062bba6f6>\u001b[0m in \u001b[0;36m<module>\u001b[1;34m\u001b[0m\n\u001b[0;32m      1\u001b[0m \u001b[1;31m#튜플의 요소 값은 변경할 수 없음 - 프로그램에서 그 값이 항상 변하지 않아야되는 경우 사용\u001b[0m\u001b[1;33m\u001b[0m\u001b[1;33m\u001b[0m\u001b[1;33m\u001b[0m\u001b[0m\n\u001b[1;32m----> 2\u001b[1;33m \u001b[0mtuple\u001b[0m\u001b[1;33m[\u001b[0m\u001b[1;36m0\u001b[0m\u001b[1;33m]\u001b[0m \u001b[1;33m=\u001b[0m \u001b[1;36m6\u001b[0m\u001b[1;33m\u001b[0m\u001b[1;33m\u001b[0m\u001b[0m\n\u001b[0m\u001b[0;32m      3\u001b[0m \u001b[0mprint\u001b[0m\u001b[1;33m(\u001b[0m\u001b[0mlist1\u001b[0m\u001b[1;33m)\u001b[0m\u001b[1;33m\u001b[0m\u001b[1;33m\u001b[0m\u001b[0m\n",
      "\u001b[1;31mTypeError\u001b[0m: 'type' object does not support item assignment"
     ]
    }
   ],
   "source": [
    "#튜플의 요소 값은 변경할 수 없음 - 프로그램에서 그 값이 항상 변하지 않아야되는 경우 사용  \n",
    "tuple[0] = 6\n",
    "print(list1)"
   ]
  },
  {
   "cell_type": "code",
   "execution_count": 160,
   "id": "57f67ed1",
   "metadata": {},
   "outputs": [
    {
     "name": "stdout",
     "output_type": "stream",
     "text": [
      "(1,)\n",
      "(1, 2, 3)\n",
      "(1, 2, 3, 1, 2, 3, 1, 2, 3)\n",
      "(1, 1, 2, 3)\n",
      "(1, 1, 2, 3, 1, 1, 2, 3, 1, 1, 2, 3)\n",
      "1\n"
     ]
    },
    {
     "data": {
      "text/plain": [
       "int"
      ]
     },
     "execution_count": 160,
     "metadata": {},
     "output_type": "execute_result"
    }
   ],
   "source": [
    "t1 = (1,) # 1개의 요소만 가질 때는 요소 뒤에 콤마를 붙여야 함\n",
    "print(t1)\n",
    "t2 = 1,2,3\n",
    "print(t2)\n",
    "print(t2 * 3)\n",
    "t3 = t1 + t2\n",
    "print(t3)\n",
    "t4 = (t3) * 3\n",
    "print(t4)\n",
    "t5 = (1)\n",
    "print(t5)\n",
    "type(t5)"
   ]
  },
  {
   "cell_type": "code",
   "execution_count": 168,
   "id": "d588e04d",
   "metadata": {},
   "outputs": [
    {
     "name": "stdout",
     "output_type": "stream",
     "text": [
      "1\n",
      "{'a': 1, 'b': 5, 'c': 3}\n"
     ]
    }
   ],
   "source": [
    "#자료형 - 딕셔너리 : 사전(키와 값을 하나의 요소로 하는 순서가 없는 집합)\n",
    "#인덱싱이 안 됨\n",
    "d1 = {'a':1,'b':2, 'c':3}\n",
    "print(d1['a']) #d1에서 문자열 'a'라는 키를 찾아 값을 출력\n",
    "d1['b'] = 5 #d1에서 b라는 키를 찾아 값을 5로 변경\n",
    "print(d1)"
   ]
  },
  {
   "cell_type": "code",
   "execution_count": 170,
   "id": "9b2f7a8e",
   "metadata": {},
   "outputs": [
    {
     "name": "stdout",
     "output_type": "stream",
     "text": [
      "dict_keys(['a', 'b', 'c'])\n",
      "dict_values([1, 5, 3])\n",
      "dict_items([('a', 1), ('b', 5), ('c', 3)])\n"
     ]
    }
   ],
   "source": [
    "print(d1.keys()) #키 만 출력\n",
    "print(d1.values()) #값 만 출력\n",
    "print(d1.items()) #키 값 별로 출력"
   ]
  },
  {
   "cell_type": "code",
   "execution_count": 178,
   "id": "72687bf2",
   "metadata": {},
   "outputs": [
    {
     "name": "stdout",
     "output_type": "stream",
     "text": [
      "{1, 2, 3, 4, 5}\n",
      "{'l', 'e', 'o', 'H'}\n"
     ]
    },
    {
     "data": {
      "text/plain": [
       "set"
      ]
     },
     "execution_count": 178,
     "metadata": {},
     "output_type": "execute_result"
    }
   ],
   "source": [
    "# 자료형 - 집합, set(중복을 허용하지 않으면 순서가 없다)\n",
    "s1 = set([1,2,5,4,3])\n",
    "s2 = set('Hello') # 중복을 허용하지 않아서 L이 하나만 출력 됨\n",
    "print(s1)\n",
    "print(s2)\n",
    "type(s1)"
   ]
  },
  {
   "cell_type": "code",
   "execution_count": 180,
   "id": "4cc6ea97",
   "metadata": {},
   "outputs": [
    {
     "name": "stdout",
     "output_type": "stream",
     "text": [
      "2\n",
      "e\n"
     ]
    },
    {
     "data": {
      "text/plain": [
       "list"
      ]
     },
     "execution_count": 180,
     "metadata": {},
     "output_type": "execute_result"
    }
   ],
   "source": [
    "# 집합은 인덱싱으로 값을 얻을 수 없으면 필요시 리스트나 튜플로 변환 후 인덱싱\n",
    "l1 = list(s1)\n",
    "print(l1[1])\n",
    "l2 = list(s2)\n",
    "print(l2[1])\n",
    "type(l1)"
   ]
  },
  {
   "cell_type": "code",
   "execution_count": 201,
   "id": "341e6457",
   "metadata": {},
   "outputs": [
    {
     "name": "stdout",
     "output_type": "stream",
     "text": [
      "(1, 2, 3, 4, 5, 6, 7, 8, 9)\n",
      "[4, 5, 6]\n"
     ]
    },
    {
     "data": {
      "text/plain": [
       "tuple"
      ]
     },
     "execution_count": 201,
     "metadata": {},
     "output_type": "execute_result"
    }
   ],
   "source": [
    "# Q s1, s2의 합집합과 교집합을 각각 리스트와 튜플로 출력하세요\n",
    "\n",
    "s1 = set([1,2,3,4,5,6])  \n",
    "s2 = set([4,5,6,7,8,9])\n",
    "tr = tuple(s1 | s2) # 합집합 튜플\n",
    "lr = list(s1 & s2) # 교집합 리스트\n",
    "print(tr)\n",
    "print(lr)\n",
    "type(tr)"
   ]
  },
  {
   "cell_type": "code",
   "execution_count": 202,
   "id": "6aa6c850",
   "metadata": {},
   "outputs": [
    {
     "name": "stdout",
     "output_type": "stream",
     "text": [
      "a가 li에 있습니다.\n"
     ]
    }
   ],
   "source": [
    "# 들여쓰기\n",
    "li = ['a','b','c']\n",
    "if 'a' in li :\n",
    "    print('a가 li에 있습니다.')\n",
    "else:\n",
    "    print('a가 li에 없습니다.')"
   ]
  },
  {
   "cell_type": "code",
   "execution_count": 204,
   "id": "c89c5804",
   "metadata": {},
   "outputs": [
    {
     "name": "stdout",
     "output_type": "stream",
     "text": [
      "홍길동 선수가  1등 입니다.\n",
      "홍길동 선수가 1 등 입니다.\n"
     ]
    }
   ],
   "source": [
    "# 포멧 함수\n",
    "f1 = \"{} 선수가  {}등 입니다.\".format('홍길동',1)\n",
    "print(f1)\n",
    "print(\"%s 선수가 %d 등 입니다.\" %(\"홍길동\",1))"
   ]
  },
  {
   "cell_type": "code",
   "execution_count": null,
   "id": "ee684461",
   "metadata": {},
   "outputs": [],
   "source": [
    "#파이썬은 자바보다 2배 쉽습니다"
   ]
  },
  {
   "cell_type": "code",
   "execution_count": 210,
   "id": "39c93e32",
   "metadata": {},
   "outputs": [
    {
     "name": "stdout",
     "output_type": "stream",
     "text": [
      "파이썬은 자바보다 2배 쉽습니다.\n",
      "파이썬은 자바보다 2배 쉽습니다\n"
     ]
    }
   ],
   "source": [
    "sp1 = \"{}은 {}보다 {}배 쉽습니다.\".format('파이썬','자바',2)\n",
    "print(sp1)\n",
    "print(\"%s은 %s보다 %d배 쉽습니다\" %('파이썬',\"자바\",2))"
   ]
  },
  {
   "cell_type": "code",
   "execution_count": 218,
   "id": "32d3c0c8",
   "metadata": {},
   "outputs": [
    {
     "name": "stdout",
     "output_type": "stream",
     "text": [
      "12345\n",
      "     12345\n",
      "12.345679\n",
      "          12.35\n"
     ]
    }
   ],
   "source": [
    "ex2 = 12345\n",
    "f2 = '{:d}'.format(ex2) #:d = 정수를 그대로 출력 \n",
    "print(f2)\n",
    "f3 = '{:10}'.format(ex2) #:10 = 정수를 10자리수 까지 사용\n",
    "print(f3)\n",
    "ex3 = 12.3456789\n",
    "f4 = '{:f}'.format(ex3) # 실수를 소수점 아래 6자리까지 출력\n",
    "print(f4)\n",
    "f5 = '{:15.2f}'.format(ex3) # 15자리 사용 실수를 소수점 아래 2자리까지 출력\n",
    "print(f5)\n"
   ]
  },
  {
   "cell_type": "code",
   "execution_count": 225,
   "id": "baf7ff0a",
   "metadata": {},
   "outputs": [
    {
     "name": "stdout",
     "output_type": "stream",
     "text": [
      "저축 증가\n"
     ]
    }
   ],
   "source": [
    "# 제어문 - if~ elif~else\n",
    "# \"수입과 지출금액을 비교해서 수입이 많으면 저축증가, 반대이면 빛이 증가,\n",
    "#  같으면 현상유지\"\n",
    "\n",
    "a = 5,000,000 #수입\n",
    "b = 3,000,000 #지출\n",
    "if a > b :\n",
    "    print('저축 증가')\n",
    "elif a < b :\n",
    "    print('빛 증가')\n",
    "else :\n",
    "    print('현상유지')"
   ]
  },
  {
   "cell_type": "code",
   "execution_count": 229,
   "id": "6525e2a5",
   "metadata": {},
   "outputs": [
    {
     "name": "stdout",
     "output_type": "stream",
     "text": [
      "빛 증가\n"
     ]
    }
   ],
   "source": [
    "a = 5,000,000.165\n",
    "b = 5,000,000.175\n",
    "if a > b :\n",
    "    print('저축 증가')\n",
    "elif a < b :\n",
    "    print('빛 증가')\n",
    "else :\n",
    "    print('현상유지')"
   ]
  },
  {
   "cell_type": "code",
   "execution_count": 233,
   "id": "9e5d3a56",
   "metadata": {},
   "outputs": [
    {
     "name": "stdout",
     "output_type": "stream",
     "text": [
      "5\n",
      "15\n",
      "6\n",
      "20\n",
      "7\n",
      "25\n"
     ]
    }
   ],
   "source": [
    "# for 반복문\n",
    "numbers = [5,15,6,20,7,25]\n",
    "for number in numbers:\n",
    "    print(number)"
   ]
  },
  {
   "cell_type": "code",
   "execution_count": 246,
   "id": "0abaf77b",
   "metadata": {},
   "outputs": [
    {
     "name": "stdout",
     "output_type": "stream",
     "text": [
      "몫은 2 나머지는 1 입니다\n"
     ]
    }
   ],
   "source": [
    "# Q. 5를 2로 나누었을때의 몫과 나머지를 구하세요\n",
    "a = 5 // 2 #몫\n",
    "b = 5 % 2 #나머지\n",
    "print('몫은',a ,'나머지는',b,'입니다')\n"
   ]
  },
  {
   "cell_type": "code",
   "execution_count": 249,
   "id": "2d972972",
   "metadata": {},
   "outputs": [
    {
     "name": "stdout",
     "output_type": "stream",
     "text": [
      "1030301\n"
     ]
    }
   ],
   "source": [
    "# Q. 101의 3승을 구하세요\n",
    "print(101**3)"
   ]
  },
  {
   "cell_type": "code",
   "execution_count": 250,
   "id": "affa810c",
   "metadata": {},
   "outputs": [
    {
     "name": "stdout",
     "output_type": "stream",
     "text": [
      "Python 3.8.3\n"
     ]
    }
   ],
   "source": [
    "# Python과 3.8.3을 합쳐서 Python 3.8.3으로 출력하세요\n",
    "a = 'Python '\n",
    "b = '3.8.3'\n",
    "c = a + b\n",
    "print(a + b)"
   ]
  },
  {
   "cell_type": "code",
   "execution_count": 237,
   "id": "c67e1a7e",
   "metadata": {},
   "outputs": [],
   "source": [
    "# a = 5 a = '10' a = 15일때 a의 자료형은 무엇인가?\n",
    "# integer형, 정수, int"
   ]
  },
  {
   "cell_type": "code",
   "execution_count": 256,
   "id": "a51123c9",
   "metadata": {},
   "outputs": [
    {
     "name": "stdout",
     "output_type": "stream",
     "text": [
      "2\n"
     ]
    }
   ],
   "source": [
    "# 5의3승을 3으로 나누었을때의 나머지를 복합 대입 연산자를 이용해서 구하세요\n",
    "a = 5 ** 3\n",
    "a %= 3\n",
    "print(a)"
   ]
  },
  {
   "cell_type": "code",
   "execution_count": 257,
   "id": "37aa72b7",
   "metadata": {},
   "outputs": [
    {
     "name": "stdout",
     "output_type": "stream",
     "text": [
      "이름을 입력해 주세요신인철\n",
      "이름이  신인철 입니다\n"
     ]
    }
   ],
   "source": [
    "#이름을 물어보고 답하는 내용을 출력하세요\n",
    "a = input('이름을 입력해 주세요')\n",
    "print('이름이 ',a , '입니다')"
   ]
  },
  {
   "cell_type": "code",
   "execution_count": 259,
   "id": "ae768de1",
   "metadata": {},
   "outputs": [
    {
     "name": "stdout",
     "output_type": "stream",
     "text": [
      "숫자를 입력해 주세요5\n",
      "숫자를 입력해 주세요3\n",
      "숫자를 입력해 주세요3\n",
      "41\n"
     ]
    }
   ],
   "source": [
    "#숫자를 3개를 입력해서 첫 번째 숫자를 두 번째 숫자 승한 뒤에서 세 번째 숫자로\n",
    "# 나누었을 때 몫을 구하세요\n",
    "a = input('숫자를 입력해 주세요')\n",
    "a1 = int(a)\n",
    "b= input('숫자를 입력해 주세요')\n",
    "b1 = int(b)\n",
    "c= input('숫자를 입력해 주세요')\n",
    "c1 = int(c)\n",
    "\n",
    "r = a1 ** b1 // c1\n",
    "print(r)"
   ]
  },
  {
   "cell_type": "code",
   "execution_count": 263,
   "id": "84542eb5",
   "metadata": {},
   "outputs": [
    {
     "name": "stdout",
     "output_type": "stream",
     "text": [
      "[0, 1, 2, 3, 4, 5, 6, 7, 8, 'b', 'c']\n"
     ]
    },
    {
     "data": {
      "text/plain": [
       "list"
      ]
     },
     "execution_count": 263,
     "metadata": {},
     "output_type": "execute_result"
    }
   ],
   "source": [
    "#[0,1,2,3,4,5,6,7,8,9,'a','b','c']에서 9와 'a'를 삭제 후\n",
    "# 리스트로 출력하세요\n",
    "\n",
    "a=[0,1,2,3,4,5,6,7,8,9,'a','b','c']\n",
    "del a[-4]\n",
    "del a[-3]\n",
    "print(a)\n",
    "type(a)"
   ]
  },
  {
   "cell_type": "code",
   "execution_count": 265,
   "id": "3015e06f",
   "metadata": {},
   "outputs": [
    {
     "name": "stdout",
     "output_type": "stream",
     "text": [
      "[0, 1, 2, 3, 4, 5, 6, 7, 8, 'b']\n"
     ]
    }
   ],
   "source": [
    "#[0,1,2,3,4,5,6,7,8,'b','c']에서 'c'를 삭제 후 출력하세요\n",
    "a = [0,1,2,3,4,5,6,7,8,'b','c']\n",
    "del a[-1]\n",
    "print(a)\n"
   ]
  },
  {
   "cell_type": "code",
   "execution_count": 269,
   "id": "04dbe41e",
   "metadata": {},
   "outputs": [
    {
     "name": "stdout",
     "output_type": "stream",
     "text": [
      "[9, 9, 8, 8, 5, 4, 4, 4, 3, 1]\n"
     ]
    }
   ],
   "source": [
    "#[4,8,5,4,8,4,3,9,1,9]를 내림차순으로 정렬하세요\n",
    "a = [4,8,5,4,8,4,3,9,1,9]\n",
    "a.sort()\n",
    "a.reverse()\n",
    "print(a)"
   ]
  },
  {
   "cell_type": "code",
   "execution_count": 271,
   "id": "74f6192d",
   "metadata": {},
   "outputs": [
    {
     "name": "stdout",
     "output_type": "stream",
     "text": [
      "태어난 연도를 입력해 주세요98\n",
      "돼지 띠입니다.\n"
     ]
    }
   ],
   "source": [
    "##태어난 연도를 입력 받아 띠를 출력하는 프로그램을 작성하세요.  \n",
    "##원숭이, 닭, 개, 돼지, 쥐, 소, 범, 토끼, 용, 뱀, 말, 양띠\n",
    "\n",
    "a = input('현재 연도를 입력해 주세요')\n",
    "ny = int(a)\n",
    "b = input('태어난 연도를 입력해 주세요')\n",
    "oy = int(b)\n",
    "if year // 12 == 0 :\n",
    "    print('쥐 띠입니다.')\n",
    "elif year // 13 == 0 :\n",
    "    print('소 띠입니다.')\n",
    "elif year // 14 == 0 :\n",
    "    print('호랑이 띠입니다.')\n",
    "elif year // 15 == 0 :\n",
    "    print('토끼 띠입니다.')\n",
    "elif year // 16 == 0 :\n",
    "    print('용 띠입니다.')\n",
    "elif year // 17 == 0 :\n",
    "    print('뱀 띠입니다.')\n",
    "elif year // 18 == 0 :\n",
    "    print('말 띠입니다.')\n",
    "elif year // 19 == 0 :\n",
    "    print('양 띠입니다.')\n",
    "elif year // 20 == 0 :\n",
    "    print('원숭이 띠입니다.')\n",
    "elif year // 21 == 0 :\n",
    "    print('닭 띠입니다.')\n",
    "elif year // 22 == 0 :\n",
    "    print('개 띠입니다.')\n",
    "else :\n",
    "    print('돼지 띠입니다.')"
   ]
  },
  {
   "cell_type": "markdown",
   "id": "ad3e81db",
   "metadata": {},
   "source": [
    "계절 구분 프로그램\n",
    "- 시나리오 : 3 ~ 5 월은 봄, 6 ~ 8 월은 여름, 9 ~ 11 월은 가을, 12 ~ 2 월은 겨울로 구분  \n",
    "지금의 계절을 알려주는 프로그램  \n",
    "- 각 계절 별 출력 멘트는 계절에 맞게 창작  \n",
    "- if 조건문으로 datetime 모듈을 import해서 datetime.now 함수를 사용해서 작성\n"
   ]
  },
  {
   "cell_type": "markdown",
   "id": "47c3c168",
   "metadata": {},
   "source": [
    "## june_w4 이름 폴더에 과제_0621_신인철로 제출  \n",
    "## 브라우저 인쇄 pdf로 저장 후 제출"
   ]
  }
 ],
 "metadata": {
  "kernelspec": {
   "display_name": "Python 3",
   "language": "python",
   "name": "python3"
  },
  "language_info": {
   "codemirror_mode": {
    "name": "ipython",
    "version": 3
   },
   "file_extension": ".py",
   "mimetype": "text/x-python",
   "name": "python",
   "nbconvert_exporter": "python",
   "pygments_lexer": "ipython3",
   "version": "3.8.8"
  }
 },
 "nbformat": 4,
 "nbformat_minor": 5
}
