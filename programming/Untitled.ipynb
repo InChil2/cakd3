{
 "cells": [
  {
   "cell_type": "code",
   "execution_count": 11,
   "id": "cf0324fc",
   "metadata": {},
   "outputs": [
    {
     "name": "stdout",
     "output_type": "stream",
     "text": [
      "====================\n",
      "1 : 김밥     | 2000원\n",
      "2 : 짜장라면 | 4000원\n",
      "3 : 봉지라면 | 5000원\n",
      "4 : 우동     | 6000원\n",
      "5 : 라볶이   | 6000원\n",
      "====================\n",
      "주문하실 메뉴를 입력해주세요 : 1\n"
     ]
    },
    {
     "ename": "TypeError",
     "evalue": "__init__() missing 1 required positional argument: 'a'",
     "output_type": "error",
     "traceback": [
      "\u001b[1;31m---------------------------------------------------------------------------\u001b[0m",
      "\u001b[1;31mTypeError\u001b[0m                                 Traceback (most recent call last)",
      "\u001b[1;32m<ipython-input-11-a5a658cb6c0d>\u001b[0m in \u001b[0;36m<module>\u001b[1;34m\u001b[0m\n\u001b[0;32m     43\u001b[0m \u001b[0mprint\u001b[0m\u001b[1;33m(\u001b[0m\u001b[1;34m\"====================\"\u001b[0m\u001b[1;33m)\u001b[0m\u001b[1;33m\u001b[0m\u001b[1;33m\u001b[0m\u001b[0m\n\u001b[0;32m     44\u001b[0m \u001b[0mmenu\u001b[0m \u001b[1;33m=\u001b[0m \u001b[0minput\u001b[0m\u001b[1;33m(\u001b[0m\u001b[1;34m\"주문하실 메뉴를 입력해주세요 : \"\u001b[0m\u001b[1;33m)\u001b[0m\u001b[1;33m\u001b[0m\u001b[1;33m\u001b[0m\u001b[0m\n\u001b[1;32m---> 45\u001b[1;33m \u001b[0mstart\u001b[0m \u001b[1;33m=\u001b[0m \u001b[0mFastFood\u001b[0m\u001b[1;33m(\u001b[0m\u001b[1;33m)\u001b[0m\u001b[1;33m\u001b[0m\u001b[1;33m\u001b[0m\u001b[0m\n\u001b[0m\u001b[0;32m     46\u001b[0m \u001b[0mprint\u001b[0m\u001b[1;33m(\u001b[0m\u001b[0mstart\u001b[0m\u001b[1;33m.\u001b[0m\u001b[0mstart\u001b[0m\u001b[1;33m)\u001b[0m\u001b[1;33m\u001b[0m\u001b[1;33m\u001b[0m\u001b[0m\n",
      "\u001b[1;31mTypeError\u001b[0m: __init__() missing 1 required positional argument: 'a'"
     ]
    }
   ],
   "source": [
    "# Q13. 음식점의 음식 주문가격 산출 프로그램을 자유롭게 작성하세요.\n",
    "class FastFood:\n",
    "    def __init__(self,a):\n",
    "        self.a = a\n",
    "    \n",
    "    def start(self):\n",
    "        if self.a == 1 or self.a == 김밥:\n",
    "            print(\"김밥을 선택했습니다\")\n",
    "            ea1 = int(input('몇 개를 주문하시겠습니까? : '))\n",
    "            bill = (2000 * ea1)\n",
    "            return bill\n",
    "        elif self.a == 2 or self.a == 짜장라면:\n",
    "            print(\"짜장라면을 선택했습니다\")\n",
    "            ea2 = int(input('몇 개를 주문하시겠습니까? : '))\n",
    "            bill = (4000 * ea2)\n",
    "            return bill\n",
    "        elif self.a == 3 or self.a == 봉지라면:\n",
    "            print(\"봉지라면을 선택했습니다\")\n",
    "            ea3 = int(input('몇 개를 주문하시겠습니까? : '))\n",
    "            bill = (5000 * ea3)\n",
    "            return bill\n",
    "        elif self.a == 4 or self.a == 우동:\n",
    "            print(\"우동을 선택했습니다\")\n",
    "            ea4 = int(input('몇 개를 주문하시겠습니까? : '))\n",
    "            bill = (6000 * ea4)\n",
    "            return bill\n",
    "        elif self.a == 5 or self.a == 라볶이:\n",
    "            print(\"라볶이를 선택했습니다\")\n",
    "            ea5 = int(input('몇 개를 주문하시겠습니까? : '))\n",
    "            bill = (4000 * ea5)\n",
    "            return bill\n",
    "        else:\n",
    "            print('없는 메뉴 입니다!')\n",
    "        \n",
    "        print(\"결제 금액은 {}원 입니다\".format(bill))\n",
    "\n",
    "print(\"====================\")\n",
    "print(\"1 : 김밥     | 2000원\")\n",
    "print(\"2 : 짜장라면 | 4000원\")\n",
    "print(\"3 : 봉지라면 | 5000원\")\n",
    "print(\"4 : 우동     | 6000원\")\n",
    "print(\"5 : 라볶이   | 6000원\")\n",
    "print(\"====================\")\n",
    "menu = input(\"주문하실 메뉴를 입력해주세요 : \")\n",
    "start = FastFood()\n",
    "print(start.start)"
   ]
  }
 ],
 "metadata": {
  "kernelspec": {
   "display_name": "Python 3",
   "language": "python",
   "name": "python3"
  },
  "language_info": {
   "codemirror_mode": {
    "name": "ipython",
    "version": 3
   },
   "file_extension": ".py",
   "mimetype": "text/x-python",
   "name": "python",
   "nbconvert_exporter": "python",
   "pygments_lexer": "ipython3",
   "version": "3.8.10"
  }
 },
 "nbformat": 4,
 "nbformat_minor": 5
}
