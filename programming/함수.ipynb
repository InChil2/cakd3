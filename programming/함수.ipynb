{
 "cells": [
  {
   "cell_type": "code",
   "execution_count": 1,
   "id": "27df2cab",
   "metadata": {},
   "outputs": [
    {
     "name": "stdout",
     "output_type": "stream",
     "text": [
      "Hi\n"
     ]
    }
   ],
   "source": [
    "# 입력 값이 없고 결과 값만 있는 함수\n",
    "\n",
    "def say() :\n",
    "    return 'Hi' #반환 값은 반드시 return\n",
    "a = say()\n",
    "print(a)"
   ]
  },
  {
   "cell_type": "code",
   "execution_count": 4,
   "id": "be2f2184",
   "metadata": {},
   "outputs": [
    {
     "name": "stdout",
     "output_type": "stream",
     "text": [
      "5\n"
     ]
    }
   ],
   "source": [
    "# 결과 값(return) 없는 함수\n",
    "\n",
    "def add(a, b) :\n",
    "    print(a + b) # 출력\n",
    "add(2,3)"
   ]
  },
  {
   "cell_type": "code",
   "execution_count": 5,
   "id": "6a8f9d8f",
   "metadata": {},
   "outputs": [
    {
     "name": "stdout",
     "output_type": "stream",
     "text": [
      "hi\n"
     ]
    }
   ],
   "source": [
    "# 입력 값도 결과 값도 없는 함수\n",
    "def say() :\n",
    "    print('hi')\n",
    "say()"
   ]
  },
  {
   "cell_type": "code",
   "execution_count": 6,
   "id": "6c17a415",
   "metadata": {},
   "outputs": [
    {
     "data": {
      "text/plain": [
       "21"
      ]
     },
     "execution_count": 6,
     "metadata": {},
     "output_type": "execute_result"
    }
   ],
   "source": [
    "# 여러 개의 입력 값을 받는 함수\n",
    "def sum_many(*args) : # *args 여러 개의 입력 값\n",
    "    sum = 0\n",
    "    for i in args :\n",
    "        sum += i\n",
    "    return sum\n",
    "sum_many(1,2,3,4,5,6)"
   ]
  },
  {
   "cell_type": "code",
   "execution_count": 8,
   "id": "79abc71d",
   "metadata": {},
   "outputs": [
    {
     "name": "stdout",
     "output_type": "stream",
     "text": [
      "숫자를 입력하세요1 5 2\n"
     ]
    },
    {
     "ename": "ValueError",
     "evalue": "invalid literal for int() with base 10: '1 5 2'",
     "output_type": "error",
     "traceback": [
      "\u001b[1;31m---------------------------------------------------------------------------\u001b[0m",
      "\u001b[1;31mValueError\u001b[0m                                Traceback (most recent call last)",
      "\u001b[1;32m<ipython-input-8-f412a8ffcd6b>\u001b[0m in \u001b[0;36m<module>\u001b[1;34m\u001b[0m\n\u001b[0;32m      4\u001b[0m         \u001b[0msum\u001b[0m \u001b[1;33m+=\u001b[0m \u001b[0mi\u001b[0m\u001b[1;33m\u001b[0m\u001b[1;33m\u001b[0m\u001b[0m\n\u001b[0;32m      5\u001b[0m     \u001b[1;32mreturn\u001b[0m \u001b[0msum\u001b[0m\u001b[1;33m\u001b[0m\u001b[1;33m\u001b[0m\u001b[0m\n\u001b[1;32m----> 6\u001b[1;33m \u001b[0msum_many\u001b[0m\u001b[1;33m(\u001b[0m\u001b[0mint\u001b[0m\u001b[1;33m(\u001b[0m\u001b[0minput\u001b[0m\u001b[1;33m(\u001b[0m\u001b[1;34m'숫자를 입력하세요'\u001b[0m\u001b[1;33m)\u001b[0m\u001b[1;33m)\u001b[0m\u001b[1;33m)\u001b[0m\u001b[1;33m\u001b[0m\u001b[1;33m\u001b[0m\u001b[0m\n\u001b[0m",
      "\u001b[1;31mValueError\u001b[0m: invalid literal for int() with base 10: '1 5 2'"
     ]
    }
   ],
   "source": [
    "def sum_many(*args) : # *args 여러 개의 입력 값\n",
    "    sum = 0\n",
    "    for i in args :\n",
    "        sum += i\n",
    "    return sum\n",
    "sum_many(int(input('숫자를 입력하세요')))"
   ]
  },
  {
   "cell_type": "code",
   "execution_count": 39,
   "id": "067c434c",
   "metadata": {},
   "outputs": [
    {
     "name": "stdout",
     "output_type": "stream",
     "text": [
      "(7, 12)\n"
     ]
    }
   ],
   "source": [
    "# 함수의 반환(결과 값)은 언제나 하나임 - 결과 값으로 튜플 값 하나로 처리\n",
    "def add_add_mul(a,b) :\n",
    "    return a + b , a * b\n",
    "result = add_add_mul(3,4)\n",
    "print(result)"
   ]
  },
  {
   "cell_type": "code",
   "execution_count": 38,
   "id": "b8f7e6d8",
   "metadata": {},
   "outputs": [
    {
     "name": "stdout",
     "output_type": "stream",
     "text": [
      "7\n"
     ]
    }
   ],
   "source": [
    "# 함수의 반환(결과 값)은 언제나 하나임 - 결과 값으로 튜플 값 하나로 처리\n",
    "def add_add_mul(a,b) :\n",
    "    return a + b\n",
    "    return a * b\n",
    "result = add_add_mul(3,4)\n",
    "print(result)"
   ]
  },
  {
   "cell_type": "code",
   "execution_count": null,
   "id": "27408f6a",
   "metadata": {},
   "outputs": [],
   "source": []
  },
  {
   "cell_type": "code",
   "execution_count": 42,
   "id": "6fe9fc15",
   "metadata": {},
   "outputs": [
    {
     "name": "stdout",
     "output_type": "stream",
     "text": [
      "7 12\n"
     ]
    }
   ],
   "source": [
    "result1, result2 = add_add_mul(3,4)\n",
    "print(result1,result2)"
   ]
  },
  {
   "cell_type": "code",
   "execution_count": 46,
   "id": "70705257",
   "metadata": {},
   "outputs": [
    {
     "name": "stdout",
     "output_type": "stream",
     "text": [
      "15\n",
      "120\n"
     ]
    }
   ],
   "source": [
    "# add_mul 함수를 저의하여 1,2,3,4,5 를 입력 값으로 적용하여 덧셈, 곱셈 연산을 수행\n",
    "def add_mul(choice, *args) : \n",
    "    if choice == 'add' :\n",
    "        result = 0\n",
    "        for i in args :\n",
    "            result += i\n",
    "    elif choice == 'mul' :\n",
    "        result = 1\n",
    "        for i in args :\n",
    "            result *= i\n",
    "    return result\n",
    "print(add_mul('add',1,2,3,4,5))\n",
    "print(add_mul('mul',1,2,3,4,5))"
   ]
  },
  {
   "cell_type": "code",
   "execution_count": 47,
   "id": "3ca2b4de",
   "metadata": {},
   "outputs": [
    {
     "ename": "KeyboardInterrupt",
     "evalue": "Interrupted by user",
     "output_type": "error",
     "traceback": [
      "\u001b[1;31m---------------------------------------------------------------------------\u001b[0m",
      "\u001b[1;31mKeyboardInterrupt\u001b[0m                         Traceback (most recent call last)",
      "\u001b[1;32m<ipython-input-47-277bac79dd52>\u001b[0m in \u001b[0;36m<module>\u001b[1;34m\u001b[0m\n\u001b[0;32m     11\u001b[0m             \u001b[0mresult\u001b[0m \u001b[1;33m*=\u001b[0m \u001b[0mi\u001b[0m\u001b[1;33m\u001b[0m\u001b[1;33m\u001b[0m\u001b[0m\n\u001b[0;32m     12\u001b[0m     \u001b[1;32mreturn\u001b[0m \u001b[0mresult\u001b[0m\u001b[1;33m\u001b[0m\u001b[1;33m\u001b[0m\u001b[0m\n\u001b[1;32m---> 13\u001b[1;33m \u001b[0mprint\u001b[0m\u001b[1;33m(\u001b[0m\u001b[0madd_mul\u001b[0m\u001b[1;33m(\u001b[0m\u001b[1;36m1\u001b[0m\u001b[1;33m,\u001b[0m\u001b[1;36m2\u001b[0m\u001b[1;33m,\u001b[0m\u001b[1;36m3\u001b[0m\u001b[1;33m,\u001b[0m\u001b[1;36m4\u001b[0m\u001b[1;33m,\u001b[0m\u001b[1;36m5\u001b[0m\u001b[1;33m)\u001b[0m\u001b[1;33m)\u001b[0m\u001b[1;33m\u001b[0m\u001b[1;33m\u001b[0m\u001b[0m\n\u001b[0m\u001b[0;32m     14\u001b[0m \u001b[0mprint\u001b[0m\u001b[1;33m(\u001b[0m\u001b[0madd_mul\u001b[0m\u001b[1;33m(\u001b[0m\u001b[1;36m1\u001b[0m\u001b[1;33m,\u001b[0m\u001b[1;36m2\u001b[0m\u001b[1;33m,\u001b[0m\u001b[1;36m3\u001b[0m\u001b[1;33m,\u001b[0m\u001b[1;36m4\u001b[0m\u001b[1;33m,\u001b[0m\u001b[1;36m5\u001b[0m\u001b[1;33m)\u001b[0m\u001b[1;33m)\u001b[0m\u001b[1;33m\u001b[0m\u001b[1;33m\u001b[0m\u001b[0m\n",
      "\u001b[1;32m<ipython-input-47-277bac79dd52>\u001b[0m in \u001b[0;36madd_mul\u001b[1;34m(choice, *args)\u001b[0m\n\u001b[0;32m      1\u001b[0m \u001b[1;31m# add_mul 함수를 저의하여 1,2,3,4,5 를 입력 값으로 적용하여 덧셈, 곱셈 연산을 수행\u001b[0m\u001b[1;33m\u001b[0m\u001b[1;33m\u001b[0m\u001b[1;33m\u001b[0m\u001b[0m\n\u001b[0;32m      2\u001b[0m \u001b[1;32mdef\u001b[0m \u001b[0madd_mul\u001b[0m\u001b[1;33m(\u001b[0m\u001b[0mchoice\u001b[0m\u001b[1;33m,\u001b[0m \u001b[1;33m*\u001b[0m\u001b[0margs\u001b[0m\u001b[1;33m)\u001b[0m \u001b[1;33m:\u001b[0m\u001b[1;33m\u001b[0m\u001b[1;33m\u001b[0m\u001b[0m\n\u001b[1;32m----> 3\u001b[1;33m     \u001b[0mchoice\u001b[0m \u001b[1;33m=\u001b[0m \u001b[0minput\u001b[0m\u001b[1;33m(\u001b[0m\u001b[1;34m'연산 명령어를 넣어주세요'\u001b[0m\u001b[1;33m)\u001b[0m\u001b[1;33m\u001b[0m\u001b[1;33m\u001b[0m\u001b[0m\n\u001b[0m\u001b[0;32m      4\u001b[0m     \u001b[1;32mif\u001b[0m \u001b[0mchoice\u001b[0m \u001b[1;33m==\u001b[0m \u001b[1;34m'add'\u001b[0m \u001b[1;33m:\u001b[0m\u001b[1;33m\u001b[0m\u001b[1;33m\u001b[0m\u001b[0m\n\u001b[0;32m      5\u001b[0m         \u001b[0mresult\u001b[0m \u001b[1;33m=\u001b[0m \u001b[1;36m0\u001b[0m\u001b[1;33m\u001b[0m\u001b[1;33m\u001b[0m\u001b[0m\n",
      "\u001b[1;32mC:\\anaconda3\\envs\\cakd3\\lib\\site-packages\\ipykernel\\kernelbase.py\u001b[0m in \u001b[0;36mraw_input\u001b[1;34m(self, prompt)\u001b[0m\n\u001b[0;32m    858\u001b[0m                 \u001b[1;34m\"raw_input was called, but this frontend does not support input requests.\"\u001b[0m\u001b[1;33m\u001b[0m\u001b[1;33m\u001b[0m\u001b[0m\n\u001b[0;32m    859\u001b[0m             )\n\u001b[1;32m--> 860\u001b[1;33m         return self._input_request(str(prompt),\n\u001b[0m\u001b[0;32m    861\u001b[0m             \u001b[0mself\u001b[0m\u001b[1;33m.\u001b[0m\u001b[0m_parent_ident\u001b[0m\u001b[1;33m,\u001b[0m\u001b[1;33m\u001b[0m\u001b[1;33m\u001b[0m\u001b[0m\n\u001b[0;32m    862\u001b[0m             \u001b[0mself\u001b[0m\u001b[1;33m.\u001b[0m\u001b[0m_parent_header\u001b[0m\u001b[1;33m,\u001b[0m\u001b[1;33m\u001b[0m\u001b[1;33m\u001b[0m\u001b[0m\n",
      "\u001b[1;32mC:\\anaconda3\\envs\\cakd3\\lib\\site-packages\\ipykernel\\kernelbase.py\u001b[0m in \u001b[0;36m_input_request\u001b[1;34m(self, prompt, ident, parent, password)\u001b[0m\n\u001b[0;32m    902\u001b[0m             \u001b[1;32mexcept\u001b[0m \u001b[0mKeyboardInterrupt\u001b[0m\u001b[1;33m:\u001b[0m\u001b[1;33m\u001b[0m\u001b[1;33m\u001b[0m\u001b[0m\n\u001b[0;32m    903\u001b[0m                 \u001b[1;31m# re-raise KeyboardInterrupt, to truncate traceback\u001b[0m\u001b[1;33m\u001b[0m\u001b[1;33m\u001b[0m\u001b[1;33m\u001b[0m\u001b[0m\n\u001b[1;32m--> 904\u001b[1;33m                 \u001b[1;32mraise\u001b[0m \u001b[0mKeyboardInterrupt\u001b[0m\u001b[1;33m(\u001b[0m\u001b[1;34m\"Interrupted by user\"\u001b[0m\u001b[1;33m)\u001b[0m \u001b[1;32mfrom\u001b[0m \u001b[1;32mNone\u001b[0m\u001b[1;33m\u001b[0m\u001b[1;33m\u001b[0m\u001b[0m\n\u001b[0m\u001b[0;32m    905\u001b[0m             \u001b[1;32mexcept\u001b[0m \u001b[0mException\u001b[0m \u001b[1;32mas\u001b[0m \u001b[0me\u001b[0m\u001b[1;33m:\u001b[0m\u001b[1;33m\u001b[0m\u001b[1;33m\u001b[0m\u001b[0m\n\u001b[0;32m    906\u001b[0m                 \u001b[0mself\u001b[0m\u001b[1;33m.\u001b[0m\u001b[0mlog\u001b[0m\u001b[1;33m.\u001b[0m\u001b[0mwarning\u001b[0m\u001b[1;33m(\u001b[0m\u001b[1;34m\"Invalid Message:\"\u001b[0m\u001b[1;33m,\u001b[0m \u001b[0mexc_info\u001b[0m\u001b[1;33m=\u001b[0m\u001b[1;32mTrue\u001b[0m\u001b[1;33m)\u001b[0m\u001b[1;33m\u001b[0m\u001b[1;33m\u001b[0m\u001b[0m\n",
      "\u001b[1;31mKeyboardInterrupt\u001b[0m: Interrupted by user"
     ]
    }
   ],
   "source": [
    "# add_mul 함수를 저의하여 1,2,3,4,5 를 입력 값으로 적용하여 덧셈, 곱셈 연산을 수행\n",
    "def add_mul(choice, *args) : \n",
    "    choice = input('연산 명령어를 넣어주세요')\n",
    "    if choice == 'add' :\n",
    "        result = 0\n",
    "        for i in args :\n",
    "            result += i\n",
    "    elif choice == 'mul' :\n",
    "        result = 1\n",
    "        for i in args :\n",
    "            result *= i\n",
    "    return result\n",
    "print(add_mul(1,2,3,4,5))\n",
    "print(add_mul(1,2,3,4,5))\n"
   ]
  },
  {
   "cell_type": "code",
   "execution_count": 29,
   "id": "e3e9a525",
   "metadata": {},
   "outputs": [
    {
     "name": "stdout",
     "output_type": "stream",
     "text": [
      "15\n"
     ]
    }
   ],
   "source": [
    "def add_mul(a,b,c,d,e,f) : \n",
    "    if a == 'add' :\n",
    "        return b+c+d+e+f\n",
    "    elif a == 'mul' :\n",
    "        return b*c*d*e*f\n",
    "    else :\n",
    "        print('알맞은 명령을 넣어주세요')\n",
    "result = add_mul('add',1,2,3,4,5)\n",
    "print(result)"
   ]
  },
  {
   "cell_type": "code",
   "execution_count": 49,
   "id": "3f906ec0",
   "metadata": {},
   "outputs": [
    {
     "name": "stdout",
     "output_type": "stream",
     "text": [
      "나의 별명은 야호입니다\n"
     ]
    },
    {
     "data": {
      "text/plain": [
       "'아니야'"
      ]
     },
     "execution_count": 49,
     "metadata": {},
     "output_type": "execute_result"
    }
   ],
   "source": [
    "# 문자열을 출력한다는 것과 리턴값이 있다는 것은 전혀 다른 것임\n",
    "def say_nick(nick) :\n",
    "    if nick == '바보':\n",
    "        return '아니야'\n",
    "    print('나의 별명은 %s입니다' % nick)\n",
    "say_nick('야호')\n",
    "say_nick('바보')"
   ]
  },
  {
   "cell_type": "code",
   "execution_count": 59,
   "id": "99de9f23",
   "metadata": {},
   "outputs": [
    {
     "name": "stdout",
     "output_type": "stream",
     "text": [
      "나의 이름은 홀길동 입니다\n",
      "나이는 20 입니다\n",
      "남자 입니다\n"
     ]
    }
   ],
   "source": [
    "# 입력 인수에 초기 값 미리 설정하기\n",
    "\n",
    "def say_my(name, old, man=True):\n",
    "    print('나의 이름은 %s 입니다' %name)\n",
    "    print('나이는 %d 입니다' %old)\n",
    "    if man :\n",
    "        print('남자 입니다')\n",
    "    else : \n",
    "        print('여자 입니다')\n",
    "        \n",
    "say_my('홀길동',20)\n",
    "#ay_my('홀길동',20,False)\n",
    "#say_my('홀길동',20,True)"
   ]
  },
  {
   "cell_type": "code",
   "execution_count": 60,
   "id": "0c54995f",
   "metadata": {},
   "outputs": [
    {
     "ename": "SyntaxError",
     "evalue": "non-default argument follows default argument (<ipython-input-60-b81711a17ec6>, line 3)",
     "output_type": "error",
     "traceback": [
      "\u001b[1;36m  File \u001b[1;32m\"<ipython-input-60-b81711a17ec6>\"\u001b[1;36m, line \u001b[1;32m3\u001b[0m\n\u001b[1;33m    def say_my(name, man=True , old):\u001b[0m\n\u001b[1;37m               ^\u001b[0m\n\u001b[1;31mSyntaxError\u001b[0m\u001b[1;31m:\u001b[0m non-default argument follows default argument\n"
     ]
    }
   ],
   "source": [
    "# 초기값 설정 인수 뒤에 초기 값 설정하지 않은 입력 인수는 사용할 수 없음\n",
    "\n",
    "def say_my(name, man=True , old):\n",
    "    print('나의 이름은 %s 입니다' %name)\n",
    "    print('나이는 %d 입니다' %old)\n",
    "    if man :\n",
    "        print('남자 입니다')\n",
    "    else : \n",
    "        print('여자 입니다')\n",
    "        \n",
    "say_my('홀길동',20)\n",
    "#ay_my('홀길동',20,False)\n",
    "#say_my('홀길동',20,True)"
   ]
  },
  {
   "cell_type": "code",
   "execution_count": 66,
   "id": "3512a5d3",
   "metadata": {},
   "outputs": [
    {
     "name": "stdout",
     "output_type": "stream",
     "text": [
      "None\n",
      "1\n"
     ]
    }
   ],
   "source": [
    "# 함수 안에서 선언된 변수의 효력 범위\n",
    "a = 1\n",
    "def vartest(a) :\n",
    "    \n",
    "    a = a + 1\n",
    "    \n",
    "print(vartest(1))\n",
    "print(a)"
   ]
  },
  {
   "cell_type": "code",
   "execution_count": 69,
   "id": "8221f0bc",
   "metadata": {},
   "outputs": [
    {
     "name": "stdout",
     "output_type": "stream",
     "text": [
      "2\n"
     ]
    }
   ],
   "source": [
    "# 함수 안에서 함수 밖의 변수를 변경하는 방법\n",
    "a = 1\n",
    "def vartest(a) :\n",
    "    a = a + 1\n",
    "    return a # 함수 밖의 변수를 받아서 쓸 수 있다.\n",
    "a = vartest(a)\n",
    "print(a)"
   ]
  },
  {
   "cell_type": "code",
   "execution_count": 71,
   "id": "a91e9914",
   "metadata": {},
   "outputs": [
    {
     "name": "stdout",
     "output_type": "stream",
     "text": [
      "2\n"
     ]
    }
   ],
   "source": [
    "# global 명령을 이용하는 방법\n",
    "a = 1\n",
    "def vartest() :\n",
    "    global a\n",
    "    a = a + 1\n",
    "    \n",
    "vartest()\n",
    "print(a)"
   ]
  },
  {
   "cell_type": "code",
   "execution_count": 72,
   "id": "c5240248",
   "metadata": {},
   "outputs": [],
   "source": [
    "# 파일 읽고 쓰기\n",
    "f = open('test1.txt','w') #test1 이라는 텍스트 파일을 생성\n",
    "f.close()"
   ]
  },
  {
   "cell_type": "code",
   "execution_count": 2,
   "id": "601487c7",
   "metadata": {},
   "outputs": [],
   "source": [
    "f = open('test1.txt','w') \n",
    "for i in range(1,11) :\n",
    "    data = '%d번째 줄 입니다. \\n' % i\n",
    "    f.write(data) # f에 data를 쓰기\n",
    "\n",
    "f.close()"
   ]
  },
  {
   "cell_type": "code",
   "execution_count": 5,
   "id": "7bf63dda",
   "metadata": {},
   "outputs": [
    {
     "ename": "TypeError",
     "evalue": "not enough arguments for format string",
     "output_type": "error",
     "traceback": [
      "\u001b[1;31m---------------------------------------------------------------------------\u001b[0m",
      "\u001b[1;31mTypeError\u001b[0m                                 Traceback (most recent call last)",
      "\u001b[1;32m<ipython-input-5-7f7450a27c7d>\u001b[0m in \u001b[0;36m<module>\u001b[1;34m\u001b[0m\n\u001b[0;32m      3\u001b[0m \u001b[0mf\u001b[0m \u001b[1;33m=\u001b[0m \u001b[0mopen\u001b[0m\u001b[1;33m(\u001b[0m\u001b[1;34m'testtoday.txt'\u001b[0m\u001b[1;33m,\u001b[0m\u001b[1;34m'w'\u001b[0m\u001b[1;33m)\u001b[0m\u001b[1;33m\u001b[0m\u001b[1;33m\u001b[0m\u001b[0m\n\u001b[0;32m      4\u001b[0m \u001b[1;32mfor\u001b[0m \u001b[0mi\u001b[0m \u001b[1;32min\u001b[0m \u001b[0mrange\u001b[0m\u001b[1;33m(\u001b[0m\u001b[1;36m1\u001b[0m\u001b[1;33m,\u001b[0m\u001b[1;36m11\u001b[0m\u001b[1;33m)\u001b[0m \u001b[1;33m:\u001b[0m\u001b[1;33m\u001b[0m\u001b[1;33m\u001b[0m\u001b[0m\n\u001b[1;32m----> 5\u001b[1;33m     \u001b[0mdata\u001b[0m \u001b[1;33m=\u001b[0m \u001b[1;34m'%s %d 번째 동작 확인. \\n'\u001b[0m \u001b[1;33m%\u001b[0m\u001b[0mdt\u001b[0m\u001b[1;33m,\u001b[0m \u001b[0mi\u001b[0m\u001b[1;33m\u001b[0m\u001b[1;33m\u001b[0m\u001b[0m\n\u001b[0m\u001b[0;32m      6\u001b[0m     \u001b[0mf\u001b[0m\u001b[1;33m.\u001b[0m\u001b[0mwrite\u001b[0m\u001b[1;33m(\u001b[0m\u001b[0mdata\u001b[0m\u001b[1;33m)\u001b[0m\u001b[1;33m\u001b[0m\u001b[1;33m\u001b[0m\u001b[0m\n\u001b[0;32m      7\u001b[0m \u001b[1;33m\u001b[0m\u001b[0m\n",
      "\u001b[1;31mTypeError\u001b[0m: not enough arguments for format string"
     ]
    }
   ],
   "source": [
    "# datetime 을 문자열로 바꿔서 넣어보기\n",
    "from datetime import datetime\n",
    "dt = datetime.now()\n",
    "f = open('testtoday.txt','w') \n",
    "for i in range(1,11) :\n",
    "    data = '%s %d 번째 동작 확인. \\n' %dt, i\n",
    "    f.write(data)\n",
    "\n",
    "f.close()"
   ]
  },
  {
   "cell_type": "code",
   "execution_count": 7,
   "id": "0ac006de",
   "metadata": {},
   "outputs": [
    {
     "name": "stdout",
     "output_type": "stream",
     "text": [
      "1번째 줄 입니다. \n",
      "\n"
     ]
    },
    {
     "data": {
      "text/plain": [
       "<function TextIOWrapper.close()>"
      ]
     },
     "execution_count": 7,
     "metadata": {},
     "output_type": "execute_result"
    }
   ],
   "source": [
    "f = open('test1.txt','r')\n",
    "line = f.readline()\n",
    "print(line)\n",
    "f.close()"
   ]
  },
  {
   "cell_type": "code",
   "execution_count": 9,
   "id": "8833be8b",
   "metadata": {},
   "outputs": [
    {
     "name": "stdout",
     "output_type": "stream",
     "text": [
      "1번째 줄 입니다. \n",
      "\n",
      "2번째 줄 입니다. \n",
      "\n",
      "3번째 줄 입니다. \n",
      "\n",
      "4번째 줄 입니다. \n",
      "\n",
      "5번째 줄 입니다. \n",
      "\n",
      "6번째 줄 입니다. \n",
      "\n",
      "7번째 줄 입니다. \n",
      "\n",
      "8번째 줄 입니다. \n",
      "\n",
      "9번째 줄 입니다. \n",
      "\n",
      "10번째 줄 입니다. \n",
      "\n"
     ]
    },
    {
     "data": {
      "text/plain": [
       "<function TextIOWrapper.close()>"
      ]
     },
     "execution_count": 9,
     "metadata": {},
     "output_type": "execute_result"
    }
   ],
   "source": [
    "f = open('test1.txt','r')\n",
    "while True :\n",
    "    line = f.readline()\n",
    "    if not line :\n",
    "        break\n",
    "    print(line)\n",
    "f.close()"
   ]
  },
  {
   "cell_type": "code",
   "execution_count": 11,
   "id": "4760dd8c",
   "metadata": {},
   "outputs": [
    {
     "ename": "TypeError",
     "evalue": "not enough arguments for format string",
     "output_type": "error",
     "traceback": [
      "\u001b[1;31m---------------------------------------------------------------------------\u001b[0m",
      "\u001b[1;31mTypeError\u001b[0m                                 Traceback (most recent call last)",
      "\u001b[1;32m<ipython-input-11-9259c5316201>\u001b[0m in \u001b[0;36m<module>\u001b[1;34m\u001b[0m\n\u001b[0;32m      4\u001b[0m \u001b[0mf\u001b[0m \u001b[1;33m=\u001b[0m \u001b[0mopen\u001b[0m\u001b[1;33m(\u001b[0m\u001b[1;34m'test2.txt'\u001b[0m\u001b[1;33m,\u001b[0m\u001b[1;34m'w'\u001b[0m\u001b[1;33m)\u001b[0m\u001b[1;33m\u001b[0m\u001b[1;33m\u001b[0m\u001b[0m\n\u001b[0;32m      5\u001b[0m \u001b[1;32mif\u001b[0m \u001b[0mi\u001b[0m \u001b[1;32min\u001b[0m \u001b[0mrange\u001b[0m\u001b[1;33m(\u001b[0m\u001b[1;36m1\u001b[0m\u001b[1;33m,\u001b[0m\u001b[1;36m5\u001b[0m\u001b[1;33m)\u001b[0m \u001b[1;33m:\u001b[0m\u001b[1;33m\u001b[0m\u001b[1;33m\u001b[0m\u001b[0m\n\u001b[1;32m----> 6\u001b[1;33m     \u001b[0mdata\u001b[0m \u001b[1;33m=\u001b[0m \u001b[1;34m'%s %d동 작 발생'\u001b[0m \u001b[1;33m%\u001b[0m\u001b[0mdt\u001b[0m\u001b[1;33m.\u001b[0m\u001b[0mhour\u001b[0m\u001b[1;33m,\u001b[0m\u001b[0mi\u001b[0m\u001b[1;33m\u001b[0m\u001b[1;33m\u001b[0m\u001b[0m\n\u001b[0m\u001b[0;32m      7\u001b[0m     \u001b[0mf\u001b[0m\u001b[1;33m.\u001b[0m\u001b[0mwrite\u001b[0m\u001b[1;33m(\u001b[0m\u001b[0mdata\u001b[0m\u001b[1;33m)\u001b[0m\u001b[1;33m\u001b[0m\u001b[1;33m\u001b[0m\u001b[0m\n\u001b[0;32m      8\u001b[0m \u001b[0mf\u001b[0m\u001b[1;33m.\u001b[0m\u001b[0mclose\u001b[0m\u001b[1;33m(\u001b[0m\u001b[1;33m)\u001b[0m\u001b[1;33m\u001b[0m\u001b[1;33m\u001b[0m\u001b[0m\n",
      "\u001b[1;31mTypeError\u001b[0m: not enough arguments for format string"
     ]
    }
   ],
   "source": [
    "from datetime import datetime\n",
    "dt = datetime.now()\n",
    "dt1 = str(dt.hour)\n",
    "f = open('test2.txt','w')\n",
    "if i in range(1,5) :\n",
    "    data = '%d %d동 작 발생' %dt.hour,i\n",
    "    f.write(data)\n",
    "f.close()"
   ]
  },
  {
   "cell_type": "code",
   "execution_count": 13,
   "id": "6a48e9a1",
   "metadata": {},
   "outputs": [
    {
     "name": "stdout",
     "output_type": "stream",
     "text": [
      "1번째 줄 입니다. \n",
      "2번째 줄 입니다. \n",
      "3번째 줄 입니다. \n",
      "4번째 줄 입니다. \n",
      "5번째 줄 입니다. \n",
      "6번째 줄 입니다. \n",
      "7번째 줄 입니다. \n",
      "8번째 줄 입니다. \n",
      "9번째 줄 입니다. \n",
      "10번째 줄 입니다. \n",
      "\n"
     ]
    }
   ],
   "source": [
    "# f.read()는 파일 내용 전체를 문자열로 반환\n",
    "f = open('test1.txt','r')\n",
    "data = f.read()\n",
    "print(data)\n",
    "f.close()"
   ]
  },
  {
   "cell_type": "code",
   "execution_count": 17,
   "id": "6466d49f",
   "metadata": {},
   "outputs": [
    {
     "data": {
      "text/plain": [
       "<function TextIOWrapper.close()>"
      ]
     },
     "execution_count": 17,
     "metadata": {},
     "output_type": "execute_result"
    }
   ],
   "source": [
    "f = open('test1.txt','a')\n",
    "for i in range(11,16) :\n",
    "    data = '%d번째 줄 입니다. \\n' % i\n",
    "    f.write(data)\n",
    "f.close()"
   ]
  },
  {
   "cell_type": "code",
   "execution_count": 18,
   "id": "275d90c9",
   "metadata": {},
   "outputs": [
    {
     "name": "stdout",
     "output_type": "stream",
     "text": [
      "1번째 줄 입니다. \n",
      "2번째 줄 입니다. \n",
      "3번째 줄 입니다. \n",
      "4번째 줄 입니다. \n",
      "5번째 줄 입니다. \n",
      "6번째 줄 입니다. \n",
      "7번째 줄 입니다. \n",
      "8번째 줄 입니다. \n",
      "9번째 줄 입니다. \n",
      "10번째 줄 입니다. \n",
      "\n"
     ]
    }
   ],
   "source": [
    "f = open('test1.txt','r')\n",
    "data = f.read()\n",
    "print(data)\n",
    "f.close()"
   ]
  },
  {
   "cell_type": "code",
   "execution_count": 19,
   "id": "2a65e1fd",
   "metadata": {},
   "outputs": [],
   "source": [
    "# with 문과 같이 사용 close를 안해줘도 됨\n",
    "with open('foo.txt','w') as f:\n",
    "    f.write('파이썬을 배웁시다')\n"
   ]
  },
  {
   "cell_type": "code",
   "execution_count": 23,
   "id": "92b944e5",
   "metadata": {},
   "outputs": [
    {
     "name": "stdout",
     "output_type": "stream",
     "text": [
      "파이썬을 배웁시다\n"
     ]
    }
   ],
   "source": [
    "with open('foo.txt','r') as f:\n",
    "    data = f.read()\n",
    "    print(data)\n",
    "    "
   ]
  },
  {
   "cell_type": "code",
   "execution_count": 26,
   "id": "ed3ba585",
   "metadata": {},
   "outputs": [],
   "source": [
    "with open('text1.txt','w') as f :\n",
    "    for i in range(1,50) :\n",
    "        data = f.write('%d 번째 가나다라마바사 \\n' % i)\n",
    "        "
   ]
  },
  {
   "cell_type": "code",
   "execution_count": 28,
   "id": "812a325e",
   "metadata": {},
   "outputs": [],
   "source": [
    "with open('text1.txt','a') as f :\n",
    "    for i in range(51,100) :\n",
    "        data = f.write('%d 번째 가나다라마바사 \\n' % i)\n",
    "        "
   ]
  },
  {
   "cell_type": "code",
   "execution_count": 30,
   "id": "b8c1ad23",
   "metadata": {},
   "outputs": [
    {
     "name": "stdout",
     "output_type": "stream",
     "text": [
      "1 번째 가나다라마바사 \n",
      "2 번째 가나다라마바사 \n",
      "3 번째 가나다라마바사 \n",
      "4 번째 가나다라마바사 \n",
      "5 번째 가나다라마바사 \n",
      "6 번째 가나다라마바사 \n",
      "7 번째 가나다라마바사 \n",
      "8 번째 가나다라마바사 \n",
      "9 번째 가나다라마바사 \n",
      "10 번째 가나다라마바사 \n",
      "11 번째 가나다라마바사 \n",
      "12 번째 가나다라마바사 \n",
      "13 번째 가나다라마바사 \n",
      "14 번째 가나다라마바사 \n",
      "15 번째 가나다라마바사 \n",
      "16 번째 가나다라마바사 \n",
      "17 번째 가나다라마바사 \n",
      "18 번째 가나다라마바사 \n",
      "19 번째 가나다라마바사 \n",
      "20 번째 가나다라마바사 \n",
      "21 번째 가나다라마바사 \n",
      "22 번째 가나다라마바사 \n",
      "23 번째 가나다라마바사 \n",
      "24 번째 가나다라마바사 \n",
      "25 번째 가나다라마바사 \n",
      "26 번째 가나다라마바사 \n",
      "27 번째 가나다라마바사 \n",
      "28 번째 가나다라마바사 \n",
      "29 번째 가나다라마바사 \n",
      "30 번째 가나다라마바사 \n",
      "31 번째 가나다라마바사 \n",
      "32 번째 가나다라마바사 \n",
      "33 번째 가나다라마바사 \n",
      "34 번째 가나다라마바사 \n",
      "35 번째 가나다라마바사 \n",
      "36 번째 가나다라마바사 \n",
      "37 번째 가나다라마바사 \n",
      "38 번째 가나다라마바사 \n",
      "39 번째 가나다라마바사 \n",
      "40 번째 가나다라마바사 \n",
      "41 번째 가나다라마바사 \n",
      "42 번째 가나다라마바사 \n",
      "43 번째 가나다라마바사 \n",
      "44 번째 가나다라마바사 \n",
      "45 번째 가나다라마바사 \n",
      "46 번째 가나다라마바사 \n",
      "47 번째 가나다라마바사 \n",
      "48 번째 가나다라마바사 \n",
      "49 번째 가나다라마바사 \n",
      "51 번째 가나다라마바사 \n",
      "52 번째 가나다라마바사 \n",
      "53 번째 가나다라마바사 \n",
      "54 번째 가나다라마바사 \n",
      "55 번째 가나다라마바사 \n",
      "56 번째 가나다라마바사 \n",
      "57 번째 가나다라마바사 \n",
      "58 번째 가나다라마바사 \n",
      "59 번째 가나다라마바사 \n",
      "60 번째 가나다라마바사 \n",
      "61 번째 가나다라마바사 \n",
      "62 번째 가나다라마바사 \n",
      "63 번째 가나다라마바사 \n",
      "64 번째 가나다라마바사 \n",
      "65 번째 가나다라마바사 \n",
      "66 번째 가나다라마바사 \n",
      "67 번째 가나다라마바사 \n",
      "68 번째 가나다라마바사 \n",
      "69 번째 가나다라마바사 \n",
      "70 번째 가나다라마바사 \n",
      "71 번째 가나다라마바사 \n",
      "72 번째 가나다라마바사 \n",
      "73 번째 가나다라마바사 \n",
      "74 번째 가나다라마바사 \n",
      "75 번째 가나다라마바사 \n",
      "76 번째 가나다라마바사 \n",
      "77 번째 가나다라마바사 \n",
      "78 번째 가나다라마바사 \n",
      "79 번째 가나다라마바사 \n",
      "80 번째 가나다라마바사 \n",
      "81 번째 가나다라마바사 \n",
      "82 번째 가나다라마바사 \n",
      "83 번째 가나다라마바사 \n",
      "84 번째 가나다라마바사 \n",
      "85 번째 가나다라마바사 \n",
      "86 번째 가나다라마바사 \n",
      "87 번째 가나다라마바사 \n",
      "88 번째 가나다라마바사 \n",
      "89 번째 가나다라마바사 \n",
      "90 번째 가나다라마바사 \n",
      "91 번째 가나다라마바사 \n",
      "92 번째 가나다라마바사 \n",
      "93 번째 가나다라마바사 \n",
      "94 번째 가나다라마바사 \n",
      "95 번째 가나다라마바사 \n",
      "96 번째 가나다라마바사 \n",
      "97 번째 가나다라마바사 \n",
      "98 번째 가나다라마바사 \n",
      "99 번째 가나다라마바사 \n",
      "51 번째 가나다라마바사 \n",
      "52 번째 가나다라마바사 \n",
      "53 번째 가나다라마바사 \n",
      "54 번째 가나다라마바사 \n",
      "55 번째 가나다라마바사 \n",
      "56 번째 가나다라마바사 \n",
      "57 번째 가나다라마바사 \n",
      "58 번째 가나다라마바사 \n",
      "59 번째 가나다라마바사 \n",
      "60 번째 가나다라마바사 \n",
      "61 번째 가나다라마바사 \n",
      "62 번째 가나다라마바사 \n",
      "63 번째 가나다라마바사 \n",
      "64 번째 가나다라마바사 \n",
      "65 번째 가나다라마바사 \n",
      "66 번째 가나다라마바사 \n",
      "67 번째 가나다라마바사 \n",
      "68 번째 가나다라마바사 \n",
      "69 번째 가나다라마바사 \n",
      "70 번째 가나다라마바사 \n",
      "71 번째 가나다라마바사 \n",
      "72 번째 가나다라마바사 \n",
      "73 번째 가나다라마바사 \n",
      "74 번째 가나다라마바사 \n",
      "75 번째 가나다라마바사 \n",
      "76 번째 가나다라마바사 \n",
      "77 번째 가나다라마바사 \n",
      "78 번째 가나다라마바사 \n",
      "79 번째 가나다라마바사 \n",
      "80 번째 가나다라마바사 \n",
      "81 번째 가나다라마바사 \n",
      "82 번째 가나다라마바사 \n",
      "83 번째 가나다라마바사 \n",
      "84 번째 가나다라마바사 \n",
      "85 번째 가나다라마바사 \n",
      "86 번째 가나다라마바사 \n",
      "87 번째 가나다라마바사 \n",
      "88 번째 가나다라마바사 \n",
      "89 번째 가나다라마바사 \n",
      "90 번째 가나다라마바사 \n",
      "91 번째 가나다라마바사 \n",
      "92 번째 가나다라마바사 \n",
      "93 번째 가나다라마바사 \n",
      "94 번째 가나다라마바사 \n",
      "95 번째 가나다라마바사 \n",
      "96 번째 가나다라마바사 \n",
      "97 번째 가나다라마바사 \n",
      "98 번째 가나다라마바사 \n",
      "99 번째 가나다라마바사 \n",
      "\n"
     ]
    }
   ],
   "source": [
    "with open('text1.txt','r') as f:\n",
    "    data = f.read()\n",
    "    print(data)\n",
    "    "
   ]
  },
  {
   "cell_type": "markdown",
   "id": "245f85c4",
   "metadata": {},
   "source": [
    "## 파이썬 내장함수https://docs.python.org/ko/3/library/functions.html#bin"
   ]
  },
  {
   "cell_type": "code",
   "execution_count": 38,
   "id": "f9cd95d4",
   "metadata": {},
   "outputs": [
    {
     "name": "stdout",
     "output_type": "stream",
     "text": [
      "3\n",
      "False\n",
      "True\n",
      "a\n"
     ]
    }
   ],
   "source": [
    "# 내장함수\n",
    "#print() = 함수\n",
    "#append() = 추가\n",
    "#extend() = 확장\n",
    "#abs() = 절대값\n",
    "#all() = x가 모두 참이면 True, 거짓이 하나라도 있으면 False\n",
    "#any() = x중 하나라도 참이면 True, 모두 거짓이면 False\n",
    "#chr() = 아스키 코드를 출력\n",
    "#divmob() = 몫과 나머지를 출력\n",
    "#len() = 길이를 출력\n",
    "\n",
    "print(abs(-3))\n",
    "print(all([1,2,3,0])) # x가 모두 참이면 True, 거짓이 하나라도 있으면 False\n",
    "print(any([1,2,3,0])) # x중 하나라도 참이면 True, 모두 거짓이면 False\n",
    "print(chr(97))  # 아스키 코드를 출력"
   ]
  },
  {
   "cell_type": "code",
   "execution_count": 39,
   "id": "b06c17dd",
   "metadata": {},
   "outputs": [
    {
     "data": {
      "text/plain": [
       "7"
      ]
     },
     "execution_count": 39,
     "metadata": {},
     "output_type": "execute_result"
    }
   ],
   "source": [
    "sum = lambda a,b : a+b\n",
    "sum(3,4)"
   ]
  },
  {
   "cell_type": "code",
   "execution_count": 41,
   "id": "84d58326",
   "metadata": {},
   "outputs": [
    {
     "name": "stdout",
     "output_type": "stream",
     "text": [
      "7\n",
      "12\n"
     ]
    }
   ],
   "source": [
    "myList = [lambda a, b : a + b, lambda a, b : a*b]\n",
    "print(myList[0](3,4))\n",
    "print(myList[1](3,4))"
   ]
  },
  {
   "cell_type": "code",
   "execution_count": 42,
   "id": "76a8b0c3",
   "metadata": {},
   "outputs": [
    {
     "name": "stdout",
     "output_type": "stream",
     "text": [
      "6\n",
      "3\n",
      "4\n"
     ]
    }
   ],
   "source": [
    "print(len('python'))\n",
    "print(len([1,2,3]))\n",
    "print(len([1,2,'q','w']))"
   ]
  },
  {
   "cell_type": "code",
   "execution_count": 46,
   "id": "d5f84a3e",
   "metadata": {},
   "outputs": [
    {
     "name": "stdout",
     "output_type": "stream",
     "text": [
      "['p', 'y', 't', 'h', 'o', 'n']\n"
     ]
    },
    {
     "data": {
      "text/plain": [
       "[1, 2, 3]"
      ]
     },
     "execution_count": 46,
     "metadata": {},
     "output_type": "execute_result"
    }
   ],
   "source": [
    "print(list('python')) # 글자 하나하나 리스트로 나누기\n",
    "list((1,2,3)) # 튜플을 리스트로 바꾸기"
   ]
  },
  {
   "cell_type": "code",
   "execution_count": 52,
   "id": "9caf100e",
   "metadata": {},
   "outputs": [
    {
     "data": {
      "text/plain": [
       "[1, 3, 5, 7, 9]"
      ]
     },
     "execution_count": 52,
     "metadata": {},
     "output_type": "execute_result"
    }
   ],
   "source": [
    "list(range(5)) # 범위 함수를 리스트로 표현\n",
    "list(range(1,6))\n",
    "list(range(1,10,2)) # 간격을 정해 줄 수 있음 1~9까지 2 단위로"
   ]
  },
  {
   "cell_type": "code",
   "execution_count": 58,
   "id": "de6c9ef8",
   "metadata": {},
   "outputs": [
    {
     "data": {
      "text/plain": [
       "[0, -1, -2, -3, -4, -5, -6, -7, -8, -9]"
      ]
     },
     "execution_count": 58,
     "metadata": {},
     "output_type": "execute_result"
    }
   ],
   "source": [
    "list(range(0,-10,-1)) # 0 부터 - 10까지 -1단위로 내려감"
   ]
  },
  {
   "cell_type": "markdown",
   "id": "50b1423a",
   "metadata": {},
   "source": [
    "### 파이썬 기초 외장함수 https://yganalyst.github.io/data_handling/Py_study17/"
   ]
  },
  {
   "cell_type": "code",
   "execution_count": 60,
   "id": "b8002c4d",
   "metadata": {},
   "outputs": [],
   "source": [
    "#외장 함수 : 어떤 일을 할 때 어떤 라이브러리를 사용하는지를 알면 됨\n",
    "#전 세계의 파이썬 사용자들이 만든 유용한 프로그램을 모아 놓은 것이 바로 파이썬\n",
    "#라이브러리\n",
    "#파이썬 라이브러리는 파이썬을 설치할 떄 자동으로 컴퓨터에 설치"
   ]
  },
  {
   "cell_type": "code",
   "execution_count": 62,
   "id": "1a567c2d",
   "metadata": {},
   "outputs": [],
   "source": [
    "# pickle은 객체의 형태를 유지하면서 파일에 저장하고 불러올 수 있게 하는 모듈\n",
    "import pickle\n",
    "f = open('test.txt','wb') # bine 이진 = wb\n",
    "data = {1:'python',2:'you need'}\n",
    "pickle.dump(data,f)\n",
    "\n",
    "f.close()"
   ]
  },
  {
   "cell_type": "code",
   "execution_count": 64,
   "id": "2e9186cc",
   "metadata": {},
   "outputs": [
    {
     "name": "stdout",
     "output_type": "stream",
     "text": [
      "{1: 'python', 2: 'you need'}\n"
     ]
    }
   ],
   "source": [
    "import pickle\n",
    "f = open('test.txt','rb')\n",
    "data = pickle.load(f)\n",
    "print(data)\n",
    "\n",
    "f.close()"
   ]
  },
  {
   "cell_type": "code",
   "execution_count": 65,
   "id": "b3a65a00",
   "metadata": {},
   "outputs": [
    {
     "data": {
      "text/plain": [
       "'C:\\\\anaconda3\\\\envs\\\\cakd3;C:\\\\anaconda3\\\\envs\\\\cakd3\\\\Library\\\\mingw-w64\\\\bin;C:\\\\anaconda3\\\\envs\\\\cakd3\\\\Library\\\\usr\\\\bin;C:\\\\anaconda3\\\\envs\\\\cakd3\\\\Library\\\\bin;C:\\\\anaconda3\\\\envs\\\\cakd3\\\\Scripts;C:\\\\WINDOWS\\\\system32;C:\\\\WINDOWS;C:\\\\WINDOWS\\\\System32\\\\Wbem;C:\\\\WINDOWS\\\\System32\\\\WindowsPowerShell\\\\v1.0\\\\;C:\\\\WINDOWS\\\\System32\\\\OpenSSH\\\\;c:\\\\anaconda3;c:\\\\anaconda3\\\\Library\\\\mingw-w64\\\\bin;c:\\\\anaconda3\\\\Library\\\\bin;c:\\\\anaconda3\\\\Scripts;C:\\\\Users\\\\admin\\\\AppData\\\\Local\\\\Microsoft\\\\WindowsApps'"
      ]
     },
     "execution_count": 65,
     "metadata": {},
     "output_type": "execute_result"
    }
   ],
   "source": [
    "import os\n",
    "os.environ['PATH']"
   ]
  },
  {
   "cell_type": "code",
   "execution_count": 67,
   "id": "ef7fee20",
   "metadata": {},
   "outputs": [
    {
     "data": {
      "text/plain": [
       "'C:\\\\workspace\\\\cakd3\\\\programming'"
      ]
     },
     "execution_count": 67,
     "metadata": {},
     "output_type": "execute_result"
    }
   ],
   "source": [
    "%pwd"
   ]
  },
  {
   "cell_type": "code",
   "execution_count": 70,
   "id": "88bce3f4",
   "metadata": {},
   "outputs": [],
   "source": [
    "import os\n",
    "os.chdir('C:/workspace/cakd3/programming') # \\가 아니라 /"
   ]
  },
  {
   "cell_type": "code",
   "execution_count": 1,
   "id": "c99cf60d",
   "metadata": {},
   "outputs": [
    {
     "data": {
      "text/plain": [
       "'C:\\\\workspace\\\\cakd3\\\\programming'"
      ]
     },
     "execution_count": 1,
     "metadata": {},
     "output_type": "execute_result"
    }
   ],
   "source": [
    "%pwd"
   ]
  },
  {
   "cell_type": "code",
   "execution_count": 3,
   "id": "66eaef5a",
   "metadata": {},
   "outputs": [
    {
     "name": "stdout",
     "output_type": "stream",
     "text": [
      "     June 2021\n",
      "Mo Tu We Th Fr Sa Su\n",
      "    1  2  3  4  5  6\n",
      " 7  8  9 10 11 12 13\n",
      "14 15 16 17 18 19 20\n",
      "21 22 23 24 25 26 27\n",
      "28 29 30\n",
      "None\n"
     ]
    }
   ],
   "source": [
    "import calendar\n",
    "print(calendar.prmonth(2021,6))"
   ]
  },
  {
   "cell_type": "code",
   "execution_count": 7,
   "id": "4339bc65",
   "metadata": {},
   "outputs": [
    {
     "data": {
      "text/plain": [
       "(1, 30)"
      ]
     },
     "execution_count": 7,
     "metadata": {},
     "output_type": "execute_result"
    }
   ],
   "source": [
    "# 특정 날 요일 출력\n",
    "calendar.weekday(2021,12,31) # 월요일 0 부터 시작\n",
    "# (해당 월 첫 째날 요일, 해당 월의 일 수)\n",
    "calendar.monthrange(2021,6)"
   ]
  },
  {
   "cell_type": "code",
   "execution_count": 9,
   "id": "fc288d63",
   "metadata": {},
   "outputs": [
    {
     "data": {
      "text/plain": [
       "True"
      ]
     },
     "execution_count": 9,
     "metadata": {},
     "output_type": "execute_result"
    }
   ],
   "source": [
    "import webbrowser # 웹 브라우저 창 띄우기\n",
    "webbrowser.open('http://google.com')"
   ]
  },
  {
   "cell_type": "code",
   "execution_count": 13,
   "id": "83e641c0",
   "metadata": {},
   "outputs": [],
   "source": [
    "# 랜덤하게 1000명의 이름, 키와 몸무게 만들기\n",
    "import random\n",
    "hanguls = list('가나다라마바사아자차카타파하')\n",
    "hanguls\n",
    "with open('info.txt','w') as file:\n",
    "    for i in range(1000) :\n",
    "        name = random.choice(hanguls) + random.choice(hanguls)\n",
    "        height = random.randrange(140,200)\n",
    "        weight = random.randrange(40,100)\n",
    "        file.write(\"{},{},{} \\n\".format(name,height,weight))\n",
    "        \n"
   ]
  },
  {
   "cell_type": "code",
   "execution_count": null,
   "id": "9702cadd",
   "metadata": {},
   "outputs": [],
   "source": [
    "with open('info.txt','r') as file:\n",
    "    data = file.read()\n",
    "    print(data)"
   ]
  },
  {
   "cell_type": "code",
   "execution_count": 41,
   "id": "4d6af86e",
   "metadata": {},
   "outputs": [
    {
     "data": {
      "text/plain": [
       "[0, 1, 3, 4, 5, 6]"
      ]
     },
     "execution_count": 41,
     "metadata": {},
     "output_type": "execute_result"
    }
   ],
   "source": [
    "# 내장함수를 이용해서 list = [0,1,2,3,4,5,6]에서 2를 삭제 후 출력하세요\n",
    "list = [0,1,2,3,4,5,6]\n",
    "list.remove(2)\n",
    "list"
   ]
  },
  {
   "cell_type": "code",
   "execution_count": 61,
   "id": "7a30699b",
   "metadata": {},
   "outputs": [
    {
     "name": "stdout",
     "output_type": "stream",
     "text": [
      "[]\n"
     ]
    }
   ],
   "source": [
    "# 내장함수를 이용해서 list = [0,1,2,3,4,5,6]에서 모든 원소를 삭제 후 출력하세요\n",
    "list1 = [0,1,2,3,4,5,6]\n",
    "del list1[0:7] # 슬라이싱으로 여러개 선택\n",
    "print(list1)"
   ]
  },
  {
   "cell_type": "code",
   "execution_count": 65,
   "id": "2dc183b7",
   "metadata": {},
   "outputs": [
    {
     "name": "stdout",
     "output_type": "stream",
     "text": [
      "3이 포함 되어 있습니다\n"
     ]
    }
   ],
   "source": [
    "# list = [0,1,2,3,4,5,6]에 3,7이 포함되어있는지 확인하세요\n",
    "list1 = [0,1,2,3,4,5,6]\n",
    "if 3 in list1 :\n",
    "    print('3이 포함 되어 있습니다')\n",
    "elif 7 in list1:\n",
    "    print('7이 포함 되어 있습니다')\n",
    "elif 3 and 7 in list1 :\n",
    "    print('둘 다 포함 되어 있습니다')\n",
    "else :\n",
    "    print('둘 다 포함 되어 있지 않습니다')\n",
    "    "
   ]
  },
  {
   "cell_type": "code",
   "execution_count": 98,
   "id": "4e3412d4",
   "metadata": {},
   "outputs": [
    {
     "name": "stdout",
     "output_type": "stream",
     "text": [
      "갯 수를 확인할 수를 입력해주세요5\n",
      "2개 만큼 있습니다\n"
     ]
    }
   ],
   "source": [
    "#numbers 내부에 들어 있는 숫자가 몇 번 등장하는지를 출력하는 코드를 작성하세요\n",
    "numbers = [3,6,3,5,8,2,9,7,4,3,6,3,5,8,2,9,7,4]\n",
    "num = numbers.count(int(input('갯 수를 확인할 수를 입력해주세요')))\n",
    "print('%d개 있습니다'%num)\n"
   ]
  },
  {
   "cell_type": "code",
   "execution_count": 34,
   "id": "10b2de8e",
   "metadata": {},
   "outputs": [
    {
     "data": {
      "text/plain": [
       "[6, 5, 4, 3, 2, 1, 0]"
      ]
     },
     "execution_count": 34,
     "metadata": {},
     "output_type": "execute_result"
    }
   ],
   "source": [
    "# list를 [6,5,4,3,2,1,0]으로 출력하세요(2가지 방법)\n",
    "list = [0,1,2,3,4,5,6]\n",
    "list.reverse()\n",
    "#list.sort(reverse=Ture)\n",
    "list\n"
   ]
  },
  {
   "cell_type": "code",
   "execution_count": 103,
   "id": "4010e413",
   "metadata": {},
   "outputs": [
    {
     "ename": "IndentationError",
     "evalue": "unexpected indent (<ipython-input-103-ac12104a449b>, line 6)",
     "output_type": "error",
     "traceback": [
      "\u001b[1;36m  File \u001b[1;32m\"<ipython-input-103-ac12104a449b>\"\u001b[1;36m, line \u001b[1;32m6\u001b[0m\n\u001b[1;33m    if list[0] :\u001b[0m\n\u001b[1;37m    ^\u001b[0m\n\u001b[1;31mIndentationError\u001b[0m\u001b[1;31m:\u001b[0m unexpected indent\n"
     ]
    }
   ],
   "source": [
    "# list = ['a','b','c']를 for 문을 사용해서 아래와 같이 출력하세요\n",
    "# 1번째는 a 입니다\n",
    "# 2번째는 b 입니다\n",
    "# 3번째는 c 입니다\n",
    "list = ['a','b','c']\n",
    "    if list[0] :\n",
    "        print('1번째는 %s 입니다' % list[0])\n",
    "    elif list[1] :\n",
    "        print('2번째는 %s 입니다' % list[1])\n",
    "    elif list[2] :\n",
    "        print('3번째는 %s 입니다' % list[2])\n",
    "    print(list)"
   ]
  },
  {
   "cell_type": "code",
   "execution_count": 22,
   "id": "1b4f6fed",
   "metadata": {},
   "outputs": [
    {
     "name": "stdout",
     "output_type": "stream",
     "text": [
      "[0, 4, 16, 36, 64, 100, 144, 196, 256, 324]\n"
     ]
    }
   ],
   "source": [
    "#코딩을 한줄로 작성해서 동일한 결과를 출력하세요\n",
    "# list 안에서 for문을 사용 / 힌트\n",
    "# list = []\n",
    "# for i in range(0,20,2):\n",
    "#     list.append(i*i)\n",
    "# print(list)\n",
    "# [0, 4, 16, 36, 64, 100, 144, 196, 256, 324]\n",
    "list = []"
   ]
  },
  {
   "cell_type": "code",
   "execution_count": 90,
   "id": "3640800c",
   "metadata": {},
   "outputs": [
    {
     "data": {
      "text/plain": [
       "[2, 1, 0]"
      ]
     },
     "execution_count": 90,
     "metadata": {},
     "output_type": "execute_result"
    }
   ],
   "source": [
    "# list = [0,1,2,3,4,5,6,7,8,9]에서 아래외 같이 출력하세요\n",
    "list = [0,1,2,3,4,5,6,7,8,9]\n",
    "#del list[1:10:2] # 0,2,4,6,8\n",
    "#del list[0:10:2] # 1,3,5,7,9\n",
    "del list[3:10]\n",
    "list.reverse()\n",
    "list\n",
    "#[0,2,4,6,8]\n",
    "#[1,3,5,7,9]\n",
    "#[2,1,0]"
   ]
  },
  {
   "cell_type": "code",
   "execution_count": 118,
   "id": "ce3fc5be",
   "metadata": {},
   "outputs": [
    {
     "name": "stdout",
     "output_type": "stream",
     "text": [
      "a::b::c\n"
     ]
    }
   ],
   "source": [
    "# join 함수를 이용해서 ['a','b','c']을 아래와 같이 출력하세요\n",
    "# a::b::c\n",
    "l = ['a','b','c']\n",
    "result = '::'.join(l)\n",
    "print(result)"
   ]
  },
  {
   "cell_type": "code",
   "execution_count": 92,
   "id": "5da2140d",
   "metadata": {},
   "outputs": [
    {
     "data": {
      "text/plain": [
       "2"
      ]
     },
     "execution_count": 92,
     "metadata": {},
     "output_type": "execute_result"
    }
   ],
   "source": [
    "# 사용자 함수를 이용해서 여러개의 숫자를 입력하면 그 숫자들의 곱을 구하세요\n",
    "def a(*args):\n",
    "    mul = 1\n",
    "    for i in args :\n",
    "        mul *= i\n",
    "    return mul\n",
    "a(1,2)"
   ]
  },
  {
   "cell_type": "code",
   "execution_count": 117,
   "id": "5181c5c0",
   "metadata": {},
   "outputs": [
    {
     "name": "stdout",
     "output_type": "stream",
     "text": [
      "(8, 2, 15, 1)\n"
     ]
    },
    {
     "data": {
      "text/plain": [
       "tuple"
      ]
     },
     "execution_count": 117,
     "metadata": {},
     "output_type": "execute_result"
    }
   ],
   "source": [
    "#두 개의 숫자를 인자로 적용하면 4칙 연산을 수행하는 사용자 함수를 작성한 후\n",
    "#5,3을 대입한 결과를 튜플로 출력하세요. 단 소수점은 없게 처리\n",
    "def cal(a,b):\n",
    "    return a + b,a - b,a * b,int(a / b) #int로 변환하면 소수점이 사라진다\n",
    "result = cal(5,3)\n",
    "print(result)\n",
    "type(result)"
   ]
  },
  {
   "cell_type": "code",
   "execution_count": 121,
   "id": "70d407dd",
   "metadata": {},
   "outputs": [
    {
     "name": "stdout",
     "output_type": "stream",
     "text": [
      "0\n",
      "1\n"
     ]
    }
   ],
   "source": [
    "# 뺄셈, 나눗셈 멀티 계산 함수를 작성\n",
    "def multi(choice,*args):\n",
    "    if choice == '뺄셈':\n",
    "        result = 0\n",
    "        for i in args :\n",
    "            result - i\n",
    "    elif choice == '나누기' :\n",
    "        result = 1\n",
    "        for i in args :\n",
    "            result %= i\n",
    "    return result\n",
    "print(multi('뺄셈', 157,27))\n",
    "print(multi('나누기',150,15))\n",
    "        "
   ]
  },
  {
   "cell_type": "code",
   "execution_count": 76,
   "id": "573af6d6",
   "metadata": {},
   "outputs": [
    {
     "data": {
      "text/plain": [
       "2"
      ]
     },
     "execution_count": 76,
     "metadata": {},
     "output_type": "execute_result"
    }
   ],
   "source": [
    "# 아래를 완성하여 2를 출력하세요\n",
    "a = 3\n",
    "def vartest(a):\n",
    "    #global a\n",
    "    a = a - 1\n",
    "    return a\n",
    "a = vartest(a)\n",
    "#vartest()\n",
    "a\n"
   ]
  },
  {
   "cell_type": "code",
   "execution_count": 28,
   "id": "0f2d03e4",
   "metadata": {},
   "outputs": [],
   "source": [
    "# 데이터를 입력하지 않으면 종료되는 코딩을 수행하세요\n",
    "#단 반복적으로 작업을 수행할 수 있음"
   ]
  },
  {
   "cell_type": "code",
   "execution_count": 29,
   "id": "b52f3216",
   "metadata": {},
   "outputs": [],
   "source": [
    "#반복문으로 팩토리얼을 구하는 사용자 함수를 작성하고 5!, 10!를 구하세요"
   ]
  },
  {
   "cell_type": "code",
   "execution_count": 30,
   "id": "57876eb3",
   "metadata": {},
   "outputs": [],
   "source": [
    "#재귀란 '자리자신을 호출하는 것'을 의미한다. 재귀함수를 이용해서 팩토리얼을 \n",
    "#구하는 코드를 작성하고 1!, 5!, 10!를 구하세요\n",
    "#factorial(n) = n * factorail(n-1) (n >= 1)"
   ]
  },
  {
   "cell_type": "code",
   "execution_count": 31,
   "id": "3065330c",
   "metadata": {},
   "outputs": [],
   "source": [
    "#원의 면적과 둘레의 길이를 구하는 사용자 함수를 작성하여 반지름이 5와 10일 때\n",
    "#면적과 둘레를 구하세요"
   ]
  },
  {
   "cell_type": "code",
   "execution_count": 93,
   "id": "cc658d23",
   "metadata": {},
   "outputs": [],
   "source": [
    "# Q. '안녕!'을 10번 출력하는 사용자 함수를 작성하여 실행하세요."
   ]
  },
  {
   "cell_type": "code",
   "execution_count": 124,
   "id": "ce475584",
   "metadata": {},
   "outputs": [
    {
     "name": "stdout",
     "output_type": "stream",
     "text": [
      "[1, 2, 3, 4, 5]\n"
     ]
    }
   ],
   "source": [
    "# Q. 내장함수를 이용하여 [1,2,3,4,5]을 [1.0, 2.0, 3.0, 4.0, 5.0]로 변환하세요.\n",
    "list = [1,2,3,4,5]\n",
    "print(list)"
   ]
  },
  {
   "cell_type": "code",
   "execution_count": null,
   "id": "dc4441f4",
   "metadata": {},
   "outputs": [],
   "source": [
    "# Q. 내장함수 map()를 이용하여 [1,2,3,4,5]을 [1, 4, 9, 16, 25]로 변환하세요"
   ]
  }
 ],
 "metadata": {
  "kernelspec": {
   "display_name": "Python 3",
   "language": "python",
   "name": "python3"
  },
  "language_info": {
   "codemirror_mode": {
    "name": "ipython",
    "version": 3
   },
   "file_extension": ".py",
   "mimetype": "text/x-python",
   "name": "python",
   "nbconvert_exporter": "python",
   "pygments_lexer": "ipython3",
   "version": "3.8.10"
  }
 },
 "nbformat": 4,
 "nbformat_minor": 5
}
