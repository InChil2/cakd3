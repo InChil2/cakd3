{
 "cells": [
  {
   "cell_type": "markdown",
   "id": "4d8529cc",
   "metadata": {},
   "source": [
    "## 파이썬 기초"
   ]
  },
  {
   "cell_type": "markdown",
   "id": "baa52377",
   "metadata": {},
   "source": [
    "#### 파이썬 이란\n",
    "- 1990년 암스테르담의 귀도 반 로섬(Guido Van Rossum)이 개발한 인터프리터 언어\n",
    "- 컴퓨터 프로그래밍 교육을 위해 많이 사용하지만, 기업의 실무를 위해서도 많이 사용하는 언어. 구글에서 만든 소프트웨어의 50%이상이 파이썬으로 작성\n",
    "\n",
    "#### 파이썬의 특징\n",
    "- 파이썬은 인간다운 언어이다\n",
    "- 파이썬은 문법이 쉬워 빠르게 배울 수 있다\n",
    "- 파이썬은 무료이지만 강력하다\n",
    "- 파이썬은 간결하다\n",
    "- 파이썬은 프로그래밍을 즐기게 해준다\n",
    "- 파이썬은 개발 속도가 빠르다\n",
    "\n",
    "#### 파이썬으로 할 수 있는 일\n",
    "- 시스템 유틸리티 제작\n",
    "- GUI 프로그래밍\n",
    "- C/C++와의 결합\n",
    "- 웹 프로그래밍\n",
    "- 수치 연산 프로그래밍\n",
    "- 데이터베이스 프로그래밍\n",
    "- 데이터 분석, 사물 인터넷\n",
    "\n",
    "#### 참조\n",
    "- 표현식 : 어떠한 값을 만들어 내는 간단한 코드. 273, 10 + 20 + 30, \"Python Programming\"\n",
    "- 문장 : 표현식이 하나 이상 모이면 문장. print(\"Hello\")\n",
    "- 프로그램 : 문장이 모여서 프로그램\n",
    "- 식별자 : 프로그램밍 언어에서 이름을 붙일 때 사용하는 단어. 주로 변수 또는 함수 이름 등으로 사용\n",
    "- 주석 : 프로그램을 설명하기 위해 사용. # 기호로 주석 처리\n",
    "- 연산자 : 스스로 값이 되는 것이 아니고 값과 값 사이에 무언가 기능을 적용할 때 사용\n",
    "- 자료 : 리터럴이라고 하는데 숫자이든 문자이든 어떠한 값 자체를 의미. 1, 10, \"Hello\"\n",
    "- 키워드 : 파이썬이 만들어질 때 이미 사용하겠다고 예약해 놓는 것. False, None, True, ...\n",
    "- 프로그램밍 언어에서 사용자가 이름을 정할 때 키워드는 사용할 수 없음"
   ]
  },
  {
   "cell_type": "code",
   "execution_count": 3,
   "id": "7183f1db",
   "metadata": {},
   "outputs": [
    {
     "name": "stdout",
     "output_type": "stream",
     "text": [
      "Python 3.8.10\n"
     ]
    }
   ],
   "source": [
    "!python -V"
   ]
  },
  {
   "cell_type": "code",
   "execution_count": 7,
   "id": "39091224",
   "metadata": {},
   "outputs": [
    {
     "name": "stdout",
     "output_type": "stream",
     "text": [
      "273\n",
      "60\n"
     ]
    },
    {
     "data": {
      "text/plain": [
       "'python programming'"
      ]
     },
     "execution_count": 7,
     "metadata": {},
     "output_type": "execute_result"
    }
   ],
   "source": [
    "# 표현식\n",
    "print(273)\n",
    "print(10+20+30)\n",
    "\"python programming\""
   ]
  },
  {
   "cell_type": "code",
   "execution_count": 8,
   "id": "dd8ac23c",
   "metadata": {},
   "outputs": [
    {
     "name": "stdout",
     "output_type": "stream",
     "text": [
      "52 Hello Python 8\n"
     ]
    }
   ],
   "source": [
    "# 표현식이 하나 이상씩 모이면 문장\n",
    "print(52, 'Hello Python', 5+3)"
   ]
  },
  {
   "cell_type": "code",
   "execution_count": 10,
   "id": "c0dbd1ec",
   "metadata": {},
   "outputs": [
    {
     "name": "stdout",
     "output_type": "stream",
     "text": [
      "3\n"
     ]
    }
   ],
   "source": [
    "# 문장이 모여서 프로그램\n",
    "a=1;b=2;c=a+b;\n",
    "print(c)"
   ]
  },
  {
   "cell_type": "code",
   "execution_count": 11,
   "id": "3ee4147e",
   "metadata": {},
   "outputs": [
    {
     "name": "stdout",
     "output_type": "stream",
     "text": [
      "['False', 'None', 'True', 'and', 'as', 'assert', 'async', 'await', 'break', 'class', 'continue', 'def', 'del', 'elif', 'else', 'except', 'finally', 'for', 'from', 'global', 'if', 'import', 'in', 'is', 'lambda', 'nonlocal', 'not', 'or', 'pass', 'raise', 'return', 'try', 'while', 'with', 'yield']\n"
     ]
    }
   ],
   "source": [
    "# keyword\n",
    "import keyword\n",
    "print(keyword.kwlist)"
   ]
  },
  {
   "cell_type": "markdown",
   "id": "e078cd03",
   "metadata": {},
   "source": [
    "식별자 기본 규칙\n",
    "- 키워드를 사용하면 안된다.\n",
    "- 특수문자는 언더 바(_) 만 사용한다.\n",
    "- 숫자로 시작하면 안된다.\n",
    "- 공백을 포함할 수 없다."
   ]
  },
  {
   "cell_type": "code",
   "execution_count": null,
   "id": "a6c23873",
   "metadata": {},
   "outputs": [],
   "source": [
    "alpha\n",
    "break # 키워드\n",
    "alpha10\n",
    "_alpha\n",
    "273alpha # 숫자\n",
    "AlpHa\n",
    "ALPHA\n",
    "has space # 공백"
   ]
  },
  {
   "cell_type": "markdown",
   "id": "7280c7c9",
   "metadata": {},
   "source": [
    "파이썬은 snake_case와 CamelCase를 모두 사용\n",
    "- itemlist     item_list     ItemList\n",
    "- loginstatus  login_status  LoginStatus\n",
    "- 캐멀 케이스(대문자로 시작) 클래스\n",
    "- 스네이크 케이스(소문자로 시작) 뒤에 ()가 있다 - 함수\n",
    "- 스네이크 케이스(소문자로 시작) 뒤에 ()가 없다 - 변수"
   ]
  },
  {
   "cell_type": "code",
   "execution_count": 12,
   "id": "57dd79be",
   "metadata": {},
   "outputs": [
    {
     "name": "stdout",
     "output_type": "stream",
     "text": [
      "3이 있습니다\n"
     ]
    }
   ],
   "source": [
    "# 사람이 생각하는 방식을 그대로 표현할 수 있는 언어\n",
    "if 3 in [1,2,3,4]: print('3이 있습니다')"
   ]
  },
  {
   "cell_type": "code",
   "execution_count": 13,
   "id": "8c0abc62",
   "metadata": {},
   "outputs": [
    {
     "name": "stdout",
     "output_type": "stream",
     "text": [
      "123\n",
      "-123\n",
      "0\n",
      "1.23\n",
      "127\n",
      "2748\n"
     ]
    }
   ],
   "source": [
    "# 파이썬 자료형 - 숫자형(정수, 실수, 8진수, 16진수)\n",
    "a = 123\n",
    "b = -123\n",
    "c = 0\n",
    "d = 1.23\n",
    "e = 0o177 # 8진수 0O 또는 00으로 시작\n",
    "f = 0xABC # 16진수 0x로 시작\n",
    "print(a)\n",
    "print(b)\n",
    "print(c)\n",
    "print(d)\n",
    "print(e)\n",
    "print(f)"
   ]
  },
  {
   "cell_type": "code",
   "execution_count": 15,
   "id": "4bb827c0",
   "metadata": {},
   "outputs": [
    {
     "name": "stdout",
     "output_type": "stream",
     "text": [
      "10\n",
      "2\n",
      "12\n",
      "20\n",
      "5.0\n",
      "0\n",
      "5\n",
      "8\n"
     ]
    }
   ],
   "source": [
    "# 사칙연산\n",
    "a = 10\n",
    "b = 2\n",
    "c = a + b\n",
    "d = a * b\n",
    "e = a / b\n",
    "f = a % b  # 나머지\n",
    "g = a // b # 몫\n",
    "h = 2 ** 3 # 제곱\n",
    "print(a)\n",
    "print(b)\n",
    "print(c)\n",
    "print(d)\n",
    "print(e)\n",
    "print(f)\n",
    "print(g)\n",
    "print(h)"
   ]
  },
  {
   "cell_type": "code",
   "execution_count": 19,
   "id": "45a6a369",
   "metadata": {},
   "outputs": [
    {
     "ename": "TypeError",
     "evalue": "can only concatenate str (not \"int\") to str",
     "output_type": "error",
     "traceback": [
      "\u001b[1;31m---------------------------------------------------------------------------\u001b[0m",
      "\u001b[1;31mTypeError\u001b[0m                                 Traceback (most recent call last)",
      "\u001b[1;32m<ipython-input-19-264f3eee254a>\u001b[0m in \u001b[0;36m<module>\u001b[1;34m\u001b[0m\n\u001b[0;32m      2\u001b[0m \u001b[0mstring\u001b[0m \u001b[1;33m=\u001b[0m \u001b[1;34m\"문자열 \"\u001b[0m\u001b[1;33m\u001b[0m\u001b[1;33m\u001b[0m\u001b[0m\n\u001b[0;32m      3\u001b[0m \u001b[0mnumber\u001b[0m \u001b[1;33m=\u001b[0m \u001b[1;36m273\u001b[0m\u001b[1;33m\u001b[0m\u001b[1;33m\u001b[0m\u001b[0m\n\u001b[1;32m----> 4\u001b[1;33m \u001b[0mstring\u001b[0m \u001b[1;33m+\u001b[0m \u001b[0mnumber\u001b[0m\u001b[1;33m\u001b[0m\u001b[1;33m\u001b[0m\u001b[0m\n\u001b[0m",
      "\u001b[1;31mTypeError\u001b[0m: can only concatenate str (not \"int\") to str"
     ]
    }
   ],
   "source": [
    "# 다른 타입간 연산은 안됨\n",
    "string = \"문자열 \"\n",
    "number = 273\n",
    "string + number"
   ]
  },
  {
   "cell_type": "code",
   "execution_count": 21,
   "id": "36e39552",
   "metadata": {},
   "outputs": [
    {
     "data": {
      "text/plain": [
       "int"
      ]
     },
     "execution_count": 21,
     "metadata": {},
     "output_type": "execute_result"
    }
   ],
   "source": [
    "a = 10\n",
    "a = \"문자\"\n",
    "a = 100\n",
    "type(a)"
   ]
  },
  {
   "cell_type": "code",
   "execution_count": 24,
   "id": "ff3f39f3",
   "metadata": {},
   "outputs": [
    {
     "data": {
      "text/plain": [
       "200"
      ]
     },
     "execution_count": 24,
     "metadata": {},
     "output_type": "execute_result"
    }
   ],
   "source": [
    "# 복합 대입 연산자\n",
    "num = 10\n",
    "num += 10\n",
    "num *= 10\n",
    "num"
   ]
  },
  {
   "cell_type": "code",
   "execution_count": 26,
   "id": "3a979a46",
   "metadata": {},
   "outputs": [
    {
     "name": "stdout",
     "output_type": "stream",
     "text": [
      "인사말을 입력하세요: 안녕하세요.\n"
     ]
    },
    {
     "data": {
      "text/plain": [
       "'안녕하세요.'"
      ]
     },
     "execution_count": 26,
     "metadata": {},
     "output_type": "execute_result"
    }
   ],
   "source": [
    "# 사용자 입력\n",
    "input('인사말을 입력하세요: ')"
   ]
  },
  {
   "cell_type": "code",
   "execution_count": 28,
   "id": "581ee25c",
   "metadata": {},
   "outputs": [
    {
     "name": "stdout",
     "output_type": "stream",
     "text": [
      "숫자를 입력하세요: 5\n",
      "5\n"
     ]
    },
    {
     "data": {
      "text/plain": [
       "str"
      ]
     },
     "execution_count": 28,
     "metadata": {},
     "output_type": "execute_result"
    }
   ],
   "source": [
    "num = input('숫자를 입력하세요: ')\n",
    "print(num)\n",
    "type(num)"
   ]
  },
  {
   "cell_type": "code",
   "execution_count": 29,
   "id": "9cae784e",
   "metadata": {},
   "outputs": [
    {
     "name": "stdout",
     "output_type": "stream",
     "text": [
      "숫자를 입력하세요5\n",
      "숫자를 입력하세요5\n",
      "55\n"
     ]
    }
   ],
   "source": [
    "num1 = input('숫자를 입력하세요')\n",
    "num2 = input('숫자를 입력하세요')\n",
    "print(num1 + num2)"
   ]
  },
  {
   "cell_type": "code",
   "execution_count": 30,
   "id": "de973308",
   "metadata": {},
   "outputs": [
    {
     "name": "stdout",
     "output_type": "stream",
     "text": [
      "숫자를 입력하세요5\n",
      "숫자를 입력하세요5\n",
      "10\n"
     ]
    }
   ],
   "source": [
    "# input() 함수를 사용하면 숫자도 문자로 전환되어 숫자연산을 위한 변환 필요\n",
    "num1 = input('숫자를 입력하세요')\n",
    "num1_n = int(num1)\n",
    "num2 = input('숫자를 입력하세요')\n",
    "num2_n = int(num2)\n",
    "print(num1_n + num2_n)"
   ]
  },
  {
   "cell_type": "code",
   "execution_count": null,
   "id": "c8958268",
   "metadata": {},
   "outputs": [],
   "source": [
    "# Q. 3과 3.3을 입력하고 숫자 연산을 수행하여 6.3을 출력하세요."
   ]
  },
  {
   "cell_type": "code",
   "execution_count": 31,
   "id": "de0c1442",
   "metadata": {},
   "outputs": [
    {
     "name": "stdout",
     "output_type": "stream",
     "text": [
      "입력A> 3\n",
      "입력B> 3.3\n",
      "6.3\n"
     ]
    }
   ],
   "source": [
    "# A.\n",
    "String_a = input(\"입력A> \")\n",
    "int_a = int(String_a)\n",
    "String_b = input(\"입력B> \")\n",
    "float_b = float(String_b)\n",
    "print(int_a + float_b)"
   ]
  },
  {
   "cell_type": "code",
   "execution_count": null,
   "id": "053ea39e",
   "metadata": {},
   "outputs": [],
   "source": [
    "# Q. a = 52와 b = 52.273일때 a+b는 5252.273으로 출력되도록 a와 b를 문자열 \n",
    "# 자료형으로 변환하세요."
   ]
  },
  {
   "cell_type": "code",
   "execution_count": 32,
   "id": "6aed79fc",
   "metadata": {},
   "outputs": [
    {
     "name": "stdout",
     "output_type": "stream",
     "text": [
      "5252.273\n"
     ]
    }
   ],
   "source": [
    "# A.\n",
    "a = str(52)\n",
    "b = str(52.273)\n",
    "print(a+b)"
   ]
  },
  {
   "cell_type": "code",
   "execution_count": 36,
   "id": "4aae9fd7",
   "metadata": {},
   "outputs": [
    {
     "name": "stdout",
     "output_type": "stream",
     "text": [
      "python's value is great\n"
     ]
    }
   ],
   "source": [
    "# 문자열 : \"\", '', \"\"\" \"\"\", ''' '''\n",
    "p1 = \"python's value is great\"\n",
    "# p2 = 'python's value is great'\n",
    "print(p1)"
   ]
  },
  {
   "cell_type": "code",
   "execution_count": 37,
   "id": "fe6884a2",
   "metadata": {},
   "outputs": [
    {
     "data": {
      "text/plain": [
       "'\"python is valuable\" he says'"
      ]
     },
     "execution_count": 37,
     "metadata": {},
     "output_type": "execute_result"
    }
   ],
   "source": [
    "s1 = '\"python is valuable\" he says'\n",
    "s1"
   ]
  },
  {
   "cell_type": "code",
   "execution_count": 38,
   "id": "a25c5497",
   "metadata": {},
   "outputs": [
    {
     "data": {
      "text/plain": [
       "\"python's value is great\""
      ]
     },
     "execution_count": 38,
     "metadata": {},
     "output_type": "execute_result"
    }
   ],
   "source": [
    "s2 = 'python\\'s value is great'\n",
    "s2"
   ]
  },
  {
   "cell_type": "code",
   "execution_count": 41,
   "id": "9c4c0dc5",
   "metadata": {},
   "outputs": [
    {
     "name": "stdout",
     "output_type": "stream",
     "text": [
      "Once you study data analysis\n",
      "You need Pythin\n",
      "Once you study data analysis\n",
      "You need Pythin\n",
      "nce you study data analysis\n",
      "You need Pythin\n"
     ]
    }
   ],
   "source": [
    "y1 = \"Once you study data analysis\\nYou need Pythin\"\n",
    "print(y1)\n",
    "y2 = '''Once you study data analysis\n",
    "You need Pythin'''\n",
    "print(y2)\n",
    "y3 = \"\"\"nce you study data analysis\n",
    "You need Pythin\"\"\"\n",
    "print(y3)"
   ]
  },
  {
   "cell_type": "code",
   "execution_count": 44,
   "id": "26e88c82",
   "metadata": {},
   "outputs": [
    {
     "name": "stdout",
     "output_type": "stream",
     "text": [
      "Python is easy to learn\n",
      "PythonPythonPython\n",
      "====================\n"
     ]
    }
   ],
   "source": [
    "# 문자열 연산\n",
    "a1 = 'Python'\n",
    "a2 = ' is easy to learn'\n",
    "print(a1 + a2)\n",
    "print(a1 * 3)\n",
    "print(\"=\" * 20)"
   ]
  },
  {
   "cell_type": "code",
   "execution_count": 45,
   "id": "0422db75",
   "metadata": {},
   "outputs": [
    {
     "name": "stdout",
     "output_type": "stream",
     "text": [
      "[1, 'a', 'abc', [1, 2, 3, 4, 5], ['a', 'b', 'c']]\n"
     ]
    }
   ],
   "source": [
    "# 자료형 - List\n",
    "# 리스트는 [] 로 표시하며 []안의 요소를 콤마로 구분하여 순서있게 나열\n",
    "list1 = [1,2,3,4,5]\n",
    "list2 = ['a','b','c']\n",
    "list3 = [1,'a','abc',[1,2,3,4,5],['a','b','c']]\n",
    "print(list3)"
   ]
  },
  {
   "cell_type": "code",
   "execution_count": 55,
   "id": "8966f686",
   "metadata": {},
   "outputs": [
    {
     "data": {
      "text/plain": [
       "'b'"
      ]
     },
     "execution_count": 55,
     "metadata": {},
     "output_type": "execute_result"
    }
   ],
   "source": [
    "# 인덱싱\n",
    "list1 = [1,2,3,4,5]\n",
    "list1[:]\n",
    "list3[2]\n",
    "list3[3][4]\n",
    "list3[4][1]"
   ]
  },
  {
   "cell_type": "code",
   "execution_count": 61,
   "id": "1b5f20c5",
   "metadata": {},
   "outputs": [
    {
     "name": "stdout",
     "output_type": "stream",
     "text": [
      "[1, 1, 2, 3, 4, 5, 6, 7, 8, 9]\n",
      "['a', 'a', 'c']\n",
      "['a', 'c']\n"
     ]
    }
   ],
   "source": [
    "# 리스트 수정, 삭제\n",
    "\n",
    "a = [0, 1, 2, 3, 4, 5, 6, 7, 8, 9]\n",
    "b = ['a','b','c']\n",
    "a[0] = 1\n",
    "print(a)\n",
    "b[1] = 'a'\n",
    "print(b)\n",
    "del b[0]\n",
    "print(b)"
   ]
  },
  {
   "cell_type": "code",
   "execution_count": 63,
   "id": "5243e0e1",
   "metadata": {},
   "outputs": [
    {
     "data": {
      "text/plain": [
       "[1, 1, 2, 3, 4, 5, 6, 7, 8, 9, 'a', 1]"
      ]
     },
     "execution_count": 63,
     "metadata": {},
     "output_type": "execute_result"
    }
   ],
   "source": [
    "c = a + b\n",
    "c[-1] = 1\n",
    "c"
   ]
  },
  {
   "cell_type": "code",
   "execution_count": 64,
   "id": "ca0e9f04",
   "metadata": {},
   "outputs": [
    {
     "data": {
      "text/plain": [
       "[1, 1, 2, 3, 4, 5, 6, 7, 8, 9, 2, 1]"
      ]
     },
     "execution_count": 64,
     "metadata": {},
     "output_type": "execute_result"
    }
   ],
   "source": [
    "c[-2] = 2\n",
    "c"
   ]
  },
  {
   "cell_type": "code",
   "execution_count": 68,
   "id": "5b1090e5",
   "metadata": {},
   "outputs": [
    {
     "name": "stdout",
     "output_type": "stream",
     "text": [
      "[1, 1, 1, 2, 2, 3, 4, 5, 6, 7, 8, 9]\n",
      "[9, 8, 7, 6, 5, 4, 3, 2, 2, 1, 1, 1]\n",
      "[9, 8, 7, 6, 5, 4, 3, 2, 2, 1, 1, 1]\n"
     ]
    }
   ],
   "source": [
    "s = [1, 1, 2, 3, 4, 5, 6, 7, 8, 9, 2, 1]\n",
    "s.sort()\n",
    "print(s)\n",
    "# 내림차순\n",
    "s_d = sorted(s, reverse=True)\n",
    "print(s_d)\n",
    "s.reverse()\n",
    "print(s)"
   ]
  },
  {
   "cell_type": "code",
   "execution_count": 73,
   "id": "5e474645",
   "metadata": {},
   "outputs": [
    {
     "name": "stdout",
     "output_type": "stream",
     "text": [
      "[73, 22, 99, 62, 4, 88, 72, 57, 47, 36, 46, 57, 91, 43, 60, 86, 20, 69, 1, 82, 89, 58, 9, 37, 85, 77, 2, 65, 42, 63, 85, 13, 78, 27, 37, 8, 11, 47, 69, 13, 24, 51, 24, 54, 21, 90, 0, 16, 95, 89, 1, 40, 76, 49, 27, 23, 63, 3, 16, 28, 97, 87, 74, 88, 34, 71, 63, 50, 23, 11, 8, 56, 59, 40, 16, 25, 72, 17, 68, 34, 35, 16, 3, 47, 17, 14, 87, 14, 27, 94, 19, 38, 94, 44, 65, 54, 83, 27, 20, 65]\n"
     ]
    },
    {
     "data": {
      "text/plain": [
       "27"
      ]
     },
     "execution_count": 73,
     "metadata": {},
     "output_type": "execute_result"
    }
   ],
   "source": [
    "# 인덱스 위치 반환\n",
    "import numpy as np\n",
    "c = np.random.randint(100, size=100).tolist()\n",
    "print(c)\n",
    "c.index(65)"
   ]
  },
  {
   "cell_type": "code",
   "execution_count": 74,
   "id": "b9cbbfe4",
   "metadata": {},
   "outputs": [
    {
     "name": "stdout",
     "output_type": "stream",
     "text": [
      "3\n"
     ]
    }
   ],
   "source": [
    "# 개수 반환\n",
    "c = [1,1,3,3,3,5,5]\n",
    "print(c.count(3))"
   ]
  },
  {
   "cell_type": "code",
   "execution_count": 2,
   "id": "10a728e5",
   "metadata": {},
   "outputs": [
    {
     "name": "stdout",
     "output_type": "stream",
     "text": [
      "[1, 2, 3, 4, 5]\n",
      "[1, 2, 3, 4, 5, 6]\n",
      "[5, 1, 2, 3, 4, 5, 6]\n"
     ]
    }
   ],
   "source": [
    "# 리스트 확장\n",
    "h = [1,2,3]\n",
    "h.extend([4,5])\n",
    "print(h)\n",
    "# 추가\n",
    "h.append(6)\n",
    "print(h)\n",
    "h.insert(0,5)\n",
    "print(h)"
   ]
  },
  {
   "cell_type": "code",
   "execution_count": 77,
   "id": "18115e31",
   "metadata": {},
   "outputs": [
    {
     "data": {
      "text/plain": [
       "'b'"
      ]
     },
     "execution_count": 77,
     "metadata": {},
     "output_type": "execute_result"
    }
   ],
   "source": [
    "# 튜플\n",
    "tuple1 = (1,2,3,4,5)\n",
    "tuple2 = ('a','b','c')\n",
    "tuple3 = (1,'a','abc',[1,2,3,4,5],['a','b','c'])\n",
    "\n",
    "tuple1[:]\n",
    "tuple3[2]\n",
    "tuple3[3][4]\n",
    "tuple3[4][1]"
   ]
  },
  {
   "cell_type": "code",
   "execution_count": 78,
   "id": "98cf7da6",
   "metadata": {},
   "outputs": [
    {
     "name": "stdout",
     "output_type": "stream",
     "text": [
      "[6, 2, 3, 4, 5]\n"
     ]
    }
   ],
   "source": [
    "list1[0] = 6\n",
    "print(list1)"
   ]
  },
  {
   "cell_type": "code",
   "execution_count": 79,
   "id": "3bd605aa",
   "metadata": {},
   "outputs": [
    {
     "ename": "TypeError",
     "evalue": "'tuple' object does not support item assignment",
     "output_type": "error",
     "traceback": [
      "\u001b[1;31m---------------------------------------------------------------------------\u001b[0m",
      "\u001b[1;31mTypeError\u001b[0m                                 Traceback (most recent call last)",
      "\u001b[1;32m<ipython-input-79-44cefd497762>\u001b[0m in \u001b[0;36m<module>\u001b[1;34m\u001b[0m\n\u001b[0;32m      1\u001b[0m \u001b[1;31m# 튜플의 요소 값은 변경할 수 없음 - 프로그램에서 그 값이 항상 변하지 않아야되는 경우 사용\u001b[0m\u001b[1;33m\u001b[0m\u001b[1;33m\u001b[0m\u001b[1;33m\u001b[0m\u001b[0m\n\u001b[1;32m----> 2\u001b[1;33m \u001b[0mtuple1\u001b[0m\u001b[1;33m[\u001b[0m\u001b[1;36m0\u001b[0m\u001b[1;33m]\u001b[0m \u001b[1;33m=\u001b[0m \u001b[1;36m6\u001b[0m\u001b[1;33m\u001b[0m\u001b[1;33m\u001b[0m\u001b[0m\n\u001b[0m\u001b[0;32m      3\u001b[0m \u001b[0mprint\u001b[0m\u001b[1;33m(\u001b[0m\u001b[0mtuple1\u001b[0m\u001b[1;33m)\u001b[0m\u001b[1;33m\u001b[0m\u001b[1;33m\u001b[0m\u001b[0m\n",
      "\u001b[1;31mTypeError\u001b[0m: 'tuple' object does not support item assignment"
     ]
    }
   ],
   "source": [
    "# 자료형 - Tuple\n",
    "# 튜플의 요소 값은 변경할 수 없음 - 프로그램에서 그 값이 항상 변하지 않아야되는 경우 사용\n",
    "tuple1[0] = 6\n",
    "print(tuple1)"
   ]
  },
  {
   "cell_type": "code",
   "execution_count": 85,
   "id": "f45b37a0",
   "metadata": {},
   "outputs": [
    {
     "name": "stdout",
     "output_type": "stream",
     "text": [
      "(1,)\n",
      "(1, 2, 3)\n",
      "(1, 2, 3, 1, 2, 3, 1, 2, 3)\n",
      "(1, 1, 2, 3)\n",
      "1\n"
     ]
    },
    {
     "data": {
      "text/plain": [
       "int"
      ]
     },
     "execution_count": 85,
     "metadata": {},
     "output_type": "execute_result"
    }
   ],
   "source": [
    "t1 = (1,) # 1개의 요소만 가질 때는 요소뒤에 콤마를 붙여야 함\n",
    "print(t1)\n",
    "t2 = 1,2,3\n",
    "print(t2)\n",
    "print(t2 * 3)\n",
    "t3 = t1 + t2\n",
    "print(t3)\n",
    "t4 = (1)\n",
    "print(t4)\n",
    "type(t4)"
   ]
  },
  {
   "cell_type": "code",
   "execution_count": 87,
   "id": "d0bf7f60",
   "metadata": {},
   "outputs": [
    {
     "name": "stdout",
     "output_type": "stream",
     "text": [
      "1\n",
      "{'a': 1, 'b': 5, 'c': 3}\n"
     ]
    }
   ],
   "source": [
    "# 자료형 - 사전(키와 값을 하나의 요소로 하는 순서가 없는 집합)\n",
    "d1 = {'a':1,'b':2,'c':3}\n",
    "print(d1['a'])\n",
    "d1['b'] = 5\n",
    "print(d1)"
   ]
  },
  {
   "cell_type": "code",
   "execution_count": 90,
   "id": "b22f4572",
   "metadata": {},
   "outputs": [
    {
     "name": "stdout",
     "output_type": "stream",
     "text": [
      "dict_keys(['a', 'b', 'c'])\n",
      "dict_values([1, 5, 3])\n",
      "dict_items([('a', 1), ('b', 5), ('c', 3)])\n"
     ]
    }
   ],
   "source": [
    "print(d1.keys())\n",
    "print(d1.values())\n",
    "print(d1.items())"
   ]
  },
  {
   "cell_type": "code",
   "execution_count": 91,
   "id": "ea926095",
   "metadata": {},
   "outputs": [
    {
     "name": "stdout",
     "output_type": "stream",
     "text": [
      "{1, 2, 3, 4, 5}\n",
      "{'H', 'l', 'e', 'o'}\n"
     ]
    }
   ],
   "source": [
    "# 자료형 - 집합, set(중복을 허용하지 않으며 순서가 없다.)\n",
    "s1 = set([1,2,5,4,3])\n",
    "s2 = set('Hello')\n",
    "print(s1)\n",
    "print(s2)"
   ]
  },
  {
   "cell_type": "code",
   "execution_count": 92,
   "id": "4e3a0c93",
   "metadata": {},
   "outputs": [
    {
     "name": "stdout",
     "output_type": "stream",
     "text": [
      "2\n",
      "l\n"
     ]
    }
   ],
   "source": [
    "# 집합은 인덱싱으로 값을 얻을 수 없으며 필요시 리스트나 튜플로 변환 후 인덱싱\n",
    "l1 = list(s1)\n",
    "print(l1[1])\n",
    "l2 = list(s2)\n",
    "print(l2[1])"
   ]
  },
  {
   "cell_type": "code",
   "execution_count": 94,
   "id": "ae4714ba",
   "metadata": {},
   "outputs": [],
   "source": [
    "# Q. s1, s2의 합집합과 교집합을 각각 리스트와 튜플로 출력하세요.\n",
    "# 합집합(s1 | s2), 교집합(s1 & s2)\n",
    "s1 = set([1, 2, 3, 4, 5, 6])\n",
    "s2 = set([4, 5, 6, 7, 8, 9])"
   ]
  },
  {
   "cell_type": "code",
   "execution_count": 95,
   "id": "3906ed68",
   "metadata": {},
   "outputs": [
    {
     "name": "stdout",
     "output_type": "stream",
     "text": [
      "[1, 2, 3, 4, 5, 6, 7, 8, 9]\n",
      "[4, 5, 6]\n"
     ]
    }
   ],
   "source": [
    "s3 = list(s1 | s2)\n",
    "s4 = list(s1 & s2)\n",
    "print(s3)\n",
    "print(s4)"
   ]
  },
  {
   "cell_type": "code",
   "execution_count": 98,
   "id": "d4634081",
   "metadata": {},
   "outputs": [
    {
     "name": "stdout",
     "output_type": "stream",
     "text": [
      "a가 li에 있습니다.\n"
     ]
    }
   ],
   "source": [
    "# 들여쓰기\n",
    "li = ['a','b','c']\n",
    "if 'a' in li:\n",
    "    print('a가 li에 있습니다.')\n",
    "else:\n",
    "    print('a가 li에 없습니다.')"
   ]
  },
  {
   "cell_type": "code",
   "execution_count": 100,
   "id": "56bb5972",
   "metadata": {},
   "outputs": [
    {
     "name": "stdout",
     "output_type": "stream",
     "text": [
      "홍길동 선수가 1등입니다.\n",
      "홍길동 선수가 1등입니다.\n"
     ]
    }
   ],
   "source": [
    "# 포멧함수\n",
    "f1 = \"{} 선수가 {}등입니다.\".format('홍길동',1)\n",
    "# f1 = \"{1} 선수가 {0}등입니다.\".format(1,'홍길동')\n",
    "print(f1)\n",
    "print(\"%s 선수가 %d등입니다.\" %(\"홍길동\",1))"
   ]
  },
  {
   "cell_type": "code",
   "execution_count": null,
   "id": "e5ce77d7",
   "metadata": {},
   "outputs": [],
   "source": [
    "파이썬은 자바보다 2배 쉽습니다."
   ]
  },
  {
   "cell_type": "code",
   "execution_count": 102,
   "id": "e768e751",
   "metadata": {},
   "outputs": [
    {
     "name": "stdout",
     "output_type": "stream",
     "text": [
      "파이썬은 자바보다 2배 쉽습니다.\n",
      "파이썬은 자바보다 2배 쉽습니다.\n"
     ]
    }
   ],
   "source": [
    "ex1 = \"{}은 {}보다 {}배 쉽습니다.\".format('파이썬','자바',2)\n",
    "print(ex1)\n",
    "print(\"%s은 %s보다 %d배 쉽습니다.\" %('파이썬','자바',2))"
   ]
  },
  {
   "cell_type": "code",
   "execution_count": 4,
   "id": "b6b04c7f",
   "metadata": {},
   "outputs": [
    {
     "name": "stdout",
     "output_type": "stream",
     "text": [
      "12345\n",
      "     12345\n",
      "12.345679\n",
      "          12.346\n"
     ]
    }
   ],
   "source": [
    "ex2 = 12345\n",
    "f2 = '{:d}'.format(ex2)\n",
    "print(f2)\n",
    "f3 = '{:10d}'.format(ex2)\n",
    "print(f3)\n",
    "ex3 = 12.3456789\n",
    "f4 = '{:f}'.format(ex3)\n",
    "print(f4)\n",
    "f5 = '{:16.3f}'.format(ex3)\n",
    "print(f5)"
   ]
  },
  {
   "cell_type": "code",
   "execution_count": 110,
   "id": "3c58914b",
   "metadata": {},
   "outputs": [
    {
     "name": "stdout",
     "output_type": "stream",
     "text": [
      "저축 증가\n"
     ]
    }
   ],
   "source": [
    "# 제어문 - if~elif~else\n",
    "# \"수입과 지출금액을 비교해서 수입이 많은면 저축 증가, 반대이면 빚이 증가, \n",
    "# 같으면 현상 유지\"\n",
    "i = 5,000,000\n",
    "e = 3,000,000\n",
    "\n",
    "if i > e:\n",
    "    print('저축 증가')\n",
    "elif i < e:\n",
    "    print('빛이 증가')\n",
    "else:\n",
    "    print('현상 유지')"
   ]
  },
  {
   "cell_type": "code",
   "execution_count": 5,
   "id": "1e17b64a",
   "metadata": {},
   "outputs": [
    {
     "name": "stdout",
     "output_type": "stream",
     "text": [
      "5 15 6 20 7 25 "
     ]
    }
   ],
   "source": [
    "# for 반복문\n",
    "numbers = [5,15,6,20,7,25]\n",
    "for number in numbers:\n",
    "    print(number,end=' ')"
   ]
  },
  {
   "cell_type": "code",
   "execution_count": null,
   "id": "841ee795",
   "metadata": {},
   "outputs": [],
   "source": [
    "# 5를 2로 나누었을때의 몫과 나머지를 구하세요."
   ]
  },
  {
   "cell_type": "code",
   "execution_count": null,
   "id": "5b7ca15c",
   "metadata": {},
   "outputs": [],
   "source": [
    "# 101의 3승을 구하세요"
   ]
  },
  {
   "cell_type": "code",
   "execution_count": null,
   "id": "dd03b96a",
   "metadata": {},
   "outputs": [],
   "source": [
    "# Python과 3.8.3을 합쳐서 Python 3.8.3으로 출력하세요"
   ]
  },
  {
   "cell_type": "code",
   "execution_count": null,
   "id": "103aa88f",
   "metadata": {},
   "outputs": [],
   "source": [
    "# a = 5 a = '10' a = 15일때 a의 자료형은 무엇인가?"
   ]
  },
  {
   "cell_type": "code",
   "execution_count": null,
   "id": "6f394cc9",
   "metadata": {},
   "outputs": [],
   "source": [
    "# 5의 3승을 3으로 나누었을때의 나머지를 복합 대입 연산자를 이용해서 구하세요."
   ]
  },
  {
   "cell_type": "code",
   "execution_count": null,
   "id": "ff5ac523",
   "metadata": {},
   "outputs": [],
   "source": [
    "# 이름을 물어보고 답하는 내용을 출력하세요"
   ]
  },
  {
   "cell_type": "code",
   "execution_count": 8,
   "id": "4f043b90",
   "metadata": {},
   "outputs": [
    {
     "name": "stdout",
     "output_type": "stream",
     "text": [
      "첫번째 숫자를 입력: 3\n",
      "두번째 숫자를 입력: 7\n",
      "세번째 숫자를 입력: 9\n",
      "243.0\n"
     ]
    }
   ],
   "source": [
    "# 숫자 3개를 입력해서 첫번째 숫자를 두번째 숫자 승한 뒤에 세번째 숫자로 나누었을 때 \n",
    "# 몫을 구하세요.\n",
    "a = input('첫번째 숫자를 입력: ')\n",
    "int_a = int(a)\n",
    "b = input('두번째 숫자를 입력: ')\n",
    "int_b = int(b)\n",
    "c = input('세번째 숫자를 입력: ')\n",
    "int_c = int(c)\n",
    "print(int_a ** int_b / int_c)"
   ]
  },
  {
   "cell_type": "code",
   "execution_count": null,
   "id": "e800bd3c",
   "metadata": {},
   "outputs": [],
   "source": [
    "# 1부터 5까지 입력해서 12345를 출력하세요"
   ]
  },
  {
   "cell_type": "code",
   "execution_count": null,
   "id": "6e249cb5",
   "metadata": {},
   "outputs": [],
   "source": [
    "# [0, 1, 2, 3, 4, 5, 6, 7, 8, 9, 'a', 'b', 'c']에서 9와 'a'를 삭제 후 \n",
    "# 리스트로 출력하세요"
   ]
  },
  {
   "cell_type": "code",
   "execution_count": null,
   "id": "983b6a26",
   "metadata": {},
   "outputs": [],
   "source": [
    "# [0, 1, 2, 3, 4, 5, 6, 7, 8, 'b', 'c']에서 'c'를 삭제 후 출력하세요."
   ]
  },
  {
   "cell_type": "code",
   "execution_count": null,
   "id": "a7bc0483",
   "metadata": {},
   "outputs": [],
   "source": [
    "# [4, 8, 5, 4, 8, 4, 3, 9, 1, 9]를 내림차순으로 정렬하세요"
   ]
  },
  {
   "cell_type": "code",
   "execution_count": null,
   "id": "1343e8ea",
   "metadata": {},
   "outputs": [],
   "source": [
    "# Q. 태어난 연도를 입력받아 띠를 출력하는 프로그램을 작성하세요.\n",
    "# 원숭이, 닭, 개, 돼지, 쥐, 소, 범, 토끼, 용, 뱀, 말, 양띠"
   ]
  },
  {
   "cell_type": "markdown",
   "id": "e77b79fd",
   "metadata": {},
   "source": [
    "Q. 계절 구분 프로그램\n",
    "<!--  - 시나리오 : 3 ~ 5월은 봄, 6 ~ 8월은 여름, 9 ~ 11월은 가을, 12 ~ 2월은 겨울로 구분. 지금 계절을 알려주는 프로그램 -->\n",
    " - 각 계절별 출력 멘트는 계절에 맞게 창작\n",
    " - if 조건문으로 datetime 모듈을 import해서 datetime.now 함수를 사용해서 작성 "
   ]
  },
  {
   "cell_type": "code",
   "execution_count": 10,
   "id": "d36efeb6",
   "metadata": {},
   "outputs": [
    {
     "data": {
      "text/plain": [
       "6"
      ]
     },
     "execution_count": 10,
     "metadata": {},
     "output_type": "execute_result"
    }
   ],
   "source": [
    "import datetime\n",
    "t = datetime.datetime.now()\n",
    "t.month"
   ]
  },
  {
   "cell_type": "code",
   "execution_count": 11,
   "id": "28af4c1f",
   "metadata": {},
   "outputs": [
    {
     "name": "stdout",
     "output_type": "stream",
     "text": [
      "현재의 계절은 여름입니다!!!\n"
     ]
    }
   ],
   "source": [
    "# A.\n",
    "import datetime\n",
    "t = datetime.datetime.now()\n",
    "if 3<= t.month <= 5:\n",
    "    print(\"현재의 계절은 봄입니다!!!\")\n",
    "if 6<= t.month <= 8:\n",
    "    print(\"현재의 계절은 여름입니다!!!\")\n",
    "if 9<= t.month <= 11:\n",
    "    print(\"현재의 계절은 가을입니다!!!\")\n",
    "if 1<= t.month <= 2 or t.month == 12:\n",
    "    print(\"현재의 계절은 겨울입니다!!!\")"
   ]
  },
  {
   "cell_type": "code",
   "execution_count": 14,
   "id": "1563fb11",
   "metadata": {},
   "outputs": [
    {
     "name": "stdout",
     "output_type": "stream",
     "text": [
      "2021 년\n",
      "6 월\n",
      "23 일\n",
      "10 시\n",
      "20 분\n",
      "22 초\n"
     ]
    }
   ],
   "source": [
    "import datetime\n",
    "now = datetime.datetime.now()\n",
    "print(now.year,\"년\")\n",
    "print(now.month,\"월\")\n",
    "print(now.day,\"일\")\n",
    "print(now.hour,\"시\")\n",
    "print(now.minute,\"분\")\n",
    "print(now.second,\"초\")"
   ]
  },
  {
   "cell_type": "code",
   "execution_count": 18,
   "id": "e7e07e28",
   "metadata": {},
   "outputs": [
    {
     "name": "stdout",
     "output_type": "stream",
     "text": [
      "1 2 3 4 5 "
     ]
    }
   ],
   "source": [
    "# 제어문 - for~continue~break\n",
    "# 1 ~ 10 범위의 정수에서 1부터 5까지만 출력하세요\"\n",
    "for i in range(1,11):\n",
    "    print(i,end=' ')\n",
    "    if i < 5:\n",
    "        continue\n",
    "    else:\n",
    "        break\n",
    "    "
   ]
  },
  {
   "cell_type": "code",
   "execution_count": 20,
   "id": "9af66964",
   "metadata": {},
   "outputs": [
    {
     "name": "stdout",
     "output_type": "stream",
     "text": [
      "1 2 3 4 5 "
     ]
    }
   ],
   "source": [
    "for i in range(1, 11):\n",
    "    if i <= 5:\n",
    "        print(i, end=' ')\n"
   ]
  },
  {
   "cell_type": "code",
   "execution_count": 22,
   "id": "1e0a703b",
   "metadata": {},
   "outputs": [
    {
     "name": "stdout",
     "output_type": "stream",
     "text": [
      "1 2 3 4 5 "
     ]
    }
   ],
   "source": [
    "for i in range(1,11):\n",
    "    print(i,end=' ')\n",
    "    if i > 4:\n",
    "        break\n"
   ]
  },
  {
   "cell_type": "code",
   "execution_count": 23,
   "id": "2de0ddfa",
   "metadata": {},
   "outputs": [
    {
     "name": "stdout",
     "output_type": "stream",
     "text": [
      "15 20 25 "
     ]
    }
   ],
   "source": [
    "# Q. numbers 리스트에서 15, 20, 25를 출력하세요.(for문과 if 조건 사용 필수) \n",
    "numbers = [5, 15, 6, 20, 7, 25]\n",
    "for number in numbers:\n",
    "    if number < 15:\n",
    "        continue\n",
    "    else:\n",
    "        print(number,end=' ')"
   ]
  },
  {
   "cell_type": "code",
   "execution_count": 36,
   "id": "562e0756",
   "metadata": {},
   "outputs": [
    {
     "name": "stdout",
     "output_type": "stream",
     "text": [
      "45\n",
      "1035\n"
     ]
    }
   ],
   "source": [
    "# 제어문 - while\n",
    "# 정수 1부터 n까지 더할 때 그 합이 1000보다 커지게 되는 n과 합을 구하세요.\n",
    "x = 1\n",
    "sum = 0\n",
    "while 1:\n",
    "    sum += x\n",
    "#     x = x + 1\n",
    "    if sum > 1000:\n",
    "        print(x)\n",
    "        print(sum)\n",
    "        break\n",
    "    x = x + 1"
   ]
  },
  {
   "cell_type": "code",
   "execution_count": 37,
   "id": "e056a8a9",
   "metadata": {},
   "outputs": [
    {
     "name": "stdout",
     "output_type": "stream",
     "text": [
      "166833\n"
     ]
    }
   ],
   "source": [
    "# Q. while문을 사용해 1부터 1000까지의 정수 중 3의 배수의 합을 구해 보세요.\n",
    "sum = 0\n",
    "i = 1\n",
    "while i < 1001:\n",
    "    if i % 3 == 0:\n",
    "        sum += i\n",
    "    i += 1\n",
    "print(sum)"
   ]
  },
  {
   "cell_type": "code",
   "execution_count": null,
   "id": "5ccb3f69",
   "metadata": {},
   "outputs": [],
   "source": [
    "# 과제\n",
    "# Q. while문을 사용해 1부터 1000까지의 정수 중 3과 5의 공배수의 합을 구해 보세요."
   ]
  },
  {
   "cell_type": "code",
   "execution_count": 40,
   "id": "8e365a62",
   "metadata": {},
   "outputs": [
    {
     "name": "stdout",
     "output_type": "stream",
     "text": [
      "4550\n"
     ]
    }
   ],
   "source": [
    "# Q. while~continue~break문을 사용해 1부터 100까지의 정수중 5에서 95까지의 \n",
    "# 합을 구하세요.\n",
    "\n",
    "sum = 0\n",
    "x = 1\n",
    "while x < 101:\n",
    "    x += 1\n",
    "    if x < 5:\n",
    "        continue\n",
    "    sum += x\n",
    "    if x > 94:\n",
    "        break\n",
    "print(sum)\n",
    "        "
   ]
  },
  {
   "cell_type": "code",
   "execution_count": 41,
   "id": "10b1238a",
   "metadata": {},
   "outputs": [
    {
     "name": "stdout",
     "output_type": "stream",
     "text": [
      "5050\n"
     ]
    }
   ],
   "source": [
    "# 1 ~ 100 합\n",
    "# 1~4 합\n",
    "# 96~100 합\n",
    "\n",
    "sum = 0\n",
    "for i in range(1,101):\n",
    "    sum += i\n",
    "print(sum)"
   ]
  },
  {
   "cell_type": "code",
   "execution_count": 42,
   "id": "bd24facd",
   "metadata": {},
   "outputs": [
    {
     "name": "stdout",
     "output_type": "stream",
     "text": [
      "10\n"
     ]
    }
   ],
   "source": [
    "sum = 0\n",
    "for i in range(1,5):\n",
    "    sum += i\n",
    "print(sum)"
   ]
  },
  {
   "cell_type": "code",
   "execution_count": 43,
   "id": "02773c47",
   "metadata": {},
   "outputs": [
    {
     "name": "stdout",
     "output_type": "stream",
     "text": [
      "490\n"
     ]
    }
   ],
   "source": [
    "sum = 0\n",
    "for i in range(96,101):\n",
    "    sum += i\n",
    "print(sum)"
   ]
  },
  {
   "cell_type": "code",
   "execution_count": 45,
   "id": "d88c9cbe",
   "metadata": {},
   "outputs": [
    {
     "name": "stdout",
     "output_type": "stream",
     "text": [
      "4550\n"
     ]
    }
   ],
   "source": [
    "# 1~100합\n",
    "# 1 ~4 합\n",
    " # 96 ` 100 합\n",
    "    \n",
    "sum1 = 0\n",
    "sum2 = 0\n",
    "sum3 = 0\n",
    "\n",
    "for i in range(1,101):\n",
    "    sum1 += i\n",
    "    \n",
    "for i in range(1,5):\n",
    "    sum2 += i\n",
    "    \n",
    "for i in range(96,101) :\n",
    "    sum3 += i\n",
    "    \n",
    "    \n",
    "print(sum1 - sum2-sum3)\n"
   ]
  },
  {
   "cell_type": "code",
   "execution_count": 47,
   "id": "61d37f64",
   "metadata": {},
   "outputs": [
    {
     "name": "stdout",
     "output_type": "stream",
     "text": [
      "32\n",
      "25\n"
     ]
    }
   ],
   "source": [
    "# Q. 람다 함수를 이용해서 a의 b제곱을 구하는 식을 만들고\n",
    "# a, b가 아래와 같이 주어졌을 때 각각의 값을 구하세요. \n",
    "# a = 2, b = 5\n",
    "# a= 5, b = 2\n",
    "\n",
    "x = lambda a, b : a ** b\n",
    "print(x(2,5))\n",
    "print(x(5,2))"
   ]
  },
  {
   "cell_type": "code",
   "execution_count": 48,
   "id": "77a18ccd",
   "metadata": {},
   "outputs": [
    {
     "data": {
      "text/plain": [
       "1"
      ]
     },
     "execution_count": 48,
     "metadata": {},
     "output_type": "execute_result"
    }
   ],
   "source": [
    "a = 2;b = 3;c = 5\n",
    "a * b - c"
   ]
  },
  {
   "cell_type": "code",
   "execution_count": 49,
   "id": "7475f2ff",
   "metadata": {},
   "outputs": [
    {
     "data": {
      "text/plain": [
       "1"
      ]
     },
     "execution_count": 49,
     "metadata": {},
     "output_type": "execute_result"
    }
   ],
   "source": [
    "x = lambda a,b,c:a*b-c\n",
    "x(2,3,5)"
   ]
  },
  {
   "cell_type": "code",
   "execution_count": 50,
   "id": "356907c6",
   "metadata": {},
   "outputs": [
    {
     "data": {
      "text/plain": [
       "(2, 17)"
      ]
     },
     "execution_count": 50,
     "metadata": {},
     "output_type": "execute_result"
    }
   ],
   "source": [
    "# Q. 97을 40으로 나눈 몫과 나머지를 내장함수를 이용하여 구하세요.(튜플로 출력 필수)\n",
    "a, b = 97,40\n",
    "# a = 97;b=40;\n",
    "divmod(a,b)"
   ]
  },
  {
   "cell_type": "code",
   "execution_count": 52,
   "id": "d91e3fcf",
   "metadata": {},
   "outputs": [
    {
     "data": {
      "text/plain": [
       "110"
      ]
     },
     "execution_count": 52,
     "metadata": {},
     "output_type": "execute_result"
    }
   ],
   "source": [
    "def add_10(a):\n",
    "    return a + 10\n",
    "\n",
    "add_10(100)"
   ]
  },
  {
   "cell_type": "code",
   "execution_count": 53,
   "id": "9a7d4dd5",
   "metadata": {},
   "outputs": [
    {
     "data": {
      "text/plain": [
       "1"
      ]
     },
     "execution_count": 53,
     "metadata": {},
     "output_type": "execute_result"
    }
   ],
   "source": [
    "# Q. 사용자 함수 사용해서 작성\n",
    "# x = lambda a,b,c:a*b-c\n",
    "# x(2,3,5)\n",
    "\n",
    "def cal_3(a,b,c):\n",
    "    return a*b-c\n",
    "\n",
    "cal_3(2,3,5)"
   ]
  },
  {
   "cell_type": "code",
   "execution_count": null,
   "id": "b1d57670",
   "metadata": {},
   "outputs": [],
   "source": [
    "# 과제\n",
    "# Q. 사용자 함수를 최대한 가치있게 만들어 보세요."
   ]
  },
  {
   "cell_type": "code",
   "execution_count": 55,
   "id": "70d46e65",
   "metadata": {},
   "outputs": [
    {
     "name": "stdout",
     "output_type": "stream",
     "text": [
      "떙\n",
      "41\n",
      "43\n"
     ]
    }
   ],
   "source": [
    "import datetime\n",
    "now = datetime.datetime.now()\n",
    "def JH(a,b):\n",
    "    if a % b == 2or a% b == 1:\n",
    "        print('굿굿')\n",
    "    else:\n",
    "        print('떙')\n",
    "\n",
    "JH(now.minute,now.second)\n",
    "print(now.minute)\n",
    "print(now.second)"
   ]
  },
  {
   "cell_type": "code",
   "execution_count": 56,
   "id": "6e121ec0",
   "metadata": {},
   "outputs": [
    {
     "name": "stdout",
     "output_type": "stream",
     "text": [
      "전체 수업일수를 입력하세요: 960\n",
      "결석일수를 입력하세요: 0\n",
      "지각 횟수를 입력하세요: 0\n",
      "외출 횟수를 입력하세요: 3\n",
      "조퇴 횟수를 입력하세요: 2\n",
      "출석률은 99.90%입니다.\n"
     ]
    }
   ],
   "source": [
    "def att_rate():\n",
    "    days = int(input(\"전체 수업일수를 입력하세요: \"))\n",
    "    absent = int(input(\"결석일수를 입력하세요: \"))\n",
    "    late = int(input(\"지각 횟수를 입력하세요: \"))\n",
    "    out = int(input(\"외출 횟수를 입력하세요: \"))\n",
    "    early = int(input(\"조퇴 횟수를 입력하세요: \"))\n",
    "    absent += (late+out+early)//3\n",
    "    att_r = (days-absent)*100/(days)\n",
    "    if 0 <= att_r <= 100:\n",
    "        print(\"출석률은 {:.2f}%입니다.\".format(att_r))\n",
    "att_rate()\n"
   ]
  },
  {
   "cell_type": "code",
   "execution_count": 57,
   "id": "377fb7bb",
   "metadata": {},
   "outputs": [
    {
     "name": "stdout",
     "output_type": "stream",
     "text": [
      "현재 시각은 오후 12시로 오후입니다.\n"
     ]
    }
   ],
   "source": [
    "# Q 현재 시각을 오전과 오후를 구분하는 프로그램을 작성하세요.\n",
    "# A.\n",
    "t = datetime.datetime.now()\n",
    "if t.hour < 12:\n",
    "    print(\"현재 시각은 오전 {}시로 오전입니다.\".format(t.hour))\n",
    "else:\n",
    "    print(\"현재 시각은 오후 {}시로 오후입니다.\".format(t.hour))"
   ]
  },
  {
   "cell_type": "code",
   "execution_count": null,
   "id": "1ffdd25b",
   "metadata": {},
   "outputs": [],
   "source": [
    "# Q 정수를 입력하면 홀수 짝수를 판별하는 프로그램 작성"
   ]
  },
  {
   "cell_type": "code",
   "execution_count": 60,
   "id": "92e81da0",
   "metadata": {},
   "outputs": [
    {
     "name": "stdout",
     "output_type": "stream",
     "text": [
      "정수를 입력해주세요> 2\n",
      "짝수\n"
     ]
    }
   ],
   "source": [
    "number = int(input(\"정수를 입력해주세요> \"))\n",
    "# number = int(number)\n",
    "\n",
    "if number % 2 == 0:\n",
    "    print(\"짝수\")\n",
    "else:\n",
    "    print(\"홀수\")"
   ]
  },
  {
   "cell_type": "code",
   "execution_count": null,
   "id": "a3b64243",
   "metadata": {},
   "outputs": [],
   "source": [
    "# Q. 사용자로부터 서로 다른 숫자 두 개를 입력받고 첫 번째 와 두 번째중 큰 숫자를 \n",
    "# 구하는 프로그램을 수행하세요."
   ]
  },
  {
   "cell_type": "code",
   "execution_count": 61,
   "id": "3a01eebc",
   "metadata": {},
   "outputs": [
    {
     "name": "stdout",
     "output_type": "stream",
     "text": [
      "정수 입력> 3\n",
      "정수 입력> 5\n",
      "5\n"
     ]
    }
   ],
   "source": [
    "# A.\n",
    "num1 = input(\"정수 입력> \")\n",
    "n1 = int(num1)\n",
    "num2 = input(\"정수 입력> \")\n",
    "n2 = int(num2)\n",
    "if n1 > n2:\n",
    "    print(n1)\n",
    "else:\n",
    "    print(n2)"
   ]
  },
  {
   "cell_type": "code",
   "execution_count": 63,
   "id": "482bed6b",
   "metadata": {},
   "outputs": [
    {
     "name": "stdout",
     "output_type": "stream",
     "text": [
      "7\n",
      "7\n",
      "잘못 입력했습니다. 서로 다른 숫자를 입력해 주세요\n"
     ]
    }
   ],
   "source": [
    "a = int(input())\n",
    "b = int(input())\n",
    "\n",
    "if a > b:\n",
    "    print(\"첫번째\")\n",
    "elif a < b:\n",
    "    print(\"두번째\")\n",
    "else:\n",
    "    print(\"잘못 입력했습니다. 서로 다른 숫자를 입력해 주세요\")\n"
   ]
  },
  {
   "cell_type": "code",
   "execution_count": null,
   "id": "90ff3d0c",
   "metadata": {},
   "outputs": [],
   "source": [
    "# Q. 1 ~ 20사이의 정수에서 3의 배수만 출력하세요."
   ]
  },
  {
   "cell_type": "code",
   "execution_count": null,
   "id": "de34acc7",
   "metadata": {},
   "outputs": [],
   "source": [
    "# Q. 1 ~ 100 범위의 정수에서 95보다 큰 정수만 출력하세요"
   ]
  },
  {
   "cell_type": "code",
   "execution_count": 64,
   "id": "14df85c9",
   "metadata": {},
   "outputs": [
    {
     "data": {
      "text/plain": [
       "array([5, 0, 3, 3, 7, 9, 3, 5, 2, 4])"
      ]
     },
     "execution_count": 64,
     "metadata": {},
     "output_type": "execute_result"
    }
   ],
   "source": [
    "import numpy as np\n",
    "np.random.seed(0)\n",
    "num = np.random.randint(10, size=10)\n",
    "num"
   ]
  },
  {
   "cell_type": "code",
   "execution_count": null,
   "id": "693ffedc",
   "metadata": {},
   "outputs": [],
   "source": [
    "# Q. [5, 0, 3, 3, 7, 9, 3, 5, 2, 4]에서 7,9만 출력하세요."
   ]
  },
  {
   "cell_type": "code",
   "execution_count": null,
   "id": "b05cde4e",
   "metadata": {},
   "outputs": [],
   "source": [
    "# Q. [5, 0, 3, 3, 7, 9, 3, 5, 2, 4]에서 0,9만 출력하세요."
   ]
  },
  {
   "cell_type": "code",
   "execution_count": 65,
   "id": "2fc65a16",
   "metadata": {},
   "outputs": [
    {
     "data": {
      "text/plain": [
       "[0, 1, 2, 3, 4, 5, 6, 7, 8, 9, 10, 11, 12, 13, 14, 15, 16, 17, 18, 19]"
      ]
     },
     "execution_count": 65,
     "metadata": {},
     "output_type": "execute_result"
    }
   ],
   "source": [
    "num = np.arange(20).tolist()\n",
    "num"
   ]
  },
  {
   "cell_type": "code",
   "execution_count": null,
   "id": "3a9adb2c",
   "metadata": {},
   "outputs": [],
   "source": [
    "# Q. num에서 10,11,12만 출력하세요"
   ]
  },
  {
   "cell_type": "code",
   "execution_count": null,
   "id": "03752621",
   "metadata": {},
   "outputs": [],
   "source": [
    "# Q. 500 ~ 1000 사이의 정수 중 3과 5의 공배수의 합을 구하세요."
   ]
  },
  {
   "cell_type": "code",
   "execution_count": null,
   "id": "17c9c8bf",
   "metadata": {},
   "outputs": [],
   "source": [
    "# Q. 1 ~ 1000사이의 정수 중 5와 7의 공배수의 합을 구하세요"
   ]
  },
  {
   "cell_type": "code",
   "execution_count": null,
   "id": "5bf146f2",
   "metadata": {},
   "outputs": [],
   "source": [
    "# Q. 1 ~ 100사이의 정수 중 3와 4의 공배수를 리스트로 구하세요."
   ]
  },
  {
   "cell_type": "code",
   "execution_count": null,
   "id": "9bbf564e",
   "metadata": {},
   "outputs": [],
   "source": [
    "# Q. 3~7사이의 정수의 곱을 구하세요."
   ]
  },
  {
   "cell_type": "code",
   "execution_count": null,
   "id": "d8dd7720",
   "metadata": {},
   "outputs": [],
   "source": [
    "# Q. 2,3을 더한 후 5를 곱하는 계산 값을 람다함수를 이용하여 구하세요. "
   ]
  },
  {
   "cell_type": "code",
   "execution_count": null,
   "id": "6e6a4588",
   "metadata": {},
   "outputs": [],
   "source": [
    "# Q. 2와 5를 더한 후 3으로 나눈 나머지 값을 사용자 함수를 이용하여 구하세요."
   ]
  },
  {
   "cell_type": "code",
   "execution_count": 66,
   "id": "70733a26",
   "metadata": {},
   "outputs": [
    {
     "name": "stdout",
     "output_type": "stream",
     "text": [
      "\n",
      "                       It is true\n",
      "'Python is fit for data analysis'\n",
      "\n"
     ]
    }
   ],
   "source": [
    "input_a = \"\"\"\n",
    "                       It is true\n",
    "'Python is fit for data analysis'\n",
    "\"\"\"\n",
    "print(input_a)"
   ]
  },
  {
   "cell_type": "code",
   "execution_count": null,
   "id": "a202abc3",
   "metadata": {},
   "outputs": [],
   "source": [
    "# Q. 문자열 앞의 공백을 제거하고 아래와 같이 출력하세요(구글링)\n",
    "# It is true\n",
    "# 'Python is fit for data analysis'"
   ]
  },
  {
   "cell_type": "code",
   "execution_count": null,
   "id": "881fb656",
   "metadata": {},
   "outputs": [],
   "source": [
    "# Q. \"10/20/30/40/50\"을 '/'를 기준으로 구분하여 아래와 같이 출력하세요.\n",
    "# ['10', '20', '30', '40', '50']"
   ]
  },
  {
   "cell_type": "code",
   "execution_count": 67,
   "id": "10099b7a",
   "metadata": {},
   "outputs": [
    {
     "data": {
      "text/plain": [
       "datetime.datetime(2021, 6, 23, 14, 41, 4, 689389)"
      ]
     },
     "execution_count": 67,
     "metadata": {},
     "output_type": "execute_result"
    }
   ],
   "source": [
    "import datetime\n",
    "now = datetime.datetime.now()\n",
    "now"
   ]
  },
  {
   "cell_type": "code",
   "execution_count": null,
   "id": "1aaa951a",
   "metadata": {},
   "outputs": [],
   "source": [
    "# Q. 현재의 날씨와 시간을 다음과 같이 포멧으로 표현하세요\n",
    "# 2021년 6월 23일 09시 01분 01초"
   ]
  },
  {
   "cell_type": "code",
   "execution_count": null,
   "id": "7f783b61",
   "metadata": {},
   "outputs": [],
   "source": [
    "# Q. 짝수 와 짝수를 입력하면 곱한 값을 출력하고 홀수와 홀수를 입력하면 덧셈 값을 \n",
    "# 출력하고 그외는 다시 입력하라는 메시지를 출력하세요.  "
   ]
  },
  {
   "cell_type": "code",
   "execution_count": null,
   "id": "f82f0a4b",
   "metadata": {},
   "outputs": [],
   "source": [
    "# Q. 1부터 100까지 아래와 같이 2개의 수를 곱해서 가장 큰 수를 구하세요.\n",
    "1*99, 2*98 ...99*1"
   ]
  },
  {
   "cell_type": "code",
   "execution_count": null,
   "id": "45b27205",
   "metadata": {},
   "outputs": [],
   "source": [
    "# Q. [    ]을 채워서 아래의 출력과 같이 출력하세요.\n",
    "# 출력 :\n",
    "# [[1,4,7],[2,5,8],[3,6,9]]\n",
    "\n",
    "numbers = [1,2,3,4,5,6,7,8,9]\n",
    "output = [[], [], []]\n",
    "\n",
    "for number in numbers:\n",
    "    output[           ].append(number)\n",
    "print(output)"
   ]
  },
  {
   "cell_type": "markdown",
   "id": "23d786b5",
   "metadata": {},
   "source": [
    "## Q. 커피 자판기 프로그램\n",
    "- 시나리오 : 자판기 커피 재고 5잔, 커피 1잔 가격 300원, 재고 범위내에서 300원 이상 돈을 넣으면 거스름돈과 커피를 주고 그렇지 않으면 반환하며 재고가 소진되면 안내멘트 출력\n",
    "- 각 Case별 멘트 출력은 상황에 맞게 창작\n",
    "- while, if ~ elif ~ else 제어문을 사용하여 작성"
   ]
  }
 ],
 "metadata": {
  "kernelspec": {
   "display_name": "Python 3",
   "language": "python",
   "name": "python3"
  },
  "language_info": {
   "codemirror_mode": {
    "name": "ipython",
    "version": 3
   },
   "file_extension": ".py",
   "mimetype": "text/x-python",
   "name": "python",
   "nbconvert_exporter": "python",
   "pygments_lexer": "ipython3",
   "version": "3.8.10"
  }
 },
 "nbformat": 4,
 "nbformat_minor": 5
}
