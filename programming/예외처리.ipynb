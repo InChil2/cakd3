{
 "cells": [
  {
   "cell_type": "code",
   "execution_count": 3,
   "id": "61a046f3",
   "metadata": {},
   "outputs": [
    {
     "ename": "SyntaxError",
     "evalue": "EOL while scanning string literal (<ipython-input-3-6065f0a5f1a0>, line 4)",
     "output_type": "error",
     "traceback": [
      "\u001b[1;36m  File \u001b[1;32m\"<ipython-input-3-6065f0a5f1a0>\"\u001b[1;36m, line \u001b[1;32m4\u001b[0m\n\u001b[1;33m    print('예외를 강제로 발생)\u001b[0m\n\u001b[1;37m                      ^\u001b[0m\n\u001b[1;31mSyntaxError\u001b[0m\u001b[1;31m:\u001b[0m EOL while scanning string literal\n"
     ]
    }
   ],
   "source": [
    "# 구문 오류 : 프로그램 실행전에 발생하는 오류\n",
    "# SyntaxError\n",
    "# 예외 또는 런타임 오류 : 프로그램 실행 중에 발생하는 오류\n",
    "# ValueError\n",
    "\n",
    "print('예외를 강제로 발생)"
   ]
  },
  {
   "cell_type": "code",
   "execution_count": 8,
   "id": "9a13fae6",
   "metadata": {
    "scrolled": true
   },
   "outputs": [
    {
     "name": "stdout",
     "output_type": "stream",
     "text": [
      "정수 입력> 가\n"
     ]
    },
    {
     "ename": "ValueError",
     "evalue": "invalid literal for int() with base 10: '가'",
     "output_type": "error",
     "traceback": [
      "\u001b[1;31m---------------------------------------------------------------------------\u001b[0m",
      "\u001b[1;31mValueError\u001b[0m                                Traceback (most recent call last)",
      "\u001b[1;32m<ipython-input-8-f715d0bda2ca>\u001b[0m in \u001b[0;36m<module>\u001b[1;34m\u001b[0m\n\u001b[0;32m      1\u001b[0m \u001b[1;31m# 정수를 입력하지 않은 경우 예외 발생\u001b[0m\u001b[1;33m\u001b[0m\u001b[1;33m\u001b[0m\u001b[1;33m\u001b[0m\u001b[0m\n\u001b[1;32m----> 2\u001b[1;33m \u001b[0mnum_input\u001b[0m \u001b[1;33m=\u001b[0m \u001b[0mint\u001b[0m\u001b[1;33m(\u001b[0m\u001b[0minput\u001b[0m\u001b[1;33m(\u001b[0m\u001b[1;34m'정수 입력> '\u001b[0m\u001b[1;33m)\u001b[0m\u001b[1;33m)\u001b[0m\u001b[1;33m\u001b[0m\u001b[1;33m\u001b[0m\u001b[0m\n\u001b[0m\u001b[0;32m      3\u001b[0m \u001b[0mprint\u001b[0m\u001b[1;33m(\u001b[0m\u001b[1;34m'원의 반지름 : '\u001b[0m\u001b[1;33m,\u001b[0m\u001b[0mnum_input\u001b[0m\u001b[1;33m)\u001b[0m\u001b[1;33m\u001b[0m\u001b[1;33m\u001b[0m\u001b[0m\n",
      "\u001b[1;31mValueError\u001b[0m: invalid literal for int() with base 10: '가'"
     ]
    }
   ],
   "source": [
    "# 정수를 입력하지 않은 경우 예외 발생\n",
    "num_input = int(input('정수 입력> '))\n",
    "print('원의 반지름 : ',num_input)"
   ]
  },
  {
   "cell_type": "code",
   "execution_count": 11,
   "id": "cec5cd3c",
   "metadata": {},
   "outputs": [
    {
     "name": "stdout",
     "output_type": "stream",
     "text": [
      "정수 입력> 가나다라\n",
      "정수를 입력하지 않았습니다.\n"
     ]
    }
   ],
   "source": [
    "# 조건문으로 예외 처리\n",
    "user_input = input('정수 입력> ')\n",
    "if user_input.isdigit():\n",
    "    num_input = int(user_input)\n",
    "    print('원의 반지름 : ',num_input)\n",
    "else :\n",
    "    print('정수를 입력하지 않았습니다.')"
   ]
  },
  {
   "cell_type": "code",
   "execution_count": 18,
   "id": "65f261e0",
   "metadata": {},
   "outputs": [
    {
     "name": "stdout",
     "output_type": "stream",
     "text": [
      "안녕하세요\n",
      "1\n"
     ]
    }
   ],
   "source": [
    "param = 1\n",
    "print('안녕하세요')\n",
    "print(param)"
   ]
  },
  {
   "cell_type": "code",
   "execution_count": 6,
   "id": "3f3e7c31",
   "metadata": {},
   "outputs": [
    {
     "name": "stdout",
     "output_type": "stream",
     "text": [
      "hi\n",
      "예외가 발생했습니다\n"
     ]
    }
   ],
   "source": [
    "# 프로그램이 실행되는 동안 오류가 발생하면 프로그램이 더이상 진행될 수 없는 상태가\n",
    "# 되는데 이를 예외라고 한다.\n",
    "# 예외가 발생해도 프로그램은 중단하지 않고 예외에 대한 적절한 처리를 하여\n",
    "# 프로그램을 계속 진행하도록 하는 구문이 try - except\n",
    "try:\n",
    "    print('hi')\n",
    "    print(param)\n",
    "except:\n",
    "    print('예외가 발생했습니다')\n"
   ]
  },
  {
   "cell_type": "code",
   "execution_count": 7,
   "id": "ddef8de7",
   "metadata": {},
   "outputs": [
    {
     "name": "stdout",
     "output_type": "stream",
     "text": [
      "hi\n",
      "예외가 발생하지 않았습니다\n"
     ]
    }
   ],
   "source": [
    "try:\n",
    "    print('hi')\n",
    "except:\n",
    "    print('예외가 발생했습니다')\n",
    "else:\n",
    "    print('예외가 발생하지 않았습니다')"
   ]
  },
  {
   "cell_type": "code",
   "execution_count": 9,
   "id": "352d1518",
   "metadata": {},
   "outputs": [
    {
     "name": "stdout",
     "output_type": "stream",
     "text": [
      "hi\n",
      "예외가 발생했습니다\n",
      "무조건 실행하는 코드\n"
     ]
    }
   ],
   "source": [
    "try:\n",
    "    print('hi')\n",
    "    print(param)\n",
    "except:\n",
    "    print('예외가 발생했습니다')\n",
    "finally:\n",
    "    print('무조건 실행하는 코드')"
   ]
  },
  {
   "cell_type": "code",
   "execution_count": 11,
   "id": "77d05eba",
   "metadata": {},
   "outputs": [
    {
     "name": "stdout",
     "output_type": "stream",
     "text": [
      "name 'param' is not defined\n"
     ]
    }
   ],
   "source": [
    "# 코드에서 예외 발생 내용을 확인하고자 하는 경우 처리 방법\n",
    "\n",
    "try:\n",
    "    print(param)\n",
    "except Exception as e:\n",
    "    print(e)"
   ]
  },
  {
   "cell_type": "code",
   "execution_count": 17,
   "id": "2daf0ca6",
   "metadata": {},
   "outputs": [
    {
     "name": "stdout",
     "output_type": "stream",
     "text": [
      "1\n",
      "2\n",
      "3\n",
      "4\n",
      "5\n",
      "6\n",
      "7\n",
      "8\n",
      "9\n",
      "사용자에 의해 프로그램이 중단 되었습니다.\n"
     ]
    }
   ],
   "source": [
    "import time\n",
    "count = 1\n",
    "try:\n",
    "    while True:\n",
    "        print(count)\n",
    "        count += 1\n",
    "        time.sleep(0.5)\n",
    "except KeyboardInterrupt:\n",
    "    print('사용자에 의해 프로그램이 중단 되었습니다.')"
   ]
  },
  {
   "cell_type": "code",
   "execution_count": 1,
   "id": "8add0ef7",
   "metadata": {},
   "outputs": [
    {
     "name": "stdout",
     "output_type": "stream",
     "text": [
      "['52', '273', '32', '103']\n"
     ]
    }
   ],
   "source": [
    "# 문제\n",
    "# 리스트 ['52','273','32','문자','103']에서 숫자 부분만 출력하세요(예외 처리 수행)\n",
    "\n",
    "li1 = ['52','273','32','문자','103']\n",
    "li2 = []\n",
    "for i in li1:\n",
    "    try:\n",
    "        int(i)\n",
    "        li2.append(i) #정수만 li2라는 빈 리스트에 추가\n",
    "    except:\n",
    "        pass\n",
    "\n",
    "print(li2)"
   ]
  },
  {
   "cell_type": "code",
   "execution_count": 12,
   "id": "2b8fec2c",
   "metadata": {},
   "outputs": [
    {
     "name": "stdout",
     "output_type": "stream",
     "text": [
      "입력 : 156\n",
      "156 는 정수입니다\n"
     ]
    }
   ],
   "source": [
    "# 문제\n",
    "# 정수를 입력하면 '정수', 정수가 아니면 '정수 아님'을 출력\n",
    "\n",
    "a = input('입력 : ')\n",
    "try:\n",
    "    int(a)\n",
    "    print('{} 는 정수입니다'.format(a))\n",
    "except:\n",
    "    print('{} 는 정수가 아닙니다'.format(a))"
   ]
  },
  {
   "cell_type": "code",
   "execution_count": 15,
   "id": "8a7559c6",
   "metadata": {},
   "outputs": [
    {
     "name": "stdout",
     "output_type": "stream",
     "text": [
      "입력 : 156\n",
      "정수\n"
     ]
    }
   ],
   "source": [
    "try:\n",
    "    a = int(input('입력 : '))\n",
    "except:\n",
    "    print('정수 아님')\n",
    "else:\n",
    "    print('정수')"
   ]
  },
  {
   "cell_type": "code",
   "execution_count": 21,
   "id": "343a86fb",
   "metadata": {},
   "outputs": [
    {
     "name": "stdout",
     "output_type": "stream",
     "text": [
      "정수를 입력하세요s\n",
      "1는 정수 아님\n",
      "프로그램 종료.\n"
     ]
    }
   ],
   "source": [
    "# 문제\n",
    "# 정수를 입력하면 '입력정수' > '예외 발생하지 않음' > '프로그램 종료'\n",
    "# 정수가 아니면 '입력 값' > '정수 아님' > '프로그램 종료' 순서대로 출력하세요\n",
    "try:\n",
    "    a = int(input('정수를 입력하세요'))\n",
    "    print('예외 발생하지 않음')\n",
    "except:\n",
    "    print('{}는 정수 아님'.format(a))\n",
    "\n",
    "finally:\n",
    "    print('프로그램 종료.')"
   ]
  },
  {
   "cell_type": "code",
   "execution_count": 27,
   "id": "c2f03108",
   "metadata": {},
   "outputs": [
    {
     "name": "stdout",
     "output_type": "stream",
     "text": [
      "프로그램이 시작되었습니다.\n",
      "try 구문이 시작되었습니다.\n",
      "finally 구문이 실행되었습니다.\n",
      "프로그램이 종료되었습니다.\n"
     ]
    }
   ],
   "source": [
    "# 문제\n",
    "# 아래 코드에서 try ~ except ~ finally를 사용하여 'finally 구문이 실행되어었습니다.'\n",
    "print('프로그램이 시작되었습니다.')\n",
    "while True:\n",
    "    try:\n",
    "        print('try 구문이 시작되었습니다.')\n",
    "        break\n",
    "        print('try 구문의 break 키워드 뒤 입니다')\n",
    "    except:\n",
    "        print('except 구문이 실행 되었습니다')\n",
    "    finally:\n",
    "        print('finally 구문이 실행되었습니다.')\n",
    "    print('while 반복문의 마지막 줄 입니다')\n",
    "print('프로그램이 종료되었습니다.')"
   ]
  },
  {
   "cell_type": "code",
   "execution_count": 37,
   "id": "3ade0521",
   "metadata": {},
   "outputs": [
    {
     "name": "stdout",
     "output_type": "stream",
     "text": [
      "정수 입력 : d\n",
      "invalid literal for int() with base 10: 'd'\n",
      "<class 'ValueError'>\n"
     ]
    }
   ],
   "source": [
    "# 문제\n",
    "# 숫자 대신 문자를 입력 시 예외가 발생되는데 아래 코드를 수정해서\n",
    "# 예외 객체의 자료형과 예외 객체 자체를 출력하세요\n",
    "\n",
    "try:\n",
    "    num_input = int(input('정수 입력 : '))\n",
    "    print('원의 반지름 : ',num_input)\n",
    "    print('원의 둘레 : ',2*3.14*num_input)\n",
    "    print('원의 넓이 : ', 3.14*num_input*num_input)\n",
    "except Exception as e:\n",
    "    print(e)\n",
    "    print(type(e))"
   ]
  },
  {
   "cell_type": "code",
   "execution_count": 39,
   "id": "da149fb1",
   "metadata": {},
   "outputs": [],
   "source": [
    "# class도 하나의 type"
   ]
  },
  {
   "cell_type": "code",
   "execution_count": 43,
   "id": "f7e0d087",
   "metadata": {},
   "outputs": [
    {
     "ename": "SyntaxError",
     "evalue": "invalid syntax (<ipython-input-43-71e9d8c7fe1d>, line 14)",
     "output_type": "error",
     "traceback": [
      "\u001b[1;36m  File \u001b[1;32m\"<ipython-input-43-71e9d8c7fe1d>\"\u001b[1;36m, line \u001b[1;32m14\u001b[0m\n\u001b[1;33m    finally exception as e:\u001b[0m\n\u001b[1;37m            ^\u001b[0m\n\u001b[1;31mSyntaxError\u001b[0m\u001b[1;31m:\u001b[0m invalid syntax\n"
     ]
    }
   ],
   "source": [
    "# 과제\n",
    "# Q. 아래 코드를 모든 예외를 처리할 수 있도록 보완하세요\n",
    "list_num = [52,273,32,72,100]\n",
    "try:\n",
    "    num_input = int(input('정수 입력> '))\n",
    "    print('{}번째 요소: {}'.format(num_input, list_num[num_input]))\n",
    "    예외.발생()\n",
    "except ValueError as exception:\n",
    "    print('정수를 입력해 주세요.')\n",
    "    print(type(exception),exception)\n",
    "except IndexError as exception:\n",
    "    print('리스트의 인덱스를 벗어났어요.')\n",
    "    print(type(exception),exception)\n",
    "finally exception as e:\n",
    "    print(e)\n",
    "    print(type(e))\n",
    "    print('모든 예외 처리')"
   ]
  }
 ],
 "metadata": {
  "kernelspec": {
   "display_name": "Python 3",
   "language": "python",
   "name": "python3"
  },
  "language_info": {
   "codemirror_mode": {
    "name": "ipython",
    "version": 3
   },
   "file_extension": ".py",
   "mimetype": "text/x-python",
   "name": "python",
   "nbconvert_exporter": "python",
   "pygments_lexer": "ipython3",
   "version": "3.8.10"
  }
 },
 "nbformat": 4,
 "nbformat_minor": 5
}
