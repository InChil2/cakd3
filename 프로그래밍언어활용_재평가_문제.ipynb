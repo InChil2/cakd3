{
 "cells": [
  {
   "cell_type": "markdown",
   "metadata": {},
   "source": [
    "## 빅데이터 기반 AI 응용 솔루션 개발자 전문과정\n",
    "\n",
    "#### 교과목명 : 프로그래밍 언어 활용\n",
    "\n",
    "- 평가일 : 21.07.09\n",
    "- 성명 : 신인철\n",
    "- 점수 :\n",
    "\n",
    "※ 문제당 5점으로 채점"
   ]
  },
  {
   "cell_type": "markdown",
   "metadata": {},
   "source": [
    "#### 1. numbers 리스트에서 5, 6, 7를 출력하세요.(for문과 if 조건 사용 필수)  \n",
    "numbers = [5, 15, 6, 20, 7, 25]"
   ]
  },
  {
   "cell_type": "code",
   "execution_count": 2,
   "metadata": {},
   "outputs": [
    {
     "output_type": "stream",
     "name": "stdout",
     "text": [
      "5\n6\n7\n"
     ]
    }
   ],
   "source": [
    "numbers = 5, 15, 6, 20, 7, 25\n",
    "for i in numbers:\n",
    "    if i < 10:\n",
    "        print(i)"
   ]
  },
  {
   "cell_type": "markdown",
   "metadata": {},
   "source": [
    "#### 2. 아래 사용자 함수, 변수 리스트 및 2개의 내장함수를 각각 이용해서 [12, 14, 16, 18, 20], [6]를 출력하세요.(내장함수 2개 사용 필수) "
   ]
  },
  {
   "cell_type": "code",
   "execution_count": 1,
   "metadata": {},
   "outputs": [
    {
     "output_type": "stream",
     "name": "stdout",
     "text": [
      "[12, 14, 16, 18, 20]\n[6]\n"
     ]
    }
   ],
   "source": [
    "# 함수를 선언합니다.\n",
    "def power(item):\n",
    "    return item + item\n",
    "def under_7(item):\n",
    "    return item < 7\n",
    "\n",
    "# 변수를 선언합니다.\n",
    "list_input_a = [ 6,  7,  8,  9, 10]\n",
    "print(list(map(power,list_input_a)))\n",
    "print(list(filter(under_7,list_input_a)))"
   ]
  },
  {
   "cell_type": "markdown",
   "metadata": {},
   "source": [
    "#### 3. 정수를 입력하면 3의 배수 여부를 반환해주는 프로그램을 작성하세요.(정수 입력 후 '3의 배수', '3의 배수가 아님'으로 출력). 단 정수를 입력하지 않으면 '정수를 입력해 주세요'라고 출력 "
   ]
  },
  {
   "cell_type": "code",
   "execution_count": 5,
   "metadata": {},
   "outputs": [
    {
     "output_type": "stream",
     "name": "stdout",
     "text": [
      "3의 배수\n"
     ]
    }
   ],
   "source": [
    "a = int(input('정수를 입력해주세요 : '))\n",
    "if a % 3 == 0:\n",
    "    print('3의 배수')\n",
    "else:\n",
    "    print('3의 배수가 아님')"
   ]
  },
  {
   "cell_type": "markdown",
   "metadata": {},
   "source": [
    "#### 4. 람다 함수를 이용해서 a의 b제곱에서 a x b를 더한 수를 구하는 식을 만들고 그 식을 이용해서  a, b가 아래와 같이 주어졌을 때 각각의 값을 구하세요. \n",
    "a = 2, b = 5 \\\n",
    "a= 5, b = 2"
   ]
  },
  {
   "cell_type": "code",
   "execution_count": 6,
   "metadata": {},
   "outputs": [
    {
     "output_type": "stream",
     "name": "stdout",
     "text": [
      "42\n35\n"
     ]
    }
   ],
   "source": [
    "d = lambda a,b : a**b + a*b\n",
    "print(d(2,5))\n",
    "print(d(5,2))"
   ]
  },
  {
   "cell_type": "markdown",
   "metadata": {},
   "source": [
    "#### 5. 10자리 정수를 입력한 후  콤마로 천단위를 구분하여 출력하세요."
   ]
  },
  {
   "cell_type": "code",
   "execution_count": 7,
   "metadata": {},
   "outputs": [
    {
     "output_type": "stream",
     "name": "stdout",
     "text": [
      "1,234,567,897\n"
     ]
    }
   ],
   "source": [
    "a = int(input('정수를 입력해 주세요 : '))\n",
    "print('{:,}'.format(a))"
   ]
  },
  {
   "cell_type": "markdown",
   "metadata": {},
   "source": [
    "#### 6. car_lists = [\"마티즈\", \"그랜저\", \"제네시스\"]를 파이썬 내장함수를 이용하여 아래와 같이 출력하세요. \n",
    "1번 차는 마티즈입니다.\\\n",
    "2번 차는 그랜저입니다.\\\n",
    "3번 차는 제네시스입니다."
   ]
  },
  {
   "cell_type": "code",
   "execution_count": 9,
   "metadata": {},
   "outputs": [
    {
     "output_type": "stream",
     "name": "stdout",
     "text": [
      "1번 차는 마티즈입니다.\n2번 차는 그랜저입니다.\n3번 차는 제네시스입니다.\n"
     ]
    }
   ],
   "source": [
    "car_lists = \"마티즈\", \"그랜저\", \"제네시스\"\n",
    "for i,v in enumerate(car_lists):\n",
    "    print('{}번 차는 {}입니다.'.format(i+1,v))"
   ]
  },
  {
   "cell_type": "markdown",
   "metadata": {},
   "source": [
    "#### 7. 100을 37로 나눈 몫과 나머지를 내장함수를 이용하여 구하세요.(튜플로 출력 필수) "
   ]
  },
  {
   "cell_type": "code",
   "execution_count": 10,
   "metadata": {},
   "outputs": [
    {
     "output_type": "execute_result",
     "data": {
      "text/plain": [
       "(2, 26)"
      ]
     },
     "metadata": {},
     "execution_count": 10
    }
   ],
   "source": [
    "divmod(100,37)"
   ]
  },
  {
   "cell_type": "markdown",
   "metadata": {},
   "source": [
    "#### 8. list_number = list(np.arange(21,26))로 변수 선언하고 정수를 입력하면 그 정수 인덱스와 리스트에서 해당하는 값을 출력하는 프로그램을 작성하세요. 단, 모든 예외처리를 수행하며 특히 ValueError와 IndexError는 별도 구분해서 예외처리 한 후 '예외처리 완료'를 마지막으로 출력하세요.\n",
    "\n",
    "- 1 ~ 5 정수 입력 \\\n",
    "1~5 정수 입력> 5 \\\n",
    "5번째 요소: 25 \\\n",
    "예외 처리 완료\n",
    "\n",
    "- 문자 입력시 \\\n",
    "정수 입력> 가 \\\n",
    "정수를 입력해 주세요!\n",
    "예외 처리 완료\n",
    "\n",
    "- 6 입력시 \\\n",
    "정수 입력> 6 \\\n",
    "리스트의 인덱스를 벗어났어요!\n",
    "예외 처리 완료"
   ]
  },
  {
   "cell_type": "code",
   "execution_count": 32,
   "metadata": {},
   "outputs": [
    {
     "output_type": "stream",
     "name": "stdout",
     "text": [
      "1번째 요소 : 21\n예외 처리 완료\n"
     ]
    }
   ],
   "source": [
    "import numpy as np\n",
    "try:\n",
    "    dat = int(input('정수 입력 : '))\n",
    "    list_number = list(np.arange(21,26))\n",
    "    print('{}번째 요소 : {}'.format(dat,list_number[dat-1]))\n",
    "except ValueError as e:\n",
    "    print(e,type(e))\n",
    "    print('정수를 입력해 주세요!')\n",
    "except IndexError as e:\n",
    "    print(e,type(e))\n",
    "    print('리스트의 인덱스를 벗어났어요!')\n",
    "finally:\n",
    "    print('예외 처리 완료')\n",
    "    "
   ]
  },
  {
   "cell_type": "markdown",
   "metadata": {},
   "source": [
    "#### 9. 사용자로부터 서로 다른 실수 두 개를 입력받고 첫 번째 와 두 번째중 큰 실수를 구하는 프로그램을 수행하세요."
   ]
  },
  {
   "cell_type": "code",
   "execution_count": 33,
   "metadata": {},
   "outputs": [
    {
     "output_type": "stream",
     "name": "stdout",
     "text": [
      "2.5\n"
     ]
    }
   ],
   "source": [
    "a = float(input('첫 번째 실수를 입력해 주세요'))\n",
    "b = float(input('두 번째 실수를 입력해 주세요'))\n",
    "if a > b:\n",
    "    print(a)\n",
    "else :\n",
    "    print(b)"
   ]
  },
  {
   "cell_type": "markdown",
   "metadata": {},
   "source": [
    "#### 10. 1부터 1000까지 아래와 같은 방식으로 2개의 수를  곱했을 때 가장 큰 수를 구하세요.\n",
    "\n",
    " (1 * 999),(2 * 998) ...(999 * 1)"
   ]
  },
  {
   "cell_type": "code",
   "execution_count": 35,
   "metadata": {},
   "outputs": [
    {
     "output_type": "stream",
     "name": "stdout",
     "text": [
      "250000\n"
     ]
    }
   ],
   "source": [
    "b = 999\n",
    "s = 1\n",
    "while True:\n",
    "    if b > s:\n",
    "        b -= 1\n",
    "        s += 1\n",
    "    elif b ==s:\n",
    "        print(b*s)\n",
    "        break"
   ]
  },
  {
   "cell_type": "markdown",
   "metadata": {},
   "source": [
    "#### 11. 정규표현식을 사용하여 text에서 지역코드를 제외한 넘버만 출력하세요.\n",
    "text = \"문의사항이 있으면 032-232-3245 으로 연락주시기 바랍니다.\""
   ]
  },
  {
   "cell_type": "code",
   "execution_count": 57,
   "metadata": {},
   "outputs": [
    {
     "output_type": "execute_result",
     "data": {
      "text/plain": [
       "'-232-3245'"
      ]
     },
     "metadata": {},
     "execution_count": 57
    }
   ],
   "source": [
    "import re\n",
    "text = \"문의사항이 있으면 032-232-3245 으로 연락주시기 바랍니다.\"\n",
    "p = re.compile('-([0-9]+)-([0-9]+)')\n",
    "p.search(text).group()"
   ]
  },
  {
   "cell_type": "markdown",
   "metadata": {},
   "source": [
    "#### 12. 'abcdefghij' 에 대하여 중첩을 적용한 서브그룹 5개로 컴파일하여 group()함수를 이용하여 'bcdefgh'와 cdefg'를 출력하세요"
   ]
  },
  {
   "cell_type": "code",
   "execution_count": 40,
   "metadata": {},
   "outputs": [
    {
     "output_type": "stream",
     "name": "stdout",
     "text": [
      "bcdefgh\ncdefg\n"
     ]
    }
   ],
   "source": [
    "p = re.compile('(a(b(c(d(e)f)g)h)i)j')\n",
    "t = p.search('abcdefghij')\n",
    "print(t.group(2))\n",
    "print(t.group(3))\n"
   ]
  },
  {
   "cell_type": "markdown",
   "metadata": {},
   "source": [
    "#### 13. [0, 1, 2, 3, 4, 5, 6, 7, 8, 9, 'a', 'b', 'c']에서 알파벳 문자만을 리스트로 출력하세요"
   ]
  },
  {
   "cell_type": "code",
   "execution_count": 64,
   "metadata": {},
   "outputs": [
    {
     "output_type": "stream",
     "name": "stdout",
     "text": [
      "['a', 'b', 'c']\n"
     ]
    }
   ],
   "source": [
    "text = [0, 1, 2, 3, 4, 5, 6, 7, 8, 9, 'a', 'b', 'c']\n",
    "print(text[10:14])\n"
   ]
  },
  {
   "cell_type": "markdown",
   "metadata": {},
   "source": [
    "#### 14. 500 ~ 1000사이의 정수 중 5의 배수이거나  7의 배수인 수의 합을 구하세요"
   ]
  },
  {
   "cell_type": "code",
   "execution_count": 71,
   "metadata": {},
   "outputs": [
    {
     "output_type": "stream",
     "name": "stdout",
     "text": [
      "118394\n"
     ]
    }
   ],
   "source": [
    "sum = 0\n",
    "for i in range(500,1001):\n",
    "    if i % 5 == 0 or i % 7 == 0:\n",
    "        sum += i\n",
    "        i += 1\n",
    "print(sum)"
   ]
  },
  {
   "cell_type": "markdown",
   "metadata": {},
   "source": [
    "#### 15. [    ]을 채워서 아래와 같이 출력하세요.\n",
    "[[3, 6, 9], [1, 4, 7], [2, 5, 8]]"
   ]
  },
  {
   "cell_type": "code",
   "execution_count": 72,
   "metadata": {},
   "outputs": [
    {
     "output_type": "stream",
     "name": "stdout",
     "text": [
      "[[3, 6, 9], [1, 4, 7], [2, 5, 8]]\n"
     ]
    }
   ],
   "source": [
    "numbers = [1,2,3,4,5,6,7,8,9]\n",
    "output = [[], [], []]\n",
    "\n",
    "for number in numbers:\n",
    "    output[number%3].append(number)\n",
    "print(output)"
   ]
  },
  {
   "cell_type": "markdown",
   "metadata": {},
   "source": [
    "####  16. 반복문으로 팩토리얼을 구하는 사용자 함수를 작성하고 5!, 10!를 구하세요."
   ]
  },
  {
   "cell_type": "code",
   "execution_count": 249,
   "metadata": {},
   "outputs": [
    {
     "output_type": "stream",
     "name": "stdout",
     "text": [
      "1\n2\n3\n4\n5\nNone\n1\n2\n3\n4\n5\n6\n7\n8\n9\n10\nNone\n"
     ]
    }
   ],
   "source": [
    "def fac(a):\n",
    "    for i in range(1,a+1):\n",
    "        a += i\n",
    "        print(i)\n",
    "\n",
    "print(fac(5))\n",
    "print(fac(10))"
   ]
  },
  {
   "cell_type": "markdown",
   "metadata": {},
   "source": [
    "#### 17. 문자열 리스트 states를 정형화하여 아래와 같이 출력하세요(내장함수 및 정규표현식 사용)"
   ]
  },
  {
   "source": [
    "states = ['   Alabama ', 'Georgia!', 'Georgia', 'georgia', 'FlOrIda',\n",
    "          'south   carolina##', 'West virginia?']\n",
    "[출력]\n",
    "['Alabama',\n",
    " 'Georgia',\n",
    " 'Georgia',\n",
    " 'Georgia',\n",
    " 'Florida',\n",
    " 'South   Carolina',\n",
    " 'West Virginia']"
   ],
   "cell_type": "code",
   "metadata": {},
   "execution_count": null,
   "outputs": []
  },
  {
   "cell_type": "code",
   "execution_count": 323,
   "metadata": {},
   "outputs": [
    {
     "output_type": "stream",
     "name": "stdout",
     "text": [
      "['Alabama', 'Georgia', 'Georgia', 'Georgia', 'Florida', 'South   Carolina', 'West Virginia']\n"
     ]
    }
   ],
   "source": [
    "import re\n",
    "states = ['    Alabama ', 'Georgia!', 'Georgia', 'georgia', 'FlOrIda',          'south   carolina##', 'West virginia?']\n",
    "tot = []\n",
    "for i in states:\n",
    "    i = re.sub('[!?#]','',i)\n",
    "    j = i.strip().title()\n",
    "    tot.append(j)\n",
    "print(tot)"
   ]
  },
  {
   "cell_type": "markdown",
   "metadata": {},
   "source": [
    "####  18.게시물의 총 건수와 한 페이지에 보여 줄 게시물 수를 입력시 총 페이지 수를 출력하는 프로그램을 작성하세요. 단, 잘못 입력시 예외 처리 필수"
   ]
  },
  {
   "cell_type": "code",
   "execution_count": 204,
   "metadata": {},
   "outputs": [
    {
     "output_type": "stream",
     "name": "stdout",
     "text": [
      "2\n"
     ]
    }
   ],
   "source": [
    "try:\n",
    "    total = int(input('게시물 총 건 수를 입력하세요 : '))\n",
    "    page = int(input('페이지 표시 건 수를 입력하세요 : '))\n",
    "    t = total / page\n",
    "    t = int(t)\n",
    "    if total % page == 0:\n",
    "        \n",
    "        print('총 {} 페이지 입니다.'.format(t))\n",
    "        \n",
    "    else:\n",
    "        print('총 {} 페이지 입니다.'.format(t+1))\n",
    "except:\n",
    "    print('에러 발생')"
   ]
  },
  {
   "cell_type": "markdown",
   "metadata": {},
   "source": [
    "#### 19. 발표할 인원을 입력하면 랜덤으로 발표자를 리스트로 출력해주는 프로그램을 작성 후 다음을 수행하세요.(중복 허용하지 않음)\n",
    "- 발표자 1명\n",
    "- 발표자 5명\n",
    "- 발표자 28명 전원"
   ]
  },
  {
   "cell_type": "code",
   "execution_count": 364,
   "metadata": {},
   "outputs": [
    {
     "output_type": "stream",
     "name": "stdout",
     "text": [
      "None\n"
     ]
    }
   ],
   "source": [
    "import numpy as np\n",
    "import random\n",
    "name = ['고영남', '김광훈', '김동일', '김진', '박기범', '박민아', '박시우', \n",
    "        '배송이', '송유빈', '신인철','오수문','우동주','이민찬','이범준',\n",
    "        '이슬','이원진','이종현','임희진','정하림','조경림','조현정',\n",
    "        '진유훈','채승혜','최윤진','최한결','최혜정','하도원','안아름']\n",
    "\n",
    "r = random.shuffle(name)\n"
   ]
  },
  {
   "cell_type": "markdown",
   "metadata": {},
   "source": [
    "#### 20. 네이버 통합검색 사이트에서 빅데이터를 입력한 후 관련 뉴스의 타이틀만 선택하여 아래 포멧으로 출력하세요."
   ]
  },
  {
   "source": [
    "# 1.'4년만에'…6개 보험사, 공공의료데이터 받는다(종합)\n",
    "# 2.부산시 금융 빅데이터 센터 구축 공모사업 선정\n",
    "# 3.\"중 의료 빅데이터업체 미 상장 보류…당국 규제강화 후 첫사례\"\n",
    "# 4.소비자원, 빅데이터로 소비자 분쟁 지원...中企 대응력 키운다\n",
    "# 5.KISA, 사이버보안 8억건 'AI 데이터셋' 구축 추진\n",
    "# 6.농식품 공공데이터 개방…가격·요리정보 활용 높아\n",
    "# 7.과학화훈련단 빅데이터 활용한 프로그램 만든다\n",
    "# 8.세종대, 하계방학 빅데이터 분석실무2급 프로그램 운영\n",
    "# 9.한국농수산식품유통공사, 범정부 빅데이터 플랫폼 연계 상담회 개최\n",
    "# 10.KISA, '사이버보안' AI 데이터셋 구축 착수"
   ],
   "cell_type": "code",
   "metadata": {},
   "execution_count": null,
   "outputs": []
  },
  {
   "cell_type": "code",
   "execution_count": 391,
   "metadata": {},
   "outputs": [
    {
     "output_type": "execute_result",
     "data": {
      "text/plain": [
       "[<a class=\"news_tit\" href=\"http://yna.kr/AKR20210708144200530?did=1195m\" onclick=\"return goOtherCR(this, 'a=nws*a.tit&amp;r=1&amp;i=880000D8_000000000000000012514049&amp;g=001.0012514049&amp;u='+urlencode(this.href));\" target=\"_blank\" title=\"'교육빅데이터위원회' 출범…교육데이터 개방·활용 논의\">'교육<mark>빅데이터</mark>위원회' 출범…교육데이터 개방·활용 논의</a>,\n",
       " <a class=\"news_tit\" href=\"http://www.edaily.co.kr/news/newspath.asp?newsid=03719526629112552\" onclick=\"return goOtherCR(this, 'a=nws*a.tit&amp;r=6&amp;i=880000E7_000000000000000004978924&amp;g=018.0004978924&amp;u='+urlencode(this.href));\" target=\"_blank\" title='\"中의료 빅데이터업체 ‘링크닥’ 美상장 보류\"…디디추싱 영향?'>\"中의료 <mark>빅데이터</mark>업체 ‘링크닥’ 美상장 보류\"…디디추싱 영향?</a>,\n",
       " <a class=\"news_tit\" href=\"http://news.kmib.co.kr/article/view.asp?arcid=0016028872&amp;code=61141111&amp;cp=nv\" onclick=\"return goOtherCR(this, 'a=nws*a.tit&amp;r=8&amp;i=8800006F_000000000000000001454330&amp;g=005.0001454330&amp;u='+urlencode(this.href));\" target=\"_blank\" title=\"부산시 ‘금융 빅데이터 센터’ 구축…디지털혁신 가속화\">부산시 ‘금융 <mark>빅데이터</mark> 센터’ 구축…디지털혁신 가속화</a>,\n",
       " <a class=\"news_tit\" href=\"http://news.mt.co.kr/mtview.php?no=2021070911002620536\" onclick=\"return goOtherCR(this, 'a=nws*a.tit&amp;r=12&amp;i=880000C2_000000000000000004613970&amp;g=008.0004613970&amp;u='+urlencode(this.href));\" target=\"_blank\" title=\"한전의 '전력 빅데이터'와 하나은행의 '금융 인센티브' 결합\">한전의 '전력 <mark>빅데이터</mark>'와 하나은행의 '금융 인센티브' 결합</a>,\n",
       " <a class=\"news_tit\" href=\"https://view.asiae.co.kr/article/2021070815322641533\" onclick=\"return goOtherCR(this, 'a=nws*h.tit&amp;r=17&amp;i=88000385_000000000000000004934293&amp;g=277.0004934293&amp;u='+urlencode(this.href));\" target=\"_blank\" title=\"삼성생명 등 6개 보험사, '공공의료 데이터 활용' 길 열렸다\">삼성생명 등 6개 보험사, '공공의료 <mark>데이터</mark> 활용' 길 열렸다</a>,\n",
       " <a class=\"news_tit\" href=\"https://www.hellot.net/news/article.html?no=59640\" onclick=\"return goOtherCR(this, 'a=nws*b.tit&amp;r=22&amp;i=88166537_000000000000000000026534&amp;g=5417.0000026534&amp;u='+urlencode(this.href));\" target=\"_blank\" title=\"’Nowcast 포털‘로 빅데이터 기반 경제·사회 속보성 지표 서비스\">’Nowcast 포털‘로 <mark>빅데이터</mark> 기반 경제·사회 속보성 지표 서비스</a>,\n",
       " <a class=\"news_tit\" href=\"http://www.thebigdata.co.kr/view.php?ud=20210709085018372007d270612f_23\" onclick=\"return goOtherCR(this, 'a=nws*b.tit&amp;r=24&amp;i=881843ee_000000000000000000093899&amp;g=5645.0000093899&amp;u='+urlencode(this.href));\" target=\"_blank\" title=\"대학교 브랜드평판 6월 빅데이터 분석 1위는 서울대\">대학교 브랜드평판 6월 <mark>빅데이터</mark> 분석 1위는 서울대</a>,\n",
       " <a class=\"news_tit\" href=\"http://www.etnews.com/20210708000145\" onclick=\"return goOtherCR(this, 'a=nws*j.tit&amp;r=27&amp;i=880000EA_000000000000000002956279&amp;g=030.0002956279&amp;u='+urlencode(this.href));\" target=\"_blank\" title=\"소비자원, 빅데이터로 소비자 분쟁 지원...中企 대응력 키운다\">소비자원, <mark>빅데이터</mark>로 소비자 분쟁 지원...中企 대응력 키운다</a>,\n",
       " <a class=\"news_tit\" href=\"http://www.newsis.com/view/?id=NISX20210709_0001506536&amp;cID=15001&amp;pID=15000\" onclick=\"return goOtherCR(this, 'a=nws*e.tit&amp;r=28&amp;i=88000127_000000000000000010597665&amp;g=003.0010597665&amp;u='+urlencode(this.href));\" target=\"_blank\" title=\"[빅데이터MSI] 9일 오전 주식시장 심리 3단계 '약간나쁨'\">[<mark>빅데이터</mark>MSI] 9일 오전 주식시장 심리 3단계 '약간나쁨'</a>,\n",
       " <a class=\"news_tit\" href=\"http://www.edaily.co.kr/news/newspath.asp?newsid=02174646629112880\" onclick=\"return goOtherCR(this, 'a=nws*e.tit&amp;r=29&amp;i=880000E7_000000000000000004979567&amp;g=018.0004979567&amp;u='+urlencode(this.href));\" target=\"_blank\" title=\"&quot;진짜 돈되는 보고서 따로 있다&quot;…'빅데이터 투자' 특허 출원\">\"진짜 돈되는 보고서 따로 있다\"…'<mark>빅데이터</mark> 투자' 특허 출원</a>]"
      ]
     },
     "metadata": {},
     "execution_count": 391
    }
   ],
   "source": [
    "from bs4 import BeautifulSoup as bs\n",
    "import requests, urllib\n",
    "import re\n",
    "URL = 'https://search.naver.com/search.naver?where=news&sm=tab_jum&query=%EB%B9%85%EB%8D%B0%EC%9D%B4%ED%84%B0'\n",
    "response = urllib.request.urlopen(URL)\n",
    "soup = bs(response,'html.parser')\n",
    "resu = soup.select('a.news_tit')\n",
    "resu"
   ]
  }
 ],
 "metadata": {
  "kernelspec": {
   "name": "python3",
   "display_name": "Python 3.8.8 64-bit (conda)"
  },
  "language_info": {
   "codemirror_mode": {
    "name": "ipython",
    "version": 3
   },
   "file_extension": ".py",
   "mimetype": "text/x-python",
   "name": "python",
   "nbconvert_exporter": "python",
   "pygments_lexer": "ipython3",
   "version": "3.8.8"
  },
  "interpreter": {
   "hash": "dca0ade3e726a953b501b15e8e990130d2b7799f14cfd9f4271676035ebe5511"
  }
 },
 "nbformat": 4,
 "nbformat_minor": 2
}