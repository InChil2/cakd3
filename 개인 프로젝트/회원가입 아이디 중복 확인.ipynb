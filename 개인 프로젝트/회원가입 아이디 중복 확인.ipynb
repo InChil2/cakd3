{
 "cells": [
  {
   "cell_type": "code",
   "execution_count": 1,
   "id": "6c78c33d",
   "metadata": {},
   "outputs": [
    {
     "name": "stdout",
     "output_type": "stream",
     "text": [
      "['김땡땡', '김땡땡', '김인직', '신인철', 'tlsdlscjf', '2', '156156', '염대경', '김12', '1', '156', '1927', '1549', '1541']\n"
     ]
    },
    {
     "ename": "KeyboardInterrupt",
     "evalue": "Interrupted by user",
     "output_type": "error",
     "traceback": [
      "\u001b[1;31m---------------------------------------------------------------------------\u001b[0m",
      "\u001b[1;31mKeyboardInterrupt\u001b[0m                         Traceback (most recent call last)",
      "\u001b[1;32m<ipython-input-1-4f16ee5272fd>\u001b[0m in \u001b[0;36m<module>\u001b[1;34m\u001b[0m\n\u001b[0;32m     11\u001b[0m \u001b[1;33m\u001b[0m\u001b[0m\n\u001b[0;32m     12\u001b[0m \u001b[1;32mwhile\u001b[0m \u001b[1;32mTrue\u001b[0m\u001b[1;33m:\u001b[0m\u001b[1;33m\u001b[0m\u001b[1;33m\u001b[0m\u001b[0m\n\u001b[1;32m---> 13\u001b[1;33m     \u001b[0mp_id\u001b[0m \u001b[1;33m=\u001b[0m \u001b[0minput\u001b[0m\u001b[1;33m(\u001b[0m\u001b[1;34m\"사용자 ID : \"\u001b[0m\u001b[1;33m)\u001b[0m\u001b[1;33m\u001b[0m\u001b[1;33m\u001b[0m\u001b[0m\n\u001b[0m\u001b[0;32m     14\u001b[0m     \u001b[1;32mif\u001b[0m \u001b[0mp_id\u001b[0m \u001b[1;32min\u001b[0m \u001b[0mp_data\u001b[0m\u001b[1;33m:\u001b[0m \u001b[1;31m# 중복된 아이디는 생성이 안되도록 조건\u001b[0m\u001b[1;33m\u001b[0m\u001b[1;33m\u001b[0m\u001b[0m\n\u001b[0;32m     15\u001b[0m         \u001b[0mprint\u001b[0m\u001b[1;33m(\u001b[0m\u001b[1;34m\"이미 사용하고 있는 ID 입니다.\"\u001b[0m\u001b[1;33m)\u001b[0m\u001b[1;33m\u001b[0m\u001b[1;33m\u001b[0m\u001b[0m\n",
      "\u001b[1;32mD:\\anaconda3\\envs\\cakd3\\lib\\site-packages\\ipykernel\\kernelbase.py\u001b[0m in \u001b[0;36mraw_input\u001b[1;34m(self, prompt)\u001b[0m\n\u001b[0;32m    858\u001b[0m                 \u001b[1;34m\"raw_input was called, but this frontend does not support input requests.\"\u001b[0m\u001b[1;33m\u001b[0m\u001b[1;33m\u001b[0m\u001b[0m\n\u001b[0;32m    859\u001b[0m             )\n\u001b[1;32m--> 860\u001b[1;33m         return self._input_request(str(prompt),\n\u001b[0m\u001b[0;32m    861\u001b[0m             \u001b[0mself\u001b[0m\u001b[1;33m.\u001b[0m\u001b[0m_parent_ident\u001b[0m\u001b[1;33m,\u001b[0m\u001b[1;33m\u001b[0m\u001b[1;33m\u001b[0m\u001b[0m\n\u001b[0;32m    862\u001b[0m             \u001b[0mself\u001b[0m\u001b[1;33m.\u001b[0m\u001b[0m_parent_header\u001b[0m\u001b[1;33m,\u001b[0m\u001b[1;33m\u001b[0m\u001b[1;33m\u001b[0m\u001b[0m\n",
      "\u001b[1;32mD:\\anaconda3\\envs\\cakd3\\lib\\site-packages\\ipykernel\\kernelbase.py\u001b[0m in \u001b[0;36m_input_request\u001b[1;34m(self, prompt, ident, parent, password)\u001b[0m\n\u001b[0;32m    902\u001b[0m             \u001b[1;32mexcept\u001b[0m \u001b[0mKeyboardInterrupt\u001b[0m\u001b[1;33m:\u001b[0m\u001b[1;33m\u001b[0m\u001b[1;33m\u001b[0m\u001b[0m\n\u001b[0;32m    903\u001b[0m                 \u001b[1;31m# re-raise KeyboardInterrupt, to truncate traceback\u001b[0m\u001b[1;33m\u001b[0m\u001b[1;33m\u001b[0m\u001b[1;33m\u001b[0m\u001b[0m\n\u001b[1;32m--> 904\u001b[1;33m                 \u001b[1;32mraise\u001b[0m \u001b[0mKeyboardInterrupt\u001b[0m\u001b[1;33m(\u001b[0m\u001b[1;34m\"Interrupted by user\"\u001b[0m\u001b[1;33m)\u001b[0m \u001b[1;32mfrom\u001b[0m \u001b[1;32mNone\u001b[0m\u001b[1;33m\u001b[0m\u001b[1;33m\u001b[0m\u001b[0m\n\u001b[0m\u001b[0;32m    905\u001b[0m             \u001b[1;32mexcept\u001b[0m \u001b[0mException\u001b[0m \u001b[1;32mas\u001b[0m \u001b[0me\u001b[0m\u001b[1;33m:\u001b[0m\u001b[1;33m\u001b[0m\u001b[1;33m\u001b[0m\u001b[0m\n\u001b[0;32m    906\u001b[0m                 \u001b[0mself\u001b[0m\u001b[1;33m.\u001b[0m\u001b[0mlog\u001b[0m\u001b[1;33m.\u001b[0m\u001b[0mwarning\u001b[0m\u001b[1;33m(\u001b[0m\u001b[1;34m\"Invalid Message:\"\u001b[0m\u001b[1;33m,\u001b[0m \u001b[0mexc_info\u001b[0m\u001b[1;33m=\u001b[0m\u001b[1;32mTrue\u001b[0m\u001b[1;33m)\u001b[0m\u001b[1;33m\u001b[0m\u001b[1;33m\u001b[0m\u001b[0m\n",
      "\u001b[1;31mKeyboardInterrupt\u001b[0m: Interrupted by user"
     ]
    }
   ],
   "source": [
    "import re\n",
    "\n",
    "with open('memberdata.txt','r') as f: #회원데이터에 있는지 확인\n",
    "    data = f.read()\n",
    "id_filter = re.compile('ID\\s:\\s\\w+')\n",
    "id_f_data = id_filter.findall(data)\n",
    "id_f2_data = ':'.join(id_f_data)\n",
    "id_f3_data = id_f2_data.replace('ID : ','')\n",
    "p_data = id_f3_data.split(':')\n",
    "print(p_data)\n",
    "\n",
    "while True:\n",
    "    p_id = input(\"사용자 ID : \")\n",
    "    if p_id in p_data: # 중복된 아이디는 생성이 안되도록 조건\n",
    "        print(\"이미 사용하고 있는 ID 입니다.\")\n",
    "    else:\n",
    "        print(\"사용 할 수 있는 ID 입니다\")\n",
    "        p_pw = input(\"사용자 PW : \")\n",
    "        with open('memberdata.txt','a') as f:\n",
    "            f.write(\"{},{},{}\\n\".format(datetime.datetime.now(),p_id, p_pw))\n",
    "        with open('logdata.txt','a') as f:\n",
    "            f.write(\"logdata = {}  회원가입 시도 ID = {}\\n\".format(datetime.datetime.now(),p_id))\n",
    "            print(\"회원가입이 완료 되었습니다\")\n",
    "        with open('logdata.txt','a') as f:\n",
    "            f.write(\"logdata = {}  회원가입 완료 ID = {}\\n\".format(datetime.datetime.now(),p_id))\n",
    "            break\n"
   ]
  },
  {
   "cell_type": "code",
   "execution_count": 23,
   "id": "81d247ec",
   "metadata": {},
   "outputs": [
    {
     "name": "stdout",
     "output_type": "stream",
     "text": [
      "159159\n"
     ]
    }
   ],
   "source": [
    "import re\n",
    "\n",
    "with open('memberdata.txt','r') as f: #회원데이터에 있는지 확인\n",
    "    data = f.read()\n",
    "tlssk = str('김인직')\n",
    "id_pw_filter = re.compile('ID\\s:\\s%s\\s/\\sPW\\s:\\s\\w+'%tlssk)\n",
    "pw_f_data = id_pw_filter.findall(data)\n",
    "pw_f2_data = '/'.join(pw_f_data)\n",
    "pw_data = pw_f2_data.replace('ID : %s / PW : '%tlssk,'')\n",
    "\n",
    "\n",
    "print(pw_f3_data)\n"
   ]
  },
  {
   "cell_type": "code",
   "execution_count": 56,
   "id": "28a98727",
   "metadata": {},
   "outputs": [
    {
     "name": "stdout",
     "output_type": "stream",
     "text": [
      "제목 : _s\n",
      "제목 : ㅎㅇㅎㅇ\n",
      "제목 : 가나다라마바사\n",
      "제목 : 김인직 123\n",
      "제목 : 로그인해서 첫 게시물\n",
      "제목 : 안녕하세요\n",
      "제목 : 염대경 머리 때리고 싶다\n",
      "제목 : 오늘은 로그인 데이터 저장 프로세스를 만들자\n",
      "제목 : 인직 ㅎㅇ\n",
      "제목 : 인터페이스 작성 후 첫 게시물\n",
      "제목 : 하이하이\n"
     ]
    }
   ],
   "source": [
    "import os\n",
    "path = 'datafile' \n",
    "file_list = os.listdir(path)\n",
    "for i in file_list:\n",
    "    i = i.replace('.txt','')\n",
    "    print('제목 : {}'.format(i))\n",
    "    "
   ]
  }
 ],
 "metadata": {
  "kernelspec": {
   "display_name": "Python 3",
   "language": "python",
   "name": "python3"
  },
  "language_info": {
   "codemirror_mode": {
    "name": "ipython",
    "version": 3
   },
   "file_extension": ".py",
   "mimetype": "text/x-python",
   "name": "python",
   "nbconvert_exporter": "python",
   "pygments_lexer": "ipython3",
   "version": "3.8.10"
  }
 },
 "nbformat": 4,
 "nbformat_minor": 5
}
