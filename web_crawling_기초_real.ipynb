{
 "cells": [
  {
   "cell_type": "code",
   "execution_count": null,
   "source": [
    "text = \"<k-digital training 3기>\"\n",
    "text1 = 'abc'\n",
    "print(text[0])\n",
    "print(text[-1])\n",
    "print(text1.title()) #첫 글자만 대문자로 변환 title() 띄어쓰기가 되어 있으면 전부 대문자로 바꿈\n",
    "print(text1.upper()) #모든 글자를 대문자로 변환\n",
    "print(text.capitalize()[1])\n",
    "print(text.title())"
   ],
   "outputs": [],
   "metadata": {
    "id": "8edb8e14",
    "outputId": "ed2f844f-1a3f-466f-b9cb-985ae4f7a549"
   }
  },
  {
   "cell_type": "code",
   "execution_count": null,
   "source": [
    "#과제 \n",
    "# <K-Digital Training 3기>"
   ],
   "outputs": [],
   "metadata": {
    "id": "7083450e"
   }
  },
  {
   "cell_type": "code",
   "execution_count": null,
   "source": [
    "text1 = \"   <K-Digital Training 3기>   \"\n",
    "text2 = ';'\n",
    "print(text1.strip() + text2)\n",
    "print(text1.lstrip() + text2)\n",
    "print(text1.rstrip() + text2)"
   ],
   "outputs": [],
   "metadata": {
    "id": "51383733",
    "outputId": "7b92a233-4f0c-429b-ea63-2aa37c635408"
   }
  },
  {
   "cell_type": "code",
   "execution_count": null,
   "source": [
    "#다음을 출력하세요\n",
    "#<div>K-Digital Training 3기</title>\n",
    "#<div>K-Digital Training 3기</div>\n",
    "text = \"<title>K-Digital Training 3기</title>\"\n",
    "print(text.replace('title','div'))\n",
    "print(text.replace('<title>','<div>'))"
   ],
   "outputs": [],
   "metadata": {
    "id": "c474d91b",
    "outputId": "1ebfb661-8b0e-48ea-b2ad-0263b475b462",
    "scrolled": true
   }
  },
  {
   "cell_type": "code",
   "execution_count": null,
   "source": [
    "#셀레니움 뷰티풀 숲? 으로 필요한 부분만 추출\n",
    "import re\n",
    "text = ('111<head>안녕하세요</head>')\n",
    "filter_text = re.search('<.+>+',text)\n",
    "\n",
    "print(filter_text.group())\n",
    "filter_text.group()"
   ],
   "outputs": [],
   "metadata": {
    "id": "0bd567de",
    "outputId": "bf94b5fa-c52a-4f65-a545-cc0a4a111147"
   }
  },
  {
   "cell_type": "code",
   "execution_count": null,
   "source": [
    "import re\n",
    "text = ('111<head>안녕하세요</head>')\n",
    "filter_text = re.search('[가-힣]+',text)\n",
    "\n",
    "print(filter_text.group())\n",
    "filter_text.group()"
   ],
   "outputs": [],
   "metadata": {
    "id": "8603ffe1",
    "outputId": "c9fbe0d5-9072-4126-84d5-46cb6ab1ac98"
   }
  },
  {
   "cell_type": "code",
   "execution_count": null,
   "source": [
    "import requests\n",
    "URL = 'https://naver.com'\n",
    "response = requests.get(URL)\n",
    "print(response.text)"
   ],
   "outputs": [],
   "metadata": {
    "id": "9c135d53",
    "outputId": "e8e69a57-169e-4734-c736-f00d367fcb5c"
   }
  },
  {
   "cell_type": "code",
   "execution_count": null,
   "source": [
    "text = '''<meta property=\"og:description\"\n",
    "content=\"네이버 메인에서 다양한 정보와 유용한 컨텐츠를 만나 보세요\"/>'''\n",
    "#p = re.search('([가-힣]+\\s?)+',text)\n",
    "p = re.search('([가-힣]+ *)+',text)\n",
    "print(p.group())"
   ],
   "outputs": [],
   "metadata": {
    "id": "fd06d49a",
    "outputId": "939fb4ec-2308-4939-fc1d-639d5fd6b9ec"
   }
  },
  {
   "cell_type": "code",
   "execution_count": null,
   "source": [
    "import re\n",
    "text = \"<title>K-Digital Training 3기</title>\"\n",
    "# text = re.sub('<title>','',text)\n",
    "# text = re.sub('</title>','',text)\n",
    "text = re.sub('<.+?>','',text)\n",
    "print(text)"
   ],
   "outputs": [],
   "metadata": {
    "id": "0fef48f7",
    "outputId": "54ca867f-8dfb-4d58-c42d-b350fdfd8d7f"
   }
  },
  {
   "cell_type": "code",
   "execution_count": null,
   "source": [
    "# k-digital training 3기만 출력\n",
    "text = '''<head> 안녕하세요... <title>k-digital training 3기</title>\n",
    "반갑습니다...</head>'''\n",
    "import re\n",
    "p = re.search('[a-z]-.+[가-힣]',text)\n",
    "print(p.group())"
   ],
   "outputs": [],
   "metadata": {
    "id": "ead01853",
    "outputId": "b00e58a5-97eb-4b8e-adbb-c18de1f2d4c0"
   }
  },
  {
   "cell_type": "code",
   "execution_count": null,
   "source": [
    "text = '''<head> 안녕하세요... <title>k-digital training 3기</title>\n",
    "반갑습니다...</head>'''\n",
    "import re\n",
    "\n",
    "body = re.search('<title.*/title>',text)\n",
    "body = body.group()\n",
    "print(body)\n",
    "body = re.sub('<.+?>','',body)\n",
    "print(body)"
   ],
   "outputs": [],
   "metadata": {
    "id": "bcbfeb6b",
    "outputId": "56cd6d07-5ff2-4452-9363-896baf6d4ca7"
   }
  },
  {
   "cell_type": "code",
   "execution_count": null,
   "source": [
    "text = '''<head> 안녕하세요... <title>k-digital training 3기</title>\n",
    "반갑습니다...</head>'''\n",
    "import re\n",
    "p = re.sub('<.+?>','',text)\n",
    "p1 = re.sub('([가-힣]+...)','',p)\n",
    "print(p1)"
   ],
   "outputs": [],
   "metadata": {
    "id": "542628b6",
    "outputId": "6f42f067-a0f9-4e07-9559-fc96598a4eb1"
   }
  },
  {
   "cell_type": "code",
   "execution_count": null,
   "source": [
    "# request 모듈 : pip install requests 설치, anaconda를 설치하면 기본적으로 설치 되어 있음\n",
    "# import requests로 모듈 호출 후 사용"
   ],
   "outputs": [],
   "metadata": {
    "id": "b0f8b5d3"
   }
  },
  {
   "cell_type": "code",
   "execution_count": null,
   "source": [
    "import requests\n",
    "URL = 'https://www.naver.com'\n",
    "response = requests.get(URL)\n",
    "print(response.status_code)\n",
    "print(response.text)"
   ],
   "outputs": [],
   "metadata": {
    "id": "22612e39",
    "outputId": "bf1cc476-4c18-4f9b-e5f4-0e5f0915755c"
   }
  },
  {
   "cell_type": "code",
   "execution_count": null,
   "source": [
    "import requests\n",
    "html_data = response.text\n",
    "print(html_data.find('네이버'))\n",
    "print(html_data[365:368])"
   ],
   "outputs": [],
   "metadata": {
    "id": "a7577cf5",
    "outputId": "1b6360df-d5fd-4064-9256-2a51273883fb"
   }
  },
  {
   "cell_type": "code",
   "execution_count": null,
   "source": [
    "body = response.text\n",
    "print(body.find('네이버 메인에서 다양한'))\n",
    "print(body[365:397])"
   ],
   "outputs": [],
   "metadata": {
    "id": "8c07d5d2",
    "outputId": "2e5ef59b-8ade-4665-d8ef-834662052583"
   }
  },
  {
   "cell_type": "code",
   "execution_count": null,
   "source": [
    "# 위 문제를 정규 표현식으로 출력하세요\n",
    "# <meta name=\"twitter:description\" content=\"네이버 메인에서 다양한 정보와 유용한 컨텐츠를 만나 보세요\"/> \n",
    "import re\n",
    "import requests\n",
    "body = response.text\n",
    "#r = re.search('([가-힣]+\\s?)+',body)\n",
    "r = re.search('([가-힣]+ *)+',body)\n",
    "print(r.group())"
   ],
   "outputs": [],
   "metadata": {
    "id": "7ca472f5",
    "outputId": "ea28600b-df13-4ac2-b829-a2f935abc3ec"
   }
  },
  {
   "cell_type": "code",
   "execution_count": null,
   "source": [
    "content = body.split('<meta property=')[1] # 스플릿으로 나눠서 인덱싱 한다음\n",
    "content = re.search('네이버',content) # 정규표현식으로 찾아서 출력\n",
    "print(content.group())"
   ],
   "outputs": [],
   "metadata": {
    "id": "4f0d0e58",
    "outputId": "a258632c-c003-4dad-fb98-0e9cd82aa66f"
   }
  },
  {
   "cell_type": "code",
   "execution_count": null,
   "source": [
    "#get 메소드에 params 인자를 넣어 함께 get 요청(파라미터 : query)\n",
    "import requests\n",
    "URL = 'https://search.naver.com/search.naver'\n",
    "params = {'query':'aa'}\n",
    "response = requests.get(URL,params=params)\n",
    "print(response.status_code)\n",
    "print(response.text)"
   ],
   "outputs": [],
   "metadata": {
    "id": "84230046",
    "outputId": "e0ed9c53-b27b-4ba2-aa9f-30a96da7e011"
   }
  },
  {
   "cell_type": "code",
   "execution_count": null,
   "source": [
    "import requests\n",
    "URL = 'https://www.naver.com'\n",
    "response = requests.get(URL)\n",
    "content = response.text\n",
    "body = re.search('<h3.*/h3>',content)\n",
    "body = body.group()\n",
    "print(body)\n",
    "body = re.sub('<.+?>','',body) #?는 있거나 말거나 <괄호> 를 모두 공백으로 바꾼다\n",
    "print(body)"
   ],
   "outputs": [],
   "metadata": {
    "id": "1f561d5c",
    "outputId": "813f0adf-24ee-4d32-e67b-9da3bbb39088"
   }
  },
  {
   "cell_type": "code",
   "execution_count": null,
   "source": [
    "import requests\n",
    "URL = 'https://datalab.naver.com/'\n",
    "response = requests.get(URL)\n",
    "content = response.text\n",
    "r = content.split('<span class=\"title\">')\n",
    "body = re.findall('[가-힣]+원피스',content)\n",
    "print(body)"
   ],
   "outputs": [],
   "metadata": {
    "id": "8abfefaf",
    "outputId": "e9470524-7d5a-4494-f615-a701524e67b0"
   }
  },
  {
   "cell_type": "code",
   "execution_count": null,
   "source": [
    "import requests\n",
    "URL = 'https://datalab.naver.com/'\n",
    "response = requests.get(URL)\n",
    "content = response.text\n",
    "print(content.find('원피스'))\n",
    "body = re.findall('[가-힣]+원피스',content)\n",
    "print(body)"
   ],
   "outputs": [],
   "metadata": {
    "id": "53dd9f0f",
    "outputId": "8ccd4ff8-e82d-4014-f8c6-12b12431956c"
   }
  },
  {
   "cell_type": "code",
   "execution_count": null,
   "source": [
    "#https://search.shopping.naver.com/best100v2/main.nhn 에서 크록스를 출력하세요\n",
    "import requests\n",
    "URL = 'https://search.shopping.naver.com/best100v2/main.nhn'\n",
    "response = requests.get(URL)\n",
    "content = response.text\n",
    "print(content.find('크록스'))\n",
    "body = re.findall('(크록스\\s[가-힣]+)+\\s[가-힣]',content)\n",
    "print(body)"
   ],
   "outputs": [],
   "metadata": {
    "id": "1f4fc47e",
    "outputId": "f2beec9a-785d-4428-e8f3-c53b605cc9d3"
   }
  },
  {
   "cell_type": "code",
   "execution_count": null,
   "source": [
    "# URL = https://naver.com 에서 split() 함수화 정규표현식을 이용하여\n",
    "#['메일','카페','블로그','지식iN','쇼핑']을 출력하세요\n",
    "import re\n",
    "import requests\n",
    "URL = 'https://naver.com'\n",
    "response = requests.get(URL)\n",
    "a = response.text\n",
    "b = re.search('''class=\"nav\".+?</li>+''',a)\n",
    "\n",
    "print(b)\n",
    "\n",
    "c = re.sub('<.+?/>','',b)\n",
    "print(c)"
   ],
   "outputs": [],
   "metadata": {
    "id": "75eab19c",
    "outputId": "e52c5b15-26b8-49e3-fd6a-834d07442eb9"
   }
  },
  {
   "cell_type": "code",
   "execution_count": null,
   "source": [
    "# URL = https://naver.com 에서 split() 함수화 정규표현식을 이용하여\n",
    "#['메일','카페','블로그','지식iN','쇼핑']을 출력하세요\n",
    "import re\n",
    "import requests\n",
    "URL = 'https://naver.com'\n",
    "response = requests.get(URL)\n",
    "a = response.text\n",
    "li = []\n",
    "for i in range(5):\n",
    "    result = a.split('<li class=\"nav_item\">')[i+1]\n",
    "    print(result)\n",
    "word = re.sub('<.+?>','',result)\n",
    "print(word)"
   ],
   "outputs": [],
   "metadata": {
    "id": "3c9423fe",
    "outputId": "fdc4635e-bef2-463d-dc99-8820f47607f9"
   }
  },
  {
   "cell_type": "code",
   "execution_count": null,
   "source": [
    "import urllib\n",
    "URL = 'https://www.naver.com'\n",
    "request = urllib.request.Request(URL)\n",
    "print(request)\n",
    "print(request.full_url)\n",
    "print(request.type)\n",
    "print(request.host)"
   ],
   "outputs": [],
   "metadata": {
    "id": "0fccadc7",
    "outputId": "0badc988-d986-416d-e5e9-208c68272b1e"
   }
  },
  {
   "cell_type": "code",
   "execution_count": null,
   "source": [
    "import urllib\n",
    "URL = 'https://www.naver.com'\n",
    "response = urllib.request.urlopen(URL)\n",
    "byte_data = response.read(500)\n",
    "text_data = byte_data.decode('utf-8')\n",
    "print(text_data)"
   ],
   "outputs": [],
   "metadata": {
    "id": "04436d56",
    "outputId": "4f5657c5-861f-4a18-b223-ae0b32c27391"
   }
  },
  {
   "cell_type": "code",
   "execution_count": null,
   "source": [
    "# urllib.request.urlretrieve(): 웹상의 이미지 저장\n",
    "import urllib.request\n",
    "img_src = 'https://homepages.cae.wisc.edu/~ece533/images/tulips.png'\n",
    "new_name = 'img.png'\n",
    "urllib.request.urlretrieve(img_src,new_name)"
   ],
   "outputs": [],
   "metadata": {
    "id": "2415c5d5",
    "outputId": "7591f589-c79f-40a3-9ad7-8205dd5a0248"
   }
  },
  {
   "cell_type": "code",
   "execution_count": null,
   "source": [
    "#단순한 패턴을 읽을 때는 복잡한 정규표현식 보다는 간단한 parse 모듈을 사용\n",
    "#urllib.parse : url을 6개로 분리하여 반환\n",
    "\n",
    "import urllib\n",
    "parse = urllib.parse.urlparse('https://section.blog.naver.com/Search/Post.naver?pageNo=1&rangeType=ALL&orderBy=sim&keyword=ai')\n",
    "print(parse)\n",
    "print(parse[0])\n",
    "print(parse[5])\n",
    "print(parse[:5])\n",
    "print(parse.query)"
   ],
   "outputs": [],
   "metadata": {
    "id": "6bf9f42e",
    "outputId": "65c1f49b-4054-4ed2-9cca-045463ff20c2"
   }
  },
  {
   "cell_type": "code",
   "execution_count": null,
   "source": [
    "# 튜플(변경 불가능)으로 반환 되기 떄문에 리스트(변경 가능)로 변경하여 활용\n",
    "import urllib\n",
    "parse = urllib.parse.urlparse('https://blog.naver.com/koreatech91;a=1?b=2#b')\n",
    "print(parse)\n",
    "parse = list(parse)\n",
    "parse[1] = 'blog.daum.net'\n",
    "print(parse)"
   ],
   "outputs": [],
   "metadata": {
    "id": "9d24aeb5",
    "outputId": "0d1f54b1-749a-4ec7-e4ff-b99e5674ea70"
   }
  },
  {
   "cell_type": "code",
   "execution_count": null,
   "source": [
    "import urllib\n",
    "URL = 'https://www.naver.com'\n",
    "response = urllib.request.urlopen(URL)\n",
    "byte_data = response.read(500)\n",
    "text_data = byte_data.decode('utf-8')\n",
    "print(text_data)"
   ],
   "outputs": [],
   "metadata": {
    "id": "f56d91cc"
   }
  },
  {
   "cell_type": "code",
   "execution_count": null,
   "source": [
    "#원하는 웹 사이트를 requests 모듈과 urllib 모듈로 가져와서 text로 출력하세요\n",
    "import requests\n",
    "import urllib\n",
    "URL = 'https://datalab.naver.com'\n",
    "response = urllib.request.urlopen(URL)\n",
    "web_code = response.read()\n",
    "web_code1 = web_code.decode('utf-8')\n",
    "li = []\n",
    "for i in range(10):\n",
    "    filter_data = web_code1.split('<span class=\"title\">')[i+1]\n",
    "    filter_data = re.sub('<.+/?>','',filter_data)\n",
    "    filter_data = re.sub(r'\\n','',filter_data)\n",
    "    li.append(filter_data)\n",
    "print(li)"
   ],
   "outputs": [],
   "metadata": {
    "id": "b7526a6f",
    "outputId": "df3ab595-a1b5-43fc-b479-31c32b785b81"
   }
  },
  {
   "cell_type": "code",
   "execution_count": null,
   "source": [
    "<yt-formatted-string class=\"style-scope ytd-video-renderer\" \n",
    "aria-label=\"[MSG워너비] 정상동기- 나를 아는 사람 음악중심 데뷔 무대! (Hangout with Yoo - MSG WANNABE) 게시자: 놀면 뭐하니? 1일 전 5분 2초 조회수 1,625,145회\">\n",
    "[MSG워너비] 정상동기- 나를 아는 사람 음악중심 데뷔 무대! (Hangout with Yoo - MSG WANNABE)</yt-formatted-string>"
   ],
   "outputs": [],
   "metadata": {
    "id": "8dbc15de"
   }
  },
  {
   "cell_type": "code",
   "execution_count": null,
   "source": [
    "<yt-formatted-string class=\"style-scope ytd-video-renderer\" \n",
    "aria-label=\"[MSG워너비] M.O.M - 바라만 본다 음악중심 데뷔 무대! (Hangout with Yoo - MSG WANNABE) 게시자: 놀면 뭐하니? 1일 전 3분 47초 조회수 2,113,948회\">\n",
    "[MSG워너비] M.O.M - 바라만 본다 음악중심 데뷔 무대! (Hangout with Yoo - MSG WANNABE)</yt-formatted-string>"
   ],
   "outputs": [],
   "metadata": {
    "id": "3c1500b5"
   }
  },
  {
   "cell_type": "code",
   "execution_count": null,
   "source": [
    "# 정규 표현식이 특정 단어를 출력하세요"
   ],
   "outputs": [],
   "metadata": {
    "id": "291d1846"
   }
  },
  {
   "cell_type": "code",
   "execution_count": null,
   "source": [
    "#웹에서 이미지를 다운 받아서 저장하세요(가능한 이미지 선택)"
   ],
   "outputs": [],
   "metadata": {
    "id": "132c7724"
   }
  },
  {
   "cell_type": "code",
   "execution_count": null,
   "source": [
    "#도전 과제\n",
    "#네이버 영화 랭킹 가져와서 첫 번째 영화 제목을 출력하세요\n",
    "import requests\n",
    "import urllib\n",
    "\n",
    "URL = 'https://movie.naver.com/movie/sdb/rank/rmovie.nhn'\n",
    "response = urllib.request.urlopen(URL)\n",
    "movie_f = response.read()\n",
    "movie_f = movie_f.decode('utf-8')\n",
    "movie_data = movie_f.split('<div class=\"tit3\">')[1]\n",
    "movie_data = movie_f.split('<td>')\n",
    "movie_data\n"
   ],
   "outputs": [],
   "metadata": {
    "id": "802c10a8",
    "outputId": "c7f904aa-0a99-46bc-ac9b-c662c54a0603"
   }
  },
  {
   "cell_type": "code",
   "execution_count": null,
   "source": [
    "<td class=\"title\"></td>\n",
    "<p class=\"r_date\">2021.07.04 <a href=\"rmovie.nhn?sel=cnt&amp;tg=0&amp;date=20210703\"><img src=\"https://ssl.pstatic.net/imgmovie/2007/img/common/btn_prev.gif\" alt=\"prev\" width=\"13\" height=\"13\" style=\"margin-right:1px;\"></a></p>"
   ],
   "outputs": [],
   "metadata": {
    "id": "d0c64604"
   }
  },
  {
   "cell_type": "code",
   "execution_count": null,
   "source": [
    "#도전 과제\n",
    "#네이버 영화 랭킹을 출력하세요\n",
    "import requests\n",
    "import urllib\n",
    "import re\n",
    "URL = 'https://movie.naver.com/movie/sdb/rank/rmovie.nhn'\n",
    "response = urllib.request.urlopen(URL)\n",
    "ta = response.read()\n",
    "ta1 = ta.decode('utf-8')\n",
    "ta1"
   ],
   "outputs": [],
   "metadata": {
    "id": "e6635eed",
    "outputId": "b50788f5-7f64-43b1-bef5-963bc401bd8d"
   }
  },
  {
   "cell_type": "code",
   "execution_count": null,
   "source": [
    "!pip install bs4"
   ],
   "outputs": [],
   "metadata": {
    "id": "9d751ac2",
    "outputId": "86a77924-2c40-4c6f-9bac-3d11ba1b45c9"
   }
  },
  {
   "cell_type": "code",
   "execution_count": null,
   "source": [
    "import requests\n",
    "import urllib\n",
    "import re\n",
    "from bs4 import BeautifulSoup\n",
    "URL = 'http://www.kma.go.kr/weather/forecast/mid-term-rss3.jsp'\n",
    "response = urllib.request.urlopen(URL)\n",
    "ta = response.read()\n",
    "text = ta.decode('utf-8')\n",
    "\n",
    "\n",
    "soup = BeautifulSoup(text,'html.parser')\n",
    "title = soup.find('title')\n",
    "body = soup.find('wf')\n",
    "print(title.string)\n",
    "print(body.string)"
   ],
   "outputs": [],
   "metadata": {
    "id": "46276dab",
    "outputId": "7ebfdb97-234f-4baa-f664-ad4e940205eb"
   }
  },
  {
   "cell_type": "code",
   "execution_count": null,
   "source": [
    "import requests\n",
    "import urllib\n",
    "import re\n",
    "from bs4 import BeautifulSoup\n",
    "URL = 'https://finance.naver.com/marketindex'\n",
    "response = urllib.request.urlopen(URL)\n",
    "so = response.read()\n",
    "so"
   ],
   "outputs": [],
   "metadata": {
    "id": "20e8c437",
    "outputId": "e6582df3-d766-4ca3-cf3e-c0247efcd95d"
   }
  },
  {
   "cell_type": "code",
   "execution_count": null,
   "source": [
    "!pip install lxml"
   ],
   "outputs": [],
   "metadata": {
    "colab": {
     "base_uri": "https://localhost:8080/"
    },
    "executionInfo": {
     "elapsed": 3527,
     "status": "ok",
     "timestamp": 1625561804792,
     "user": {
      "displayName": "신인철",
      "photoUrl": "",
      "userId": "11638434393479157475"
     },
     "user_tz": -540
    },
    "id": "d9ca0f26",
    "outputId": "980740ca-1430-4a65-ef0b-ed1a5490888d"
   }
  },
  {
   "cell_type": "code",
   "execution_count": null,
   "source": [
    "!conda list"
   ],
   "outputs": [],
   "metadata": {
    "colab": {
     "base_uri": "https://localhost:8080/"
    },
    "executionInfo": {
     "elapsed": 253,
     "status": "ok",
     "timestamp": 1625561811601,
     "user": {
      "displayName": "신인철",
      "photoUrl": "",
      "userId": "11638434393479157475"
     },
     "user_tz": -540
    },
    "id": "207694dd",
    "outputId": "a5f65c86-03be-49ed-f456-c61995af6898"
   }
  },
  {
   "cell_type": "code",
   "execution_count": null,
   "source": [
    "import requests\n",
    "from bs4 import BeautifulSoup\n",
    "req = requests.get('https://naver.com')\n",
    "html = req.text\n",
    "soup = BeautifulSoup"
   ],
   "outputs": [],
   "metadata": {
    "id": "596e3969"
   }
  },
  {
   "cell_type": "code",
   "execution_count": null,
   "source": [
    "import requests\n",
    "import urllib\n",
    "from bs4 import BeautifulSoup\n",
    "\n",
    "URL = \"http://api.aoikujira.com/time/get.php\"\n",
    "res = urllib.request.urlopen(URL)\n",
    "re = BeautifulSoup(res,'html.parser')\n",
    "print(re)\n",
    "\n"
   ],
   "outputs": [],
   "metadata": {
    "id": "f6ba5c9f",
    "outputId": "f9b4d254-2def-4cdb-d3eb-991d06a15b6a"
   }
  },
  {
   "cell_type": "code",
   "execution_count": null,
   "source": [
    "import requests\n",
    "import urllib\n",
    "from bs4 import BeautifulSoup\n",
    "URL = \"http://naver.com\"\n",
    "res = urllib.request.urlopen(URL)\n",
    "ret = BeautifulSoup(res,'html.parser')\n",
    "res = ret.select('meta',limit=2)\n",
    "res\n"
   ],
   "outputs": [],
   "metadata": {
    "id": "5d4c569f",
    "outputId": "7bca7380-3ad8-49dd-a381-81932fa38074"
   }
  },
  {
   "cell_type": "code",
   "execution_count": null,
   "source": [
    "# Q. 아래를 예외 처리하세요. \n",
    "import requests as rq\n",
    "try:\n",
    "    url = \"//naver.com\"\n",
    "    res = rq.get(url)\n",
    "    print(res.text)\n",
    "except Exception as e:\n",
    "    print(e)\n",
    "    print('오류 발생')"
   ],
   "outputs": [],
   "metadata": {
    "id": "5bdddce1",
    "outputId": "f83556e8-2b51-4072-c3c1-c74a35151563"
   }
  },
  {
   "cell_type": "code",
   "execution_count": null,
   "source": [
    "from bs4 import BeautifulSoup\n",
    "\n",
    "html =\"\"\"\n",
    "<!DOCTYPE html>\n",
    "<html lang=\"en\">\n",
    "<head>\n",
    "    <meta charset=\"UTF-8\">\n",
    "    <title>Title</title>\n",
    "</head>\n",
    "<body>\n",
    "    <p>파이썬 크롤러 책1</p>\n",
    "    <p>전문서적</p>\n",
    "    <p id='d'>정보 문화사</p>\n",
    "</body>\n",
    "</html>\n",
    "\"\"\"\n",
    "\n",
    "ta = BeautifulSoup(html,'html.parser')\n",
    "b = ta.select('p')\n",
    "print(b)\n",
    "print(b[2])\n",
    "print(b[0:2])\n",
    "print(ta.find_all('p'))\n",
    "print(ta.find_all('p',id = True))\n",
    "print(ta.find_all('p',id = None))\n",
    "print(ta.find_all('p',id = False))"
   ],
   "outputs": [],
   "metadata": {
    "id": "01751601",
    "outputId": "2c314e0c-23b8-4994-89cd-5725c82267e0"
   }
  },
  {
   "cell_type": "code",
   "execution_count": null,
   "source": [
    "from bs4 import BeautifulSoup\n",
    "\n",
    "soup=BeautifulSoup(html,'html.parser')\n",
    "\n",
    "list1=soup.select(\"body>p\")\n",
    "print(list1)\n",
    "print()\n",
    "    \n",
    "list2=soup.select(\"body>p#d\")\n",
    "list2\n",
    "a=[x for x in list1 if x not in list2] #list2에는 없지만 list1에는 있는 것만 출력\n",
    "print(a)\n"
   ],
   "outputs": [],
   "metadata": {}
  },
  {
   "cell_type": "code",
   "execution_count": null,
   "source": [
    "# Q. 아래와 같이 출력하세요.\n",
    "# <title>Title</title>\n",
    "# <h2 id=\"target1\">h2 태그</h2>\n",
    "# <a href=\"/\" id=\"target2\">a 태그</a>"
   ],
   "outputs": [],
   "metadata": {
    "id": "3ef69014"
   }
  },
  {
   "cell_type": "code",
   "execution_count": null,
   "source": [
    "from bs4 import BeautifulSoup\n",
    "\n",
    "html = \"\"\"\n",
    "<!DOCTYPE html>\n",
    "<html lang=\"en\">\n",
    "<head>\n",
    "    <meta charset=\"UTF-8\">\n",
    "    <title>Title</title>\n",
    "    <style>\n",
    "        #target1{\n",
    "            font-size: 40px;\n",
    "            color: blue;\n",
    "        }\n",
    "        #target2{\n",
    "            font-size: 40px;\n",
    "            color: red;\n",
    "        }\n",
    "    </style>\n",
    "</head>\n",
    "<body>\n",
    "    <h1>h1 태그</h1>\n",
    "    <h2 id=\"target1\">h2 태그</h2>\n",
    "    <h3>h3 태그</h3>\n",
    "    <a href=\"/\" id=\"target2\">a 태그</a>\n",
    "</body>\n",
    "</html>\n",
    "\"\"\"\n",
    "ta = BeautifulSoup(html,'html.parser')\n",
    "\n",
    "for i in ta.find_all(['title','h2','a']):\n",
    "    print(i)\n",
    "    \n",
    "print(ta.title)\n",
    "print(ta.h2)\n",
    "print(ta.a)\n"
   ],
   "outputs": [],
   "metadata": {
    "id": "b0ca9e32",
    "outputId": "098b6fcc-c461-4149-d18d-80b09a1f7046"
   }
  },
  {
   "cell_type": "code",
   "execution_count": null,
   "source": [
    "# Q. 아래 html 문에서 다음과 같이 출력되도록 스크레이핑 하세요.\n",
    "\n",
    "h1 = HTML 기본 구조\n",
    "li = html5 명시\n",
    "li = html 태그로 모든 태그를 감싸줌. lang이란 속성을 포함\n",
    "li = head 태그는 meta, title 이외의 style, script, link와 같은 태그 포함\n",
    "li = title 태그는 문서의 제목\n",
    "li = body 태그는 웹페이지의 내용 포함\n",
    "li = style 태그는 CSS 코드가 포함된는 태그\n",
    "li = script 태그는 JavaScript 코드를 작성하거나 파일 로드. head 태그 or body 태그 하단 위치"
   ],
   "outputs": [],
   "metadata": {
    "id": "cc1fc719"
   }
  },
  {
   "cell_type": "code",
   "execution_count": null,
   "source": [
    "from bs4 import BeautifulSoup\n",
    "import re\n",
    "html = \"\"\"\n",
    "<html><body>\n",
    "<div id=\"meigen\">\n",
    "  <h1>HTML 기본 구조</h1>\n",
    "  <ul class=\"items\">\n",
    "    <li>html5 명시</li>\n",
    "    <li>html 태그로 모든 태그를 감싸줌. lang이란 속성을 포함</li>\n",
    "    <li>head 태그는 meta, title 이외의 style, script, link와 같은 태그 포함</li>\n",
    "    <li>title 태그는 문서의 제목</li>\n",
    "    <li>body 태그는 웹페이지의 내용 포함</li>\n",
    "    <li>style 태그는 CSS 코드가 포함된는 태그</li>\n",
    "    <li>script 태그는 JavaScript 코드를 작성하거나 파일 로드. head 태그 or body 태그 하단 위치</li>\n",
    "  </ul>\n",
    "</div>\n",
    "</body></html>\n",
    "\"\"\"\n",
    "soup = BeautifulSoup(html,'html.parser')\n",
    "total = soup.find_all([\"h1\",\"li\"])\n",
    "for i in total:\n",
    "    print(i.name,'=',i.string)"
   ],
   "outputs": [],
   "metadata": {
    "id": "3a90bd66",
    "outputId": "73e72f9e-b421-45c4-9e88-906744c9e51f"
   }
  },
  {
   "cell_type": "code",
   "execution_count": null,
   "source": [
    "import requests\n",
    "import urllib\n",
    "from bs4 import BeautifulSoup\n",
    "\n",
    "URL = \"http://ncov.mohw.go.kr/bdBoardList_Real.do\"\n",
    "response = urllib.request.urlopen(URL)\n",
    "tot = BeautifulSoup(response,'html.parser')\n",
    "kor_realp = tot.select_one('div > div.caseTable > div:nth-child(1) > ul > li > dl > dd.ca_value')\n",
    "kor_realp.string\n",
    "#content > div > div.caseTable > div:nth-child(1) > ul > li:nth-child(1) > dl > dd\n",
    "#content > div > div.caseTable > div:nth-child(1) > ul > li:nth-child(1) > dl > dd"
   ],
   "outputs": [],
   "metadata": {}
  },
  {
   "cell_type": "code",
   "execution_count": null,
   "source": [
    "import requests\n",
    "import urllib\n",
    "from bs4 import BeautifulSoup as bs\n",
    "\n",
    "URL = \"https://www.youtube.com/feed/trending?bp=6gQJRkVleHBsb3Jl\"\n",
    "headers = {\"User-Agent\":'Mozilla/5.0 (Windows NT 10.0; Win64; x64) AppleWebKit/537.36 (KHTML, like Gecko) Chrome/91.0.4472.124 Safari/537.36\"}\n",
    "response = request.get(URL,headers=headers)(URL)\n",
    "\n",
    "tt = bs(response,'html.parser')\n",
    "youtube = tt.select(\"video-title > yt-formatted-string\")\n",
    "youtube\n",
    "\n",
    "#<yt-formatted-string class=\"style-scope ytd-video-renderer\" aria-label=\"BTS (방탄소년단) 'Permission to Dance' Official MV 게시자: HYBE LABELS 1일 전 5분 조회수 83,603,342회\">BTS (방탄소년단) 'Permission to Dance' Official MV</yt-formatted-string>\n",
    "# <yt-formatted-string class=\"style-scope ytd-video-renderer\" aria-label=\"아이 지키려 온몸으로 버텼지만…어린이집 교사 참변 (2021.07.09/뉴스데스크/MBC) 게시자: MBCNEWS 1일 전 1분 56초 조회수 2,493,838회\">아이 지키려 온몸으로 버텼지만…어린이집 교사 참변 (2021.07.09/뉴스데스크/MBC)</yt-formatted-string>"
   ],
   "outputs": [],
   "metadata": {}
  },
  {
   "cell_type": "markdown",
   "source": [
    "selenium 모듈\n",
    "- 웹 어플리케이션 테스트를 위한 프레임워크 : 홈페이지 테스트용으로 사용\n",
    "- 사용자가 아닌 프로그램이 웹 브라우저를 제어할 수 있도록 지원\n",
    "- 웹 브라우저마다 클라이언트 프로그램(Web Driver)이 별도로 필요(웹 브라우저 <-> 프로그램 간 통신 목적)\n",
    "- 크롤링 보다는 웹을 제어하는 목적이 더 큼\n",
    "- pip install selenium\n",
    "- web driver 설치 (크롬 버전 확인) : https://chromedriver.chromium.org/downloads\n",
    "- 압축 해제한 후 chromedriver.exe를 적당한 경로로 이동\n",
    "- selenium  모듈 호출 후 설치한 web driver 경로를 지정\n",
    "\n",
    "이벤트로 제어하기 : 브라우저를 직접 제어하기 때문에 직접 컨트롤하여 마우스 클릭, 키보드 입력, 자바 스크립트 이벤트 처리 가능\n",
    "\n",
    "- 마우스 클릭 : click()\n",
    "- 키보드 입력 : send_keys()\n",
    "- 자바스크립트 삽입 : execute_script()\n",
    "- 입력 양식 전송 : submit()\n",
    "- 스크린샷 : screeshot(파일이름)\n",
    "- 글자 지움 : clear()\n",
    "- 뒤로가기 : back()\n",
    "- 앞으로 가기 : forward()"
   ],
   "metadata": {}
  },
  {
   "cell_type": "code",
   "execution_count": null,
   "source": [
    "!pip install selenium"
   ],
   "outputs": [],
   "metadata": {}
  },
  {
   "cell_type": "code",
   "execution_count": null,
   "source": [
    "import selenium\n",
    "from selenium import webdriver\n",
    "\n",
    "url = 'https://naver.com'\n",
    "path = 'c:/tool/chromedriver.exe'\n",
    "\n",
    "driver = webdriver.Chrome(path)\n",
    "driver.get(url)"
   ],
   "outputs": [],
   "metadata": {}
  },
  {
   "cell_type": "code",
   "execution_count": null,
   "source": [
    "driver.maximize_window() # 윈도우 창을 최대 크기로\n",
    "# driver.close() # 창 닫기"
   ],
   "outputs": [],
   "metadata": {}
  },
  {
   "cell_type": "code",
   "execution_count": null,
   "source": [
    "driver.minimize_window() # 윈도우 창을 최소 크기로"
   ],
   "outputs": [],
   "metadata": {}
  },
  {
   "cell_type": "code",
   "execution_count": null,
   "source": [
    "driver.current_url #현재 페이지 url 확인"
   ],
   "outputs": [],
   "metadata": {}
  },
  {
   "cell_type": "markdown",
   "source": [
    "셀레니움 함수\n",
    "\n",
    "- find_element_by_id : id 속성을 사용하여 접근\n",
    "- find_element(s)_by_class_name : 클래스를 사용하여 접근\n",
    "- find_element(s)_by_name_name : name속성을 사용하여 접근\n",
    "- find_element(s)_by_xpath : xpath를 사용하여 접근\n",
    "- find_element(s)_by_link_text : 앵커태그 (a 태그)에 사용되는 텍스트로 접근\n",
    "- find_element(s)_by_partial_link_text : 앵커태그 (a 태그)에 사용되는 일부 텍스트로 접근\n",
    "- find_element(s)_by_tag_name : 태그를 사용하여 접근\n",
    "- find_element(s)_by_css_selector : CSS 선택자를 사용하여 접근"
   ],
   "metadata": {}
  },
  {
   "cell_type": "code",
   "execution_count": null,
   "source": [
    "from selenium import webdriver\n",
    "from selenium.webdriver.common.keys import Keys\n",
    "import time\n",
    "\n",
    "url = \"https://google.com\"\n",
    "driver = webdriver.Chrome(executable_path='/Users/tool/chromedriver.exe')\n",
    "driver.get(url)\n",
    "search_box = driver.find_element_by_xpath ('/html/body/div[1]/div[3]/form/div[1]/div[1]/div[1]/div/div[2]/input')\n",
    "search_box.send_keys('빅데이터')\n",
    "search_box.send_keys(Keys.RETURN)\n",
    "\n",
    "elements = driver.find_elements_by_xpath('//*[@id=\"rso\"]/div/div/div/div/a/h3')\n",
    "for i in elements:\n",
    "    print(i.text)\n",
    "    print(i.text, file=open('dataset/test_sel.txt','a',encoding='utf-8'))\n",
    "time.sleep(3)\n",
    "driver.close()"
   ],
   "outputs": [],
   "metadata": {}
  },
  {
   "cell_type": "code",
   "execution_count": null,
   "source": [
    "!pip uninstall selenium"
   ],
   "outputs": [],
   "metadata": {}
  },
  {
   "cell_type": "code",
   "execution_count": null,
   "source": [
    "# 과제\n",
    "# Q. 구글 검색에서 '이대역 맛집' 을 찾아서 출력 및 저장하세요(10개만)\n",
    "from selenium import webdriver\n",
    "from selenium.webdriver.common.keys import Keys\n",
    "import time\n",
    "\n",
    "url=\"https://google.com\"\n",
    "path = 'C:/tool/chromedriver.exe'\n",
    "driver = webdriver.Chrome(path)\n",
    "driver.get(url)\n",
    "search_b = driver.find_element_by_xpath('/html/body/div[1]/div[3]/form/div[1]/div[1]/div[1]/div/div[2]/input')\n",
    "search_b.send_keys('이대역 맛집')\n",
    "search_b.send_keys(Keys.RETURN)\n",
    "click = driver.find_element_by_xpath('//*[@id=\"rso\"]/div[1]/div/div/div/div/div[5]/div/g-more-link/a/div/span[2]')\n",
    "click.click()\n",
    "data = driver.find_elements_by_xpath('//*[@id=\"rso\"]/div/div/div/div/a/h3')\n",
    "for i in data:\n",
    "    print(i.text, file = open('dataset/selenium_search.txt','a'))\n",
    "time.sleep(3)\n",
    "driver.close()\n",
    "//*[@id=\"tsuid7\"]/div[2]/div/a/div\n",
    "//*[@id=\"tsuid10\"]/div[2]/div/a/div\n"
   ],
   "outputs": [],
   "metadata": {}
  },
  {
   "cell_type": "code",
   "execution_count": null,
   "source": [
    "#네이버 사이트 불러오기\n",
    "from selenium import webdriver\n",
    "from selenium.webdriver.common.keys import Keys\n",
    "import time\n",
    "\n",
    "url = \"https://naver.com\"\n",
    "driver = webdriver.Chrome(executable_path= '/Users/tool/chromedriver')\n",
    "driver.get(url)\n",
    "driver.maximize_window()"
   ],
   "outputs": [],
   "metadata": {}
  },
  {
   "cell_type": "code",
   "execution_count": null,
   "source": [
    "# 로그인 이동 > 홈 이동\n",
    "login = driver.find_element_by_xpath('//*[@id=\"account\"]/a')\n",
    "login.click()\n",
    "time.sleep(10)\n",
    "home = driver.find_element_by_xpath('//*[@id=\"log.naver\"]')\n",
    "home.click()"
   ],
   "outputs": [],
   "metadata": {}
  },
  {
   "cell_type": "code",
   "execution_count": null,
   "source": [
    "import time\n",
    "driver.find_element_by_class_name('link_login').click()\n",
    "\n",
    "time.sleep(2)\n",
    "driver.back() #이전 페이지로 이동"
   ],
   "outputs": [],
   "metadata": {}
  },
  {
   "cell_type": "code",
   "execution_count": null,
   "source": [
    "# 새로고침 > 홈 이동\n",
    "driver.refresh()\n",
    "time.sleep(2)\n",
    "driver.back()"
   ],
   "outputs": [],
   "metadata": {}
  },
  {
   "cell_type": "code",
   "execution_count": null,
   "source": [
    "# 검색어 입력 '빅데이터'\n",
    "elem =driver.find_element_by_id('query')\n",
    "elem.send_keys('빅데이터')\n",
    "elem.send_keys(Keys.ENTER)"
   ],
   "outputs": [],
   "metadata": {}
  },
  {
   "cell_type": "code",
   "execution_count": null,
   "source": [
    "# a 태그\n",
    "atag = driver.find_element_by_tag_name('a')\n",
    "atag"
   ],
   "outputs": [],
   "metadata": {}
  },
  {
   "cell_type": "code",
   "execution_count": null,
   "source": [
    "# 모든 a 태그의 href 속성\n",
    "elems = driver.find_elements_by_tag_name('a')\n",
    "for i,e in enumerate(elems): #enumerate 를 사용해서 상위 5개만 출력\n",
    "    if i < 5:\n",
    "        print(e.get_attribute('href')) # 속성을 뽑는 함수\n",
    "    else:\n",
    "        pass"
   ],
   "outputs": [],
   "metadata": {}
  },
  {
   "cell_type": "code",
   "execution_count": null,
   "source": [
    "# 다음 사이트로 이동\n",
    "driver.get('http://daum.net')\n",
    "\n",
    "daum_search = driver.find_element_by_name('q')\n",
    "daum_search.send_keys('빅데이터')\n",
    "daum_search.send_keys(Keys.RETURN)"
   ],
   "outputs": [],
   "metadata": {}
  },
  {
   "cell_type": "code",
   "execution_count": null,
   "source": [
    "driver.back()"
   ],
   "outputs": [],
   "metadata": {}
  },
  {
   "cell_type": "code",
   "execution_count": null,
   "source": [
    "# 검색창에 빅데이터를 입력하고 검색 버튼 클릭\n",
    "daum_search = driver.find_element_by_name('q')\n",
    "daum_search.send_keys('빅데이터')\n",
    "driver.find_element_by_xpath('//*[@id=\"daumSearch\"]/fieldset/div/div/button[2]').click()\n"
   ],
   "outputs": [],
   "metadata": {}
  },
  {
   "cell_type": "code",
   "execution_count": null,
   "source": [
    "driver.refresh()"
   ],
   "outputs": [],
   "metadata": {}
  },
  {
   "cell_type": "code",
   "execution_count": null,
   "source": [
    "# 뉴스 하나 출력\n",
    "search = driver.find_element_by_css_selector('#container > li:nth-child(1) > div.wrap_cont > a')\n",
    "search.text\n",
    "#container > li:nth-child(1) > div.wrap_cont > a\n"
   ],
   "outputs": [],
   "metadata": {}
  },
  {
   "cell_type": "code",
   "execution_count": null,
   "source": [
    "# 모든 뉴스 출력\n",
    "search = driver.find_elements_by_css_selector('#container > li > div.wrap_cont > a')\n",
    "for i in search:\n",
    "    print(i.text)"
   ],
   "outputs": [],
   "metadata": {}
  },
  {
   "cell_type": "code",
   "execution_count": null,
   "source": [
    "driver.close()"
   ],
   "outputs": [],
   "metadata": {}
  },
  {
   "cell_type": "code",
   "execution_count": null,
   "source": [
    "from selenium import webdriver\n",
    "\n",
    "url = 'https://naver.com'\n",
    "driver = webdriver.Chrome('C:/tool/chromedriver.exe')\n",
    "driver.get(url)\n"
   ],
   "outputs": [],
   "metadata": {}
  },
  {
   "cell_type": "code",
   "execution_count": null,
   "source": [
    "selected_link = driver.find_element_by_link_text('경제M') # 모든 단어를 포함해야지 출력\n",
    "print(selected_link)\n",
    "print(selected_link.tag_name)\n",
    "print(selected_link.text)"
   ],
   "outputs": [],
   "metadata": {}
  },
  {
   "cell_type": "code",
   "execution_count": null,
   "source": [
    "selected_link = driver.find_element_by_partial_link_text('원조') # 원조를 포함하는 / partial 일 부분 포함하는\n",
    "print(selected_link)\n",
    "print(selected_link.tag_name)\n",
    "print(selected_link.text)"
   ],
   "outputs": [],
   "metadata": {}
  },
  {
   "cell_type": "code",
   "execution_count": null,
   "source": [
    "# 과제\n",
    "# 네이버에서 15개 selenium 함수를 이용하여 요소를 가져와서 출력하세요(15개)\n",
    "from selenium import webdriver\n",
    "\n",
    "url = 'https://naver.com'\n",
    "driver = webdriver.Chrome('C:/tool/chromedriver.exe')\n",
    "id_1 = driver.find_element_by_id('') # id 속성을 사용하여 접근\n",
    "cn_1 = driver.find_element_by_class_name('') # 클래스를 사용하여 접근\n",
    "cns_1 = driver.find_elements_by_class_name('')\n",
    "nm_1 = driver.find_element_by_name_name('') # name속성을 사용하여 접근\n",
    "nms_1 = driver.find_elements_by_name_name('')\n",
    "xp_1 = find_element_by_xpath('') # xpath를 사용하여 접근\n",
    "xps_1 = find_elements_by_xpath('')\n",
    "lt_1 = find_element_by_link_text('') # 앵커태그 (a 태그)에 사용되는 텍스트로 접근\n",
    "lts_1 = find_elements_by_link_text('')\n",
    "plt_1 = find_element_by_partial_link_text('') # 앵커태그 (a 태그)에 사용되는 일부 텍스트로 접근\n",
    "plts_1 = find_elements_by_partial_link_text('')\n",
    "tn_1 = find_element_by_tag_name('') # 태그를 사용하여 접근\n",
    "tns_1 = find_elements_by_tag_name('')\n",
    "cs_1 = find_element_by_css_selector('') # CSS 선택자를 사용하여 접근\n",
    "css1 = find_elements_by_css_selector('')"
   ],
   "outputs": [],
   "metadata": {}
  },
  {
   "cell_type": "code",
   "execution_count": null,
   "source": [
    "# requests + bs4\n",
    "from bs4 import BeautifulSoup\n",
    "import requests\n",
    "\n",
    "url = 'https://naver.com'\n",
    "response = requests.get(url)\n",
    "html = response.text\n",
    "\n",
    "bs = BeautifulSoup(html,'lxml')\n",
    "titles = bs.select('#themecast > div.theme_cont > div > div > ul > li > a.theme_info > strong')\n",
    "for i, t in enumerate(titles):\n",
    "    if i < 5:\n",
    "        print(t.text)\n",
    "    else : \n",
    "        pass\n",
    "#themecast > div.theme_cont > div:nth-child(1) > div > ul > li:nth-child(1) > a.theme_info > strong\n",
    "#themecast > div.theme_cont > div:nth-child(1) > div > ul > li:nth-child(4) > a.theme_info > strong"
   ],
   "outputs": [],
   "metadata": {}
  },
  {
   "cell_type": "code",
   "execution_count": null,
   "source": [
    "#자바 스크립트 실행\n",
    "from selenium import webdriver\n",
    "url = 'https://naver.com'\n",
    "driver = webdriver.Chrome(executable_path='/Users/tool/chromedriver')\n",
    "driver.get(url)\n",
    "driver.execute_script('alert(\"test\")')"
   ],
   "outputs": [],
   "metadata": {}
  },
  {
   "cell_type": "code",
   "execution_count": null,
   "source": [
    "# 스크립트 부분이 완전히 실행되기 전에 10라인이 실행\n",
    "# 파이썬은 스크립트 주는 즉시 다음 코드 실행\n",
    "from selenium import webdriver\n",
    "import time\n",
    "url = 'https://naver.com'\n",
    "driver = webdriver.Chrome(executable_path='/Users/tool/chromedriver')\n",
    "driver.get(url)\n",
    "driver.execute_script('alert(\"test\")')\n",
    "\n",
    "for i in range(0,10):\n",
    "    print(i,end=' ')\n",
    "    time.sleep(1)"
   ],
   "outputs": [],
   "metadata": {}
  },
  {
   "cell_type": "code",
   "execution_count": null,
   "source": [
    "# page_source 속성을 이용하여 자바스크립트가 처리된 코드를 가져옴\n",
    "\n",
    "from selenium import webdriver\n",
    "\n",
    "url = 'https://naver.com'\n",
    "driver = webdriver.Chrome('C:/tool/chromedriver.exe')\n",
    "driver.get(url)\n",
    "print(driver.page_source)"
   ],
   "outputs": [],
   "metadata": {}
  },
  {
   "cell_type": "code",
   "execution_count": null,
   "source": [
    "# requests로 처리하기 힘든 JavaScript를 처리하고 만들어진 html은 bs4를 이용하여 처리\n",
    "\n",
    "from selenium import webdriver\n",
    "from bs4 import BeautifulSoup\n",
    "\n",
    "url = 'https://naver.com'\n",
    "driver = webdriver.Chrome('C:/tool/chromedriver.exe')\n",
    "driver.get(url)\n",
    "bs = BeautifulSoup(driver.page_source, 'html.parser')\n",
    "print(bs)"
   ],
   "outputs": [],
   "metadata": {}
  },
  {
   "cell_type": "code",
   "execution_count": null,
   "source": [
    "titles = bs.select('#themecast > div.theme_cont > div > div > ul > li > a.theme_info > strong')\n",
    "for i, v in enumerate(titles):\n",
    "    if i < 5:\n",
    "        print(v.text)\n",
    "    else:\n",
    "        pass\n",
    "#themecast > div.theme_cont > div:nth-child(1) > div > ul > li:nth-child(1) > a.theme_info > strong"
   ],
   "outputs": [],
   "metadata": {}
  },
  {
   "cell_type": "code",
   "execution_count": null,
   "source": [
    "# web browser 화면 캡쳐\n",
    "from selenium import webdriver\n",
    "\n",
    "url = 'https://naver.com'\n",
    "\n",
    "driver = webdriver.Chrome('C:/tool/chromedriver.exe')\n",
    "driver.get(url)\n",
    "driver.get_screenshot_as_file('dataset/naver.png')"
   ],
   "outputs": [],
   "metadata": {}
  },
  {
   "cell_type": "code",
   "execution_count": null,
   "source": [
    "# 네이버에서 화이트 인테리어의 진수를 class_name을 이용하여\n",
    "# 가져와서 출력하세요.\n",
    "\n",
    "from selenium import webdriver\n",
    "\n",
    "url = 'https://naver.com'\n",
    "driver = webdriver.Chrome('C:/tool/chromedriver.exe')\n",
    "driver.get(url)\n",
    "title = driver.find_element_by_class_name('title.elss')  # 선택자 공백은 . 으로 대체할 수 있다 꿀팁\n",
    "title.text\n"
   ],
   "outputs": [],
   "metadata": {}
  },
  {
   "cell_type": "code",
   "execution_count": null,
   "source": [
    "# 네이버에서 strong 태그를 이용하여 텍스트를 가져와서 출력하세요\n",
    "from selenium import webdriver\n",
    "\n",
    "url = 'https://naver.com'\n",
    "driver = webdriver.Chrome('/User/tool/chromedriver')\n",
    "driver.get(url)\n",
    "title = driver.find_elements_by_tag_name('strong')  # 선택자 공백은 . 으로 대체할 수 있다 꿀팁\n",
    "for i in title:\n",
    "    print(i.text)"
   ],
   "outputs": [],
   "metadata": {}
  },
  {
   "cell_type": "code",
   "execution_count": null,
   "source": [
    "!pip install numpy"
   ],
   "outputs": [],
   "metadata": {}
  },
  {
   "cell_type": "code",
   "execution_count": 25,
   "source": [
    "# 네이버 사이트에서 id를 이용하여 다음을 출력하세요\n",
    "#뉴스스탠드\n",
    "#구독한 언론사 전체 언론사\n",
    "#리스트형\n",
    "#썸네일형\n",
    "#설정\n",
    "from selenium import webdriver\n",
    "\n",
    "url = 'https://naver.com'\n",
    "driver = webdriver.Chrome(executable_path='/Users/tool/chromedriver')\n",
    "driver.get(url)\n",
    "title = driver.find_element_by_id('NM_NEWSSTAND_TITLE')  # 선택자 공백은 . 으로 대체할 수 있다 꿀팁\n",
    "title.text.replace('\\n',' ')\n",
    "\n"
   ],
   "outputs": [
    {
     "output_type": "execute_result",
     "data": {
      "text/plain": [
       "'뉴스스탠드 구독한 언론사 전체언론사 리스트형 썸네일형 설정'"
      ]
     },
     "metadata": {},
     "execution_count": 25
    }
   ],
   "metadata": {}
  },
  {
   "cell_type": "code",
   "execution_count": 32,
   "source": [
    "# selenium + bs4로 네이버 사이트에서 뉴스를 5개를 가져와서 출력하세요\n",
    "from selenium import webdriver\n",
    "from bs4 import BeautifulSoup\n",
    "\n",
    "url = 'https://news.naver.com'\n",
    "driver = webdriver.Chrome(executable_path='/Users/tool/chromedriver')\n",
    "driver.get(url)\n",
    "bs = BeautifulSoup(driver.page_source,'html.parser')\n",
    "total = bs.select('#today_main_news > div.hdline_news > ul > li > div.hdline_article_tit > a')\n",
    "for i in total:\n",
    "    print(i.text.strip())\n",
    "#today_main_news > div.hdline_news > ul > li > div.hdline_article_tit > a\n",
    "#today_main_news > div.hdline_news > ul > li:nth-child(2) > div.hdline_article_tit > a"
   ],
   "outputs": [
    {
     "output_type": "stream",
     "name": "stdout",
     "text": [
      "野, 전 국민 재난지원금 전격 합의 뒤 번복\n",
      "전국 체감 33도 이상…강원·충북·경북 최대 60㎜ 소나기\n",
      "김부겸 총리, 노사 모두 최저임금안 대승적 수용 당부\n",
      "내년 최저임금 9160원… 5.0% 인상\n",
      "민주당 윤리심판원 ‘보좌진 성폭행 의혹’ 양향자 의원 제명\n"
     ]
    }
   ],
   "metadata": {}
  },
  {
   "cell_type": "code",
   "execution_count": 33,
   "source": [
    "# 과제\n",
    "# urllib + bs4로 네이버 사이트에서 뉴스를 5개를 가져와서 출력하세요\n",
    "from bs4 import BeautifulSoup as bs\n",
    "import urllib.request as req\n",
    "import urllib.parse\n",
    "\n",
    "URL = 'https://news.naver.com'\n",
    "values = {'name':'nesffer','query':'python'} # values, header 웹 크롤링 필터에 안걸리기 위한 설정\n",
    "headers = {'User-Agent':'Mozilla/5.0 (Windows NT 6.3; Win64; x64) AppleWebKit/537.36(KHTML, like Gecko) Chrome/63.0.3239.132 Safari/537.36'}\n",
    "data = urllib.parse.urlencode(values).encode('utf-8')\n",
    "response = req.Request(URL,data,headers)\n",
    "file = req.urlopen(response)\n",
    "html = bs(file,'html.parser')\n",
    "news = html.select('#today_main_news > div.hdline_news > ul > li > div.hdline_article_tit > a')\n",
    "for i, v in enumerate(total):\n",
    "    if i < 5:\n",
    "        print(v.text.strip())\n",
    "    else:\n",
    "        pass"
   ],
   "outputs": [
    {
     "output_type": "stream",
     "name": "stdout",
     "text": [
      "野, 전 국민 재난지원금 전격 합의 뒤 번복\n",
      "전국 체감 33도 이상…강원·충북·경북 최대 60㎜ 소나기\n",
      "김부겸 총리, 노사 모두 최저임금안 대승적 수용 당부\n",
      "내년 최저임금 9160원… 5.0% 인상\n",
      "민주당 윤리심판원 ‘보좌진 성폭행 의혹’ 양향자 의원 제명\n"
     ]
    }
   ],
   "metadata": {}
  },
  {
   "cell_type": "code",
   "execution_count": 28,
   "source": [
    "# 과제\n",
    "#네이버 사이트 접속 후 5개 내부 사이트로 이동하면서\n",
    "# 10갸의 요소를 선택 후 출력하고 창을 닫기\n",
    "# 텍스트, 링크 포함\n",
    "\n",
    "from selenium import webdriver\n",
    "\n",
    "url = 'https://naver.com'\n",
    "driver = webdriver.Chrome(executable_path='/Users/tool/chromedriver')\n",
    "driver.get(url)\n",
    "driver.find_element_by_xpath('//*[@id=\"NM_FAVORITE\"]/div[1]/ul[2]/li[8]/a').click()\n",
    "driver.back()\n",
    "driver.find_element_by_xpath('//*[@id=\"NM_FAVORITE\"]/div[1]/ul[2]/li[3]/a').click()\n",
    "cospi = driver.find_element_by_xpath('//*[@id=\"content\"]/div[1]/div[2]/div[1]/div[2]/div[1]/div[1]')\n",
    "print(cospi.text.replace('\\n',' '))\n",
    "driver.back()\n",
    "driver.find_element_by_xpath('//*[@id=\"NM_FAVORITE\"]/div[1]/ul[2]/li[4]/a').click()\n",
    "bds = driver.find_element_by_xpath('//*[@id=\"content\"]/div[1]/div[1]/div[1]/h3/a')\n",
    "print(bds.text.replace('\\n',' '))\n",
    "driver.back()\n",
    "driver.find_element_by_xpath('//*[@id=\"NM_NEWSSTAND_HEADER\"]/div[2]/a[1]').click()\n",
    "news = driver.find_element_by_css_selector('#section_society > div.com_list > div > ul > li > a > strong')\n",
    "print(news.text.strip())\n",
    "\n",
    "elems = driver.find_elements_by_tag_name('a')\n",
    "for i,e in enumerate(elems): #enumerate 를 사용해서 상위 5개만 출력\n",
    "    if i < 5:\n",
    "        print(e.get_attribute('href'))\n",
    "    else:\n",
    "        pass\n",
    "driver.back()\n",
    "driver.find_element_by_xpath('//*[@id=\"NM_FAVORITE\"]/div[1]/ul[2]/li[7]/a').click()\n",
    "books = driver.find_elements_by_xpath('//*[@id=\"owl\"]/div/div/div/a/div/strong')\n",
    "for i in books:\n",
    "    print(i.text)\n",
    "\n",
    "driver.close()"
   ],
   "outputs": [
    {
     "output_type": "stream",
     "name": "stdout",
     "text": [
      "코스피 3,267.28 20.81 + 0.64% 상승\n",
      "\"세입자 내쫓긴다\" 지적 현실화되자…재..\n",
      "환경부 '시의원·NGO·언론은 빼라'…주민들 \"뭣이 구려서\"\n",
      "https://news.naver.com/#lnb\n",
      "https://news.naver.com/#main_content\n",
      "https://nid.naver.com/nidlogin.login\n",
      "javascript:;\n",
      "https://news.naver.com/#\n",
      "인간은 왜 불평등해졌을까\n",
      "이야기로 술술 읽히는 조선왕조실록\n",
      "독일 통합의 비전을 제시한 프리드리히 2세(서양근대사총서 7)(양장본 HardCover)\n",
      "하룻밤에 읽는 한국 근현대사(큰글자책)\n",
      "\n",
      "\n",
      "\n",
      "\n",
      "\n",
      "\n",
      "\n",
      "\n"
     ]
    }
   ],
   "metadata": {}
  },
  {
   "cell_type": "code",
   "execution_count": null,
   "source": [
    "!pip3 uninstall selenium\n",
    "!y"
   ],
   "outputs": [],
   "metadata": {}
  },
  {
   "cell_type": "code",
   "execution_count": null,
   "source": [],
   "outputs": [],
   "metadata": {}
  },
  {
   "cell_type": "code",
   "execution_count": null,
   "source": [
    "#과제\n",
    "# 네이버 항공원 검색 > 제주도 특정일 편도 첫 번째 항공권 정보 가져오기\n",
    "from selenium import webdriver\n",
    "from selenium.webdriver.common.keys import Keys\n",
    "import time\n",
    "\n",
    "url = 'https://naver.com'\n",
    "options = webdriver.ChromeOptions() # options.headless = True \n",
    "options.add_experimental_option(\"excludeSwitches\", [\"enable-logging\"]) \n",
    "options.add_argument(\"user-agent=Mozilla/5.0 (Windows NT 10.0; Win64; x64)/AppleWebKit/537.36 \\ (KHTML, like Gecko) Chrome/87.0.4280.66 Safari/537.36\")\n",
    "driver = webdriver.Chrome(executable_path= '/Users/tool/chromedriver',options=options)\n",
    "\n",
    "driver.get(url)\n",
    "\n",
    "search = driver.find_element_by_id('query')\n",
    "search.send_keys('항공권')\n",
    "search.send_keys(Keys.RETURN)\n",
    "time.sleep(1)\n",
    "driver.find_element_by_xpath('//*[@id=\"_flight_section\"]/div/div[2]/div[1]/ul/li[1]/a').click()\n",
    "driver.find_element_by_xpath('//*[@id=\"_flight_section\"]/div/div[2]/div[2]/div[1]/div[2]/div/h4/a/span[2]').click()\n",
    "time.sleep(1)\n",
    "off = driver.find_element_by_xpath('//*[@id=\"_flight_section\"]/div/div[2]/div[2]/div[1]/div[2]/div/h4/input')\n",
    "time.sleep(1)\n",
    "off.send_keys('제주')\n",
    "time.sleep(3)\n",
    "off.send_keys(Keys.RETURN)\n",
    "time.sleep(1)\n",
    "driver.find_element_by_xpath('//*[@id=\"_flight_section\"]/div/div[2]/div[2]/div[2]/div/div[1]/div[1]/div/strong').click()\n",
    "time.sleep(5)\n",
    "driver.find_element_by_xpath('//*[@id=\"_flight_section\"]/div/div[2]/div[2]/div[2]/div/div[1]/div[1]/div[2]/div/div[2]/div[1]/div/div[2]/table/tbody/tr[3]/td[3]/button').click()\n",
    "time.sleep(1)\n",
    "driver.find_element_by_xpath('//*[@id=\"_flight_section\"]/div/div[2]/div[2]/div[2]/a').click()\n",
    "time.sleep(10)\n",
    "driver.switch_to.window(driver.window_handles[-1]) # 새로운 창 띄움으로 그 창으로 전환 [1]값을 주게 되면 여러 개의 창이 띄워져 있을 때 제대로 이동 안될 수 있다\n",
    "driver.get_window_position(driver.window_handles[-1]) # 그 창의 포지션값을 가져옴\n",
    "te = driver.find_elements_by_xpath('//*[@id=\"__next\"]/div/div[1]/div[4]/div/div[2]/div[2]/div')\n",
    "for i, v in enumerate(te):\n",
    "    if i < 5:\n",
    "        print(v.text)\n"
   ],
   "outputs": [],
   "metadata": {}
  },
  {
   "cell_type": "code",
   "execution_count": null,
   "source": [
    "# 과제\n",
    "# 네이버에서 15개 selenium 함수를 이용하여 요소를 가져와서 출력하세요(15개)\n",
    "from selenium import webdriver\n",
    "\n",
    "url = 'https://naver.com'\n",
    "driver = webdriver.Chrome('C:/tool/chromedriver.exe')\n",
    "id_1 = driver.find_element_by_id('gnb') # id 속성을 사용하여 접근\n",
    "print(id_1.text)\n",
    "cn_1 = driver.find_element_by_class_name('group_weather') # 클래스를 사용하여 접근\n",
    "print(cn_1.text)\n",
    "cns_1 = driver.find_elements_by_class_name('gnb_inner')\n",
    "print(cns_1.text)\n",
    "nm_1 = driver.find_element_by_name_name('') # name속성을 사용하여 접근\n",
    "print(nm_1.text)\n",
    "nms_1 = driver.find_elements_by_name_name('')\n",
    "print(nms_1.text)\n",
    "xp_1 = find_element_by_xpath('') # xpath를 사용하여 접근\n",
    "print(xp_1.text)\n",
    "xps_1 = find_elements_by_xpath('')\n",
    "print(xps_1.text)\n",
    "lt_1 = find_element_by_link_text('') # 앵커태그 (a 태그)에 사용되는 텍스트로 접근\n",
    "print(it_1.text)\n",
    "lts_1 = find_elements_by_link_text('')\n",
    "print(lts_1.text)\n",
    "plt_1 = find_element_by_partial_link_text('') # 앵커태그 (a 태그)에 사용되는 일부 텍스트로 접근\n",
    "print(plt_1.text)\n",
    "plts_1 = find_elements_by_partial_link_text('')\n",
    "print(plts_1.text)\n",
    "tn_1 = find_element_by_tag_name('') # 태그를 사용하여 접근\n",
    "print(tn_1.text)\n",
    "tns_1 = find_elements_by_tag_name('')\n",
    "print(tns_1.text)\n",
    "cs_1 = find_element_by_css_selector('') # CSS 선택자를 사용하여 접근\n",
    "print(cs_1.text)\n",
    "css_1 = find_elements_by_css_selector('')\n",
    "print(css_1.text)"
   ],
   "outputs": [],
   "metadata": {}
  },
  {
   "cell_type": "code",
   "execution_count": null,
   "source": [
    "# 과제\n",
    "# 뉴스 타이틀 링크 모두 가져오기\n",
    "elem = driver.find_elements_by_css_selector('#container > li > div.wrap_cont > a')\n",
    "for i, v in enumerate(elem):\n",
    "    if 1 <10:\n",
    "        print(v.text)\n"
   ],
   "outputs": [],
   "metadata": {}
  },
  {
   "cell_type": "code",
   "execution_count": null,
   "source": [
    "# 과제\n",
    "# 뉴스 타이틀 링크 하나 가져오기\n",
    "elem = driver.find_element_by_css_selector('#container > li:nth-child(1) > div.wrap_cont > a')\n",
    "elem.text\n",
    "#container > li:nth-child(1) > div.wrap_cont > a"
   ],
   "outputs": [],
   "metadata": {}
  }
 ],
 "metadata": {
  "colab": {
   "name": "web_crawling_기초.ipynb",
   "provenance": []
  },
  "interpreter": {
   "hash": "dca0ade3e726a953b501b15e8e990130d2b7799f14cfd9f4271676035ebe5511"
  },
  "kernelspec": {
   "display_name": "Python 3",
   "language": "python",
   "name": "python3"
  },
  "language_info": {
   "codemirror_mode": {
    "name": "ipython",
    "version": 3
   },
   "file_extension": ".py",
   "mimetype": "text/x-python",
   "name": "python",
   "nbconvert_exporter": "python",
   "pygments_lexer": "ipython3",
   "version": "3.9.5"
  }
 },
 "nbformat": 4,
 "nbformat_minor": 5
}