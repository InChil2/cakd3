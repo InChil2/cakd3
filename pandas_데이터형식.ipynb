{
 "cells": [
  {
   "cell_type": "markdown",
   "id": "655bd6ce",
   "metadata": {},
   "source": [
    "### 판다스\n",
    "- 판다스는 구조화된 데이터 형식을 제공. 시리즈는 1차원 배열, 데이터 프레임은 2차원 배열\n",
    "- 라이브러리는 여러종류의 class와 내장 함수로 구성. 시리즈와 데이터 프레임은 대표적인 클래스 객체임\n",
    "- 시리즈 인덱스는 데이터 값과 1대1 대응, 파이썬 딕셔너리와 비슷한 구조.pandas.Series(딕셔너리)\n",
    "- Content\n",
    "    - Series(변화느 인덱스 구조, 원소 선택) Culumn 이름 없음\n",
    "    - DataFrame(변환, 행인덱스/열이름 지정, 삭제, 선택, 추가, 변경, 전치, 인덱스 활용) Culumn 이름 있음"
   ]
  },
  {
   "cell_type": "code",
   "execution_count": 13,
   "id": "48d71596",
   "metadata": {},
   "outputs": [
    {
     "output_type": "execute_result",
     "data": {
      "text/plain": [
       "a    1\n",
       "b    2\n",
       "c    3\n",
       "dtype: int64"
      ]
     },
     "metadata": {},
     "execution_count": 13
    }
   ],
   "source": [
    "# 시리즈 클래스 만들기\n",
    "# pandas 불러오기 (pd)\n",
    "import pandas as pd\n",
    "\n",
    "# key : value 구조를 갖는 딕셔너리를 만들고 변수 dict_data에 저장\n",
    "dict_data = {'a':1,'b':2,'c':3}\n",
    "\n",
    "sr = pd.Series(dict_data)\n",
    "sr"
   ]
  },
  {
   "cell_type": "code",
   "execution_count": 14,
   "id": "ede4be7b",
   "metadata": {},
   "outputs": [
    {
     "output_type": "execute_result",
     "data": {
      "text/plain": [
       "a    2019-07-02\n",
       "b          3.14\n",
       "c           ABC\n",
       "d           100\n",
       "e          True\n",
       "dtype: object"
      ]
     },
     "metadata": {},
     "execution_count": 14
    }
   ],
   "source": [
    "# 리스트를 시리즈로 변환\n",
    "import pandas as pd\n",
    "\n",
    "list_data = ['2019-07-02',3.14,'ABC',100,True]\n",
    "st = pd.Series(list_data, index=list('abcde'))\n",
    "st"
   ]
  },
  {
   "cell_type": "code",
   "execution_count": 15,
   "id": "43566e67",
   "metadata": {},
   "outputs": [
    {
     "output_type": "stream",
     "name": "stdout",
     "text": [
      "Index(['a', 'b', 'c'], dtype='object')\n[1 2 3]\n"
     ]
    }
   ],
   "source": [
    "# 인덱스 및 값\n",
    "idx = sr.index\n",
    "val = sr.values\n",
    "print(idx)\n",
    "print(val)"
   ]
  },
  {
   "cell_type": "code",
   "execution_count": 16,
   "id": "78784a3b",
   "metadata": {},
   "outputs": [
    {
     "output_type": "stream",
     "name": "stdout",
     "text": [
      "이름             신인철\n생년월일    2019-07-02\n성별               님\n학생여부          True\ndtype: object\n"
     ]
    }
   ],
   "source": [
    "# 튜플을 시리즈로 변환\n",
    "tup_data = ('신인철','2019-07-02','님',True)\n",
    "# list_data = []\n",
    "# dict_data = {}\n",
    "sr = pd.Series(tup_data, index =['이름','생년월일','성별','학생여부'])\n",
    "print(sr)"
   ]
  },
  {
   "cell_type": "code",
   "execution_count": 17,
   "id": "5ee37c10",
   "metadata": {},
   "outputs": [
    {
     "output_type": "stream",
     "name": "stdout",
     "text": [
      "신인철\n신인철\n생년월일    2019-07-02\n성별               님\ndtype: object\n"
     ]
    }
   ],
   "source": [
    "# 인덱싱\n",
    "print(sr[0]) # index Num으로 불러오기\n",
    "print(sr['이름']) # index 명으로 불러오기\n",
    "print(sr[[1,2]]) #index num(리스트) 형태로 불러오기"
   ]
  },
  {
   "cell_type": "code",
   "execution_count": 18,
   "id": "87b43e90",
   "metadata": {},
   "outputs": [
    {
     "output_type": "stream",
     "name": "stdout",
     "text": [
      "[11 13 15 17 19] <class 'numpy.ndarray'>\na    11\nb    13\nc    15\nd    17\ne    19\ndtype: int64 <class 'pandas.core.series.Series'>\n"
     ]
    }
   ],
   "source": [
    "import numpy as np\n",
    "\n",
    "s1 = np.arange(11,21,2)\n",
    "print(s1,type(s1))\n",
    "\n",
    "s2 = pd.Series(s1,index= list('abcde'))\n",
    "print(s2, type(s2))"
   ]
  },
  {
   "cell_type": "markdown",
   "id": "9583f5ec",
   "metadata": {},
   "source": [
    "만약에 함수() 괄호 내에 요소가 궁금하면\n",
    "함수() 괄호 안에  shift+tab 2번 누르면 요소 종류 나옴"
   ]
  },
  {
   "cell_type": "code",
   "execution_count": 19,
   "id": "16fdde7e",
   "metadata": {},
   "outputs": [
    {
     "output_type": "stream",
     "name": "stdout",
     "text": [
      "state\nCalifonia    1000\nOhio         2000\nOregon       3000\nTexas        4000\nName: population, dtype: int64\n"
     ]
    }
   ],
   "source": [
    "import pandas as pd\n",
    "import numpy as np\n",
    "num = np.arange(1000,5000,1000)\n",
    "state = ['Califonia','Ohio','Oregon','Texas']\n",
    "result = pd.Series(num,index=state) # Series의 객체\n",
    "result.name = 'population' #result 출력 후에 name : population 추가 / 해당 객체 이름\n",
    "result.index.name = 'state' #index 위에 이름 / 전체 객체에 이름 추가\n",
    "print(result)"
   ]
  },
  {
   "cell_type": "code",
   "execution_count": 20,
   "id": "e7db1c8a",
   "metadata": {},
   "outputs": [
    {
     "output_type": "execute_result",
     "data": {
      "text/plain": [
       "state\n",
       "Califonia       NaN\n",
       "Ohio         2000.0\n",
       "Oregon       3000.0\n",
       "Texas        4000.0\n",
       "Name: population, dtype: float64"
      ]
     },
     "metadata": {},
     "execution_count": 20
    }
   ],
   "source": [
    "result.Califonia = np.nan # califonia 에 null값 입력\n",
    "result"
   ]
  },
  {
   "cell_type": "code",
   "execution_count": 21,
   "id": "1380238b",
   "metadata": {},
   "outputs": [
    {
     "output_type": "execute_result",
     "data": {
      "text/plain": [
       "1"
      ]
     },
     "metadata": {},
     "execution_count": 21
    }
   ],
   "source": [
    "result.isnull().sum()# null값 유무 확인 /.sum() 참 값만 더해서 출력"
   ]
  },
  {
   "cell_type": "markdown",
   "id": "7efdac50",
   "metadata": {},
   "source": [
    "### 데이터프레임\n",
    "- 데이터프레임은 2차원 배열, R의 데이터프레임에서 유래.\n",
    "- 데이터프레임의 열은 각각 시리즈 개체.\n",
    "- 시리즈를 열벡터라고 하면 데이터프레임은 여러 개의 열벡터들이 같은 행 인덱스를  \n",
    "기준으로 줄지어 결합된 2차원 벡터 또는 행렬\n",
    "- 선형대수학에서 열벡터(m x 1 행렬)는 m 원소들의 단일 열 행렬\n",
    "- 행 벡터(1 x m행렬)은 m 원소들의 단일 행 행렬\n",
    "- 리스트, 딕셔너리, ndarray 등 다양한 데이터로 부터 생성\n",
    "- 반대로 리스트, 딕셔너리, ndarray 등으로 변환 될 수 있음"
   ]
  },
  {
   "cell_type": "code",
   "execution_count": 22,
   "id": "6fb9542f",
   "metadata": {},
   "outputs": [
    {
     "output_type": "stream",
     "name": "stdout",
     "text": [
      "[[112 115 100]\n [103 103 107]\n [109 119 118]] <class 'numpy.ndarray'>\n"
     ]
    },
    {
     "output_type": "execute_result",
     "data": {
      "text/plain": [
       "     pd  sales  inv\n",
       "d1  112    115  100\n",
       "d2  103    103  107\n",
       "d3  109    119  118"
      ],
      "text/html": "<div>\n<style scoped>\n    .dataframe tbody tr th:only-of-type {\n        vertical-align: middle;\n    }\n\n    .dataframe tbody tr th {\n        vertical-align: top;\n    }\n\n    .dataframe thead th {\n        text-align: right;\n    }\n</style>\n<table border=\"1\" class=\"dataframe\">\n  <thead>\n    <tr style=\"text-align: right;\">\n      <th></th>\n      <th>pd</th>\n      <th>sales</th>\n      <th>inv</th>\n    </tr>\n  </thead>\n  <tbody>\n    <tr>\n      <th>d1</th>\n      <td>112</td>\n      <td>115</td>\n      <td>100</td>\n    </tr>\n    <tr>\n      <th>d2</th>\n      <td>103</td>\n      <td>103</td>\n      <td>107</td>\n    </tr>\n    <tr>\n      <th>d3</th>\n      <td>109</td>\n      <td>119</td>\n      <td>118</td>\n    </tr>\n  </tbody>\n</table>\n</div>"
     },
     "metadata": {},
     "execution_count": 22
    }
   ],
   "source": [
    "# 배열을 데이터 프레임으로 변환\n",
    "import numpy as np\n",
    "np.random.seed(0) #출력된 값 고정\n",
    "data = np.random.randint(100,120,size=(3,3)) # 3 x 3 사이즈의 범위 내 랜덤 정수 출력\n",
    "print(data,type(data))\n",
    "\n",
    "df = pd.DataFrame(data,index=['d1','d2','d3'],columns=['pd','sales','inv'])\n",
    "df"
   ]
  },
  {
   "cell_type": "code",
   "execution_count": 23,
   "id": "f6a9d321",
   "metadata": {},
   "outputs": [
    {
     "output_type": "stream",
     "name": "stdout",
     "text": [
      "pd       103\nsales    103\ninv      107\nName: d2, dtype: int64 \n\npd       103\nsales    103\ninv      107\nName: d2, dtype: int64 \n\n103 \n\n103 \n\n"
     ]
    }
   ],
   "source": [
    "#pandas indexing : iloc 정수 인덱스, loc 이름 인덱스\n",
    "\n",
    "print(df.iloc[1],'\\n')\n",
    "print(df.loc['d2'],'\\n')\n",
    "print(df.iloc[1][1],'\\n')\n",
    "print(df.loc['d2','sales'],'\\n')"
   ]
  },
  {
   "cell_type": "code",
   "execution_count": 24,
   "id": "993f481b",
   "metadata": {},
   "outputs": [
    {
     "output_type": "execute_result",
     "data": {
      "text/plain": [
       "     pd  sales  inv\n",
       "d1  112    115  100\n",
       "d2  103    103  107\n",
       "d3    0      0    0"
      ],
      "text/html": "<div>\n<style scoped>\n    .dataframe tbody tr th:only-of-type {\n        vertical-align: middle;\n    }\n\n    .dataframe tbody tr th {\n        vertical-align: top;\n    }\n\n    .dataframe thead th {\n        text-align: right;\n    }\n</style>\n<table border=\"1\" class=\"dataframe\">\n  <thead>\n    <tr style=\"text-align: right;\">\n      <th></th>\n      <th>pd</th>\n      <th>sales</th>\n      <th>inv</th>\n    </tr>\n  </thead>\n  <tbody>\n    <tr>\n      <th>d1</th>\n      <td>112</td>\n      <td>115</td>\n      <td>100</td>\n    </tr>\n    <tr>\n      <th>d2</th>\n      <td>103</td>\n      <td>103</td>\n      <td>107</td>\n    </tr>\n    <tr>\n      <th>d3</th>\n      <td>0</td>\n      <td>0</td>\n      <td>0</td>\n    </tr>\n  </tbody>\n</table>\n</div>"
     },
     "metadata": {},
     "execution_count": 24
    }
   ],
   "source": [
    "df.loc['d3'] = 0\n",
    "df"
   ]
  },
  {
   "cell_type": "code",
   "execution_count": 25,
   "id": "ce1a7eb9",
   "metadata": {},
   "outputs": [
    {
     "output_type": "execute_result",
     "data": {
      "text/plain": [
       "     pd  sales  inv\n",
       "d1  112    115  100\n",
       "d2  103    103  107\n",
       "d3    0      0    0\n",
       "d4    0      0    0"
      ],
      "text/html": "<div>\n<style scoped>\n    .dataframe tbody tr th:only-of-type {\n        vertical-align: middle;\n    }\n\n    .dataframe tbody tr th {\n        vertical-align: top;\n    }\n\n    .dataframe thead th {\n        text-align: right;\n    }\n</style>\n<table border=\"1\" class=\"dataframe\">\n  <thead>\n    <tr style=\"text-align: right;\">\n      <th></th>\n      <th>pd</th>\n      <th>sales</th>\n      <th>inv</th>\n    </tr>\n  </thead>\n  <tbody>\n    <tr>\n      <th>d1</th>\n      <td>112</td>\n      <td>115</td>\n      <td>100</td>\n    </tr>\n    <tr>\n      <th>d2</th>\n      <td>103</td>\n      <td>103</td>\n      <td>107</td>\n    </tr>\n    <tr>\n      <th>d3</th>\n      <td>0</td>\n      <td>0</td>\n      <td>0</td>\n    </tr>\n    <tr>\n      <th>d4</th>\n      <td>0</td>\n      <td>0</td>\n      <td>0</td>\n    </tr>\n  </tbody>\n</table>\n</div>"
     },
     "metadata": {},
     "execution_count": 25
    }
   ],
   "source": [
    "df.loc['d4'] = 0\n",
    "df"
   ]
  },
  {
   "cell_type": "code",
   "execution_count": 26,
   "id": "2048896a",
   "metadata": {
    "scrolled": true
   },
   "outputs": [
    {
     "output_type": "execute_result",
     "data": {
      "text/plain": [
       "       id  gender  age  region\n",
       "0       1       0   11      10\n",
       "1       2       1   68      10\n",
       "2       3       0    7       7\n",
       "3       4       0   92      10\n",
       "4       5       0  100      10\n",
       "..    ...     ...  ...     ...\n",
       "995   996       0   73       8\n",
       "996   997       1    6       4\n",
       "997   998       1   40       6\n",
       "998   999       0   80       7\n",
       "999  1000       0   80       5\n",
       "\n",
       "[1000 rows x 4 columns]"
      ],
      "text/html": "<div>\n<style scoped>\n    .dataframe tbody tr th:only-of-type {\n        vertical-align: middle;\n    }\n\n    .dataframe tbody tr th {\n        vertical-align: top;\n    }\n\n    .dataframe thead th {\n        text-align: right;\n    }\n</style>\n<table border=\"1\" class=\"dataframe\">\n  <thead>\n    <tr style=\"text-align: right;\">\n      <th></th>\n      <th>id</th>\n      <th>gender</th>\n      <th>age</th>\n      <th>region</th>\n    </tr>\n  </thead>\n  <tbody>\n    <tr>\n      <th>0</th>\n      <td>1</td>\n      <td>0</td>\n      <td>11</td>\n      <td>10</td>\n    </tr>\n    <tr>\n      <th>1</th>\n      <td>2</td>\n      <td>1</td>\n      <td>68</td>\n      <td>10</td>\n    </tr>\n    <tr>\n      <th>2</th>\n      <td>3</td>\n      <td>0</td>\n      <td>7</td>\n      <td>7</td>\n    </tr>\n    <tr>\n      <th>3</th>\n      <td>4</td>\n      <td>0</td>\n      <td>92</td>\n      <td>10</td>\n    </tr>\n    <tr>\n      <th>4</th>\n      <td>5</td>\n      <td>0</td>\n      <td>100</td>\n      <td>10</td>\n    </tr>\n    <tr>\n      <th>...</th>\n      <td>...</td>\n      <td>...</td>\n      <td>...</td>\n      <td>...</td>\n    </tr>\n    <tr>\n      <th>995</th>\n      <td>996</td>\n      <td>0</td>\n      <td>73</td>\n      <td>8</td>\n    </tr>\n    <tr>\n      <th>996</th>\n      <td>997</td>\n      <td>1</td>\n      <td>6</td>\n      <td>4</td>\n    </tr>\n    <tr>\n      <th>997</th>\n      <td>998</td>\n      <td>1</td>\n      <td>40</td>\n      <td>6</td>\n    </tr>\n    <tr>\n      <th>998</th>\n      <td>999</td>\n      <td>0</td>\n      <td>80</td>\n      <td>7</td>\n    </tr>\n    <tr>\n      <th>999</th>\n      <td>1000</td>\n      <td>0</td>\n      <td>80</td>\n      <td>5</td>\n    </tr>\n  </tbody>\n</table>\n<p>1000 rows × 4 columns</p>\n</div>"
     },
     "metadata": {},
     "execution_count": 26
    }
   ],
   "source": [
    "\n",
    "id = np.arange(1,1001)\n",
    "i1 = pd.Series(id)\n",
    "gender = np.random.randint(2,size=1000)\n",
    "g = pd.Series(gender)\n",
    "age = np.random.randint(1,101,size = 1000)\n",
    "a = pd.Series(age)\n",
    "region = np.random.randint(1,11,size = 1000)\n",
    "r = pd.Series(region)\n",
    "\n",
    "df = pd.concat([i1,g,a,r],axis=1) #concat 합치기 list 형태로 / axis = 행 = 0 열 = 1 / 입력 안하면 기본 0\n",
    "df.rename(columns={0:'id',1:'gender',2:'age',3:'region'}, inplace=True) #컬럼 이름명 바꾸기 inplace=True 원본을 바꾸는지\n",
    "df"
   ]
  },
  {
   "cell_type": "code",
   "execution_count": 27,
   "id": "08757f1b",
   "metadata": {},
   "outputs": [
    {
     "output_type": "stream",
     "name": "stdout",
     "text": [
      "       id  gender  age  region  b_year  b_month  b_day  local  ms\n0       1       0   11      10    2013        3     12      5   0\n1       2       1   68      10    1964       10     19      6   1\n2       3       0    7       7    1987        2     12      4   1\n3       4       0   92      10    1972       11      7      4   0\n4       5       0  100      10    2014       12     23      4   0\n..    ...     ...  ...     ...     ...      ...    ...    ...  ..\n995   996       0   73       8    1980        8     19      5   0\n996   997       1    6       4    1980        2     28      5   1\n997   998       1   40       6    1947        1     21      4   1\n998   999       0   80       7    1966       11     16      3   1\n999  1000       0   80       5    1969       12     30      3   1\n\n[1000 rows x 9 columns]\n"
     ]
    }
   ],
   "source": [
    "# 과제\n",
    "# 위 데이터에 적합한 컬럼 5개를 추가하여 출력하세요 /생년월일,\n",
    "data1 = np.random.randint(1940,2022,size=1000)\n",
    "dat1 = pd.Series(data1)\n",
    "data2 = np.random.randint(1,13,size=1000)\n",
    "dat2 = pd.Series(data2)\n",
    "data3 = np.random.randint(1,32,size=1000)\n",
    "dat3 = pd.Series(data3)\n",
    "data4 = np.random.randint(3,7,size=1000)\n",
    "dat4 = pd.Series(data4)\n",
    "data5 = np.random.randint(2,size=1000)\n",
    "dat5 = pd.Series(data5)\n",
    "df_z = pd.concat([df,dat1,dat2,dat3,dat4,dat5],axis=1)\n",
    "df_z.rename(columns={0:'b_year',1:'b_month',2:'b_day',3:'local',4:'ms'},inplace=True)\n",
    "print(df_z)\n"
   ]
  },
  {
   "cell_type": "code",
   "execution_count": 28,
   "id": "19a0f9a5",
   "metadata": {},
   "outputs": [
    {
     "output_type": "execute_result",
     "data": {
      "text/plain": [
       "       id  gender  age  region\n",
       "997   998       1   40       6\n",
       "998   999       0   80       7\n",
       "999  1000       0   80       5"
      ],
      "text/html": "<div>\n<style scoped>\n    .dataframe tbody tr th:only-of-type {\n        vertical-align: middle;\n    }\n\n    .dataframe tbody tr th {\n        vertical-align: top;\n    }\n\n    .dataframe thead th {\n        text-align: right;\n    }\n</style>\n<table border=\"1\" class=\"dataframe\">\n  <thead>\n    <tr style=\"text-align: right;\">\n      <th></th>\n      <th>id</th>\n      <th>gender</th>\n      <th>age</th>\n      <th>region</th>\n    </tr>\n  </thead>\n  <tbody>\n    <tr>\n      <th>997</th>\n      <td>998</td>\n      <td>1</td>\n      <td>40</td>\n      <td>6</td>\n    </tr>\n    <tr>\n      <th>998</th>\n      <td>999</td>\n      <td>0</td>\n      <td>80</td>\n      <td>7</td>\n    </tr>\n    <tr>\n      <th>999</th>\n      <td>1000</td>\n      <td>0</td>\n      <td>80</td>\n      <td>5</td>\n    </tr>\n  </tbody>\n</table>\n</div>"
     },
     "metadata": {},
     "execution_count": 28
    }
   ],
   "source": [
    "#df1 = df[:] # df를 복사해서 사용\n",
    "df1 = df.copy() # df를 복사해서 사용\n",
    "#df1.head(3) # 숫자를 입력한 만큼 나옴 기본 5개\n",
    "df1.tail(3) # 숫자를 입력한 만큼 뒤에서 x개 만큼 나옴 기본 5개"
   ]
  },
  {
   "cell_type": "code",
   "execution_count": 29,
   "id": "ac772154",
   "metadata": {},
   "outputs": [
    {
     "output_type": "execute_result",
     "data": {
      "text/plain": [
       "    id  gender    age  region\n",
       "0  NaN     NaN    NaN     NaN\n",
       "1  NaN     NaN    NaN     NaN\n",
       "2  3.0     0.0    7.0     7.0\n",
       "3  4.0     0.0   92.0    10.0\n",
       "4  5.0     0.0  100.0    10.0"
      ],
      "text/html": "<div>\n<style scoped>\n    .dataframe tbody tr th:only-of-type {\n        vertical-align: middle;\n    }\n\n    .dataframe tbody tr th {\n        vertical-align: top;\n    }\n\n    .dataframe thead th {\n        text-align: right;\n    }\n</style>\n<table border=\"1\" class=\"dataframe\">\n  <thead>\n    <tr style=\"text-align: right;\">\n      <th></th>\n      <th>id</th>\n      <th>gender</th>\n      <th>age</th>\n      <th>region</th>\n    </tr>\n  </thead>\n  <tbody>\n    <tr>\n      <th>0</th>\n      <td>NaN</td>\n      <td>NaN</td>\n      <td>NaN</td>\n      <td>NaN</td>\n    </tr>\n    <tr>\n      <th>1</th>\n      <td>NaN</td>\n      <td>NaN</td>\n      <td>NaN</td>\n      <td>NaN</td>\n    </tr>\n    <tr>\n      <th>2</th>\n      <td>3.0</td>\n      <td>0.0</td>\n      <td>7.0</td>\n      <td>7.0</td>\n    </tr>\n    <tr>\n      <th>3</th>\n      <td>4.0</td>\n      <td>0.0</td>\n      <td>92.0</td>\n      <td>10.0</td>\n    </tr>\n    <tr>\n      <th>4</th>\n      <td>5.0</td>\n      <td>0.0</td>\n      <td>100.0</td>\n      <td>10.0</td>\n    </tr>\n  </tbody>\n</table>\n</div>"
     },
     "metadata": {},
     "execution_count": 29
    }
   ],
   "source": [
    "df1.iloc[:2] = np.nan #0~2까지 Null 값을 입력\n",
    "df1.head()"
   ]
  },
  {
   "cell_type": "code",
   "execution_count": 30,
   "id": "00e96a90",
   "metadata": {},
   "outputs": [
    {
     "output_type": "stream",
     "name": "stdout",
     "text": [
      "[[1 1 4 3 3]\n [2 2 1 1 4]\n [2 4 3 3 1]\n [4 4 1 3 2]\n [1 1 1 1 1]\n [1 3 3 4 2]\n [3 4 3 4 2]\n [4 1 3 3 4]\n [2 2 3 1 1]\n [2 4 4 2 1]]\n"
     ]
    }
   ],
   "source": [
    "a = np.random.randint(1,5,size=(10,5))\n",
    "print(a)"
   ]
  },
  {
   "cell_type": "code",
   "execution_count": 31,
   "id": "1230c9e0",
   "metadata": {
    "scrolled": true
   },
   "outputs": [
    {
     "output_type": "stream",
     "name": "stdout",
     "text": [
      "[[1, 1, 4, 3, 3], [2, 2, 1, 1, 4], [2, 4, 3, 3, 1], [4, 4, 1, 3, 2], [1, 1, 1, 1, 1], [1, 3, 3, 4, 2], [3, 4, 3, 4, 2], [4, 1, 3, 3, 4], [2, 2, 3, 1, 1], [2, 4, 4, 2, 1]] <class 'list'>\n   c1  c2  c3  c4  c5\n0   1   1   4   3   3\n1   2   2   1   1   4\n2   2   4   3   3   1\n"
     ]
    }
   ],
   "source": [
    "# 2차원 리스트를 데이터프레임으로 변환\n",
    "list1 = a.tolist() # 배열을 리스트로 변환\n",
    "print(list1,type(list1))\n",
    "\n",
    "df1 = pd.DataFrame(list1, columns=['c1','c2','c3','c4','c5'])\n",
    "print(df1.head(3))"
   ]
  },
  {
   "cell_type": "code",
   "execution_count": 32,
   "id": "8013f927",
   "metadata": {},
   "outputs": [
    {
     "output_type": "stream",
     "name": "stdout",
     "text": [
      "[[1 1 4 3 3]\n [2 2 1 1 4]\n [2 4 3 3 1]\n [4 4 1 3 2]\n [1 1 1 1 1]\n [1 3 3 4 2]\n [3 4 3 4 2]\n [4 1 3 3 4]\n [2 2 3 1 1]\n [2 4 4 2 1]] <class 'numpy.ndarray'>\n[[1, 1, 4, 3, 3], [2, 2, 1, 1, 4], [2, 4, 3, 3, 1], [4, 4, 1, 3, 2], [1, 1, 1, 1, 1], [1, 3, 3, 4, 2], [3, 4, 3, 4, 2], [4, 1, 3, 3, 4], [2, 2, 3, 1, 1], [2, 4, 4, 2, 1]] <class 'list'>\n{'c1': [1, 2, 2, 4, 1, 1, 3, 4, 2, 2], 'c2': [1, 2, 4, 4, 1, 3, 4, 1, 2, 4], 'c3': [4, 1, 3, 1, 1, 3, 3, 3, 3, 4], 'c4': [3, 1, 3, 3, 1, 4, 4, 3, 1, 2], 'c5': [3, 4, 1, 2, 1, 2, 2, 4, 1, 1]} <class 'dict'>\n"
     ]
    }
   ],
   "source": [
    "#데이터 프레임을 배열, 라스트, 딕셔너리로 변환 \n",
    "ar = df1.values #데이터 프레임을 배열로 변환\n",
    "print(ar,type(ar))\n",
    "\n",
    "li = ar.tolist() #배열을 리스트로 변환\n",
    "print(li,type(li))\n",
    "\n",
    "dict = df1.to_dict('list') # 데이터 프레임을 넣어서 딕셔너리로 변환\n",
    "print(dict,type(dict))"
   ]
  },
  {
   "cell_type": "code",
   "execution_count": 33,
   "id": "f97e9462",
   "metadata": {},
   "outputs": [
    {
     "output_type": "stream",
     "name": "stdout",
     "text": [
      "   col1 col2\n0     1    A\n1     2    A\n2     3    B\n3     4    B\n4     5    C\n5     6    C\n"
     ]
    }
   ],
   "source": [
    "# file 생성\n",
    "file_data = pd.DataFrame({\n",
    "    'col1':[1,2,3,4,5,6],\n",
    "    'col2':['A','A','B','B','C','C']\n",
    "})\n",
    "print(file_data)"
   ]
  },
  {
   "cell_type": "code",
   "execution_count": 34,
   "id": "f69e5daa",
   "metadata": {},
   "outputs": [
    {
     "output_type": "stream",
     "name": "stdout",
     "text": [
      "   col1 col2\n0     1    A\n1     2    A\n2     3    B\n3     4    B\n4     5    C\n5     6    C <class 'pandas.core.frame.DataFrame'>\n"
     ]
    }
   ],
   "source": [
    "file_data.to_csv('dataset/file_data.csv', index=None) #csv 파일로 저장\n",
    "file_data = pd.read_csv('dataset/file_data.csv')\n",
    "print(file_data,type(file_data))"
   ]
  },
  {
   "cell_type": "code",
   "execution_count": 35,
   "id": "e54326ac",
   "metadata": {},
   "outputs": [
    {
     "output_type": "stream",
     "name": "stdout",
     "text": [
      "   col1 col2  col1 col2\n0     1    A     4    D\n1     2    B     5    E\n2     3    C     6    F\n   col1 col2\n0     1    A\n1     2    B\n2     3    C\n0     4    D\n1     5    E\n2     6    F\n"
     ]
    }
   ],
   "source": [
    "#딕셔너리\n",
    "df_1 = pd.DataFrame({\n",
    "    'col1' : np.array([1,2,3]),\n",
    "    'col2' : np.array(['A','B','C'])\n",
    "})\n",
    "df_2 = pd.DataFrame({\n",
    "    'col1' : np.array([4,5,6]),\n",
    "    'col2' : np.array(['D','E','F'])\n",
    "})\n",
    "\n",
    "df_3 =pd.concat([df_1,df_2],axis=1)\n",
    "df_4 =pd.concat([df_1,df_2])\n",
    "print(df_3)\n",
    "print(df_4)"
   ]
  },
  {
   "cell_type": "code",
   "execution_count": 36,
   "id": "1f592270",
   "metadata": {},
   "outputs": [
    {
     "output_type": "stream",
     "name": "stdout",
     "text": [
      "0    A\n1    B\n2    C\n0    D\n1    E\n2    F\nName: col2, dtype: object\n<class 'pandas.core.frame.DataFrame'>\n<class 'pandas.core.frame.DataFrame'>\n"
     ]
    },
    {
     "output_type": "execute_result",
     "data": {
      "text/plain": [
       "   col1 col2\n",
       "0     1    A\n",
       "1     2    B\n",
       "2     3    C\n",
       "0     4    D\n",
       "1     5    E\n",
       "2     6    F"
      ],
      "text/html": "<div>\n<style scoped>\n    .dataframe tbody tr th:only-of-type {\n        vertical-align: middle;\n    }\n\n    .dataframe tbody tr th {\n        vertical-align: top;\n    }\n\n    .dataframe thead th {\n        text-align: right;\n    }\n</style>\n<table border=\"1\" class=\"dataframe\">\n  <thead>\n    <tr style=\"text-align: right;\">\n      <th></th>\n      <th>col1</th>\n      <th>col2</th>\n    </tr>\n  </thead>\n  <tbody>\n    <tr>\n      <th>0</th>\n      <td>1</td>\n      <td>A</td>\n    </tr>\n    <tr>\n      <th>1</th>\n      <td>2</td>\n      <td>B</td>\n    </tr>\n    <tr>\n      <th>2</th>\n      <td>3</td>\n      <td>C</td>\n    </tr>\n    <tr>\n      <th>0</th>\n      <td>4</td>\n      <td>D</td>\n    </tr>\n    <tr>\n      <th>1</th>\n      <td>5</td>\n      <td>E</td>\n    </tr>\n    <tr>\n      <th>2</th>\n      <td>6</td>\n      <td>F</td>\n    </tr>\n  </tbody>\n</table>\n</div>"
     },
     "metadata": {},
     "execution_count": 36
    }
   ],
   "source": [
    "# 데이터 추출\n",
    "print(df_4['col2']) #col2만 출력 (시리즈)\n",
    "\n",
    "df= pd.DataFrame(df_4.col2) #df_4.col2(시리즈)를 데이터 프레임으로 불러온다\n",
    "df_f= pd.DataFrame(df_4['col2'])\n",
    "print(type(df))\n",
    "print(type(df_f))\n",
    "df_4[['col1','col2']] #대괄호 안에 리스트 형태로 넣으면 시리즈에서 데이터프레임으로 출력가능"
   ]
  },
  {
   "cell_type": "code",
   "execution_count": 305,
   "id": "5f0c30d1",
   "metadata": {},
   "outputs": [
    {
     "output_type": "error",
     "ename": "KeyError",
     "evalue": "\"['c1'] not found in axis\"",
     "traceback": [
      "\u001b[0;31m---------------------------------------------------------------------------\u001b[0m",
      "\u001b[0;31mKeyError\u001b[0m                                  Traceback (most recent call last)",
      "\u001b[0;32m<ipython-input-305-1957a9610f8c>\u001b[0m in \u001b[0;36m<module>\u001b[0;34m\u001b[0m\n\u001b[1;32m      1\u001b[0m \u001b[0;31m#열 삭제\u001b[0m\u001b[0;34m\u001b[0m\u001b[0;34m\u001b[0m\u001b[0;34m\u001b[0m\u001b[0m\n\u001b[1;32m      2\u001b[0m \u001b[0mdf\u001b[0m \u001b[0;34m=\u001b[0m \u001b[0mdf1\u001b[0m\u001b[0;34m.\u001b[0m\u001b[0mcopy\u001b[0m\u001b[0;34m(\u001b[0m\u001b[0;34m)\u001b[0m\u001b[0;34m\u001b[0m\u001b[0;34m\u001b[0m\u001b[0m\n\u001b[0;32m----> 3\u001b[0;31m \u001b[0mdf_a\u001b[0m \u001b[0;34m=\u001b[0m \u001b[0mdf\u001b[0m\u001b[0;34m.\u001b[0m\u001b[0mdrop\u001b[0m\u001b[0;34m(\u001b[0m\u001b[0;34m'c1'\u001b[0m\u001b[0;34m,\u001b[0m\u001b[0maxis\u001b[0m\u001b[0;34m=\u001b[0m\u001b[0;36m1\u001b[0m\u001b[0;34m)\u001b[0m \u001b[0;31m#줄을 다 지우는 함수 drop(,axis)\u001b[0m\u001b[0;34m\u001b[0m\u001b[0;34m\u001b[0m\u001b[0m\n\u001b[0m",
      "\u001b[0;32m/opt/anaconda3/lib/python3.8/site-packages/pandas/core/frame.py\u001b[0m in \u001b[0;36mdrop\u001b[0;34m(self, labels, axis, index, columns, level, inplace, errors)\u001b[0m\n\u001b[1;32m   4306\u001b[0m                 \u001b[0mweight\u001b[0m  \u001b[0;36m1.0\u001b[0m     \u001b[0;36m0.8\u001b[0m\u001b[0;34m\u001b[0m\u001b[0;34m\u001b[0m\u001b[0m\n\u001b[1;32m   4307\u001b[0m         \"\"\"\n\u001b[0;32m-> 4308\u001b[0;31m         return super().drop(\n\u001b[0m\u001b[1;32m   4309\u001b[0m             \u001b[0mlabels\u001b[0m\u001b[0;34m=\u001b[0m\u001b[0mlabels\u001b[0m\u001b[0;34m,\u001b[0m\u001b[0;34m\u001b[0m\u001b[0;34m\u001b[0m\u001b[0m\n\u001b[1;32m   4310\u001b[0m             \u001b[0maxis\u001b[0m\u001b[0;34m=\u001b[0m\u001b[0maxis\u001b[0m\u001b[0;34m,\u001b[0m\u001b[0;34m\u001b[0m\u001b[0;34m\u001b[0m\u001b[0m\n",
      "\u001b[0;32m/opt/anaconda3/lib/python3.8/site-packages/pandas/core/generic.py\u001b[0m in \u001b[0;36mdrop\u001b[0;34m(self, labels, axis, index, columns, level, inplace, errors)\u001b[0m\n\u001b[1;32m   4151\u001b[0m         \u001b[0;32mfor\u001b[0m \u001b[0maxis\u001b[0m\u001b[0;34m,\u001b[0m \u001b[0mlabels\u001b[0m \u001b[0;32min\u001b[0m \u001b[0maxes\u001b[0m\u001b[0;34m.\u001b[0m\u001b[0mitems\u001b[0m\u001b[0;34m(\u001b[0m\u001b[0;34m)\u001b[0m\u001b[0;34m:\u001b[0m\u001b[0;34m\u001b[0m\u001b[0;34m\u001b[0m\u001b[0m\n\u001b[1;32m   4152\u001b[0m             \u001b[0;32mif\u001b[0m \u001b[0mlabels\u001b[0m \u001b[0;32mis\u001b[0m \u001b[0;32mnot\u001b[0m \u001b[0;32mNone\u001b[0m\u001b[0;34m:\u001b[0m\u001b[0;34m\u001b[0m\u001b[0;34m\u001b[0m\u001b[0m\n\u001b[0;32m-> 4153\u001b[0;31m                 \u001b[0mobj\u001b[0m \u001b[0;34m=\u001b[0m \u001b[0mobj\u001b[0m\u001b[0;34m.\u001b[0m\u001b[0m_drop_axis\u001b[0m\u001b[0;34m(\u001b[0m\u001b[0mlabels\u001b[0m\u001b[0;34m,\u001b[0m \u001b[0maxis\u001b[0m\u001b[0;34m,\u001b[0m \u001b[0mlevel\u001b[0m\u001b[0;34m=\u001b[0m\u001b[0mlevel\u001b[0m\u001b[0;34m,\u001b[0m \u001b[0merrors\u001b[0m\u001b[0;34m=\u001b[0m\u001b[0merrors\u001b[0m\u001b[0;34m)\u001b[0m\u001b[0;34m\u001b[0m\u001b[0;34m\u001b[0m\u001b[0m\n\u001b[0m\u001b[1;32m   4154\u001b[0m \u001b[0;34m\u001b[0m\u001b[0m\n\u001b[1;32m   4155\u001b[0m         \u001b[0;32mif\u001b[0m \u001b[0minplace\u001b[0m\u001b[0;34m:\u001b[0m\u001b[0;34m\u001b[0m\u001b[0;34m\u001b[0m\u001b[0m\n",
      "\u001b[0;32m/opt/anaconda3/lib/python3.8/site-packages/pandas/core/generic.py\u001b[0m in \u001b[0;36m_drop_axis\u001b[0;34m(self, labels, axis, level, errors)\u001b[0m\n\u001b[1;32m   4186\u001b[0m                 \u001b[0mnew_axis\u001b[0m \u001b[0;34m=\u001b[0m \u001b[0maxis\u001b[0m\u001b[0;34m.\u001b[0m\u001b[0mdrop\u001b[0m\u001b[0;34m(\u001b[0m\u001b[0mlabels\u001b[0m\u001b[0;34m,\u001b[0m \u001b[0mlevel\u001b[0m\u001b[0;34m=\u001b[0m\u001b[0mlevel\u001b[0m\u001b[0;34m,\u001b[0m \u001b[0merrors\u001b[0m\u001b[0;34m=\u001b[0m\u001b[0merrors\u001b[0m\u001b[0;34m)\u001b[0m\u001b[0;34m\u001b[0m\u001b[0;34m\u001b[0m\u001b[0m\n\u001b[1;32m   4187\u001b[0m             \u001b[0;32melse\u001b[0m\u001b[0;34m:\u001b[0m\u001b[0;34m\u001b[0m\u001b[0;34m\u001b[0m\u001b[0m\n\u001b[0;32m-> 4188\u001b[0;31m                 \u001b[0mnew_axis\u001b[0m \u001b[0;34m=\u001b[0m \u001b[0maxis\u001b[0m\u001b[0;34m.\u001b[0m\u001b[0mdrop\u001b[0m\u001b[0;34m(\u001b[0m\u001b[0mlabels\u001b[0m\u001b[0;34m,\u001b[0m \u001b[0merrors\u001b[0m\u001b[0;34m=\u001b[0m\u001b[0merrors\u001b[0m\u001b[0;34m)\u001b[0m\u001b[0;34m\u001b[0m\u001b[0;34m\u001b[0m\u001b[0m\n\u001b[0m\u001b[1;32m   4189\u001b[0m             \u001b[0mresult\u001b[0m \u001b[0;34m=\u001b[0m \u001b[0mself\u001b[0m\u001b[0;34m.\u001b[0m\u001b[0mreindex\u001b[0m\u001b[0;34m(\u001b[0m\u001b[0;34m**\u001b[0m\u001b[0;34m{\u001b[0m\u001b[0maxis_name\u001b[0m\u001b[0;34m:\u001b[0m \u001b[0mnew_axis\u001b[0m\u001b[0;34m}\u001b[0m\u001b[0;34m)\u001b[0m\u001b[0;34m\u001b[0m\u001b[0;34m\u001b[0m\u001b[0m\n\u001b[1;32m   4190\u001b[0m \u001b[0;34m\u001b[0m\u001b[0m\n",
      "\u001b[0;32m/opt/anaconda3/lib/python3.8/site-packages/pandas/core/indexes/base.py\u001b[0m in \u001b[0;36mdrop\u001b[0;34m(self, labels, errors)\u001b[0m\n\u001b[1;32m   5589\u001b[0m         \u001b[0;32mif\u001b[0m \u001b[0mmask\u001b[0m\u001b[0;34m.\u001b[0m\u001b[0many\u001b[0m\u001b[0;34m(\u001b[0m\u001b[0;34m)\u001b[0m\u001b[0;34m:\u001b[0m\u001b[0;34m\u001b[0m\u001b[0;34m\u001b[0m\u001b[0m\n\u001b[1;32m   5590\u001b[0m             \u001b[0;32mif\u001b[0m \u001b[0merrors\u001b[0m \u001b[0;34m!=\u001b[0m \u001b[0;34m\"ignore\"\u001b[0m\u001b[0;34m:\u001b[0m\u001b[0;34m\u001b[0m\u001b[0;34m\u001b[0m\u001b[0m\n\u001b[0;32m-> 5591\u001b[0;31m                 \u001b[0;32mraise\u001b[0m \u001b[0mKeyError\u001b[0m\u001b[0;34m(\u001b[0m\u001b[0;34mf\"{labels[mask]} not found in axis\"\u001b[0m\u001b[0;34m)\u001b[0m\u001b[0;34m\u001b[0m\u001b[0;34m\u001b[0m\u001b[0m\n\u001b[0m\u001b[1;32m   5592\u001b[0m             \u001b[0mindexer\u001b[0m \u001b[0;34m=\u001b[0m \u001b[0mindexer\u001b[0m\u001b[0;34m[\u001b[0m\u001b[0;34m~\u001b[0m\u001b[0mmask\u001b[0m\u001b[0;34m]\u001b[0m\u001b[0;34m\u001b[0m\u001b[0;34m\u001b[0m\u001b[0m\n\u001b[1;32m   5593\u001b[0m         \u001b[0;32mreturn\u001b[0m \u001b[0mself\u001b[0m\u001b[0;34m.\u001b[0m\u001b[0mdelete\u001b[0m\u001b[0;34m(\u001b[0m\u001b[0mindexer\u001b[0m\u001b[0;34m)\u001b[0m\u001b[0;34m\u001b[0m\u001b[0;34m\u001b[0m\u001b[0m\n",
      "\u001b[0;31mKeyError\u001b[0m: \"['c1'] not found in axis\""
     ]
    }
   ],
   "source": [
    "#열 삭제\n",
    "df = df1.copy()\n",
    "df_a = df.drop('c1',axis=1) #줄을 다 지우는 함수 drop(,axis)"
   ]
  },
  {
   "cell_type": "code",
   "execution_count": 38,
   "id": "e96553aa",
   "metadata": {},
   "outputs": [
    {
     "output_type": "execute_result",
     "data": {
      "text/plain": [
       "   c1  c2  c3  c4  c5\n",
       "2   2   4   3   3   1\n",
       "5   1   3   3   4   2\n",
       "6   3   4   3   4   2\n",
       "7   4   1   3   3   4\n",
       "8   2   2   3   1   1"
      ],
      "text/html": "<div>\n<style scoped>\n    .dataframe tbody tr th:only-of-type {\n        vertical-align: middle;\n    }\n\n    .dataframe tbody tr th {\n        vertical-align: top;\n    }\n\n    .dataframe thead th {\n        text-align: right;\n    }\n</style>\n<table border=\"1\" class=\"dataframe\">\n  <thead>\n    <tr style=\"text-align: right;\">\n      <th></th>\n      <th>c1</th>\n      <th>c2</th>\n      <th>c3</th>\n      <th>c4</th>\n      <th>c5</th>\n    </tr>\n  </thead>\n  <tbody>\n    <tr>\n      <th>2</th>\n      <td>2</td>\n      <td>4</td>\n      <td>3</td>\n      <td>3</td>\n      <td>1</td>\n    </tr>\n    <tr>\n      <th>5</th>\n      <td>1</td>\n      <td>3</td>\n      <td>3</td>\n      <td>4</td>\n      <td>2</td>\n    </tr>\n    <tr>\n      <th>6</th>\n      <td>3</td>\n      <td>4</td>\n      <td>3</td>\n      <td>4</td>\n      <td>2</td>\n    </tr>\n    <tr>\n      <th>7</th>\n      <td>4</td>\n      <td>1</td>\n      <td>3</td>\n      <td>3</td>\n      <td>4</td>\n    </tr>\n    <tr>\n      <th>8</th>\n      <td>2</td>\n      <td>2</td>\n      <td>3</td>\n      <td>1</td>\n      <td>1</td>\n    </tr>\n  </tbody>\n</table>\n</div>"
     },
     "metadata": {},
     "execution_count": 38
    }
   ],
   "source": [
    "#첫 행만 출력\n",
    "df.query('c3==3') #쿼리 조건문 c3 column이 3인 것만 출력"
   ]
  },
  {
   "cell_type": "code",
   "execution_count": 39,
   "id": "e8b903c2",
   "metadata": {},
   "outputs": [
    {
     "output_type": "execute_result",
     "data": {
      "text/plain": [
       "Empty DataFrame\n",
       "Columns: [c1, c2, c3, c4, c5]\n",
       "Index: []"
      ],
      "text/html": "<div>\n<style scoped>\n    .dataframe tbody tr th:only-of-type {\n        vertical-align: middle;\n    }\n\n    .dataframe tbody tr th {\n        vertical-align: top;\n    }\n\n    .dataframe thead th {\n        text-align: right;\n    }\n</style>\n<table border=\"1\" class=\"dataframe\">\n  <thead>\n    <tr style=\"text-align: right;\">\n      <th></th>\n      <th>c1</th>\n      <th>c2</th>\n      <th>c3</th>\n      <th>c4</th>\n      <th>c5</th>\n    </tr>\n  </thead>\n  <tbody>\n  </tbody>\n</table>\n</div>"
     },
     "metadata": {},
     "execution_count": 39
    }
   ],
   "source": [
    "df.query('c3==2 & c4==2')"
   ]
  },
  {
   "cell_type": "code",
   "execution_count": 40,
   "id": "e63da42d",
   "metadata": {},
   "outputs": [
    {
     "output_type": "execute_result",
     "data": {
      "text/plain": [
       "   c1  c2  c3  c4  c5\n",
       "9   2   4   4   2   1"
      ],
      "text/html": "<div>\n<style scoped>\n    .dataframe tbody tr th:only-of-type {\n        vertical-align: middle;\n    }\n\n    .dataframe tbody tr th {\n        vertical-align: top;\n    }\n\n    .dataframe thead th {\n        text-align: right;\n    }\n</style>\n<table border=\"1\" class=\"dataframe\">\n  <thead>\n    <tr style=\"text-align: right;\">\n      <th></th>\n      <th>c1</th>\n      <th>c2</th>\n      <th>c3</th>\n      <th>c4</th>\n      <th>c5</th>\n    </tr>\n  </thead>\n  <tbody>\n    <tr>\n      <th>9</th>\n      <td>2</td>\n      <td>4</td>\n      <td>4</td>\n      <td>2</td>\n      <td>1</td>\n    </tr>\n  </tbody>\n</table>\n</div>"
     },
     "metadata": {},
     "execution_count": 40
    }
   ],
   "source": [
    "df.query('c3==2 | c4==2')"
   ]
  },
  {
   "cell_type": "code",
   "execution_count": 41,
   "id": "fc739b06",
   "metadata": {},
   "outputs": [
    {
     "output_type": "execute_result",
     "data": {
      "text/plain": [
       "   c3  c4\n",
       "2   3   3\n",
       "5   3   4\n",
       "6   3   4\n",
       "7   3   3\n",
       "8   3   1"
      ],
      "text/html": "<div>\n<style scoped>\n    .dataframe tbody tr th:only-of-type {\n        vertical-align: middle;\n    }\n\n    .dataframe tbody tr th {\n        vertical-align: top;\n    }\n\n    .dataframe thead th {\n        text-align: right;\n    }\n</style>\n<table border=\"1\" class=\"dataframe\">\n  <thead>\n    <tr style=\"text-align: right;\">\n      <th></th>\n      <th>c3</th>\n      <th>c4</th>\n    </tr>\n  </thead>\n  <tbody>\n    <tr>\n      <th>2</th>\n      <td>3</td>\n      <td>3</td>\n    </tr>\n    <tr>\n      <th>5</th>\n      <td>3</td>\n      <td>4</td>\n    </tr>\n    <tr>\n      <th>6</th>\n      <td>3</td>\n      <td>4</td>\n    </tr>\n    <tr>\n      <th>7</th>\n      <td>3</td>\n      <td>3</td>\n    </tr>\n    <tr>\n      <th>8</th>\n      <td>3</td>\n      <td>1</td>\n    </tr>\n  </tbody>\n</table>\n</div>"
     },
     "metadata": {},
     "execution_count": 41
    }
   ],
   "source": [
    "df.query('c3==3')[['c3','c4']] # c3,c4 에서 c3가 3인 것"
   ]
  },
  {
   "cell_type": "code",
   "execution_count": 42,
   "id": "a3392cc4",
   "metadata": {},
   "outputs": [
    {
     "output_type": "stream",
     "name": "stdout",
     "text": [
      "Help on method query in module pandas.core.frame:\n\nquery(expr, inplace=False, **kwargs) method of pandas.core.frame.DataFrame instance\n    Query the columns of a DataFrame with a boolean expression.\n    \n    Parameters\n    ----------\n    expr : str\n        The query string to evaluate.\n    \n        You can refer to variables\n        in the environment by prefixing them with an '@' character like\n        ``@a + b``.\n    \n        You can refer to column names that are not valid Python variable names\n        by surrounding them in backticks. Thus, column names containing spaces\n        or punctuations (besides underscores) or starting with digits must be\n        surrounded by backticks. (For example, a column named \"Area (cm^2) would\n        be referenced as `Area (cm^2)`). Column names which are Python keywords\n        (like \"list\", \"for\", \"import\", etc) cannot be used.\n    \n        For example, if one of your columns is called ``a a`` and you want\n        to sum it with ``b``, your query should be ```a a` + b``.\n    \n        .. versionadded:: 0.25.0\n            Backtick quoting introduced.\n    \n        .. versionadded:: 1.0.0\n            Expanding functionality of backtick quoting for more than only spaces.\n    \n    inplace : bool\n        Whether the query should modify the data in place or return\n        a modified copy.\n    **kwargs\n        See the documentation for :func:`eval` for complete details\n        on the keyword arguments accepted by :meth:`DataFrame.query`.\n    \n    Returns\n    -------\n    DataFrame or None\n        DataFrame resulting from the provided query expression or\n        None if ``inplace=True``.\n    \n    See Also\n    --------\n    eval : Evaluate a string describing operations on\n        DataFrame columns.\n    DataFrame.eval : Evaluate a string describing operations on\n        DataFrame columns.\n    \n    Notes\n    -----\n    The result of the evaluation of this expression is first passed to\n    :attr:`DataFrame.loc` and if that fails because of a\n    multidimensional key (e.g., a DataFrame) then the result will be passed\n    to :meth:`DataFrame.__getitem__`.\n    \n    This method uses the top-level :func:`eval` function to\n    evaluate the passed query.\n    \n    The :meth:`~pandas.DataFrame.query` method uses a slightly\n    modified Python syntax by default. For example, the ``&`` and ``|``\n    (bitwise) operators have the precedence of their boolean cousins,\n    :keyword:`and` and :keyword:`or`. This *is* syntactically valid Python,\n    however the semantics are different.\n    \n    You can change the semantics of the expression by passing the keyword\n    argument ``parser='python'``. This enforces the same semantics as\n    evaluation in Python space. Likewise, you can pass ``engine='python'``\n    to evaluate an expression using Python itself as a backend. This is not\n    recommended as it is inefficient compared to using ``numexpr`` as the\n    engine.\n    \n    The :attr:`DataFrame.index` and\n    :attr:`DataFrame.columns` attributes of the\n    :class:`~pandas.DataFrame` instance are placed in the query namespace\n    by default, which allows you to treat both the index and columns of the\n    frame as a column in the frame.\n    The identifier ``index`` is used for the frame index; you can also\n    use the name of the index to identify it in a query. Please note that\n    Python keywords may not be used as identifiers.\n    \n    For further details and examples see the ``query`` documentation in\n    :ref:`indexing <indexing.query>`.\n    \n    *Backtick quoted variables*\n    \n    Backtick quoted variables are parsed as literal Python code and\n    are converted internally to a Python valid identifier.\n    This can lead to the following problems.\n    \n    During parsing a number of disallowed characters inside the backtick\n    quoted string are replaced by strings that are allowed as a Python identifier.\n    These characters include all operators in Python, the space character, the\n    question mark, the exclamation mark, the dollar sign, and the euro sign.\n    For other characters that fall outside the ASCII range (U+0001..U+007F)\n    and those that are not further specified in PEP 3131,\n    the query parser will raise an error.\n    This excludes whitespace different than the space character,\n    but also the hashtag (as it is used for comments) and the backtick\n    itself (backtick can also not be escaped).\n    \n    In a special case, quotes that make a pair around a backtick can\n    confuse the parser.\n    For example, ```it's` > `that's``` will raise an error,\n    as it forms a quoted string (``'s > `that'``) with a backtick inside.\n    \n    See also the Python documentation about lexical analysis\n    (https://docs.python.org/3/reference/lexical_analysis.html)\n    in combination with the source code in :mod:`pandas.core.computation.parsing`.\n    \n    Examples\n    --------\n    >>> df = pd.DataFrame({'A': range(1, 6),\n    ...                    'B': range(10, 0, -2),\n    ...                    'C C': range(10, 5, -1)})\n    >>> df\n       A   B  C C\n    0  1  10   10\n    1  2   8    9\n    2  3   6    8\n    3  4   4    7\n    4  5   2    6\n    >>> df.query('A > B')\n       A  B  C C\n    4  5  2    6\n    \n    The previous expression is equivalent to\n    \n    >>> df[df.A > df.B]\n       A  B  C C\n    4  5  2    6\n    \n    For columns with spaces in their name, you can use backtick quoting.\n    \n    >>> df.query('B == `C C`')\n       A   B  C C\n    0  1  10   10\n    \n    The previous expression is equivalent to\n    \n    >>> df[df.B == df['C C']]\n       A   B  C C\n    0  1  10   10\n\n"
     ]
    }
   ],
   "source": [
    "help(df.query) #쿼리 도움말"
   ]
  },
  {
   "cell_type": "code",
   "execution_count": 43,
   "id": "265b5efd",
   "metadata": {},
   "outputs": [
    {
     "output_type": "execute_result",
     "data": {
      "text/plain": [
       "   국어  영어  수학  과학  체육\n",
       "0   1   1   4   3   3\n",
       "1   2   2   1   1   4\n",
       "2   2   4   3   3   1\n",
       "3   4   4   1   3   2\n",
       "4   1   1   1   1   1\n",
       "5   1   3   3   4   2\n",
       "6   3   4   3   4   2\n",
       "7   4   1   3   3   4\n",
       "8   2   2   3   1   1\n",
       "9   2   4   4   2   1"
      ],
      "text/html": "<div>\n<style scoped>\n    .dataframe tbody tr th:only-of-type {\n        vertical-align: middle;\n    }\n\n    .dataframe tbody tr th {\n        vertical-align: top;\n    }\n\n    .dataframe thead th {\n        text-align: right;\n    }\n</style>\n<table border=\"1\" class=\"dataframe\">\n  <thead>\n    <tr style=\"text-align: right;\">\n      <th></th>\n      <th>국어</th>\n      <th>영어</th>\n      <th>수학</th>\n      <th>과학</th>\n      <th>체육</th>\n    </tr>\n  </thead>\n  <tbody>\n    <tr>\n      <th>0</th>\n      <td>1</td>\n      <td>1</td>\n      <td>4</td>\n      <td>3</td>\n      <td>3</td>\n    </tr>\n    <tr>\n      <th>1</th>\n      <td>2</td>\n      <td>2</td>\n      <td>1</td>\n      <td>1</td>\n      <td>4</td>\n    </tr>\n    <tr>\n      <th>2</th>\n      <td>2</td>\n      <td>4</td>\n      <td>3</td>\n      <td>3</td>\n      <td>1</td>\n    </tr>\n    <tr>\n      <th>3</th>\n      <td>4</td>\n      <td>4</td>\n      <td>1</td>\n      <td>3</td>\n      <td>2</td>\n    </tr>\n    <tr>\n      <th>4</th>\n      <td>1</td>\n      <td>1</td>\n      <td>1</td>\n      <td>1</td>\n      <td>1</td>\n    </tr>\n    <tr>\n      <th>5</th>\n      <td>1</td>\n      <td>3</td>\n      <td>3</td>\n      <td>4</td>\n      <td>2</td>\n    </tr>\n    <tr>\n      <th>6</th>\n      <td>3</td>\n      <td>4</td>\n      <td>3</td>\n      <td>4</td>\n      <td>2</td>\n    </tr>\n    <tr>\n      <th>7</th>\n      <td>4</td>\n      <td>1</td>\n      <td>3</td>\n      <td>3</td>\n      <td>4</td>\n    </tr>\n    <tr>\n      <th>8</th>\n      <td>2</td>\n      <td>2</td>\n      <td>3</td>\n      <td>1</td>\n      <td>1</td>\n    </tr>\n    <tr>\n      <th>9</th>\n      <td>2</td>\n      <td>4</td>\n      <td>4</td>\n      <td>2</td>\n      <td>1</td>\n    </tr>\n  </tbody>\n</table>\n</div>"
     },
     "metadata": {},
     "execution_count": 43
    }
   ],
   "source": [
    "df.rename(columns={'c1':'국어','c2':'영어','c3':'수학','c4':'과학','c5':'체육'},inplace=True)\n",
    "df"
   ]
  },
  {
   "cell_type": "code",
   "execution_count": 44,
   "id": "aabf6bbb",
   "metadata": {},
   "outputs": [
    {
     "output_type": "execute_result",
     "data": {
      "text/plain": [
       "     국어  영어  수학  과학  체육\n",
       "홍길동   1   1   4   3   3\n",
       "김땡땡   2   2   1   1   4\n",
       "김인직   2   4   3   3   1"
      ],
      "text/html": "<div>\n<style scoped>\n    .dataframe tbody tr th:only-of-type {\n        vertical-align: middle;\n    }\n\n    .dataframe tbody tr th {\n        vertical-align: top;\n    }\n\n    .dataframe thead th {\n        text-align: right;\n    }\n</style>\n<table border=\"1\" class=\"dataframe\">\n  <thead>\n    <tr style=\"text-align: right;\">\n      <th></th>\n      <th>국어</th>\n      <th>영어</th>\n      <th>수학</th>\n      <th>과학</th>\n      <th>체육</th>\n    </tr>\n  </thead>\n  <tbody>\n    <tr>\n      <th>홍길동</th>\n      <td>1</td>\n      <td>1</td>\n      <td>4</td>\n      <td>3</td>\n      <td>3</td>\n    </tr>\n    <tr>\n      <th>김땡땡</th>\n      <td>2</td>\n      <td>2</td>\n      <td>1</td>\n      <td>1</td>\n      <td>4</td>\n    </tr>\n    <tr>\n      <th>김인직</th>\n      <td>2</td>\n      <td>4</td>\n      <td>3</td>\n      <td>3</td>\n      <td>1</td>\n    </tr>\n  </tbody>\n</table>\n</div>"
     },
     "metadata": {},
     "execution_count": 44
    }
   ],
   "source": [
    "import warnings\n",
    "warnings.filterwarnings('ignore')\n",
    "df_e = df[:3] #df의 3번째 행까지 \n",
    "df_e.rename(index={0:'홍길동',1:'김땡땡',2:'김인직'},inplace=True)\n",
    "df_e"
   ]
  },
  {
   "cell_type": "code",
   "execution_count": 45,
   "id": "61c08254",
   "metadata": {},
   "outputs": [
    {
     "output_type": "execute_result",
     "data": {
      "text/plain": [
       "3"
      ]
     },
     "metadata": {},
     "execution_count": 45
    }
   ],
   "source": [
    "df_e.loc['홍길동','과학'] #컬럼, 인덱스 명으로 찾기\n",
    "df_e.iloc[0,4] # 인덱스 넘버로 찾기"
   ]
  },
  {
   "cell_type": "code",
   "execution_count": 46,
   "id": "d1bbbfec",
   "metadata": {},
   "outputs": [
    {
     "output_type": "execute_result",
     "data": {
      "text/plain": [
       "   col1  col2  col3  col4  col5\n",
       "0     1     8     1     8     1\n",
       "1     2     7     2     7     2\n",
       "2     3     6     3     6     3\n",
       "3     4     5     4     5     4\n",
       "4     5     4     5     4     5\n",
       "5     6     3     6     3     6\n",
       "6     7     2     7     2     7\n",
       "7     8     1     8     1     8"
      ],
      "text/html": "<div>\n<style scoped>\n    .dataframe tbody tr th:only-of-type {\n        vertical-align: middle;\n    }\n\n    .dataframe tbody tr th {\n        vertical-align: top;\n    }\n\n    .dataframe thead th {\n        text-align: right;\n    }\n</style>\n<table border=\"1\" class=\"dataframe\">\n  <thead>\n    <tr style=\"text-align: right;\">\n      <th></th>\n      <th>col1</th>\n      <th>col2</th>\n      <th>col3</th>\n      <th>col4</th>\n      <th>col5</th>\n    </tr>\n  </thead>\n  <tbody>\n    <tr>\n      <th>0</th>\n      <td>1</td>\n      <td>8</td>\n      <td>1</td>\n      <td>8</td>\n      <td>1</td>\n    </tr>\n    <tr>\n      <th>1</th>\n      <td>2</td>\n      <td>7</td>\n      <td>2</td>\n      <td>7</td>\n      <td>2</td>\n    </tr>\n    <tr>\n      <th>2</th>\n      <td>3</td>\n      <td>6</td>\n      <td>3</td>\n      <td>6</td>\n      <td>3</td>\n    </tr>\n    <tr>\n      <th>3</th>\n      <td>4</td>\n      <td>5</td>\n      <td>4</td>\n      <td>5</td>\n      <td>4</td>\n    </tr>\n    <tr>\n      <th>4</th>\n      <td>5</td>\n      <td>4</td>\n      <td>5</td>\n      <td>4</td>\n      <td>5</td>\n    </tr>\n    <tr>\n      <th>5</th>\n      <td>6</td>\n      <td>3</td>\n      <td>6</td>\n      <td>3</td>\n      <td>6</td>\n    </tr>\n    <tr>\n      <th>6</th>\n      <td>7</td>\n      <td>2</td>\n      <td>7</td>\n      <td>2</td>\n      <td>7</td>\n    </tr>\n    <tr>\n      <th>7</th>\n      <td>8</td>\n      <td>1</td>\n      <td>8</td>\n      <td>1</td>\n      <td>8</td>\n    </tr>\n  </tbody>\n</table>\n</div>"
     },
     "metadata": {},
     "execution_count": 46
    }
   ],
   "source": [
    "#사전으로 데이터프레임 생성\n",
    "ds_1 = pd.DataFrame({\n",
    "    'col1' : np.array([1,2,3,4,5,6,7,8]),\n",
    "    'col2' : np.array([8,7,6,5,4,3,2,1]),\n",
    "    'col3' : np.array([1,2,3,4,5,6,7,8]),\n",
    "    'col4' : np.array([8,7,6,5,4,3,2,1]),\n",
    "    'col5' : np.array([1,2,3,4,5,6,7,8])\n",
    "})\n",
    "ds_1"
   ]
  },
  {
   "cell_type": "code",
   "execution_count": 60,
   "metadata": {},
   "outputs": [
    {
     "output_type": "execute_result",
     "data": {
      "text/plain": [
       "array([[ 20,  79,  39,  38,  36],\n",
       "       [ 12, 103,  43,  42,  79],\n",
       "       [ 41, 115,  56,  35,  32],\n",
       "       [148,  58, 102,  24,  77],\n",
       "       [ 81,  98,  31,  92, 132],\n",
       "       [ 87, 130,  15, 156, 129],\n",
       "       [ 10,  36,  79,  33, 155],\n",
       "       [ 13,  53,  79,  20,  94]])"
      ]
     },
     "metadata": {},
     "execution_count": 60
    }
   ],
   "source": [
    "ar_data = np.random.randint(1,157,size=(8,5))\n",
    "ar = pd.DataFrame(ar_data,)"
   ]
  },
  {
   "cell_type": "code",
   "execution_count": 47,
   "id": "fdb44831",
   "metadata": {},
   "outputs": [],
   "source": [
    "#생성된 데이터 프레임에서 아래 사항을 수행하세요\n",
    "\n",
    "\n"
   ]
  },
  {
   "cell_type": "code",
   "execution_count": 48,
   "id": "a504a01f",
   "metadata": {},
   "outputs": [
    {
     "output_type": "execute_result",
     "data": {
      "text/plain": [
       "     월  화  수  목  금\n",
       "1교시  1  8  1  8  1\n",
       "2교시  2  7  2  7  2\n",
       "3교시  3  6  3  6  3\n",
       "4교시  4  5  4  5  4\n",
       "5교시  5  4  5  4  5\n",
       "6교시  6  3  6  3  6\n",
       "7교시  7  2  7  2  7\n",
       "8교시  8  1  8  1  8"
      ],
      "text/html": "<div>\n<style scoped>\n    .dataframe tbody tr th:only-of-type {\n        vertical-align: middle;\n    }\n\n    .dataframe tbody tr th {\n        vertical-align: top;\n    }\n\n    .dataframe thead th {\n        text-align: right;\n    }\n</style>\n<table border=\"1\" class=\"dataframe\">\n  <thead>\n    <tr style=\"text-align: right;\">\n      <th></th>\n      <th>월</th>\n      <th>화</th>\n      <th>수</th>\n      <th>목</th>\n      <th>금</th>\n    </tr>\n  </thead>\n  <tbody>\n    <tr>\n      <th>1교시</th>\n      <td>1</td>\n      <td>8</td>\n      <td>1</td>\n      <td>8</td>\n      <td>1</td>\n    </tr>\n    <tr>\n      <th>2교시</th>\n      <td>2</td>\n      <td>7</td>\n      <td>2</td>\n      <td>7</td>\n      <td>2</td>\n    </tr>\n    <tr>\n      <th>3교시</th>\n      <td>3</td>\n      <td>6</td>\n      <td>3</td>\n      <td>6</td>\n      <td>3</td>\n    </tr>\n    <tr>\n      <th>4교시</th>\n      <td>4</td>\n      <td>5</td>\n      <td>4</td>\n      <td>5</td>\n      <td>4</td>\n    </tr>\n    <tr>\n      <th>5교시</th>\n      <td>5</td>\n      <td>4</td>\n      <td>5</td>\n      <td>4</td>\n      <td>5</td>\n    </tr>\n    <tr>\n      <th>6교시</th>\n      <td>6</td>\n      <td>3</td>\n      <td>6</td>\n      <td>3</td>\n      <td>6</td>\n    </tr>\n    <tr>\n      <th>7교시</th>\n      <td>7</td>\n      <td>2</td>\n      <td>7</td>\n      <td>2</td>\n      <td>7</td>\n    </tr>\n    <tr>\n      <th>8교시</th>\n      <td>8</td>\n      <td>1</td>\n      <td>8</td>\n      <td>1</td>\n      <td>8</td>\n    </tr>\n  </tbody>\n</table>\n</div>"
     },
     "metadata": {},
     "execution_count": 48
    }
   ],
   "source": [
    "#열 이름과 행 이름 변경\n",
    "ds_1.rename(\n",
    "columns={'col1':'월','col2':'화','col3':'수','col4':'목','col5':'금'},\n",
    "index={0:'1교시',1:'2교시',2:'3교시',3:'4교시',4:'5교시',5:'6교시',6:'7교시',7:'8교시',}\n",
    ",inplace=True)\n",
    "ds_1"
   ]
  },
  {
   "cell_type": "code",
   "execution_count": 49,
   "id": "0ae0a76f",
   "metadata": {},
   "outputs": [
    {
     "output_type": "execute_result",
     "data": {
      "text/plain": [
       "     월  화  수  목  금\n",
       "1교시  1  8  1  8  1\n",
       "2교시  2  7  2  7  2"
      ],
      "text/html": "<div>\n<style scoped>\n    .dataframe tbody tr th:only-of-type {\n        vertical-align: middle;\n    }\n\n    .dataframe tbody tr th {\n        vertical-align: top;\n    }\n\n    .dataframe thead th {\n        text-align: right;\n    }\n</style>\n<table border=\"1\" class=\"dataframe\">\n  <thead>\n    <tr style=\"text-align: right;\">\n      <th></th>\n      <th>월</th>\n      <th>화</th>\n      <th>수</th>\n      <th>목</th>\n      <th>금</th>\n    </tr>\n  </thead>\n  <tbody>\n    <tr>\n      <th>1교시</th>\n      <td>1</td>\n      <td>8</td>\n      <td>1</td>\n      <td>8</td>\n      <td>1</td>\n    </tr>\n    <tr>\n      <th>2교시</th>\n      <td>2</td>\n      <td>7</td>\n      <td>2</td>\n      <td>7</td>\n      <td>2</td>\n    </tr>\n  </tbody>\n</table>\n</div>"
     },
     "metadata": {},
     "execution_count": 49
    }
   ],
   "source": [
    "#3행만 출력\n",
    "ds_1[:2]"
   ]
  },
  {
   "cell_type": "code",
   "execution_count": 50,
   "id": "d5e929ab",
   "metadata": {},
   "outputs": [
    {
     "output_type": "execute_result",
     "data": {
      "text/plain": [
       "1교시    1\n",
       "2교시    2\n",
       "3교시    3\n",
       "4교시    4\n",
       "5교시    5\n",
       "6교시    6\n",
       "7교시    7\n",
       "8교시    8\n",
       "Name: 금, dtype: int64"
      ]
     },
     "metadata": {},
     "execution_count": 50
    }
   ],
   "source": [
    "#5열만 출력\n",
    "ds_1.금\n"
   ]
  },
  {
   "cell_type": "code",
   "execution_count": 51,
   "id": "02828bae",
   "metadata": {},
   "outputs": [
    {
     "output_type": "execute_result",
     "data": {
      "text/plain": [
       "3"
      ]
     },
     "metadata": {},
     "execution_count": 51
    }
   ],
   "source": [
    "#3행 5열의 값 출력\n",
    "ds_1.금[2]\n"
   ]
  },
  {
   "cell_type": "code",
   "execution_count": 66,
   "metadata": {},
   "outputs": [
    {
     "output_type": "execute_result",
     "data": {
      "text/plain": [
       "2"
      ]
     },
     "metadata": {},
     "execution_count": 66
    }
   ],
   "source": [
    "ds_1.loc['2교시']['금']"
   ]
  },
  {
   "cell_type": "code",
   "execution_count": 52,
   "id": "696b4a57",
   "metadata": {},
   "outputs": [
    {
     "output_type": "execute_result",
     "data": {
      "text/plain": [
       "     월  화  수  목  금\n",
       "1교시  1  8  1  8  1\n",
       "2교시  2  7  2  7  2\n",
       "3교시  3  6  3  6  3\n",
       "4교시  0  0  0  0  0\n",
       "5교시  5  4  5  4  5\n",
       "6교시  6  3  6  3  6\n",
       "7교시  7  2  7  2  7\n",
       "8교시  8  1  8  1  8"
      ],
      "text/html": "<div>\n<style scoped>\n    .dataframe tbody tr th:only-of-type {\n        vertical-align: middle;\n    }\n\n    .dataframe tbody tr th {\n        vertical-align: top;\n    }\n\n    .dataframe thead th {\n        text-align: right;\n    }\n</style>\n<table border=\"1\" class=\"dataframe\">\n  <thead>\n    <tr style=\"text-align: right;\">\n      <th></th>\n      <th>월</th>\n      <th>화</th>\n      <th>수</th>\n      <th>목</th>\n      <th>금</th>\n    </tr>\n  </thead>\n  <tbody>\n    <tr>\n      <th>1교시</th>\n      <td>1</td>\n      <td>8</td>\n      <td>1</td>\n      <td>8</td>\n      <td>1</td>\n    </tr>\n    <tr>\n      <th>2교시</th>\n      <td>2</td>\n      <td>7</td>\n      <td>2</td>\n      <td>7</td>\n      <td>2</td>\n    </tr>\n    <tr>\n      <th>3교시</th>\n      <td>3</td>\n      <td>6</td>\n      <td>3</td>\n      <td>6</td>\n      <td>3</td>\n    </tr>\n    <tr>\n      <th>4교시</th>\n      <td>0</td>\n      <td>0</td>\n      <td>0</td>\n      <td>0</td>\n      <td>0</td>\n    </tr>\n    <tr>\n      <th>5교시</th>\n      <td>5</td>\n      <td>4</td>\n      <td>5</td>\n      <td>4</td>\n      <td>5</td>\n    </tr>\n    <tr>\n      <th>6교시</th>\n      <td>6</td>\n      <td>3</td>\n      <td>6</td>\n      <td>3</td>\n      <td>6</td>\n    </tr>\n    <tr>\n      <th>7교시</th>\n      <td>7</td>\n      <td>2</td>\n      <td>7</td>\n      <td>2</td>\n      <td>7</td>\n    </tr>\n    <tr>\n      <th>8교시</th>\n      <td>8</td>\n      <td>1</td>\n      <td>8</td>\n      <td>1</td>\n      <td>8</td>\n    </tr>\n  </tbody>\n</table>\n</div>"
     },
     "metadata": {},
     "execution_count": 52
    }
   ],
   "source": [
    "#4열의 값을 모두 0으로 변경\n",
    "ds_1.iloc[3] = 0\n",
    "ds_1\n"
   ]
  },
  {
   "cell_type": "code",
   "execution_count": 53,
   "id": "73eb5203",
   "metadata": {},
   "outputs": [
    {
     "output_type": "stream",
     "name": "stdout",
     "text": [
      "2교시    2\n3교시    3\nName: 수, dtype: int64\n2교시    2\n3교시    3\nName: 수, dtype: int64\n"
     ]
    }
   ],
   "source": [
    "# 2,3행의 3열 값을 조회(2가지 방법)(iloc,loc)\n",
    "print(ds_1.iloc[1:3,2])\n",
    "print(ds_1.loc['2교시':'3교시','수'])\n"
   ]
  },
  {
   "cell_type": "code",
   "execution_count": 54,
   "id": "f639d9b8",
   "metadata": {},
   "outputs": [
    {
     "output_type": "stream",
     "name": "stdout",
     "text": [
      "화    3\n수    6\n목    3\n금    6\nName: 6교시, dtype: int64\n화    3\n수    6\n목    3\n금    6\nName: 6교시, dtype: int64\n"
     ]
    }
   ],
   "source": [
    "# 6행의 2,3,4열의 값을 조회(2가지 방법)(iloc,loc)\n",
    "print(ds_1.iloc[5,1:5])\n",
    "print(ds_1.loc['6교시','화':'금'])\n"
   ]
  },
  {
   "cell_type": "code",
   "execution_count": 55,
   "id": "d9f9c910",
   "metadata": {},
   "outputs": [
    {
     "output_type": "stream",
     "name": "stdout",
     "text": [
      "     화\n1교시  8\n2교시  7\n3교시  6\n4교시  0\n5교시  4\n6교시  3\n7교시  2\n8교시  1 <class 'pandas.core.frame.DataFrame'>\n1교시    8\n2교시    7\n3교시    6\n4교시    0\n5교시    4\n6교시    3\n7교시    2\n8교시    1\nName: 화, dtype: int64 <class 'pandas.core.series.Series'>\n"
     ]
    }
   ],
   "source": [
    "# 2열을 Series와 DataFrame으로 각각 출력\n",
    "dt = pd.DataFrame(ds_1.화)\n",
    "print(dt,type(dt))\n",
    "\n",
    "print(ds_1.화,type(ds_1.화))\n"
   ]
  },
  {
   "cell_type": "code",
   "execution_count": 56,
   "id": "2b299337",
   "metadata": {},
   "outputs": [
    {
     "output_type": "execute_result",
     "data": {
      "text/plain": [
       "     월  화  수  목  금\n",
       "1교시  1  8  1  8  1\n",
       "2교시  2  7  7  7  2\n",
       "3교시  3  6  3  6  3\n",
       "4교시  0  0  0  0  0\n",
       "5교시  5  4  5  4  5\n",
       "6교시  6  3  6  3  6\n",
       "7교시  7  2  7  2  7\n",
       "8교시  8  1  8  1  8"
      ],
      "text/html": "<div>\n<style scoped>\n    .dataframe tbody tr th:only-of-type {\n        vertical-align: middle;\n    }\n\n    .dataframe tbody tr th {\n        vertical-align: top;\n    }\n\n    .dataframe thead th {\n        text-align: right;\n    }\n</style>\n<table border=\"1\" class=\"dataframe\">\n  <thead>\n    <tr style=\"text-align: right;\">\n      <th></th>\n      <th>월</th>\n      <th>화</th>\n      <th>수</th>\n      <th>목</th>\n      <th>금</th>\n    </tr>\n  </thead>\n  <tbody>\n    <tr>\n      <th>1교시</th>\n      <td>1</td>\n      <td>8</td>\n      <td>1</td>\n      <td>8</td>\n      <td>1</td>\n    </tr>\n    <tr>\n      <th>2교시</th>\n      <td>2</td>\n      <td>7</td>\n      <td>7</td>\n      <td>7</td>\n      <td>2</td>\n    </tr>\n    <tr>\n      <th>3교시</th>\n      <td>3</td>\n      <td>6</td>\n      <td>3</td>\n      <td>6</td>\n      <td>3</td>\n    </tr>\n    <tr>\n      <th>4교시</th>\n      <td>0</td>\n      <td>0</td>\n      <td>0</td>\n      <td>0</td>\n      <td>0</td>\n    </tr>\n    <tr>\n      <th>5교시</th>\n      <td>5</td>\n      <td>4</td>\n      <td>5</td>\n      <td>4</td>\n      <td>5</td>\n    </tr>\n    <tr>\n      <th>6교시</th>\n      <td>6</td>\n      <td>3</td>\n      <td>6</td>\n      <td>3</td>\n      <td>6</td>\n    </tr>\n    <tr>\n      <th>7교시</th>\n      <td>7</td>\n      <td>2</td>\n      <td>7</td>\n      <td>2</td>\n      <td>7</td>\n    </tr>\n    <tr>\n      <th>8교시</th>\n      <td>8</td>\n      <td>1</td>\n      <td>8</td>\n      <td>1</td>\n      <td>8</td>\n    </tr>\n  </tbody>\n</table>\n</div>"
     },
     "metadata": {},
     "execution_count": 56
    }
   ],
   "source": [
    "# 2행 3열의 값을 2행 4열의 값과 동일하게 변경\n",
    "ds_1.iloc[1,2] = ds_1.iloc[1,3]\n",
    "ds_1\n"
   ]
  },
  {
   "cell_type": "code",
   "execution_count": 59,
   "id": "1e66bcb6",
   "metadata": {},
   "outputs": [
    {
     "output_type": "execute_result",
     "data": {
      "text/plain": [
       "     수  목\n",
       "2교시  7  7"
      ],
      "text/html": "<div>\n<style scoped>\n    .dataframe tbody tr th:only-of-type {\n        vertical-align: middle;\n    }\n\n    .dataframe tbody tr th {\n        vertical-align: top;\n    }\n\n    .dataframe thead th {\n        text-align: right;\n    }\n</style>\n<table border=\"1\" class=\"dataframe\">\n  <thead>\n    <tr style=\"text-align: right;\">\n      <th></th>\n      <th>수</th>\n      <th>목</th>\n    </tr>\n  </thead>\n  <tbody>\n    <tr>\n      <th>2교시</th>\n      <td>7</td>\n      <td>7</td>\n    </tr>\n  </tbody>\n</table>\n</div>"
     },
     "metadata": {},
     "execution_count": 59
    }
   ],
   "source": [
    "# 2행 3열의 값과 2행 4열의 값을 동시에 만족하는 3,4열을 출력(query)\n",
    "ds_1.query('index == \"2교시\" & 수 == 목')[['수','목']]"
   ]
  },
  {
   "cell_type": "code",
   "execution_count": 69,
   "metadata": {},
   "outputs": [
    {
     "output_type": "execute_result",
     "data": {
      "text/plain": [
       "     수  목\n",
       "2교시  7  7"
      ],
      "text/html": "<div>\n<style scoped>\n    .dataframe tbody tr th:only-of-type {\n        vertical-align: middle;\n    }\n\n    .dataframe tbody tr th {\n        vertical-align: top;\n    }\n\n    .dataframe thead th {\n        text-align: right;\n    }\n</style>\n<table border=\"1\" class=\"dataframe\">\n  <thead>\n    <tr style=\"text-align: right;\">\n      <th></th>\n      <th>수</th>\n      <th>목</th>\n    </tr>\n  </thead>\n  <tbody>\n    <tr>\n      <th>2교시</th>\n      <td>7</td>\n      <td>7</td>\n    </tr>\n  </tbody>\n</table>\n</div>"
     },
     "metadata": {},
     "execution_count": 69
    }
   ],
   "source": [
    "ds_1.query('index == \"2교시\"')[['수','목']]"
   ]
  },
  {
   "cell_type": "code",
   "execution_count": 71,
   "metadata": {},
   "outputs": [
    {
     "output_type": "execute_result",
     "data": {
      "text/plain": [
       "     수  목\n",
       "2교시  7  7"
      ],
      "text/html": "<div>\n<style scoped>\n    .dataframe tbody tr th:only-of-type {\n        vertical-align: middle;\n    }\n\n    .dataframe tbody tr th {\n        vertical-align: top;\n    }\n\n    .dataframe thead th {\n        text-align: right;\n    }\n</style>\n<table border=\"1\" class=\"dataframe\">\n  <thead>\n    <tr style=\"text-align: right;\">\n      <th></th>\n      <th>수</th>\n      <th>목</th>\n    </tr>\n  </thead>\n  <tbody>\n    <tr>\n      <th>2교시</th>\n      <td>7</td>\n      <td>7</td>\n    </tr>\n  </tbody>\n</table>\n</div>"
     },
     "metadata": {},
     "execution_count": 71
    }
   ],
   "source": [
    "ds_1.iloc[[1]].query('수 == 목')[['수','목']]"
   ]
  },
  {
   "cell_type": "code",
   "execution_count": 359,
   "id": "f01278f4",
   "metadata": {},
   "outputs": [
    {
     "name": "stdout",
     "output_type": "stream",
     "text": [
      "       id  gender  age  region  b_year  b_month  b_day  local  ms\n",
      "0       1       1    9       6    1947        3     28      4   1\n",
      "1       2       1   48      10    2001       11     23      6   0\n",
      "2       3       1    2       3    1997        3     18      4   0\n",
      "3       4       0   90       6    1971        3     25      4   0\n",
      "4       5       0   34       4    1965        7     22      6   1\n",
      "..    ...     ...  ...     ...     ...      ...    ...    ...  ..\n",
      "995   996       1   97       9    2021       12     10      6   1\n",
      "996   997       1   47       8    1959       10      6      4   1\n",
      "997   998       1   87       8    1941        1      4      6   0\n",
      "998   999       1   56       3    1978       12     27      5   0\n",
      "999  1000       1   65       5    1945       12     26      6   1\n",
      "\n",
      "[1000 rows x 9 columns]\n"
     ]
    }
   ],
   "source": [
    "data1 = np.random.randint(1940,2022,size=1000)\n",
    "dat1 = pd.Series(data1)\n",
    "data2 = np.random.randint(1,13,size=1000)\n",
    "dat2 = pd.Series(data2)\n",
    "data3 = np.random.randint(1,32,size=1000)\n",
    "dat3 = pd.Series(data3)\n",
    "data4 = np.random.randint(3,7,size=1000)\n",
    "dat4 = pd.Series(data4)\n",
    "data5 = np.random.randint(2,size=1000)\n",
    "dat5 = pd.Series(data5)\n",
    "df_z = pd.concat([df,dat1,dat2,dat3,dat4,dat5],axis=1)\n",
    "df_z.rename(columns={0:'b_year',1:'b_month',2:'b_day',3:'local',4:'ms'},inplace=True)\n",
    "print(df_z)"
   ]
  },
  {
   "cell_type": "code",
   "execution_count": 72,
   "metadata": {},
   "outputs": [
    {
     "output_type": "execute_result",
     "data": {
      "text/plain": [
       "    a   b   c   d   e\n",
       "0  92  95  80  83  83\n",
       "1  87  89  99  98  84\n",
       "2  86  92  81  86  87\n",
       "3  94  97  85  93  88\n",
       "4  89  99  96  99  85"
      ],
      "text/html": "<div>\n<style scoped>\n    .dataframe tbody tr th:only-of-type {\n        vertical-align: middle;\n    }\n\n    .dataframe tbody tr th {\n        vertical-align: top;\n    }\n\n    .dataframe thead th {\n        text-align: right;\n    }\n</style>\n<table border=\"1\" class=\"dataframe\">\n  <thead>\n    <tr style=\"text-align: right;\">\n      <th></th>\n      <th>a</th>\n      <th>b</th>\n      <th>c</th>\n      <th>d</th>\n      <th>e</th>\n    </tr>\n  </thead>\n  <tbody>\n    <tr>\n      <th>0</th>\n      <td>92</td>\n      <td>95</td>\n      <td>80</td>\n      <td>83</td>\n      <td>83</td>\n    </tr>\n    <tr>\n      <th>1</th>\n      <td>87</td>\n      <td>89</td>\n      <td>99</td>\n      <td>98</td>\n      <td>84</td>\n    </tr>\n    <tr>\n      <th>2</th>\n      <td>86</td>\n      <td>92</td>\n      <td>81</td>\n      <td>86</td>\n      <td>87</td>\n    </tr>\n    <tr>\n      <th>3</th>\n      <td>94</td>\n      <td>97</td>\n      <td>85</td>\n      <td>93</td>\n      <td>88</td>\n    </tr>\n    <tr>\n      <th>4</th>\n      <td>89</td>\n      <td>99</td>\n      <td>96</td>\n      <td>99</td>\n      <td>85</td>\n    </tr>\n  </tbody>\n</table>\n</div>"
     },
     "metadata": {},
     "execution_count": 72
    }
   ],
   "source": [
    "np.random.seed(0)\n",
    "data = np.random.randint(80,100,size=(5,5))\n",
    "df = pd.DataFrame(data, columns=list('abcde'))\n",
    "df"
   ]
  },
  {
   "cell_type": "code",
   "execution_count": 73,
   "metadata": {},
   "outputs": [
    {
     "output_type": "execute_result",
     "data": {
      "text/plain": [
       "    a   b   c   d   e\n",
       "0  92  95  80  83  83\n",
       "1  87  89  99  98  84\n",
       "2  86  92  81  86  87\n",
       "3  94  97  85  93  88\n",
       "4  89  99  96  99  85"
      ],
      "text/html": "<div>\n<style scoped>\n    .dataframe tbody tr th:only-of-type {\n        vertical-align: middle;\n    }\n\n    .dataframe tbody tr th {\n        vertical-align: top;\n    }\n\n    .dataframe thead th {\n        text-align: right;\n    }\n</style>\n<table border=\"1\" class=\"dataframe\">\n  <thead>\n    <tr style=\"text-align: right;\">\n      <th></th>\n      <th>a</th>\n      <th>b</th>\n      <th>c</th>\n      <th>d</th>\n      <th>e</th>\n    </tr>\n  </thead>\n  <tbody>\n    <tr>\n      <th>0</th>\n      <td>92</td>\n      <td>95</td>\n      <td>80</td>\n      <td>83</td>\n      <td>83</td>\n    </tr>\n    <tr>\n      <th>1</th>\n      <td>87</td>\n      <td>89</td>\n      <td>99</td>\n      <td>98</td>\n      <td>84</td>\n    </tr>\n    <tr>\n      <th>2</th>\n      <td>86</td>\n      <td>92</td>\n      <td>81</td>\n      <td>86</td>\n      <td>87</td>\n    </tr>\n    <tr>\n      <th>3</th>\n      <td>94</td>\n      <td>97</td>\n      <td>85</td>\n      <td>93</td>\n      <td>88</td>\n    </tr>\n    <tr>\n      <th>4</th>\n      <td>89</td>\n      <td>99</td>\n      <td>96</td>\n      <td>99</td>\n      <td>85</td>\n    </tr>\n  </tbody>\n</table>\n</div>"
     },
     "metadata": {},
     "execution_count": 73
    }
   ],
   "source": [
    "df1 = df.copy()\n",
    "df1"
   ]
  },
  {
   "cell_type": "code",
   "execution_count": 74,
   "metadata": {},
   "outputs": [
    {
     "output_type": "execute_result",
     "data": {
      "text/plain": [
       "    a   b   c   d   e index\n",
       "0  92  95  80  83  83     가\n",
       "1  87  89  99  98  84     나\n",
       "2  86  92  81  86  87     다\n",
       "3  94  97  85  93  88     라\n",
       "4  89  99  96  99  85     마"
      ],
      "text/html": "<div>\n<style scoped>\n    .dataframe tbody tr th:only-of-type {\n        vertical-align: middle;\n    }\n\n    .dataframe tbody tr th {\n        vertical-align: top;\n    }\n\n    .dataframe thead th {\n        text-align: right;\n    }\n</style>\n<table border=\"1\" class=\"dataframe\">\n  <thead>\n    <tr style=\"text-align: right;\">\n      <th></th>\n      <th>a</th>\n      <th>b</th>\n      <th>c</th>\n      <th>d</th>\n      <th>e</th>\n      <th>index</th>\n    </tr>\n  </thead>\n  <tbody>\n    <tr>\n      <th>0</th>\n      <td>92</td>\n      <td>95</td>\n      <td>80</td>\n      <td>83</td>\n      <td>83</td>\n      <td>가</td>\n    </tr>\n    <tr>\n      <th>1</th>\n      <td>87</td>\n      <td>89</td>\n      <td>99</td>\n      <td>98</td>\n      <td>84</td>\n      <td>나</td>\n    </tr>\n    <tr>\n      <th>2</th>\n      <td>86</td>\n      <td>92</td>\n      <td>81</td>\n      <td>86</td>\n      <td>87</td>\n      <td>다</td>\n    </tr>\n    <tr>\n      <th>3</th>\n      <td>94</td>\n      <td>97</td>\n      <td>85</td>\n      <td>93</td>\n      <td>88</td>\n      <td>라</td>\n    </tr>\n    <tr>\n      <th>4</th>\n      <td>89</td>\n      <td>99</td>\n      <td>96</td>\n      <td>99</td>\n      <td>85</td>\n      <td>마</td>\n    </tr>\n  </tbody>\n</table>\n</div>"
     },
     "metadata": {},
     "execution_count": 74
    }
   ],
   "source": [
    "df1['index'] = list('가나다라마')\n",
    "df1"
   ]
  },
  {
   "cell_type": "code",
   "execution_count": 75,
   "metadata": {},
   "outputs": [
    {
     "output_type": "execute_result",
     "data": {
      "text/plain": [
       "    a   b   c   d   e index   f\n",
       "0  92  95  80  83  83     가  80\n",
       "1  87  89  99  98  84     나  81\n",
       "2  86  92  81  86  87     다  82\n",
       "3  94  97  85  93  88     라  83\n",
       "4  89  99  96  99  85     마  84"
      ],
      "text/html": "<div>\n<style scoped>\n    .dataframe tbody tr th:only-of-type {\n        vertical-align: middle;\n    }\n\n    .dataframe tbody tr th {\n        vertical-align: top;\n    }\n\n    .dataframe thead th {\n        text-align: right;\n    }\n</style>\n<table border=\"1\" class=\"dataframe\">\n  <thead>\n    <tr style=\"text-align: right;\">\n      <th></th>\n      <th>a</th>\n      <th>b</th>\n      <th>c</th>\n      <th>d</th>\n      <th>e</th>\n      <th>index</th>\n      <th>f</th>\n    </tr>\n  </thead>\n  <tbody>\n    <tr>\n      <th>0</th>\n      <td>92</td>\n      <td>95</td>\n      <td>80</td>\n      <td>83</td>\n      <td>83</td>\n      <td>가</td>\n      <td>80</td>\n    </tr>\n    <tr>\n      <th>1</th>\n      <td>87</td>\n      <td>89</td>\n      <td>99</td>\n      <td>98</td>\n      <td>84</td>\n      <td>나</td>\n      <td>81</td>\n    </tr>\n    <tr>\n      <th>2</th>\n      <td>86</td>\n      <td>92</td>\n      <td>81</td>\n      <td>86</td>\n      <td>87</td>\n      <td>다</td>\n      <td>82</td>\n    </tr>\n    <tr>\n      <th>3</th>\n      <td>94</td>\n      <td>97</td>\n      <td>85</td>\n      <td>93</td>\n      <td>88</td>\n      <td>라</td>\n      <td>83</td>\n    </tr>\n    <tr>\n      <th>4</th>\n      <td>89</td>\n      <td>99</td>\n      <td>96</td>\n      <td>99</td>\n      <td>85</td>\n      <td>마</td>\n      <td>84</td>\n    </tr>\n  </tbody>\n</table>\n</div>"
     },
     "metadata": {},
     "execution_count": 75
    }
   ],
   "source": [
    "df1['f'] = [80,81,82,83,84]\n",
    "df1"
   ]
  },
  {
   "cell_type": "code",
   "execution_count": 77,
   "metadata": {},
   "outputs": [
    {
     "output_type": "execute_result",
     "data": {
      "text/plain": [
       "        a   b   c   d   e   f\n",
       "index                        \n",
       "가      92  95  80  83  83  80\n",
       "나      87  89  99  98  84  81\n",
       "다      86  92  81  86  87  82\n",
       "라      94  97  85  93  88  83\n",
       "마      89  99  96  99  85  84"
      ],
      "text/html": "<div>\n<style scoped>\n    .dataframe tbody tr th:only-of-type {\n        vertical-align: middle;\n    }\n\n    .dataframe tbody tr th {\n        vertical-align: top;\n    }\n\n    .dataframe thead th {\n        text-align: right;\n    }\n</style>\n<table border=\"1\" class=\"dataframe\">\n  <thead>\n    <tr style=\"text-align: right;\">\n      <th></th>\n      <th>a</th>\n      <th>b</th>\n      <th>c</th>\n      <th>d</th>\n      <th>e</th>\n      <th>f</th>\n    </tr>\n    <tr>\n      <th>index</th>\n      <th></th>\n      <th></th>\n      <th></th>\n      <th></th>\n      <th></th>\n      <th></th>\n    </tr>\n  </thead>\n  <tbody>\n    <tr>\n      <th>가</th>\n      <td>92</td>\n      <td>95</td>\n      <td>80</td>\n      <td>83</td>\n      <td>83</td>\n      <td>80</td>\n    </tr>\n    <tr>\n      <th>나</th>\n      <td>87</td>\n      <td>89</td>\n      <td>99</td>\n      <td>98</td>\n      <td>84</td>\n      <td>81</td>\n    </tr>\n    <tr>\n      <th>다</th>\n      <td>86</td>\n      <td>92</td>\n      <td>81</td>\n      <td>86</td>\n      <td>87</td>\n      <td>82</td>\n    </tr>\n    <tr>\n      <th>라</th>\n      <td>94</td>\n      <td>97</td>\n      <td>85</td>\n      <td>93</td>\n      <td>88</td>\n      <td>83</td>\n    </tr>\n    <tr>\n      <th>마</th>\n      <td>89</td>\n      <td>99</td>\n      <td>96</td>\n      <td>99</td>\n      <td>85</td>\n      <td>84</td>\n    </tr>\n  </tbody>\n</table>\n</div>"
     },
     "metadata": {},
     "execution_count": 77
    }
   ],
   "source": [
    "df2 = df1.set_index('index') #set_index 를 이용해 앞에서 추가 가능\n",
    "df2"
   ]
  },
  {
   "cell_type": "code",
   "execution_count": 107,
   "metadata": {},
   "outputs": [
    {
     "output_type": "execute_result",
     "data": {
      "text/plain": [
       "   level_0 index   a   b   c   d   e   f\n",
       "0        0     가  92  95  80  83  83  80\n",
       "1        1     나  87  89  99  98  84  81\n",
       "2        2     다  86  92  81  86  87  82\n",
       "3        3     라  94  97  85  93  88  83\n",
       "4        4     마  89  99  96  99  85  84"
      ],
      "text/html": "<div>\n<style scoped>\n    .dataframe tbody tr th:only-of-type {\n        vertical-align: middle;\n    }\n\n    .dataframe tbody tr th {\n        vertical-align: top;\n    }\n\n    .dataframe thead th {\n        text-align: right;\n    }\n</style>\n<table border=\"1\" class=\"dataframe\">\n  <thead>\n    <tr style=\"text-align: right;\">\n      <th></th>\n      <th>level_0</th>\n      <th>index</th>\n      <th>a</th>\n      <th>b</th>\n      <th>c</th>\n      <th>d</th>\n      <th>e</th>\n      <th>f</th>\n    </tr>\n  </thead>\n  <tbody>\n    <tr>\n      <th>0</th>\n      <td>0</td>\n      <td>가</td>\n      <td>92</td>\n      <td>95</td>\n      <td>80</td>\n      <td>83</td>\n      <td>83</td>\n      <td>80</td>\n    </tr>\n    <tr>\n      <th>1</th>\n      <td>1</td>\n      <td>나</td>\n      <td>87</td>\n      <td>89</td>\n      <td>99</td>\n      <td>98</td>\n      <td>84</td>\n      <td>81</td>\n    </tr>\n    <tr>\n      <th>2</th>\n      <td>2</td>\n      <td>다</td>\n      <td>86</td>\n      <td>92</td>\n      <td>81</td>\n      <td>86</td>\n      <td>87</td>\n      <td>82</td>\n    </tr>\n    <tr>\n      <th>3</th>\n      <td>3</td>\n      <td>라</td>\n      <td>94</td>\n      <td>97</td>\n      <td>85</td>\n      <td>93</td>\n      <td>88</td>\n      <td>83</td>\n    </tr>\n    <tr>\n      <th>4</th>\n      <td>4</td>\n      <td>마</td>\n      <td>89</td>\n      <td>99</td>\n      <td>96</td>\n      <td>99</td>\n      <td>85</td>\n      <td>84</td>\n    </tr>\n  </tbody>\n</table>\n</div>"
     },
     "metadata": {},
     "execution_count": 107
    }
   ],
   "source": [
    "df3 = df2.reset_index() #index가 행의 제일 앞에서 뒤로 한칸 밀려남\n",
    "df3"
   ]
  },
  {
   "cell_type": "code",
   "execution_count": 110,
   "metadata": {},
   "outputs": [
    {
     "output_type": "execute_result",
     "data": {
      "text/plain": [
       "    a   b   c   d   e index\n",
       "0  92  95  80  83  83     가\n",
       "1  87  89  99  98  84     나\n",
       "2  86  92  81  86  87     다\n",
       "3  94  97  85  93  88     라\n",
       "4  89  99  96  99  85     마"
      ],
      "text/html": "<div>\n<style scoped>\n    .dataframe tbody tr th:only-of-type {\n        vertical-align: middle;\n    }\n\n    .dataframe tbody tr th {\n        vertical-align: top;\n    }\n\n    .dataframe thead th {\n        text-align: right;\n    }\n</style>\n<table border=\"1\" class=\"dataframe\">\n  <thead>\n    <tr style=\"text-align: right;\">\n      <th></th>\n      <th>a</th>\n      <th>b</th>\n      <th>c</th>\n      <th>d</th>\n      <th>e</th>\n      <th>index</th>\n    </tr>\n  </thead>\n  <tbody>\n    <tr>\n      <th>0</th>\n      <td>92</td>\n      <td>95</td>\n      <td>80</td>\n      <td>83</td>\n      <td>83</td>\n      <td>가</td>\n    </tr>\n    <tr>\n      <th>1</th>\n      <td>87</td>\n      <td>89</td>\n      <td>99</td>\n      <td>98</td>\n      <td>84</td>\n      <td>나</td>\n    </tr>\n    <tr>\n      <th>2</th>\n      <td>86</td>\n      <td>92</td>\n      <td>81</td>\n      <td>86</td>\n      <td>87</td>\n      <td>다</td>\n    </tr>\n    <tr>\n      <th>3</th>\n      <td>94</td>\n      <td>97</td>\n      <td>85</td>\n      <td>93</td>\n      <td>88</td>\n      <td>라</td>\n    </tr>\n    <tr>\n      <th>4</th>\n      <td>89</td>\n      <td>99</td>\n      <td>96</td>\n      <td>99</td>\n      <td>85</td>\n      <td>마</td>\n    </tr>\n  </tbody>\n</table>\n</div>"
     },
     "metadata": {},
     "execution_count": 110
    }
   ],
   "source": [
    "df1 = df3[['a','b','c','d','e','index']] #컬럼 순서를 원하는대로 바꾸기\n",
    "df1"
   ]
  },
  {
   "cell_type": "code",
   "execution_count": 121,
   "metadata": {},
   "outputs": [
    {
     "output_type": "execute_result",
     "data": {
      "text/plain": [
       "    a  b  c  d  e\n",
       "r0  1  1  1  1  1\n",
       "r1  2  2  2  2  2\n",
       "r2  3  3  3  3  3\n",
       "r3  4  4  4  4  4\n",
       "r4  5  5  5  5  5"
      ],
      "text/html": "<div>\n<style scoped>\n    .dataframe tbody tr th:only-of-type {\n        vertical-align: middle;\n    }\n\n    .dataframe tbody tr th {\n        vertical-align: top;\n    }\n\n    .dataframe thead th {\n        text-align: right;\n    }\n</style>\n<table border=\"1\" class=\"dataframe\">\n  <thead>\n    <tr style=\"text-align: right;\">\n      <th></th>\n      <th>a</th>\n      <th>b</th>\n      <th>c</th>\n      <th>d</th>\n      <th>e</th>\n    </tr>\n  </thead>\n  <tbody>\n    <tr>\n      <th>r0</th>\n      <td>1</td>\n      <td>1</td>\n      <td>1</td>\n      <td>1</td>\n      <td>1</td>\n    </tr>\n    <tr>\n      <th>r1</th>\n      <td>2</td>\n      <td>2</td>\n      <td>2</td>\n      <td>2</td>\n      <td>2</td>\n    </tr>\n    <tr>\n      <th>r2</th>\n      <td>3</td>\n      <td>3</td>\n      <td>3</td>\n      <td>3</td>\n      <td>3</td>\n    </tr>\n    <tr>\n      <th>r3</th>\n      <td>4</td>\n      <td>4</td>\n      <td>4</td>\n      <td>4</td>\n      <td>4</td>\n    </tr>\n    <tr>\n      <th>r4</th>\n      <td>5</td>\n      <td>5</td>\n      <td>5</td>\n      <td>5</td>\n      <td>5</td>\n    </tr>\n  </tbody>\n</table>\n</div>"
     },
     "metadata": {},
     "execution_count": 121
    }
   ],
   "source": [
    "# 문제\n",
    "# 딕셔너리로 데이터 프레임을 (5행5열)작성\n",
    "#index = ['r0','r1','r2','r3','r4']\n",
    "#column = list('abcde')\n",
    "index = ['r0','r1','r2','r3','r4']\n",
    "column = list('abcde')\n",
    "dic_data = {'a':[1,2,3,4,5],'b':[1,2,3,4,5],'c':[1,2,3,4,5],'d':[1,2,3,4,5],'e':[1,2,3,4,5]}\n",
    "\n",
    "df = pd.DataFrame(dic_data, index=['r0','r1','r2','r3','r4'])\n",
    "df\n"
   ]
  },
  {
   "cell_type": "code",
   "execution_count": 120,
   "metadata": {},
   "outputs": [
    {
     "output_type": "execute_result",
     "data": {
      "text/plain": [
       "    a  b  c  d  e  r5  r6\n",
       "r0  1  1  1  1  1   0   0\n",
       "r1  2  2  2  2  2   0   0\n",
       "r2  3  3  3  3  3   0   0\n",
       "r3  4  4  4  4  4   0   0\n",
       "r4  5  5  5  5  5   0   0\n",
       "r5  0  0  0  0  0   0   0\n",
       "r6  0  0  0  0  0   0   0"
      ],
      "text/html": "<div>\n<style scoped>\n    .dataframe tbody tr th:only-of-type {\n        vertical-align: middle;\n    }\n\n    .dataframe tbody tr th {\n        vertical-align: top;\n    }\n\n    .dataframe thead th {\n        text-align: right;\n    }\n</style>\n<table border=\"1\" class=\"dataframe\">\n  <thead>\n    <tr style=\"text-align: right;\">\n      <th></th>\n      <th>a</th>\n      <th>b</th>\n      <th>c</th>\n      <th>d</th>\n      <th>e</th>\n      <th>r5</th>\n      <th>r6</th>\n    </tr>\n  </thead>\n  <tbody>\n    <tr>\n      <th>r0</th>\n      <td>1</td>\n      <td>1</td>\n      <td>1</td>\n      <td>1</td>\n      <td>1</td>\n      <td>0</td>\n      <td>0</td>\n    </tr>\n    <tr>\n      <th>r1</th>\n      <td>2</td>\n      <td>2</td>\n      <td>2</td>\n      <td>2</td>\n      <td>2</td>\n      <td>0</td>\n      <td>0</td>\n    </tr>\n    <tr>\n      <th>r2</th>\n      <td>3</td>\n      <td>3</td>\n      <td>3</td>\n      <td>3</td>\n      <td>3</td>\n      <td>0</td>\n      <td>0</td>\n    </tr>\n    <tr>\n      <th>r3</th>\n      <td>4</td>\n      <td>4</td>\n      <td>4</td>\n      <td>4</td>\n      <td>4</td>\n      <td>0</td>\n      <td>0</td>\n    </tr>\n    <tr>\n      <th>r4</th>\n      <td>5</td>\n      <td>5</td>\n      <td>5</td>\n      <td>5</td>\n      <td>5</td>\n      <td>0</td>\n      <td>0</td>\n    </tr>\n    <tr>\n      <th>r5</th>\n      <td>0</td>\n      <td>0</td>\n      <td>0</td>\n      <td>0</td>\n      <td>0</td>\n      <td>0</td>\n      <td>0</td>\n    </tr>\n    <tr>\n      <th>r6</th>\n      <td>0</td>\n      <td>0</td>\n      <td>0</td>\n      <td>0</td>\n      <td>0</td>\n      <td>0</td>\n      <td>0</td>\n    </tr>\n  </tbody>\n</table>\n</div>"
     },
     "metadata": {},
     "execution_count": 120
    }
   ],
   "source": [
    "# df['r5'] = [0,0,0,0,0] #열을 추가할때\n",
    "# df['r6'] = [0,0,0,0,0]\n",
    "df.loc['r5'] = 0\n",
    "df.loc['r6'] = 0\n",
    "df"
   ]
  },
  {
   "cell_type": "code",
   "execution_count": 127,
   "metadata": {},
   "outputs": [
    {
     "output_type": "execute_result",
     "data": {
      "text/plain": [
       "    a  b  c  d  e\n",
       "r0  1  1  1  1  1\n",
       "r1  2  2  2  2  2\n",
       "r2  3  3  3  3  3\n",
       "r3  4  4  4  4  4\n",
       "r4  5  5  5  5  5\n",
       "r5  0  0  0  0  0\n",
       "r6  0  0  0  0  0\n",
       "r7  0  0  0  0  0\n",
       "r8  0  0  0  0  0"
      ],
      "text/html": "<div>\n<style scoped>\n    .dataframe tbody tr th:only-of-type {\n        vertical-align: middle;\n    }\n\n    .dataframe tbody tr th {\n        vertical-align: top;\n    }\n\n    .dataframe thead th {\n        text-align: right;\n    }\n</style>\n<table border=\"1\" class=\"dataframe\">\n  <thead>\n    <tr style=\"text-align: right;\">\n      <th></th>\n      <th>a</th>\n      <th>b</th>\n      <th>c</th>\n      <th>d</th>\n      <th>e</th>\n    </tr>\n  </thead>\n  <tbody>\n    <tr>\n      <th>r0</th>\n      <td>1</td>\n      <td>1</td>\n      <td>1</td>\n      <td>1</td>\n      <td>1</td>\n    </tr>\n    <tr>\n      <th>r1</th>\n      <td>2</td>\n      <td>2</td>\n      <td>2</td>\n      <td>2</td>\n      <td>2</td>\n    </tr>\n    <tr>\n      <th>r2</th>\n      <td>3</td>\n      <td>3</td>\n      <td>3</td>\n      <td>3</td>\n      <td>3</td>\n    </tr>\n    <tr>\n      <th>r3</th>\n      <td>4</td>\n      <td>4</td>\n      <td>4</td>\n      <td>4</td>\n      <td>4</td>\n    </tr>\n    <tr>\n      <th>r4</th>\n      <td>5</td>\n      <td>5</td>\n      <td>5</td>\n      <td>5</td>\n      <td>5</td>\n    </tr>\n    <tr>\n      <th>r5</th>\n      <td>0</td>\n      <td>0</td>\n      <td>0</td>\n      <td>0</td>\n      <td>0</td>\n    </tr>\n    <tr>\n      <th>r6</th>\n      <td>0</td>\n      <td>0</td>\n      <td>0</td>\n      <td>0</td>\n      <td>0</td>\n    </tr>\n    <tr>\n      <th>r7</th>\n      <td>0</td>\n      <td>0</td>\n      <td>0</td>\n      <td>0</td>\n      <td>0</td>\n    </tr>\n    <tr>\n      <th>r8</th>\n      <td>0</td>\n      <td>0</td>\n      <td>0</td>\n      <td>0</td>\n      <td>0</td>\n    </tr>\n  </tbody>\n</table>\n</div>"
     },
     "metadata": {},
     "execution_count": 127
    }
   ],
   "source": [
    "new_index=['r0','r1','r2','r3','r4','r5','r6','r7','r8']\n",
    "ndf5 = df.reindex(new_index,fill_value=0) # 인덱스를 다시함(new_index,없는 값은 0으로 채움)\n",
    "ndf5"
   ]
  },
  {
   "cell_type": "code",
   "execution_count": 132,
   "metadata": {},
   "outputs": [
    {
     "output_type": "execute_result",
     "data": {
      "text/plain": [
       "    a  b  c  d  e\n",
       "r0  1  1  1  1  1\n",
       "r1  2  2  2  2  2\n",
       "r2  3  3  3  3  3\n",
       "r3  4  4  4  4  4\n",
       "r4  5  5  5  5  5"
      ],
      "text/html": "<div>\n<style scoped>\n    .dataframe tbody tr th:only-of-type {\n        vertical-align: middle;\n    }\n\n    .dataframe tbody tr th {\n        vertical-align: top;\n    }\n\n    .dataframe thead th {\n        text-align: right;\n    }\n</style>\n<table border=\"1\" class=\"dataframe\">\n  <thead>\n    <tr style=\"text-align: right;\">\n      <th></th>\n      <th>a</th>\n      <th>b</th>\n      <th>c</th>\n      <th>d</th>\n      <th>e</th>\n    </tr>\n  </thead>\n  <tbody>\n    <tr>\n      <th>r0</th>\n      <td>1</td>\n      <td>1</td>\n      <td>1</td>\n      <td>1</td>\n      <td>1</td>\n    </tr>\n    <tr>\n      <th>r1</th>\n      <td>2</td>\n      <td>2</td>\n      <td>2</td>\n      <td>2</td>\n      <td>2</td>\n    </tr>\n    <tr>\n      <th>r2</th>\n      <td>3</td>\n      <td>3</td>\n      <td>3</td>\n      <td>3</td>\n      <td>3</td>\n    </tr>\n    <tr>\n      <th>r3</th>\n      <td>4</td>\n      <td>4</td>\n      <td>4</td>\n      <td>4</td>\n      <td>4</td>\n    </tr>\n    <tr>\n      <th>r4</th>\n      <td>5</td>\n      <td>5</td>\n      <td>5</td>\n      <td>5</td>\n      <td>5</td>\n    </tr>\n  </tbody>\n</table>\n</div>"
     },
     "metadata": {},
     "execution_count": 132
    }
   ],
   "source": [
    "# r5~r8 까지 삭제 후 출력하세요.\n",
    "df1 = ndf5.drop(['r5','r6','r7','r8'])\n",
    "df1"
   ]
  },
  {
   "cell_type": "code",
   "execution_count": 140,
   "metadata": {},
   "outputs": [
    {
     "output_type": "execute_result",
     "data": {
      "text/plain": [
       "    a  b  c  d  e\n",
       "r4  5  5  5  5  5\n",
       "r3  4  4  4  4  4\n",
       "r2  3  3  3  3  3\n",
       "r1  2  2  2  2  2\n",
       "r0  1  1  1  1  1"
      ],
      "text/html": "<div>\n<style scoped>\n    .dataframe tbody tr th:only-of-type {\n        vertical-align: middle;\n    }\n\n    .dataframe tbody tr th {\n        vertical-align: top;\n    }\n\n    .dataframe thead th {\n        text-align: right;\n    }\n</style>\n<table border=\"1\" class=\"dataframe\">\n  <thead>\n    <tr style=\"text-align: right;\">\n      <th></th>\n      <th>a</th>\n      <th>b</th>\n      <th>c</th>\n      <th>d</th>\n      <th>e</th>\n    </tr>\n  </thead>\n  <tbody>\n    <tr>\n      <th>r4</th>\n      <td>5</td>\n      <td>5</td>\n      <td>5</td>\n      <td>5</td>\n      <td>5</td>\n    </tr>\n    <tr>\n      <th>r3</th>\n      <td>4</td>\n      <td>4</td>\n      <td>4</td>\n      <td>4</td>\n      <td>4</td>\n    </tr>\n    <tr>\n      <th>r2</th>\n      <td>3</td>\n      <td>3</td>\n      <td>3</td>\n      <td>3</td>\n      <td>3</td>\n    </tr>\n    <tr>\n      <th>r1</th>\n      <td>2</td>\n      <td>2</td>\n      <td>2</td>\n      <td>2</td>\n      <td>2</td>\n    </tr>\n    <tr>\n      <th>r0</th>\n      <td>1</td>\n      <td>1</td>\n      <td>1</td>\n      <td>1</td>\n      <td>1</td>\n    </tr>\n  </tbody>\n</table>\n</div>"
     },
     "metadata": {},
     "execution_count": 140
    }
   ],
   "source": [
    "df1_s = df1.sort_index(ascending=False) #행을 올림차순에 거짓을 줘서 내림차순으로\n",
    "df1_s"
   ]
  },
  {
   "cell_type": "code",
   "execution_count": 142,
   "metadata": {},
   "outputs": [
    {
     "output_type": "execute_result",
     "data": {
      "text/plain": [
       "    a  b  c  d  e\n",
       "r4  5  5  5  5  5\n",
       "r3  4  4  4  4  4\n",
       "r2  3  3  3  3  3\n",
       "r1  2  2  2  2  2\n",
       "r0  1  1  1  1  1"
      ],
      "text/html": "<div>\n<style scoped>\n    .dataframe tbody tr th:only-of-type {\n        vertical-align: middle;\n    }\n\n    .dataframe tbody tr th {\n        vertical-align: top;\n    }\n\n    .dataframe thead th {\n        text-align: right;\n    }\n</style>\n<table border=\"1\" class=\"dataframe\">\n  <thead>\n    <tr style=\"text-align: right;\">\n      <th></th>\n      <th>a</th>\n      <th>b</th>\n      <th>c</th>\n      <th>d</th>\n      <th>e</th>\n    </tr>\n  </thead>\n  <tbody>\n    <tr>\n      <th>r4</th>\n      <td>5</td>\n      <td>5</td>\n      <td>5</td>\n      <td>5</td>\n      <td>5</td>\n    </tr>\n    <tr>\n      <th>r3</th>\n      <td>4</td>\n      <td>4</td>\n      <td>4</td>\n      <td>4</td>\n      <td>4</td>\n    </tr>\n    <tr>\n      <th>r2</th>\n      <td>3</td>\n      <td>3</td>\n      <td>3</td>\n      <td>3</td>\n      <td>3</td>\n    </tr>\n    <tr>\n      <th>r1</th>\n      <td>2</td>\n      <td>2</td>\n      <td>2</td>\n      <td>2</td>\n      <td>2</td>\n    </tr>\n    <tr>\n      <th>r0</th>\n      <td>1</td>\n      <td>1</td>\n      <td>1</td>\n      <td>1</td>\n      <td>1</td>\n    </tr>\n  </tbody>\n</table>\n</div>"
     },
     "metadata": {},
     "execution_count": 142
    }
   ],
   "source": [
    "df1_c = df1.sort_values(by='c',ascending=False) #열을 정렬 c를 기준으로\n",
    "df1_c"
   ]
  },
  {
   "cell_type": "code",
   "execution_count": 152,
   "metadata": {},
   "outputs": [
    {
     "output_type": "execute_result",
     "data": {
      "text/plain": [
       "    a  b  c  d  e\n",
       "r0  1  1  1  1  1\n",
       "r1  2  2  2  2  2\n",
       "r2  3  3  3  3  3\n",
       "r3  4  4  4  4  4\n",
       "r4  5  5  5  5  5"
      ],
      "text/html": "<div>\n<style scoped>\n    .dataframe tbody tr th:only-of-type {\n        vertical-align: middle;\n    }\n\n    .dataframe tbody tr th {\n        vertical-align: top;\n    }\n\n    .dataframe thead th {\n        text-align: right;\n    }\n</style>\n<table border=\"1\" class=\"dataframe\">\n  <thead>\n    <tr style=\"text-align: right;\">\n      <th></th>\n      <th>a</th>\n      <th>b</th>\n      <th>c</th>\n      <th>d</th>\n      <th>e</th>\n    </tr>\n  </thead>\n  <tbody>\n    <tr>\n      <th>r0</th>\n      <td>1</td>\n      <td>1</td>\n      <td>1</td>\n      <td>1</td>\n      <td>1</td>\n    </tr>\n    <tr>\n      <th>r1</th>\n      <td>2</td>\n      <td>2</td>\n      <td>2</td>\n      <td>2</td>\n      <td>2</td>\n    </tr>\n    <tr>\n      <th>r2</th>\n      <td>3</td>\n      <td>3</td>\n      <td>3</td>\n      <td>3</td>\n      <td>3</td>\n    </tr>\n    <tr>\n      <th>r3</th>\n      <td>4</td>\n      <td>4</td>\n      <td>4</td>\n      <td>4</td>\n      <td>4</td>\n    </tr>\n    <tr>\n      <th>r4</th>\n      <td>5</td>\n      <td>5</td>\n      <td>5</td>\n      <td>5</td>\n      <td>5</td>\n    </tr>\n  </tbody>\n</table>\n</div>"
     },
     "metadata": {},
     "execution_count": 152
    }
   ],
   "source": [
    "df1_t = df1.transpose() # 행과 열을 바꾸는 함수\n",
    "df1_r = df1_t.transpose()\n",
    "df1_r"
   ]
  },
  {
   "cell_type": "code",
   "execution_count": 295,
   "metadata": {},
   "outputs": [
    {
     "output_type": "execute_result",
     "data": {
      "text/plain": [
       "      0    1   2     3  4\n",
       "0  2017  530  18  1998  2\n",
       "1  2015  430   3  1996  4\n",
       "0  2018  501  10  1998  1\n",
       "1  2013  445  20  1984  1\n",
       "2  2016  609  22  1986  1"
      ],
      "text/html": "<div>\n<style scoped>\n    .dataframe tbody tr th:only-of-type {\n        vertical-align: middle;\n    }\n\n    .dataframe tbody tr th {\n        vertical-align: top;\n    }\n\n    .dataframe thead th {\n        text-align: right;\n    }\n</style>\n<table border=\"1\" class=\"dataframe\">\n  <thead>\n    <tr style=\"text-align: right;\">\n      <th></th>\n      <th>0</th>\n      <th>1</th>\n      <th>2</th>\n      <th>3</th>\n      <th>4</th>\n    </tr>\n  </thead>\n  <tbody>\n    <tr>\n      <th>0</th>\n      <td>2017</td>\n      <td>530</td>\n      <td>18</td>\n      <td>1998</td>\n      <td>2</td>\n    </tr>\n    <tr>\n      <th>1</th>\n      <td>2015</td>\n      <td>430</td>\n      <td>3</td>\n      <td>1996</td>\n      <td>4</td>\n    </tr>\n    <tr>\n      <th>0</th>\n      <td>2018</td>\n      <td>501</td>\n      <td>10</td>\n      <td>1998</td>\n      <td>1</td>\n    </tr>\n    <tr>\n      <th>1</th>\n      <td>2013</td>\n      <td>445</td>\n      <td>20</td>\n      <td>1984</td>\n      <td>1</td>\n    </tr>\n    <tr>\n      <th>2</th>\n      <td>2016</td>\n      <td>609</td>\n      <td>22</td>\n      <td>1986</td>\n      <td>1</td>\n    </tr>\n  </tbody>\n</table>\n</div>"
     },
     "metadata": {},
     "execution_count": 295
    }
   ],
   "source": [
    "# 과제\n",
    "# 5행 5열 리스트, 배열, 사전 형태의 데이터를 데이터 프레임으로 변환\n",
    "# 가급적 의미 있는 데이터\n",
    "import numpy as np\n",
    "import pandas as pd\n",
    "np.random.seed(0)\n",
    "ar1 = np.random.randint(2013,2022,size=(3))\n",
    "ar_1 = pd.Series(ar1)\n",
    "ar2 = np.random.randint(250,731,size=(3))\n",
    "ar_2 = pd.Series(ar2)\n",
    "ar3 = np.random.randint(1,51,size=(3))\n",
    "ar_3 = pd.Series(ar3)\n",
    "ar4 = np.random.randint(1980,2003,size=(3))\n",
    "ar_4 = pd.Series(ar4)\n",
    "ar5 = np.random.randint(1,5,size=(3))\n",
    "ar_5 = pd.Series(ar5)\n",
    "art = pd.concat([ar_1,ar_2,ar_3,ar_4,ar_5],axis=1)\n",
    "li1 = [2017,530,18,1998,2]\n",
    "li_1 = pd.Series(li1)\n",
    "dic1 = {0:'2015',1:'430',2:'3',3:'1996',4:'4'}\n",
    "dic_1 = pd.Series(dic1)\n",
    "dl1 = pd.concat([li_1,dic_1],axis=1)\n",
    "dl_1 = dl1.transpose()\n",
    "dl_t = pd.concat([dl_1,art])\n",
    "dl_t"
   ]
  },
  {
   "cell_type": "code",
   "execution_count": 317,
   "metadata": {},
   "outputs": [
    {
     "output_type": "stream",
     "name": "stdout",
     "text": [
      "[[2017 530 18 1998 2]\n ['2015' '430' '3' '1996' '4']\n [2018 501 10 1998 1]\n [2013 445 20 1984 1]\n [2016 609 22 1986 1]] <class 'numpy.ndarray'> \n\n[[2017, 530, 18, 1998, 2], ['2015', '430', '3', '1996', '4'], [2018, 501, 10, 1998, 1], [2013, 445, 20, 1984, 1], [2016, 609, 22, 1986, 1]] <class 'list'> \n\n{'학번': {1: 2017, 2: '2015', 3: 2018, 4: 2013, 5: 2016}, '학과코드': {1: 530, 2: '430', 3: 501, 4: 445, 5: 609}, '개인번호': {1: 18, 2: '3', 3: 10, 4: 20, 5: 22}, '출생연도': {1: 1998, 2: '1996', 3: 1998, 4: 1984, 5: 1986}, '학년': {1: 2, 2: '4', 3: 1, 4: 1, 5: 1}} <class 'dict'> \n\n"
     ]
    }
   ],
   "source": [
    "# 위에서 변환한 데이터 프레임에서 데이터 변경, 삭제, 전치, 인덱스 등 처리를 한 후\n",
    "# 다시 리스트, 배열, 사전 형태로 변환하여 출력하세요\n",
    "\n",
    "dl_t.rename(columns={0:'학번',1:'학과코드',2:'개인번호',3:'출생연도',4:'학년'},inplace=True)\n",
    "dl_t.reset_index(drop=True,inplace=True) # 기존 인덱스의 이전 값을 버리고 초기화\n",
    "dt = dl_t.rename(index={0:1,1:2,2:3,3:4,4:5})\n",
    "dt['데이터 추가'] = 0\n",
    "dt.drop(['데이터 추가'],axis=1,inplace=True)\n",
    "arr = dt.values\n",
    "fli = dt.values.tolist()\n",
    "dic1 = dt.to_dict()\n",
    "print(arr,type(arr),'\\n')\n",
    "print(fli,type(fli),'\\n')\n",
    "print(dic1,type(dic1),'\\n')"
   ]
  },
  {
   "cell_type": "code",
   "execution_count": 322,
   "metadata": {},
   "outputs": [
    {
     "output_type": "stream",
     "name": "stdout",
     "text": [
      "     학번  학과코드  개인번호  출생연도  학년\n1  2017   530    18  1998   2\n2  2015   430     3  1996   4\n3  2018   501    10  1998   1\n4  2013   445    20  1984   1\n5  2016   609    22  1986   1 \n\n     학번  학과코드  개인번호  출생연도  학년\n1  2017   530    18  1998   2\n2  2015   430     3  1996   4\n3  2018   501    10  1998   1\n4  2013   445    20  1984   1\n5  2016   609    22  1986   1 \n\n     학번 학과코드 개인번호  출생연도 학년\n1  2017  530   18  1998  2\n2  2015  430    3  1996  4\n3  2018  501   10  1998  1\n4  2013  445   20  1984  1\n5  2016  609   22  1986  1 \n\n     학번  학과코드  개인번호  출생연도  학년\n1  2017   530    18  1998   2\n2  2015   430     3  1996   4\n3  2018   501    10  1998   1\n4  2013   445    20  1984   1\n5  2016   609    22  1986   1 \n\n"
     ]
    }
   ],
   "source": [
    "#과제\n",
    "#데이터 형식 과제로 생성한 데이터프레임을 csv, excel, pickle, json파일로 저장하고 \n",
    "#다시 읽어와서 출력하세요\n",
    "dt.to_csv('dataset/wow.csv')\n",
    "dt.to_excel('dataset/wow.xlsx')\n",
    "dt.to_pickle('dataset/wow.pkl')\n",
    "dt.to_json('dataset/wow.json')\n",
    "\n",
    "r1 = pd.read_csv('dataset/wow.csv',index_col=0)\n",
    "r2 = pd.read_excel('dataset/wow.xlsx',index_col=0)\n",
    "r3 = pd.read_pickle('dataset/wow.pkl')\n",
    "r4 = pd.read_json('dataset/wow.json')\n",
    "\n",
    "print(r1,'\\n')\n",
    "print(r2,'\\n')\n",
    "print(r3,'\\n')\n",
    "print(r4,'\\n')"
   ]
  }
 ],
 "metadata": {
  "kernelspec": {
   "name": "python3",
   "display_name": "Python 3.8.8 64-bit (conda)"
  },
  "language_info": {
   "codemirror_mode": {
    "name": "ipython",
    "version": 3
   },
   "file_extension": ".py",
   "mimetype": "text/x-python",
   "name": "python",
   "nbconvert_exporter": "python",
   "pygments_lexer": "ipython3",
   "version": "3.8.8"
  },
  "interpreter": {
   "hash": "dca0ade3e726a953b501b15e8e990130d2b7799f14cfd9f4271676035ebe5511"
  }
 },
 "nbformat": 4,
 "nbformat_minor": 5
}